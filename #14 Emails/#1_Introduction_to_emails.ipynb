{
 "cells": [
  {
   "cell_type": "markdown",
   "source": [
    "# Introduction to Emails with Python\n",
    "\n",
    "In Python we can send emails using the `smtplib` library. This library allows us to connect to an SMTP server and send emails through that server. SMTP stands for Simple Mail Transfer Protocol and is the standard protocol for sending emails across the internet.\n",
    "\n",
    "In order to send emails through an SMTP server, we need to connect to the server and login using a username and password. Once we are logged in we can send emails through the server.\n",
    "\n",
    "It is important to note that in order to send emails through an SMTP server, we need to have an account with that server. For example, if we want to send emails through Gmail, we need to have a Gmail account. If we want to send emails through Outlook, we need to have an Outlook account. If we want to send emails through our company's email server, we need to have an account with our company.\n",
    "\n",
    "Also but less importantly, we need to have the permission to send emails through the SMTP server. For example, if we want to send emails through Gmail, we need to enable the \"Allow less secure apps\" option in our Gmail account settings. If we want to send emails through Outlook, we need to enable the \"Allow apps that use less secure sign in\" option in our Outlook account settings. If we want to send emails through our company's email server, we need to have the permission to send emails through that server."
   ],
   "metadata": {
    "collapsed": false
   },
   "id": "74b031e1ffde6966"
  }
 ],
 "metadata": {
  "kernelspec": {
   "display_name": "Python 3",
   "language": "python",
   "name": "python3"
  },
  "language_info": {
   "codemirror_mode": {
    "name": "ipython",
    "version": 2
   },
   "file_extension": ".py",
   "mimetype": "text/x-python",
   "name": "python",
   "nbconvert_exporter": "python",
   "pygments_lexer": "ipython2",
   "version": "2.7.6"
  }
 },
 "nbformat": 4,
 "nbformat_minor": 5
}
