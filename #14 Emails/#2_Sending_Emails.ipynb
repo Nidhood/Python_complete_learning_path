{
 "cells": [
  {
   "cell_type": "markdown",
   "source": [
    "# Sending Emails with Python\n",
    "\n",
    "To send emails with Python, we need to manually go through the steps connecting to the email server, verifying credentials, and sending the email. This is a lot of work, so we will use the `smtplib` library to do this for us.\n"
   ],
   "metadata": {
    "collapsed": false
   },
   "id": "2f31271d25ccffe6"
  },
  {
   "cell_type": "markdown",
   "source": [
    "- SMTP: Simple Mail Transfer Protocol is a protocol for sending emails, which means that we need to connect to an email server that speaks this protocol.\n",
    "\n",
    "<table>\n",
    "  <tr>\n",
    "    <th style=\"text-align:center;\">Email Provider</th>\n",
    "    <th style=\"text-align:center;\">SMTP Server Domain Name</th>\n",
    "  </tr>\n",
    "  <tr>\n",
    "    <td style=\"text-align:left;\">Gmail</td>\n",
    "    <td style=\"text-align:left;\">smtp.gmail.com</td>\n",
    "  </tr>\n",
    "  <tr>\n",
    "    <td style=\"text-align:left;\">Outlook</td>\n",
    "    <td style=\"text-align:left;\">smtp-mail.outlook.com</td>\n",
    "  </tr>\n",
    "  <tr>\n",
    "    <td style=\"text-align:left;\">Yahoo</td>\n",
    "    <td style=\"text-align:left;\">smtp.mail.yahoo.com</td>\n",
    "  </tr>\n",
    "  <tr>\n",
    "    <td style=\"text-align:left;\">AT&T</td>\n",
    "    <td style=\"text-align:left;\">smtp.mail.att.net</td>\n",
    "  </tr>\n",
    "  <tr>\n",
    "    <td style=\"text-align:left;\">Comcast</td>\n",
    "    <td style=\"text-align:left;\">smtp.comcast.net</td>\n",
    "  </tr>\n",
    "  <tr>\n",
    "    <td style=\"text-align:left;\">Verizon</td>\n",
    "    <td style=\"text-align:left;\">smtp.verizon.net</td>\n",
    "  </tr>\n",
    "  <tr>\n",
    "    <td style=\"text-align:left;\">Comcast</td>\n",
    "    <td style=\"text-align:left;\">smtp.comcast.net</td>\n",
    "  </tr>\n",
    "</table>"
   ],
   "metadata": {
    "collapsed": false
   },
   "id": "cc0ccdc5ad2e2c02"
  },
  {
   "cell_type": "code",
   "execution_count": 1,
   "outputs": [],
   "source": [
    "import smtplib"
   ],
   "metadata": {
    "collapsed": false,
    "ExecuteTime": {
     "end_time": "2024-01-06T00:56:18.869045210Z",
     "start_time": "2024-01-06T00:56:18.868440812Z"
    }
   },
   "id": "7803289ea9a9ee3e"
  },
  {
   "cell_type": "code",
   "execution_count": 2,
   "outputs": [],
   "source": [
    "smtp_object = smtplib.SMTP('smtp.gmail.com', 587) # 587 is the port number"
   ],
   "metadata": {
    "collapsed": false,
    "ExecuteTime": {
     "end_time": "2024-01-06T00:56:57.618501081Z",
     "start_time": "2024-01-06T00:56:57.392593265Z"
    }
   },
   "id": "5a27510cc3597f73"
  },
  {
   "cell_type": "code",
   "execution_count": 3,
   "outputs": [
    {
     "data": {
      "text/plain": "(250,\n b'smtp.gmail.com at your service, [186.154.38.119]\\nSIZE 35882577\\n8BITMIME\\nSTARTTLS\\nENHANCEDSTATUSCODES\\nPIPELINING\\nCHUNKING\\nSMTPUTF8')"
     },
     "execution_count": 3,
     "metadata": {},
     "output_type": "execute_result"
    }
   ],
   "source": [
    "smtp_object.ehlo() # This command will ping the server and establish a connection"
   ],
   "metadata": {
    "collapsed": false,
    "ExecuteTime": {
     "end_time": "2024-01-06T00:57:47.644401997Z",
     "start_time": "2024-01-06T00:57:47.578360075Z"
    }
   },
   "id": "b61dae8fdcbde392"
  },
  {
   "cell_type": "code",
   "execution_count": 4,
   "outputs": [
    {
     "data": {
      "text/plain": "(220, b'2.0.0 Ready to start TLS')"
     },
     "execution_count": 4,
     "metadata": {},
     "output_type": "execute_result"
    }
   ],
   "source": [
    "smtp_object.starttls() # This command will establish a secure encrypted connection"
   ],
   "metadata": {
    "collapsed": false,
    "ExecuteTime": {
     "end_time": "2024-01-06T00:58:25.692524325Z",
     "start_time": "2024-01-06T00:58:25.577221552Z"
    }
   },
   "id": "371f51c41e2d7b3e"
  },
  {
   "cell_type": "code",
   "execution_count": 5,
   "outputs": [],
   "source": [
    "# For Gmail Users, you need to generate an app password instead of your normal email password.\n",
    "\n",
    "password = input('Enter your password: ') # Anyone can see your password if you enter it like this"
   ],
   "metadata": {
    "collapsed": false,
    "ExecuteTime": {
     "end_time": "2024-01-06T00:59:34.867649680Z",
     "start_time": "2024-01-06T00:59:29.852163504Z"
    }
   },
   "id": "7227b4a30cfd2a4b"
  },
  {
   "cell_type": "code",
   "execution_count": 6,
   "outputs": [],
   "source": [
    "import getpass\n",
    "\n",
    "password = getpass.getpass('Password please: ') # This is a better way to enter your password"
   ],
   "metadata": {
    "collapsed": false,
    "ExecuteTime": {
     "end_time": "2024-01-06T01:00:25.754504771Z",
     "start_time": "2024-01-06T01:00:21.899703209Z"
    }
   },
   "id": "5c71c351fb522d91"
  },
  {
   "cell_type": "code",
   "execution_count": 7,
   "outputs": [
    {
     "data": {
      "text/plain": "(235, b'2.7.0 Accepted')"
     },
     "execution_count": 7,
     "metadata": {},
     "output_type": "execute_result"
    }
   ],
   "source": [
    "email = getpass.getpass(\"Email: \")\n",
    "password = getpass.getpass(\"Password: \")\n",
    "smtp_object.login(email,password) "
   ],
   "metadata": {
    "collapsed": false,
    "ExecuteTime": {
     "end_time": "2024-01-06T01:08:25.618424392Z",
     "start_time": "2024-01-06T01:08:07.177099838Z"
    }
   },
   "id": "c622854c59d15edc"
  },
  {
   "cell_type": "markdown",
   "source": [
    "It is important to know that over the time the connection can be lost, so you may need to re-run the `ehlo()` and `starttls()` commands. So if you get an error for the next command, try running the `ehlo()` and `starttls()` commands again."
   ],
   "metadata": {
    "collapsed": false
   },
   "id": "2655eb71b4b8bb4e"
  },
  {
   "cell_type": "code",
   "execution_count": 8,
   "outputs": [
    {
     "data": {
      "text/plain": "{}"
     },
     "execution_count": 8,
     "metadata": {},
     "output_type": "execute_result"
    }
   ],
   "source": [
    "from_address = email\n",
    "to_address = email\n",
    "subject = input(\"Enter the subject line: \")\n",
    "message = input(\"Enter the body message: \")\n",
    "msg = \"Subject: \" + subject + '\\n' + message\n",
    "smtp_object.sendmail(from_address,to_address,msg)"
   ],
   "metadata": {
    "collapsed": false,
    "ExecuteTime": {
     "end_time": "2024-01-06T01:11:19.753871730Z",
     "start_time": "2024-01-06T01:10:59.538516938Z"
    }
   },
   "id": "8b252551d9c73fa3"
  },
  {
   "cell_type": "markdown",
   "source": [
    "If we recive an empty dictionary as a return, then the email was sent successfully."
   ],
   "metadata": {
    "collapsed": false
   },
   "id": "81ea75ec94bf9a5f"
  },
  {
   "cell_type": "code",
   "execution_count": 9,
   "outputs": [
    {
     "data": {
      "text/plain": "(221,\n b'2.0.0 closing connection f1-20020a056102150100b0046699e9815bsm491085vsv.0 - gsmtp')"
     },
     "execution_count": 9,
     "metadata": {},
     "output_type": "execute_result"
    }
   ],
   "source": [
    "smtp_object.quit() # This command will close the connection"
   ],
   "metadata": {
    "collapsed": false,
    "ExecuteTime": {
     "end_time": "2024-01-06T01:11:45.782597684Z",
     "start_time": "2024-01-06T01:11:45.721885482Z"
    }
   },
   "id": "bbc78b3c6ebdb4f1"
  },
  {
   "cell_type": "code",
   "execution_count": null,
   "outputs": [],
   "source": [],
   "metadata": {
    "collapsed": false
   },
   "id": "6586f5610bd9ca1d"
  }
 ],
 "metadata": {
  "kernelspec": {
   "display_name": "Python 3",
   "language": "python",
   "name": "python3"
  },
  "language_info": {
   "codemirror_mode": {
    "name": "ipython",
    "version": 2
   },
   "file_extension": ".py",
   "mimetype": "text/x-python",
   "name": "python",
   "nbconvert_exporter": "python",
   "pygments_lexer": "ipython2",
   "version": "2.7.6"
  }
 },
 "nbformat": 4,
 "nbformat_minor": 5
}
