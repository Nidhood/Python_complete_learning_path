{
 "cells": [
  {
   "cell_type": "markdown",
   "source": [
    "# Advanced Sets"
   ],
   "metadata": {
    "collapsed": false
   },
   "id": "b9dc6bab73116e47"
  },
  {
   "cell_type": "code",
   "execution_count": 1,
   "outputs": [
    {
     "data": {
      "text/plain": "{1, 2}"
     },
     "execution_count": 1,
     "metadata": {},
     "output_type": "execute_result"
    }
   ],
   "source": [
    "s = set()\n",
    "\n",
    "s.add(1)\n",
    "s.add(2)\n",
    "s"
   ],
   "metadata": {
    "collapsed": false,
    "ExecuteTime": {
     "end_time": "2024-01-06T01:56:31.249242082Z",
     "start_time": "2024-01-06T01:56:31.248518154Z"
    }
   },
   "id": "917f4c97d93299c9"
  },
  {
   "cell_type": "markdown",
   "source": [
    "___________\n",
    "\n",
    "### ___clear___\n",
    "\n",
    "The *clear()* method removes all elements from the set."
   ],
   "metadata": {
    "collapsed": false
   },
   "id": "9eb488a6375f454b"
  },
  {
   "cell_type": "code",
   "execution_count": 6,
   "outputs": [
    {
     "data": {
      "text/plain": "set()"
     },
     "execution_count": 6,
     "metadata": {},
     "output_type": "execute_result"
    }
   ],
   "source": [
    "s.clear()\n",
    "s"
   ],
   "metadata": {
    "collapsed": false,
    "ExecuteTime": {
     "end_time": "2024-01-06T01:57:39.359411581Z",
     "start_time": "2024-01-06T01:57:39.348690900Z"
    }
   },
   "id": "6c5d43205a2a2705"
  },
  {
   "cell_type": "markdown",
   "source": [
    "____________\n",
    "\n",
    "### ___copy___\n",
    "\n",
    "The *copy()* method returns a copy of the set. Note it is a copy, so changes to the original don't effect the copy."
   ],
   "metadata": {
    "collapsed": false
   },
   "id": "99f8610549fe7ec0"
  },
  {
   "cell_type": "code",
   "execution_count": 7,
   "outputs": [
    {
     "data": {
      "text/plain": "{1, 2, 3}"
     },
     "execution_count": 7,
     "metadata": {},
     "output_type": "execute_result"
    }
   ],
   "source": [
    "s = {1,2,3}\n",
    "sc = s.copy()\n",
    "sc"
   ],
   "metadata": {
    "collapsed": false,
    "ExecuteTime": {
     "end_time": "2024-01-06T01:57:40.180077804Z",
     "start_time": "2024-01-06T01:57:40.170698671Z"
    }
   },
   "id": "5409ea51fac87c8"
  },
  {
   "cell_type": "markdown",
   "source": [
    "____________    \n",
    "\n",
    "### ___difference___\n",
    "\n",
    "The *difference()* method returns the difference between two or more sets. "
   ],
   "metadata": {
    "collapsed": false
   },
   "id": "ff77f7c598b2b9fe"
  },
  {
   "cell_type": "code",
   "execution_count": 9,
   "outputs": [
    {
     "data": {
      "text/plain": "{4}"
     },
     "execution_count": 9,
     "metadata": {},
     "output_type": "execute_result"
    }
   ],
   "source": [
    "s.add(4)\n",
    "s.difference(sc)"
   ],
   "metadata": {
    "collapsed": false,
    "ExecuteTime": {
     "end_time": "2024-01-06T01:58:07.588192153Z",
     "start_time": "2024-01-06T01:58:07.518959326Z"
    }
   },
   "id": "ae73a5f4d1c49b16"
  },
  {
   "cell_type": "markdown",
   "source": [
    "___________ \n",
    "\n",
    "### ___difference_update___\n",
    "\n",
    "The *difference_update()* method removes all elements of another set from this set."
   ],
   "metadata": {
    "collapsed": false
   },
   "id": "b2403c57a926a461"
  },
  {
   "cell_type": "code",
   "execution_count": 10,
   "outputs": [],
   "source": [
    "s1 = {1,2,3}\n",
    "\n",
    "s2 = {1,4,5}\n",
    "\n",
    "s1.difference_update(s2)"
   ],
   "metadata": {
    "collapsed": false,
    "ExecuteTime": {
     "end_time": "2024-01-06T01:58:49.194607302Z",
     "start_time": "2024-01-06T01:58:49.125565475Z"
    }
   },
   "id": "99fffebc85f7f27"
  },
  {
   "cell_type": "code",
   "execution_count": 11,
   "outputs": [
    {
     "data": {
      "text/plain": "{2, 3}"
     },
     "execution_count": 11,
     "metadata": {},
     "output_type": "execute_result"
    }
   ],
   "source": [
    "s1"
   ],
   "metadata": {
    "collapsed": false,
    "ExecuteTime": {
     "end_time": "2024-01-06T01:58:51.047655874Z",
     "start_time": "2024-01-06T01:58:51.004408833Z"
    }
   },
   "id": "94d736c649de0314"
  },
  {
   "cell_type": "code",
   "execution_count": 12,
   "outputs": [
    {
     "data": {
      "text/plain": "{1, 2, 3, 4}"
     },
     "execution_count": 12,
     "metadata": {},
     "output_type": "execute_result"
    }
   ],
   "source": [
    "s"
   ],
   "metadata": {
    "collapsed": false,
    "ExecuteTime": {
     "end_time": "2024-01-06T01:59:06.903242591Z",
     "start_time": "2024-01-06T01:59:06.816821104Z"
    }
   },
   "id": "2675ff9709bb8aa7"
  },
  {
   "cell_type": "markdown",
   "source": [
    "___________\n",
    "\n",
    "### ___discard___\n",
    "\n",
    "The *discard()* method removes an element from a set if it is a member. (Do nothing if the element is not in set)"
   ],
   "metadata": {
    "collapsed": false
   },
   "id": "3a6d625ac95338d6"
  },
  {
   "cell_type": "code",
   "execution_count": 14,
   "outputs": [
    {
     "data": {
      "text/plain": "{1, 3, 4}"
     },
     "execution_count": 14,
     "metadata": {},
     "output_type": "execute_result"
    }
   ],
   "source": [
    "s.discard(2)\n",
    "s"
   ],
   "metadata": {
    "collapsed": false,
    "ExecuteTime": {
     "end_time": "2024-01-06T01:59:56.514889810Z",
     "start_time": "2024-01-06T01:59:56.480334109Z"
    }
   },
   "id": "6a00d58b29b485fd"
  },
  {
   "cell_type": "markdown",
   "source": [
    "___________\n",
    "\n",
    "### ___intersection and intersection_update___\n",
    "\n",
    "The *intersection()* method returns the intersection of two or more sets as a new set.(i.e. elements that are common to all of the sets.)"
   ],
   "metadata": {
    "collapsed": false
   },
   "id": "99bbe2e5b90153b4"
  },
  {
   "cell_type": "code",
   "execution_count": 15,
   "outputs": [
    {
     "data": {
      "text/plain": "{1, 2}"
     },
     "execution_count": 15,
     "metadata": {},
     "output_type": "execute_result"
    }
   ],
   "source": [
    "s1 = {1,2,3}\n",
    "\n",
    "s2 = {1,2,4}\n",
    "\n",
    "s1.intersection(s2)"
   ],
   "metadata": {
    "collapsed": false,
    "ExecuteTime": {
     "end_time": "2024-01-06T02:00:17.725516884Z",
     "start_time": "2024-01-06T02:00:17.641000539Z"
    }
   },
   "id": "eb65c623949befe5"
  },
  {
   "cell_type": "code",
   "execution_count": 16,
   "outputs": [
    {
     "data": {
      "text/plain": "{1, 2, 3}"
     },
     "execution_count": 16,
     "metadata": {},
     "output_type": "execute_result"
    }
   ],
   "source": [
    "s1"
   ],
   "metadata": {
    "collapsed": false,
    "ExecuteTime": {
     "end_time": "2024-01-06T02:00:40.988936470Z",
     "start_time": "2024-01-06T02:00:40.913725138Z"
    }
   },
   "id": "3be8df3ba38896bb"
  },
  {
   "cell_type": "markdown",
   "source": [
    "___________\n",
    "\n",
    "### ___intersection_update___\n",
    "\n",
    "The *intersection_update()* method updates the set calling *intersection_update()* method with the intersection of sets."
   ],
   "metadata": {
    "collapsed": false
   },
   "id": "d5d2d2c7fdae6a2a"
  },
  {
   "cell_type": "code",
   "execution_count": 18,
   "outputs": [
    {
     "data": {
      "text/plain": "{1, 2}"
     },
     "execution_count": 18,
     "metadata": {},
     "output_type": "execute_result"
    }
   ],
   "source": [
    "s1.intersection_update(s2)\n",
    "s1"
   ],
   "metadata": {
    "collapsed": false,
    "ExecuteTime": {
     "end_time": "2024-01-06T02:01:13.008469661Z",
     "start_time": "2024-01-06T02:01:12.964114064Z"
    }
   },
   "id": "cbbbe5b0baffbf8e"
  },
  {
   "cell_type": "markdown",
   "source": [
    "___________\n",
    "\n",
    "### ___isdisjoint___\n",
    "\n",
    "The *isdisjoint()* method will return True if two sets have a null intersection."
   ],
   "metadata": {
    "collapsed": false
   },
   "id": "84215dad95484b4b"
  },
  {
   "cell_type": "code",
   "execution_count": 19,
   "outputs": [
    {
     "data": {
      "text/plain": "False"
     },
     "execution_count": 19,
     "metadata": {},
     "output_type": "execute_result"
    }
   ],
   "source": [
    "s1 = {1,2}\n",
    "\n",
    "s2 = {1,2,4}\n",
    "\n",
    "s3 = {5}\n",
    "\n",
    "s1.isdisjoint(s2)"
   ],
   "metadata": {
    "collapsed": false,
    "ExecuteTime": {
     "end_time": "2024-01-06T02:01:46.132211009Z",
     "start_time": "2024-01-06T02:01:46.030047083Z"
    }
   },
   "id": "5049ca12fc7b3020"
  },
  {
   "cell_type": "code",
   "execution_count": 20,
   "outputs": [
    {
     "data": {
      "text/plain": "True"
     },
     "execution_count": 20,
     "metadata": {},
     "output_type": "execute_result"
    }
   ],
   "source": [
    "s1.isdisjoint(s3)"
   ],
   "metadata": {
    "collapsed": false,
    "ExecuteTime": {
     "end_time": "2024-01-06T02:01:52.521603460Z",
     "start_time": "2024-01-06T02:01:52.465973537Z"
    }
   },
   "id": "74f2c6c9c19c09fa"
  },
  {
   "cell_type": "markdown",
   "source": [
    "___________\n",
    "\n",
    "### ___issubset___\n",
    "\n",
    "The *issubset()* method reports whether another set contains this set."
   ],
   "metadata": {
    "collapsed": false
   },
   "id": "e776ab1d1d17811d"
  },
  {
   "cell_type": "code",
   "execution_count": 22,
   "outputs": [
    {
     "data": {
      "text/plain": "True"
     },
     "execution_count": 22,
     "metadata": {},
     "output_type": "execute_result"
    }
   ],
   "source": [
    "s1.issubset(s2)"
   ],
   "metadata": {
    "collapsed": false,
    "ExecuteTime": {
     "end_time": "2024-01-06T02:02:54.873154909Z",
     "start_time": "2024-01-06T02:02:54.828613012Z"
    }
   },
   "id": "6bd16fe6fe17d2b4"
  },
  {
   "cell_type": "markdown",
   "source": [
    "___________\n",
    "\n",
    "### ___issuperset___\n",
    "\n",
    "The *issuperset()* method will report whether this set contains another set."
   ],
   "metadata": {
    "collapsed": false
   },
   "id": "a3ce20558317b682"
  },
  {
   "cell_type": "code",
   "execution_count": 23,
   "outputs": [
    {
     "data": {
      "text/plain": "True"
     },
     "execution_count": 23,
     "metadata": {},
     "output_type": "execute_result"
    }
   ],
   "source": [
    "s2.issuperset(s1)"
   ],
   "metadata": {
    "collapsed": false,
    "ExecuteTime": {
     "end_time": "2024-01-06T02:03:09.482407607Z",
     "start_time": "2024-01-06T02:03:09.424676340Z"
    }
   },
   "id": "a0e62d0915858f6b"
  },
  {
   "cell_type": "markdown",
   "source": [
    "___________\n",
    "\n",
    "### ___symmetric_difference___\n",
    "\n",
    "The *symmetric_difference()* method will return all elements that are in exactly one set."
   ],
   "metadata": {
    "collapsed": false
   },
   "id": "61750c4e8f3bba5f"
  },
  {
   "cell_type": "code",
   "execution_count": 24,
   "outputs": [
    {
     "data": {
      "text/plain": "{4}"
     },
     "execution_count": 24,
     "metadata": {},
     "output_type": "execute_result"
    }
   ],
   "source": [
    "s1.symmetric_difference(s2)"
   ],
   "metadata": {
    "collapsed": false,
    "ExecuteTime": {
     "end_time": "2024-01-06T02:03:40.350138937Z",
     "start_time": "2024-01-06T02:03:40.283098763Z"
    }
   },
   "id": "6362474f7de1bd6c"
  },
  {
   "cell_type": "markdown",
   "source": [
    "___________\n",
    "\n",
    "### ___symmetric_difference_update___\n",
    "\n",
    "The *symmetric_difference_update()* method will update a set with the symmetric difference of itself and another."
   ],
   "metadata": {
    "collapsed": false
   },
   "id": "d76a0495d8e31ade"
  },
  {
   "cell_type": "code",
   "execution_count": 26,
   "outputs": [
    {
     "data": {
      "text/plain": "{1, 2}"
     },
     "execution_count": 26,
     "metadata": {},
     "output_type": "execute_result"
    }
   ],
   "source": [
    "s1.symmetric_difference_update(s2)\n",
    "s1"
   ],
   "metadata": {
    "collapsed": false,
    "ExecuteTime": {
     "end_time": "2024-01-06T02:03:56.620848470Z",
     "start_time": "2024-01-06T02:03:56.582349778Z"
    }
   },
   "id": "51a2003c0b538fbf"
  },
  {
   "cell_type": "markdown",
   "source": [
    "___________\n",
    "\n",
    "### ___union___\n",
    "\n",
    "The *union()* method returns the union of two sets (the elements that are in either set.)"
   ],
   "metadata": {
    "collapsed": false
   },
   "id": "60391ec5f6d16ae5"
  },
  {
   "cell_type": "code",
   "execution_count": 27,
   "outputs": [
    {
     "data": {
      "text/plain": "{1, 2, 4}"
     },
     "execution_count": 27,
     "metadata": {},
     "output_type": "execute_result"
    }
   ],
   "source": [
    "s1.union(s2)"
   ],
   "metadata": {
    "collapsed": false,
    "ExecuteTime": {
     "end_time": "2024-01-06T02:04:13.850315131Z",
     "start_time": "2024-01-06T02:04:13.781035657Z"
    }
   },
   "id": "65997228dd63a2f"
  },
  {
   "cell_type": "markdown",
   "source": [
    "___________\n",
    "\n",
    "### ___update___\n",
    "\n",
    "The *update()* method updates a set with the union of itself and others."
   ],
   "metadata": {
    "collapsed": false
   },
   "id": "e03cb344df5d9b33"
  },
  {
   "cell_type": "code",
   "execution_count": 28,
   "outputs": [
    {
     "data": {
      "text/plain": "{1, 2, 4}"
     },
     "execution_count": 28,
     "metadata": {},
     "output_type": "execute_result"
    }
   ],
   "source": [
    "s1.update(s2)\n",
    "s1"
   ],
   "metadata": {
    "collapsed": false,
    "ExecuteTime": {
     "end_time": "2024-01-06T02:04:29.726775495Z",
     "start_time": "2024-01-06T02:04:29.639433862Z"
    }
   },
   "id": "f45da23e126f4a9d"
  }
 ],
 "metadata": {
  "kernelspec": {
   "display_name": "Python 3",
   "language": "python",
   "name": "python3"
  },
  "language_info": {
   "codemirror_mode": {
    "name": "ipython",
    "version": 2
   },
   "file_extension": ".py",
   "mimetype": "text/x-python",
   "name": "python",
   "nbconvert_exporter": "python",
   "pygments_lexer": "ipython2",
   "version": "2.7.6"
  }
 },
 "nbformat": 4,
 "nbformat_minor": 5
}
