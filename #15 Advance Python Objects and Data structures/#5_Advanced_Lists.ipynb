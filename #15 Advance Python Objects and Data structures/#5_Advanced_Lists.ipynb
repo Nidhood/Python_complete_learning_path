{
 "cells": [
  {
   "cell_type": "markdown",
   "source": [
    "# Advanced Lists"
   ],
   "metadata": {
    "collapsed": false
   },
   "id": "10254f0d5db8fcc8"
  },
  {
   "cell_type": "code",
   "execution_count": 1,
   "outputs": [],
   "source": [
    "l = [1, 2, 3]"
   ],
   "metadata": {
    "collapsed": false,
    "ExecuteTime": {
     "end_time": "2024-01-06T02:16:19.482603117Z",
     "start_time": "2024-01-06T02:16:19.480634047Z"
    }
   },
   "id": "ee7fe98aded5385"
  },
  {
   "cell_type": "markdown",
   "source": [
    "_________   \n",
    "\n",
    "### ___append___\n",
    "\n",
    "The *append()* method appends an element to the end of the list."
   ],
   "metadata": {
    "collapsed": false
   },
   "id": "d7b699bd68823874"
  },
  {
   "cell_type": "code",
   "execution_count": 2,
   "outputs": [
    {
     "data": {
      "text/plain": "[1, 2, 3, 4]"
     },
     "execution_count": 2,
     "metadata": {},
     "output_type": "execute_result"
    }
   ],
   "source": [
    "l.append(4)\n",
    "l"
   ],
   "metadata": {
    "collapsed": false,
    "ExecuteTime": {
     "end_time": "2024-01-06T02:16:19.747436008Z",
     "start_time": "2024-01-06T02:16:19.741816092Z"
    }
   },
   "id": "52aee700e4110ffd"
  },
  {
   "cell_type": "markdown",
   "source": [
    "__________  \n",
    "\n",
    "### ___count___\n",
    "\n",
    "The *count()* method returns the number of times the specified element appears in the list."
   ],
   "metadata": {
    "collapsed": false
   },
   "id": "e3f3c7b2168ee320"
  },
  {
   "cell_type": "code",
   "execution_count": 3,
   "outputs": [
    {
     "data": {
      "text/plain": "1"
     },
     "execution_count": 3,
     "metadata": {},
     "output_type": "execute_result"
    }
   ],
   "source": [
    "l.count(4)"
   ],
   "metadata": {
    "collapsed": false,
    "ExecuteTime": {
     "end_time": "2024-01-06T02:16:20.022778645Z",
     "start_time": "2024-01-06T02:16:20.016804765Z"
    }
   },
   "id": "38ffe6e88d679061"
  },
  {
   "cell_type": "markdown",
   "source": [
    "__________\n",
    "\n",
    "### ___extend___\n",
    "\n",
    "The *extend()* method adds the specified list elements (or any iterable) to the end of the current list."
   ],
   "metadata": {
    "collapsed": false
   },
   "id": "a873bc3d64f08473"
  },
  {
   "cell_type": "code",
   "execution_count": 4,
   "outputs": [
    {
     "data": {
      "text/plain": "[1, 2, 3, [4, 5]]"
     },
     "execution_count": 4,
     "metadata": {},
     "output_type": "execute_result"
    }
   ],
   "source": [
    "x = [1, 2, 3]\n",
    "x.append([4, 5]) # append adds the list as an element\n",
    "x"
   ],
   "metadata": {
    "collapsed": false,
    "ExecuteTime": {
     "end_time": "2024-01-06T02:16:20.343386176Z",
     "start_time": "2024-01-06T02:16:20.338924688Z"
    }
   },
   "id": "9a0644f1be645753"
  },
  {
   "cell_type": "code",
   "execution_count": 5,
   "outputs": [
    {
     "data": {
      "text/plain": "[1, 2, 3, 4, 5]"
     },
     "execution_count": 5,
     "metadata": {},
     "output_type": "execute_result"
    }
   ],
   "source": [
    "x = [1, 2, 3]\n",
    "x.extend([4, 5]) # extend adds the elements of the list\n",
    "x"
   ],
   "metadata": {
    "collapsed": false,
    "ExecuteTime": {
     "end_time": "2024-01-06T02:16:20.596820268Z",
     "start_time": "2024-01-06T02:16:20.582184312Z"
    }
   },
   "id": "9f9c7357d817cf6c"
  },
  {
   "cell_type": "markdown",
   "source": [
    "__________\n",
    "\n",
    "### ___index___\n",
    "\n",
    "The *index()* method returns the position at the first occurrence of the specified value."
   ],
   "metadata": {
    "collapsed": false
   },
   "id": "fa54d17a4c4ccc54"
  },
  {
   "cell_type": "code",
   "execution_count": 6,
   "outputs": [
    {
     "data": {
      "text/plain": "1"
     },
     "execution_count": 6,
     "metadata": {},
     "output_type": "execute_result"
    }
   ],
   "source": [
    "l.index(2)"
   ],
   "metadata": {
    "collapsed": false,
    "ExecuteTime": {
     "end_time": "2024-01-06T02:16:20.901591991Z",
     "start_time": "2024-01-06T02:16:20.879909656Z"
    }
   },
   "id": "32db68ba2c8fc451"
  },
  {
   "cell_type": "markdown",
   "source": [
    "__________\n",
    "\n",
    "### ___insert___\n",
    "\n",
    "The *insert()* method inserts the specified value at the specified position."
   ],
   "metadata": {
    "collapsed": false
   },
   "id": "749583a1d99d66c4"
  },
  {
   "cell_type": "code",
   "execution_count": 7,
   "outputs": [
    {
     "data": {
      "text/plain": "[1, 2, 3, 4]"
     },
     "execution_count": 7,
     "metadata": {},
     "output_type": "execute_result"
    }
   ],
   "source": [
    "l"
   ],
   "metadata": {
    "collapsed": false,
    "ExecuteTime": {
     "end_time": "2024-01-06T02:16:21.221422016Z",
     "start_time": "2024-01-06T02:16:21.215396034Z"
    }
   },
   "id": "e3c4cbc96f4c1688"
  },
  {
   "cell_type": "code",
   "execution_count": 8,
   "outputs": [
    {
     "data": {
      "text/plain": "[1, 2, 'inserted', 3, 4]"
     },
     "execution_count": 8,
     "metadata": {},
     "output_type": "execute_result"
    }
   ],
   "source": [
    "l.insert(2, 'inserted')\n",
    "l"
   ],
   "metadata": {
    "collapsed": false,
    "ExecuteTime": {
     "end_time": "2024-01-06T02:16:21.469573037Z",
     "start_time": "2024-01-06T02:16:21.460574916Z"
    }
   },
   "id": "c725bff684895b3e"
  },
  {
   "cell_type": "markdown",
   "source": [
    "__________\n",
    "\n",
    "### ___pop___\n",
    "\n",
    "The *pop()* method removes the element at the specified position."
   ],
   "metadata": {
    "collapsed": false
   },
   "id": "fab9c96759059be7"
  },
  {
   "cell_type": "code",
   "execution_count": 9,
   "outputs": [
    {
     "data": {
      "text/plain": "[1, 2, 3, 4]"
     },
     "execution_count": 9,
     "metadata": {},
     "output_type": "execute_result"
    }
   ],
   "source": [
    "l.pop(2) # returns the removed element\n",
    "l"
   ],
   "metadata": {
    "collapsed": false,
    "ExecuteTime": {
     "end_time": "2024-01-06T02:16:21.771082407Z",
     "start_time": "2024-01-06T02:16:21.749033106Z"
    }
   },
   "id": "7e38219c4e1f4b71"
  },
  {
   "cell_type": "markdown",
   "source": [
    "__________\n",
    "\n",
    "### ___remove___\n",
    "\n",
    "The *remove()* method removes the first occurrence of the element with the specified value."
   ],
   "metadata": {
    "collapsed": false
   },
   "id": "a84f77049ebb7e66"
  },
  {
   "cell_type": "code",
   "execution_count": 10,
   "outputs": [
    {
     "data": {
      "text/plain": "[1, 2, 3, 4]"
     },
     "execution_count": 10,
     "metadata": {},
     "output_type": "execute_result"
    }
   ],
   "source": [
    "l"
   ],
   "metadata": {
    "collapsed": false,
    "ExecuteTime": {
     "end_time": "2024-01-06T02:16:22.157732035Z",
     "start_time": "2024-01-06T02:16:22.144267271Z"
    }
   },
   "id": "695deafec8700dc8"
  },
  {
   "cell_type": "code",
   "execution_count": 11,
   "outputs": [
    {
     "data": {
      "text/plain": "[1, 2, 4]"
     },
     "execution_count": 11,
     "metadata": {},
     "output_type": "execute_result"
    }
   ],
   "source": [
    "l.remove(3)\n",
    "l"
   ],
   "metadata": {
    "collapsed": false,
    "ExecuteTime": {
     "end_time": "2024-01-06T02:16:22.426342786Z",
     "start_time": "2024-01-06T02:16:22.411471479Z"
    }
   },
   "id": "8f6b59a72bebe838"
  },
  {
   "cell_type": "markdown",
   "source": [
    "__________\n",
    "\n",
    "### ___reverse___\n",
    "\n",
    "The *reverse()* method reverses the order of the list."
   ],
   "metadata": {
    "collapsed": false
   },
   "id": "1c3f623a6c7b6d0e"
  },
  {
   "cell_type": "code",
   "execution_count": 12,
   "outputs": [
    {
     "data": {
      "text/plain": "[4, 2, 1]"
     },
     "execution_count": 12,
     "metadata": {},
     "output_type": "execute_result"
    }
   ],
   "source": [
    "l.reverse()\n",
    "l"
   ],
   "metadata": {
    "collapsed": false,
    "ExecuteTime": {
     "end_time": "2024-01-06T02:16:49.319377386Z",
     "start_time": "2024-01-06T02:16:49.244796506Z"
    }
   },
   "id": "f799c2cb400c7024"
  },
  {
   "cell_type": "markdown",
   "source": [
    "__________\n",
    "\n",
    "### ___sort___\n",
    "\n",
    "The *sort()* method sorts the list ascending by default."
   ],
   "metadata": {
    "collapsed": false
   },
   "id": "28d171ca188461c0"
  },
  {
   "cell_type": "code",
   "execution_count": 14,
   "outputs": [
    {
     "data": {
      "text/plain": "[1, 2, 3]"
     },
     "execution_count": 14,
     "metadata": {},
     "output_type": "execute_result"
    }
   ],
   "source": [
    "l = [3, 2, 1]\n",
    "l.sort()\n",
    "l"
   ],
   "metadata": {
    "collapsed": false,
    "ExecuteTime": {
     "end_time": "2024-01-06T02:17:08.011864008Z",
     "start_time": "2024-01-06T02:17:07.916952558Z"
    }
   },
   "id": "ee694cefcd18bc9b"
  }
 ],
 "metadata": {
  "kernelspec": {
   "display_name": "Python 3",
   "language": "python",
   "name": "python3"
  },
  "language_info": {
   "codemirror_mode": {
    "name": "ipython",
    "version": 2
   },
   "file_extension": ".py",
   "mimetype": "text/x-python",
   "name": "python",
   "nbconvert_exporter": "python",
   "pygments_lexer": "ipython2",
   "version": "2.7.6"
  }
 },
 "nbformat": 4,
 "nbformat_minor": 5
}
