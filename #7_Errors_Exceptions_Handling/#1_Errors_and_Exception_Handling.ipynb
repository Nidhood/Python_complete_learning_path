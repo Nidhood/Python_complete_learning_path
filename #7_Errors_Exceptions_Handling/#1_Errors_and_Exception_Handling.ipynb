{
 "cells": [
  {
   "cell_type": "markdown",
   "source": [
    "# Errors and Exceptions Handling\n",
    "\n",
    "It's important to be able to handle errors in your code. This is especially true when you're working with third-party libraries since you often can't control the input that you're passing in. Instead, you need to be able to handle errors gracefully so that your program doesn't crash."
   ],
   "metadata": {
    "collapsed": false
   },
   "id": "8b215a0122c8ba74"
  },
  {
   "cell_type": "markdown",
   "source": [
    "So, we can use three keywords for this:\n",
    "\n",
    "_________\n",
    "\n",
    "### _try_\n",
    "\n",
    "This is the block of code to be attempted (may lead to an error)\n",
    "\n",
    "_________\n",
    "\n",
    "### _except_\n",
    "\n",
    "Block of code will execute in case there is an error in try block\n",
    "\n",
    "_________\n",
    "\n",
    "### _finally_\n",
    "\n",
    "A final block of code to be executed, regardless of an error."
   ],
   "metadata": {
    "collapsed": false
   },
   "id": "fe06238a0edd5362"
  },
  {
   "cell_type": "code",
   "execution_count": 2,
   "outputs": [
    {
     "name": "stdout",
     "output_type": "stream",
     "text": [
      "30\n"
     ]
    }
   ],
   "source": [
    "def add(n1,n2):\n",
    "    print(n1+n2)\n",
    "    \n",
    "add(10,20)"
   ],
   "metadata": {
    "collapsed": false,
    "ExecuteTime": {
     "end_time": "2023-12-25T18:16:11.893837288Z",
     "start_time": "2023-12-25T18:16:11.863316414Z"
    }
   },
   "id": "68bc6c2d752d30a0"
  },
  {
   "cell_type": "code",
   "execution_count": null,
   "outputs": [],
   "source": [
    "number_1 = 10\n",
    "number_2 = input('Please provide a number: ') # Notice here that we are taking input as a string, so we will get an error."
   ],
   "metadata": {
    "collapsed": false
   },
   "id": "4cfc73146f9d531d"
  },
  {
   "cell_type": "code",
   "execution_count": 5,
   "outputs": [
    {
     "ename": "TypeError",
     "evalue": "unsupported operand type(s) for +: 'int' and 'str'",
     "output_type": "error",
     "traceback": [
      "\u001B[0;31m---------------------------------------------------------------------------\u001B[0m",
      "\u001B[0;31mTypeError\u001B[0m                                 Traceback (most recent call last)",
      "Cell \u001B[0;32mIn[5], line 1\u001B[0m\n\u001B[0;32m----> 1\u001B[0m \u001B[43madd\u001B[49m\u001B[43m(\u001B[49m\u001B[43mnumber_1\u001B[49m\u001B[43m,\u001B[49m\u001B[43mnumber_2\u001B[49m\u001B[43m)\u001B[49m\n",
      "Cell \u001B[0;32mIn[2], line 2\u001B[0m, in \u001B[0;36madd\u001B[0;34m(n1, n2)\u001B[0m\n\u001B[1;32m      1\u001B[0m \u001B[38;5;28;01mdef\u001B[39;00m \u001B[38;5;21madd\u001B[39m(n1,n2):\n\u001B[0;32m----> 2\u001B[0m     \u001B[38;5;28mprint\u001B[39m(\u001B[43mn1\u001B[49m\u001B[38;5;241;43m+\u001B[39;49m\u001B[43mn2\u001B[49m)\n",
      "\u001B[0;31mTypeError\u001B[0m: unsupported operand type(s) for +: 'int' and 'str'"
     ]
    }
   ],
   "source": [
    "add(number_1,number_2)\n",
    "print('Something happened!') # This line will not be executed because of the error."
   ],
   "metadata": {
    "collapsed": false,
    "ExecuteTime": {
     "end_time": "2023-12-25T18:17:09.497257549Z",
     "start_time": "2023-12-25T18:17:09.092729303Z"
    }
   },
   "id": "cb1bb66d5b6a33b9"
  },
  {
   "cell_type": "markdown",
   "source": [
    "Notice that we got an error, but the program stopped running. We can use _try_ and _except_ to continue running the program even after an error."
   ],
   "metadata": {
    "collapsed": false
   },
   "id": "ac8165786bdf1e0e"
  },
  {
   "cell_type": "code",
   "execution_count": 6,
   "outputs": [
    {
     "name": "stdout",
     "output_type": "stream",
     "text": [
      "Hey it looks like you aren't adding correctly!\n"
     ]
    }
   ],
   "source": [
    "try:\n",
    "    # Want to attempt this code\n",
    "    # May have an error\n",
    "    result = 10 + '10'\n",
    "except:\n",
    "    \n",
    "    # This block will execute in case there is an error in try block\n",
    "    print('Hey it looks like you aren\\'t adding correctly!')\n",
    "else:\n",
    "    \n",
    "    # This block will execute if there is no error in try block\n",
    "    print('Add went well!')\n",
    "    print(result)"
   ],
   "metadata": {
    "collapsed": false,
    "ExecuteTime": {
     "end_time": "2023-12-25T19:02:05.608620413Z",
     "start_time": "2023-12-25T19:02:05.557961568Z"
    }
   },
   "id": "671bc38547a687f0"
  },
  {
   "cell_type": "markdown",
   "source": [
    "Right now, we are catching all errors, so the program will continue running even if there is an error. This is not a good practice. We should only catch the specific errors that we are expecting."
   ],
   "metadata": {
    "collapsed": false
   },
   "id": "4ef5b07253869aa8"
  },
  {
   "cell_type": "code",
   "execution_count": 7,
   "outputs": [
    {
     "name": "stdout",
     "output_type": "stream",
     "text": [
      "Hey you have an OS Error\n",
      "I always run\n"
     ]
    }
   ],
   "source": [
    "try:\n",
    "    f = open('testfile','r')\n",
    "    f.write('Write a test line')\n",
    "\n",
    "except TypeError:\n",
    "    \n",
    "    # This block will execute in case there is a type error, witch means that we are trying to add two different types of data.\n",
    "    print('There was a type error!')\n",
    "    \n",
    "except OSError:\n",
    "    \n",
    "    # This block will execute in case there is an OS error, witch means that we are trying to open a file that doesn't exist.\n",
    "    print('Hey you have an OS Error')\n",
    "    \n",
    "except:\n",
    "    \n",
    "    # This block will execute in case there is an error that we didn't catch.\n",
    "    print('All other exceptions!')\n",
    "\n",
    "finally:\n",
    "    \n",
    "    # This block will execute regardless of an error.\n",
    "    print('I always run')"
   ],
   "metadata": {
    "collapsed": false,
    "ExecuteTime": {
     "end_time": "2023-12-25T19:07:40.469035589Z",
     "start_time": "2023-12-25T19:07:40.418265285Z"
    }
   },
   "id": "db972e85c7d0acaa"
  },
  {
   "cell_type": "code",
   "execution_count": 11,
   "outputs": [
    {
     "name": "stdout",
     "output_type": "stream",
     "text": [
      "Whoops! That is not a number\n",
      "End of try/except/finally\n",
      "Yes thank you\n",
      "End of try/except/finally\n"
     ]
    }
   ],
   "source": [
    "def ask_for_int():\n",
    "    \n",
    "    while True:\n",
    "        \n",
    "        try:\n",
    "            result = int(input('Please provide number: '))\n",
    "        \n",
    "        except:\n",
    "            print('Whoops! That is not a number')\n",
    "            continue\n",
    "        \n",
    "        else: \n",
    "            print('Yes thank you')\n",
    "            break\n",
    "            \n",
    "        finally:\n",
    "            print('End of try/except/finally')\n",
    "            \n",
    "            \n",
    "ask_for_int()"
   ],
   "metadata": {
    "collapsed": false,
    "ExecuteTime": {
     "end_time": "2023-12-25T19:11:03.319446399Z",
     "start_time": "2023-12-25T19:10:57.326486775Z"
    }
   },
   "id": "f499d91fc47ce041"
  }
 ],
 "metadata": {
  "kernelspec": {
   "display_name": "Python 3",
   "language": "python",
   "name": "python3"
  },
  "language_info": {
   "codemirror_mode": {
    "name": "ipython",
    "version": 2
   },
   "file_extension": ".py",
   "mimetype": "text/x-python",
   "name": "python",
   "nbconvert_exporter": "python",
   "pygments_lexer": "ipython2",
   "version": "2.7.6"
  }
 },
 "nbformat": 4,
 "nbformat_minor": 5
}
