{
 "cells": [
  {
   "cell_type": "markdown",
   "source": [
    "________\n",
    "\n",
    "### _unittest_\n",
    "\n",
    "_unittest_ is a module that allows you to write unit tests for your code. You can read more about _unittest_ [here](https://docs.python.org/3/library/unittest.html)."
   ],
   "metadata": {
    "collapsed": false
   },
   "id": "75a79354ced36af3"
  },
  {
   "cell_type": "markdown",
   "source": [
    "Like we see in the file 'cap.py', we have a function called 'cap_text()'. This function takes a string and capitalizes the first letter of each word in the string. We want to write some tests for this function to make sure it's working as expected. Normally, you would include tests like these with your code in the same file. But for the sake of clarity, we've separated them into a separate file. Using the next command, we can run the tests from the command line:\n",
    "\n",
    "```python\n",
    "python test_cap.py\n",
    "```\n",
    "\n",
    "That evaluate the tests made in the file 'test_cap.py' and return the results of the tests. Like\n",
    "    \n",
    "```python\n",
    "import unittest\n",
    "import test_cap # import the cap.py file\n",
    "\n",
    "class TestCap(unittest.TestCase):\n",
    "\n",
    "    def test_one_word(self):\n",
    "        text = 'python'\n",
    "        result = test_cap.cap_text(text)\n",
    "        self.assertEqual(result, 'Python') # assertEqual() method\n",
    "\n",
    "    def test_multiple_words(self):\n",
    "        text = 'monty python'\n",
    "        result = test_cap.cap_text(text)\n",
    "        self.assertEqual(result, 'Monty Python') # assertEqual() method\n",
    "\n",
    "if __name__ == '__main__':\n",
    "    unittest.main() # run the test_cap.py file\n",
    "```"
   ],
   "metadata": {
    "collapsed": false
   },
   "id": "ac250544a5343b50"
  },
  {
   "cell_type": "code",
   "execution_count": null,
   "outputs": [],
   "source": [],
   "metadata": {
    "collapsed": false
   },
   "id": "5e094d97b5f2b872"
  }
 ],
 "metadata": {
  "kernelspec": {
   "display_name": "Python 3",
   "language": "python",
   "name": "python3"
  },
  "language_info": {
   "codemirror_mode": {
    "name": "ipython",
    "version": 2
   },
   "file_extension": ".py",
   "mimetype": "text/x-python",
   "name": "python",
   "nbconvert_exporter": "python",
   "pygments_lexer": "ipython2",
   "version": "2.7.6"
  }
 },
 "nbformat": 4,
 "nbformat_minor": 5
}
