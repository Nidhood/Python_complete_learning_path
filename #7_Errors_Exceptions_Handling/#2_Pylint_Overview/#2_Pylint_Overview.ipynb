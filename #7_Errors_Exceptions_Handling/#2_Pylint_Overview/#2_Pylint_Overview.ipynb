{
 "cells": [
  {
   "cell_type": "markdown",
   "source": [
    "# Unit tests\n",
    "\n",
    "Another very important aspect of software development is testing. We will not go into details here, but we will show you how to write unit tests for your code. Unit tests are small pieces of code that test the functionality of your code. They are usually written by the developer and are used to make sure that the code works as expected. Unit tests are usually run automatically when you push your code to a repository. If you are interested in learning more about unit tests, you can read more [here](https://docs.python.org/3/library/unittest.html)."
   ],
   "metadata": {
    "collapsed": false
   },
   "id": "c2dc0b18b7295b38"
  },
  {
   "cell_type": "markdown",
   "source": [
    "________\n",
    "\n",
    "### _pylint_\n",
    "\n",
    "_pylint_ is a tool that checks your code for errors and potential problems. It is a good idea to run _pylint_ on your code before you push it to a repository. You can read more about _pylint_ [here](https://www.pylint.org/)."
   ],
   "metadata": {
    "collapsed": false
   },
   "id": "d1b7a2440ee9ae34"
  },
  {
   "cell_type": "markdown",
   "source": [
    "\n",
    "```bash     \n",
    "pip install pylint\n",
    "pylint simple1.py\n",
    "```"
   ],
   "metadata": {
    "collapsed": false
   },
   "id": "98b0e79e90be97b3"
  }
 ],
 "metadata": {
  "kernelspec": {
   "display_name": "Python 3",
   "language": "python",
   "name": "python3"
  },
  "language_info": {
   "codemirror_mode": {
    "name": "ipython",
    "version": 2
   },
   "file_extension": ".py",
   "mimetype": "text/x-python",
   "name": "python",
   "nbconvert_exporter": "python",
   "pygments_lexer": "ipython2",
   "version": "2.7.6"
  }
 },
 "nbformat": 4,
 "nbformat_minor": 5
}
