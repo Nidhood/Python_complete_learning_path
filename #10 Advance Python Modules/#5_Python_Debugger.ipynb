{
 "cells": [
  {
   "cell_type": "markdown",
   "source": [
    "# Python Debugger\n",
    "\n",
    "Python has a debugger, which is available as a module called pdb (for \"Python DeBugger\", naturally!), this is a very useful tool for tracking down bugs in your code. It allows you to step through the code line by line to see what might be going wrong. This is a bit difficult with Jupyter notebook, so we will demonstrate it here with a simple script instead."
   ],
   "metadata": {
    "collapsed": false
   },
   "id": "838cf764d2915307"
  },
  {
   "cell_type": "code",
   "execution_count": 1,
   "outputs": [],
   "source": [
    "x = [1, 2, 3]\n",
    "\n",
    "y = 2\n",
    "\n",
    "z = 3"
   ],
   "metadata": {
    "collapsed": false,
    "ExecuteTime": {
     "end_time": "2024-01-04T21:13:15.754787692Z",
     "start_time": "2024-01-04T21:13:15.754380575Z"
    }
   },
   "id": "e956ea64b0709cce"
  },
  {
   "cell_type": "markdown",
   "source": [
    "_____________\n",
    "\n",
    "### ___pdb.set_trace()___\n",
    "\n",
    "To set a breakpoint from which you can start debugging your code, you can use ___pdb.set_trace()___."
   ],
   "metadata": {
    "collapsed": false
   },
   "id": "534a496e481b4f1c"
  },
  {
   "cell_type": "code",
   "execution_count": 2,
   "outputs": [
    {
     "name": "stdout",
     "output_type": "stream",
     "text": [
      "--Return--\n",
      "None\n",
      "> \u001B[0;32m/tmp/ipykernel_10081/827647227.py\u001B[0m(5)\u001B[0;36m<module>\u001B[0;34m()\u001B[0m\n",
      "\u001B[0;32m      3 \u001B[0;31m\u001B[0mresult_one\u001B[0m \u001B[0;34m=\u001B[0m \u001B[0my\u001B[0m \u001B[0;34m+\u001B[0m \u001B[0mz\u001B[0m\u001B[0;34m\u001B[0m\u001B[0;34m\u001B[0m\u001B[0m\n",
      "\u001B[0m\u001B[0;32m      4 \u001B[0;31m\u001B[0;34m\u001B[0m\u001B[0m\n",
      "\u001B[0m\u001B[0;32m----> 5 \u001B[0;31m\u001B[0mpdb\u001B[0m\u001B[0;34m.\u001B[0m\u001B[0mset_trace\u001B[0m\u001B[0;34m(\u001B[0m\u001B[0;34m)\u001B[0m \u001B[0;31m# This is the breakpoint\u001B[0m\u001B[0;34m\u001B[0m\u001B[0;34m\u001B[0m\u001B[0m\n",
      "\u001B[0m\u001B[0;32m      6 \u001B[0;31m\u001B[0;34m\u001B[0m\u001B[0m\n",
      "\u001B[0m\u001B[0;32m      7 \u001B[0;31m\u001B[0mresult_two\u001B[0m \u001B[0;34m=\u001B[0m \u001B[0my\u001B[0m \u001B[0;34m+\u001B[0m \u001B[0mx\u001B[0m\u001B[0;34m\u001B[0m\u001B[0;34m\u001B[0m\u001B[0m\n",
      "\u001B[0m\n",
      "2\n",
      "[1, 2, 3]\n"
     ]
    }
   ],
   "source": [
    "import pdb\n",
    "\n",
    "result_one = y + z\n",
    "\n",
    "pdb.set_trace() # This is the breakpoint\n",
    "\n",
    "result_two = y + x"
   ],
   "metadata": {
    "collapsed": false,
    "ExecuteTime": {
     "end_time": "2024-01-04T21:13:21.891483882Z",
     "start_time": "2024-01-04T21:13:16.605202818Z"
    }
   },
   "id": "ed611e03425f41cc"
  }
 ],
 "metadata": {
  "kernelspec": {
   "display_name": "Python 3",
   "language": "python",
   "name": "python3"
  },
  "language_info": {
   "codemirror_mode": {
    "name": "ipython",
    "version": 2
   },
   "file_extension": ".py",
   "mimetype": "text/x-python",
   "name": "python",
   "nbconvert_exporter": "python",
   "pygments_lexer": "ipython2",
   "version": "2.7.6"
  }
 },
 "nbformat": 4,
 "nbformat_minor": 5
}
