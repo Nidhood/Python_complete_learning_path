{
 "cells": [
  {
   "cell_type": "markdown",
   "source": [
    "# Date and Time in Python\n",
    "\n",
    "It is very common to work with dates and times in Python. Python has a built-in module called `datetime` for working with dates and times. Let's import it and see what it can do."
   ],
   "metadata": {
    "collapsed": false
   },
   "id": "d0e4fe68f3cbaadb"
  },
  {
   "cell_type": "code",
   "execution_count": 1,
   "outputs": [
    {
     "data": {
      "text/plain": "datetime.time(2, 20)"
     },
     "execution_count": 1,
     "metadata": {},
     "output_type": "execute_result"
    }
   ],
   "source": [
    "import datetime \n",
    "\n",
    "my_time = datetime.time(2,20)\n",
    "\n",
    "my_time"
   ],
   "metadata": {
    "collapsed": false,
    "ExecuteTime": {
     "end_time": "2024-01-04T20:48:18.126137569Z",
     "start_time": "2024-01-04T20:48:18.122664797Z"
    }
   },
   "id": "6e345be280096be3"
  },
  {
   "cell_type": "code",
   "execution_count": 2,
   "outputs": [
    {
     "data": {
      "text/plain": "2"
     },
     "execution_count": 2,
     "metadata": {},
     "output_type": "execute_result"
    }
   ],
   "source": [
    "my_time.hour"
   ],
   "metadata": {
    "collapsed": false,
    "ExecuteTime": {
     "end_time": "2024-01-04T20:48:18.379007611Z",
     "start_time": "2024-01-04T20:48:18.374095772Z"
    }
   },
   "id": "7a0eca5c48b3e99"
  },
  {
   "cell_type": "code",
   "execution_count": 3,
   "outputs": [
    {
     "data": {
      "text/plain": "20"
     },
     "execution_count": 3,
     "metadata": {},
     "output_type": "execute_result"
    }
   ],
   "source": [
    "my_time.minute"
   ],
   "metadata": {
    "collapsed": false,
    "ExecuteTime": {
     "end_time": "2024-01-04T20:48:18.516993159Z",
     "start_time": "2024-01-04T20:48:18.467867631Z"
    }
   },
   "id": "e98ee311d68fc236"
  },
  {
   "cell_type": "code",
   "execution_count": 4,
   "outputs": [
    {
     "name": "stdout",
     "output_type": "stream",
     "text": [
      "02:20:00\n"
     ]
    }
   ],
   "source": [
    "print(my_time)"
   ],
   "metadata": {
    "collapsed": false,
    "ExecuteTime": {
     "end_time": "2024-01-04T20:48:18.631364397Z",
     "start_time": "2024-01-04T20:48:18.625270068Z"
    }
   },
   "id": "cfaf233ca1f46526"
  },
  {
   "cell_type": "code",
   "execution_count": 5,
   "outputs": [
    {
     "data": {
      "text/plain": "0"
     },
     "execution_count": 5,
     "metadata": {},
     "output_type": "execute_result"
    }
   ],
   "source": [
    "my_time.microsecond"
   ],
   "metadata": {
    "collapsed": false,
    "ExecuteTime": {
     "end_time": "2024-01-04T20:48:18.871878434Z",
     "start_time": "2024-01-04T20:48:18.848349320Z"
    }
   },
   "id": "12e9a9b1f29223ae"
  },
  {
   "cell_type": "code",
   "execution_count": 6,
   "outputs": [],
   "source": [
    "my_time = datetime.time(13,20,1,20)"
   ],
   "metadata": {
    "collapsed": false,
    "ExecuteTime": {
     "end_time": "2024-01-04T20:48:19.021447099Z",
     "start_time": "2024-01-04T20:48:19.015150352Z"
    }
   },
   "id": "2678b41d2531851a"
  },
  {
   "cell_type": "code",
   "execution_count": 7,
   "outputs": [
    {
     "name": "stdout",
     "output_type": "stream",
     "text": [
      "13:20:01.000020\n"
     ]
    }
   ],
   "source": [
    "print(my_time)"
   ],
   "metadata": {
    "collapsed": false,
    "ExecuteTime": {
     "end_time": "2024-01-04T20:48:19.267781133Z",
     "start_time": "2024-01-04T20:48:19.243167869Z"
    }
   },
   "id": "7c0fb22590e0152d"
  },
  {
   "cell_type": "code",
   "execution_count": 8,
   "outputs": [
    {
     "data": {
      "text/plain": "datetime.time"
     },
     "execution_count": 8,
     "metadata": {},
     "output_type": "execute_result"
    }
   ],
   "source": [
    "type(my_time)"
   ],
   "metadata": {
    "collapsed": false,
    "ExecuteTime": {
     "end_time": "2024-01-04T20:48:19.447073925Z",
     "start_time": "2024-01-04T20:48:19.403613755Z"
    }
   },
   "id": "a3a11943acd8ba83"
  },
  {
   "cell_type": "code",
   "execution_count": 9,
   "outputs": [
    {
     "name": "stdout",
     "output_type": "stream",
     "text": [
      "2024-01-04\n"
     ]
    }
   ],
   "source": [
    "today = datetime.date.today()\n",
    "\n",
    "print(today)"
   ],
   "metadata": {
    "collapsed": false,
    "ExecuteTime": {
     "end_time": "2024-01-04T20:48:19.634004807Z",
     "start_time": "2024-01-04T20:48:19.613277617Z"
    }
   },
   "id": "3b0978fcfb362856"
  },
  {
   "cell_type": "code",
   "execution_count": 10,
   "outputs": [
    {
     "data": {
      "text/plain": "2024"
     },
     "execution_count": 10,
     "metadata": {},
     "output_type": "execute_result"
    }
   ],
   "source": [
    "today.year"
   ],
   "metadata": {
    "collapsed": false,
    "ExecuteTime": {
     "end_time": "2024-01-04T20:48:19.852389789Z",
     "start_time": "2024-01-04T20:48:19.825538861Z"
    }
   },
   "id": "38dec5ec0f06093d"
  },
  {
   "cell_type": "code",
   "execution_count": 11,
   "outputs": [
    {
     "data": {
      "text/plain": "1"
     },
     "execution_count": 11,
     "metadata": {},
     "output_type": "execute_result"
    }
   ],
   "source": [
    "today.month"
   ],
   "metadata": {
    "collapsed": false,
    "ExecuteTime": {
     "end_time": "2024-01-04T20:48:20.031258241Z",
     "start_time": "2024-01-04T20:48:19.999996809Z"
    }
   },
   "id": "10888d328d79e43f"
  },
  {
   "cell_type": "code",
   "execution_count": 12,
   "outputs": [
    {
     "data": {
      "text/plain": "4"
     },
     "execution_count": 12,
     "metadata": {},
     "output_type": "execute_result"
    }
   ],
   "source": [
    "today.day"
   ],
   "metadata": {
    "collapsed": false,
    "ExecuteTime": {
     "end_time": "2024-01-04T20:48:20.201480514Z",
     "start_time": "2024-01-04T20:48:20.180167462Z"
    }
   },
   "id": "402ad3ef16ae3bf"
  },
  {
   "cell_type": "markdown",
   "source": [
    "_________\n",
    "\n",
    "### ___today.ctime()___\n",
    "\n",
    "The `ctime()` method converts a date to string."
   ],
   "metadata": {
    "collapsed": false
   },
   "id": "61fffdd194ebf7aa"
  },
  {
   "cell_type": "code",
   "execution_count": 13,
   "outputs": [
    {
     "data": {
      "text/plain": "'Thu Jan  4 00:00:00 2024'"
     },
     "execution_count": 13,
     "metadata": {},
     "output_type": "execute_result"
    }
   ],
   "source": [
    "today.ctime()"
   ],
   "metadata": {
    "collapsed": false,
    "ExecuteTime": {
     "end_time": "2024-01-04T20:48:20.532044264Z",
     "start_time": "2024-01-04T20:48:20.527772423Z"
    }
   },
   "id": "63d2b830f85eca0f"
  },
  {
   "cell_type": "markdown",
   "source": [
    "_________\n",
    "\n",
    "### ___datetime.datetime___\n",
    "\n",
    "The `datetime` module has a class named `datetime` which can contain information from both date and time objects."
   ],
   "metadata": {
    "collapsed": false
   },
   "id": "e006c368bbb8f93f"
  },
  {
   "cell_type": "code",
   "execution_count": 14,
   "outputs": [
    {
     "name": "stdout",
     "output_type": "stream",
     "text": [
      "2021-10-03 14:20:01\n"
     ]
    }
   ],
   "source": [
    "from datetime import datetime\n",
    "\n",
    "my_datetime = datetime(2021,10,3,14,20,1) # 3rd October 2021, 2:20:01 pm\n",
    "\n",
    "print(my_datetime)"
   ],
   "metadata": {
    "collapsed": false,
    "ExecuteTime": {
     "end_time": "2024-01-04T20:48:20.967972124Z",
     "start_time": "2024-01-04T20:48:20.953533388Z"
    }
   },
   "id": "90a3a2b859743772"
  },
  {
   "cell_type": "markdown",
   "source": [
    "Also, we can replace any part of the datetime object with the `replace()` method."
   ],
   "metadata": {
    "collapsed": false
   },
   "id": "c46d44489f4f679a"
  },
  {
   "cell_type": "code",
   "execution_count": 15,
   "outputs": [
    {
     "name": "stdout",
     "output_type": "stream",
     "text": [
      "2020-10-03 14:20:01\n"
     ]
    }
   ],
   "source": [
    "my_date_time = my_datetime.replace(year=2020)\n",
    "\n",
    "print(my_date_time)"
   ],
   "metadata": {
    "collapsed": false,
    "ExecuteTime": {
     "end_time": "2024-01-04T20:48:21.345064750Z",
     "start_time": "2024-01-04T20:48:21.341163743Z"
    }
   },
   "id": "ad87ae99803a53ec"
  },
  {
   "cell_type": "code",
   "execution_count": 16,
   "outputs": [
    {
     "name": "stdout",
     "output_type": "stream",
     "text": [
      "2021-10-03 14:00:00\n"
     ]
    }
   ],
   "source": [
    "my_date_time = my_datetime.replace(minute=0, second=0)\n",
    "\n",
    "print(my_date_time)"
   ],
   "metadata": {
    "collapsed": false,
    "ExecuteTime": {
     "end_time": "2024-01-04T20:48:21.643631611Z",
     "start_time": "2024-01-04T20:48:21.629038550Z"
    }
   },
   "id": "4d137e503565aaf2"
  },
  {
   "cell_type": "markdown",
   "source": [
    "We can also do arithmetic on date objects to check for time differences."
   ],
   "metadata": {
    "collapsed": false
   },
   "id": "cfe22620d050830f"
  },
  {
   "cell_type": "code",
   "execution_count": 17,
   "outputs": [
    {
     "name": "stdout",
     "output_type": "stream",
     "text": [
      "365 days, 0:00:00\n"
     ]
    }
   ],
   "source": [
    "from datetime import date\n",
    "\n",
    "date1 = date(2021,11,3)\n",
    "date2 = date(2020,11,3)\n",
    "\n",
    "result = date1 - date2\n",
    "\n",
    "print(result)"
   ],
   "metadata": {
    "collapsed": false,
    "ExecuteTime": {
     "end_time": "2024-01-04T20:48:22.338434079Z",
     "start_time": "2024-01-04T20:48:22.327274159Z"
    }
   },
   "id": "3f09eeb1043a05c5"
  },
  {
   "cell_type": "code",
   "execution_count": 18,
   "outputs": [
    {
     "data": {
      "text/plain": "365"
     },
     "execution_count": 18,
     "metadata": {},
     "output_type": "execute_result"
    }
   ],
   "source": [
    "result.days"
   ],
   "metadata": {
    "collapsed": false,
    "ExecuteTime": {
     "end_time": "2024-01-04T20:48:22.843575849Z",
     "start_time": "2024-01-04T20:48:22.838332170Z"
    }
   },
   "id": "15ae650e12cffe16"
  },
  {
   "cell_type": "code",
   "execution_count": 19,
   "outputs": [
    {
     "data": {
      "text/plain": "0"
     },
     "execution_count": 19,
     "metadata": {},
     "output_type": "execute_result"
    }
   ],
   "source": [
    "result.seconds"
   ],
   "metadata": {
    "collapsed": false,
    "ExecuteTime": {
     "end_time": "2024-01-04T20:48:23.260179518Z",
     "start_time": "2024-01-04T20:48:23.237033323Z"
    }
   },
   "id": "5f662d30eebab5f9"
  },
  {
   "cell_type": "code",
   "execution_count": 20,
   "outputs": [
    {
     "data": {
      "text/plain": "31536000.0"
     },
     "execution_count": 20,
     "metadata": {},
     "output_type": "execute_result"
    }
   ],
   "source": [
    "result.total_seconds()"
   ],
   "metadata": {
    "collapsed": false,
    "ExecuteTime": {
     "end_time": "2024-01-04T20:48:23.631825497Z",
     "start_time": "2024-01-04T20:48:23.557184751Z"
    }
   },
   "id": "704ec2d7e5d075b4"
  },
  {
   "cell_type": "code",
   "execution_count": 21,
   "outputs": [
    {
     "name": "stdout",
     "output_type": "stream",
     "text": [
      "365 days, 10:00:00\n"
     ]
    }
   ],
   "source": [
    "date_time_1 = datetime(2021,11,3,22,0)\n",
    "date_time_2 = datetime(2020,11,3,12,0)\n",
    "\n",
    "result = date_time_1 - date_time_2\n",
    "\n",
    "print(result)"
   ],
   "metadata": {
    "collapsed": false,
    "ExecuteTime": {
     "end_time": "2024-01-04T20:48:23.953377803Z",
     "start_time": "2024-01-04T20:48:23.924494096Z"
    }
   },
   "id": "1b13a482d46d3e24"
  },
  {
   "cell_type": "code",
   "execution_count": 22,
   "outputs": [
    {
     "data": {
      "text/plain": "36000"
     },
     "execution_count": 22,
     "metadata": {},
     "output_type": "execute_result"
    }
   ],
   "source": [
    "result.seconds"
   ],
   "metadata": {
    "collapsed": false,
    "ExecuteTime": {
     "end_time": "2024-01-04T20:48:24.324690454Z",
     "start_time": "2024-01-04T20:48:24.304324274Z"
    }
   },
   "id": "ae6d66b3bf90e710"
  },
  {
   "cell_type": "code",
   "execution_count": 23,
   "outputs": [
    {
     "data": {
      "text/plain": "31572000.0"
     },
     "execution_count": 23,
     "metadata": {},
     "output_type": "execute_result"
    }
   ],
   "source": [
    "result.total_seconds() # 365 days = 31536000 seconds"
   ],
   "metadata": {
    "collapsed": false,
    "ExecuteTime": {
     "end_time": "2024-01-04T20:48:24.599957416Z",
     "start_time": "2024-01-04T20:48:24.580495939Z"
    }
   },
   "id": "106bb1c96ed6241"
  },
  {
   "cell_type": "code",
   "execution_count": 24,
   "outputs": [
    {
     "data": {
      "text/plain": "365"
     },
     "execution_count": 24,
     "metadata": {},
     "output_type": "execute_result"
    }
   ],
   "source": [
    "result.days"
   ],
   "metadata": {
    "collapsed": false,
    "ExecuteTime": {
     "end_time": "2024-01-04T20:48:24.873999292Z",
     "start_time": "2024-01-04T20:48:24.857007482Z"
    }
   },
   "id": "77fd18fc35cf7bd8"
  }
 ],
 "metadata": {
  "kernelspec": {
   "display_name": "Python 3",
   "language": "python",
   "name": "python3"
  },
  "language_info": {
   "codemirror_mode": {
    "name": "ipython",
    "version": 2
   },
   "file_extension": ".py",
   "mimetype": "text/x-python",
   "name": "python",
   "nbconvert_exporter": "python",
   "pygments_lexer": "ipython2",
   "version": "2.7.6"
  }
 },
 "nbformat": 4,
 "nbformat_minor": 5
}
