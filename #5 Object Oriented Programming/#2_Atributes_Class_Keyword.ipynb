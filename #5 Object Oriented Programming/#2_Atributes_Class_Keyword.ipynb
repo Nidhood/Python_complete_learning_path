{
 "cells": [
  {
   "cell_type": "markdown",
   "source": [
    "# Attributes and Class keyword\n",
    "\n",
    "Like we said, classes are a way to bring together data and functionality. We can define what data a class holds by defining attributes. "
   ],
   "metadata": {
    "collapsed": false
   },
   "id": "82addd97d73454a1"
  },
  {
   "cell_type": "code",
   "execution_count": 1,
   "outputs": [],
   "source": [
    "class Sample:\n",
    "    pass\n",
    "\n",
    "my_sample = Sample()"
   ],
   "metadata": {
    "collapsed": false,
    "ExecuteTime": {
     "end_time": "2023-12-24T20:46:54.398614658Z",
     "start_time": "2023-12-24T20:46:54.397714458Z"
    }
   },
   "id": "7d607ea3497396f3"
  },
  {
   "cell_type": "markdown",
   "source": [
    "A crucial about class's creation is that it always needs to be in CamelCase (the first letter of each word is capitalized)."
   ],
   "metadata": {
    "collapsed": false
   },
   "id": "18d14b3f7eec8290"
  },
  {
   "cell_type": "code",
   "execution_count": 2,
   "outputs": [
    {
     "data": {
      "text/plain": "__main__.Sample"
     },
     "execution_count": 2,
     "metadata": {},
     "output_type": "execute_result"
    }
   ],
   "source": [
    "type(my_sample)"
   ],
   "metadata": {
    "collapsed": false,
    "ExecuteTime": {
     "end_time": "2023-12-24T20:46:54.956316463Z",
     "start_time": "2023-12-24T20:46:54.934533168Z"
    }
   },
   "id": "19de721b1f3f6a70"
  },
  {
   "cell_type": "markdown",
   "source": [
    "Now we're interested in adding attributes to our class. We can do that by defining a special method called __init__ (two underscores before and after init). This method is called when we create an instance of the class (an object). It's also called a constructor."
   ],
   "metadata": {
    "collapsed": false
   },
   "id": "e142a6d8faae4c71"
  },
  {
   "cell_type": "code",
   "execution_count": 3,
   "outputs": [
    {
     "data": {
      "text/plain": "__main__.Dog"
     },
     "execution_count": 3,
     "metadata": {},
     "output_type": "execute_result"
    }
   ],
   "source": [
    "class Dog:\n",
    "    def __init__(self, breed):\n",
    "        self.breed = breed\n",
    "        \n",
    "my_dog = Dog(breed='Lab')\n",
    "\n",
    "type(my_dog)"
   ],
   "metadata": {
    "collapsed": false,
    "ExecuteTime": {
     "end_time": "2023-12-24T20:46:55.307841101Z",
     "start_time": "2023-12-24T20:46:55.301878903Z"
    }
   },
   "id": "2ec7fbe349aed5fa"
  },
  {
   "cell_type": "code",
   "execution_count": 4,
   "outputs": [
    {
     "data": {
      "text/plain": "'Lab'"
     },
     "execution_count": 4,
     "metadata": {},
     "output_type": "execute_result"
    }
   ],
   "source": [
    "my_dog.breed"
   ],
   "metadata": {
    "collapsed": false,
    "ExecuteTime": {
     "end_time": "2023-12-24T20:46:55.576060129Z",
     "start_time": "2023-12-24T20:46:55.513530341Z"
    }
   },
   "id": "674c85ea0b432a70"
  },
  {
   "cell_type": "code",
   "execution_count": 5,
   "outputs": [
    {
     "name": "stdout",
     "output_type": "stream",
     "text": [
      "Dog [breed=Lab, name=Sammy, spots=False]\n"
     ]
    }
   ],
   "source": [
    "class Dog:\n",
    "    \n",
    "    def __init__(self, breed, name, spots):\n",
    "        \n",
    "        # Attributes\n",
    "        # We take in the argument\n",
    "        # Assign it using self.attribute_name\n",
    "        self.breed = breed\n",
    "        self.name = name\n",
    "        self.spots = spots\n",
    "        \n",
    "    def __str__(self):\n",
    "        return f\"Dog [breed={self.breed}, name={self.name}, spots={self.spots}]\"\n",
    "\n",
    "my_dog = Dog(breed='Lab', name='Sammy', spots=False)\n",
    "\n",
    "print(my_dog)"
   ],
   "metadata": {
    "collapsed": false,
    "ExecuteTime": {
     "end_time": "2023-12-24T20:46:55.750814705Z",
     "start_time": "2023-12-24T20:46:55.722348782Z"
    }
   },
   "id": "7e585f2861e205c0"
  },
  {
   "cell_type": "markdown",
   "source": [
    "Now we're going to add class object attributes, witch is the same for any instance of the class. We can do that by defining an attribute outside any method in the class."
   ],
   "metadata": {
    "collapsed": false
   },
   "id": "12e221373ac2404"
  },
  {
   "cell_type": "code",
   "execution_count": 6,
   "outputs": [
    {
     "name": "stdout",
     "output_type": "stream",
     "text": [
      "Dog [breed=Lab, name=Sammy, spots=False]\n"
     ]
    }
   ],
   "source": [
    "class Dog:\n",
    "    \n",
    "    # Class object attribute\n",
    "    # Same for any instance of a class\n",
    "    species = 'mammal'\n",
    "    \n",
    "    def __init__(self, breed, name, spots):\n",
    "        \n",
    "        # Attributes\n",
    "        # We take in the argument\n",
    "        # Assign it using self.attribute_name\n",
    "        self.breed = breed\n",
    "        self.name = name\n",
    "        self.spots = spots\n",
    "        \n",
    "    def __str__(self):\n",
    "        return f\"Dog [breed={self.breed}, name={self.name}, spots={self.spots}]\"\n",
    "    \n",
    "my_dog = Dog(breed='Lab', name='Sammy', spots=False)\n",
    "print(my_dog)"
   ],
   "metadata": {
    "collapsed": false,
    "ExecuteTime": {
     "end_time": "2023-12-24T20:46:55.990981195Z",
     "start_time": "2023-12-24T20:46:55.963887751Z"
    }
   },
   "id": "8cacb7253465f885"
  },
  {
   "cell_type": "markdown",
   "source": [
    "Now we're going to add methods to our class. Methods are functions defined inside the body of a class. They are used to perform operations with the attributes of our objects. Methods are a key concept of the OOP paradigm. They are essential to dividing responsibilities in programming, especially in large applications."
   ],
   "metadata": {
    "collapsed": false
   },
   "id": "cb855cdfcad0a07b"
  },
  {
   "cell_type": "code",
   "execution_count": 7,
   "outputs": [
    {
     "name": "stdout",
     "output_type": "stream",
     "text": [
      "Dog [species=mammal, breed=Lab, name=Sammy, spots=False]\n"
     ]
    }
   ],
   "source": [
    "class Dog:\n",
    "    \n",
    "    species = 'mammal'\n",
    "    \n",
    "    def __init__(self, breed, name, spots):\n",
    "        \n",
    "        self.breed = breed\n",
    "        self.name = name\n",
    "        self.spots = spots\n",
    "    \n",
    "    # Operations/Actions ---> Methods\n",
    "    def bark(self, number):\n",
    "        print(f\"Woof! My name is {self.name} and the number is {number}\")\n",
    "        \n",
    "    def __str__(self):\n",
    "        return f\"Dog [species={self.species}, breed={self.breed}, name={self.name}, spots={self.spots}]\"\n",
    "\n",
    "my_dog = Dog(breed='Lab', name='Sammy', spots=False)\n",
    "print(my_dog)"
   ],
   "metadata": {
    "collapsed": false,
    "ExecuteTime": {
     "end_time": "2023-12-24T20:46:56.665981171Z",
     "start_time": "2023-12-24T20:46:56.650817376Z"
    }
   },
   "id": "36603d43f46a1e90"
  },
  {
   "cell_type": "code",
   "execution_count": 8,
   "outputs": [
    {
     "name": "stdout",
     "output_type": "stream",
     "text": [
      "Woof! My name is Sammy and the number is 10\n"
     ]
    }
   ],
   "source": [
    "my_dog.bark(10)"
   ],
   "metadata": {
    "collapsed": false,
    "ExecuteTime": {
     "end_time": "2023-12-24T20:46:57.116474507Z",
     "start_time": "2023-12-24T20:46:57.104086564Z"
    }
   },
   "id": "e0b3773f0117ff27"
  },
  {
   "cell_type": "code",
   "execution_count": 9,
   "outputs": [
    {
     "name": "stdout",
     "output_type": "stream",
     "text": [
      "Circle [radius=30, area=2826.0]\n"
     ]
    }
   ],
   "source": [
    "class Circle:\n",
    "    \n",
    "    # Class object attribute\n",
    "    pi = 3.14\n",
    "    \n",
    "    def __init__(self, radius=1): # Like we do before, we can set a default value for the radius.\n",
    "        self.radius = radius\n",
    "        self.area = radius * radius * Circle.pi # We can use Circle.pi or self.pi because it's a class object attribute.\n",
    "        \n",
    "    # Method\n",
    "    def get_circumference(self):\n",
    "        return self.radius * Circle.pi * 2\n",
    "    \n",
    "    # ToString\n",
    "    def __str__(self):\n",
    "        return f\"Circle [radius={self.radius}, area={self.area}]\"\n",
    "\n",
    "my_circle = Circle(30)\n",
    "print(my_circle)"
   ],
   "metadata": {
    "collapsed": false,
    "ExecuteTime": {
     "end_time": "2023-12-24T20:46:58.221791208Z",
     "start_time": "2023-12-24T20:46:58.217189189Z"
    }
   },
   "id": "e773245bd7ce5804"
  },
  {
   "cell_type": "code",
   "execution_count": 10,
   "outputs": [
    {
     "data": {
      "text/plain": "188.4"
     },
     "execution_count": 10,
     "metadata": {},
     "output_type": "execute_result"
    }
   ],
   "source": [
    "my_circle.get_circumference()"
   ],
   "metadata": {
    "collapsed": false,
    "ExecuteTime": {
     "end_time": "2023-12-24T20:46:59.024319340Z",
     "start_time": "2023-12-24T20:46:59.013364215Z"
    }
   },
   "id": "5c148d023cb74d2d"
  }
 ],
 "metadata": {
  "kernelspec": {
   "display_name": "Python 3",
   "language": "python",
   "name": "python3"
  },
  "language_info": {
   "codemirror_mode": {
    "name": "ipython",
    "version": 2
   },
   "file_extension": ".py",
   "mimetype": "text/x-python",
   "name": "python",
   "nbconvert_exporter": "python",
   "pygments_lexer": "ipython2",
   "version": "2.7.6"
  }
 },
 "nbformat": 4,
 "nbformat_minor": 5
}
