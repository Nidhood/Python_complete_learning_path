{
 "cells": [
  {
   "cell_type": "markdown",
   "source": [
    "# Timing your code\n",
    "\n",
    "It's comoon to want to find out how long your code takes to run, or at least how long a function takes to run. Timing your code provides you with a benchmark that you can use to compare other pieces of code to. This way you can see if a change you made improved the runtime or not."
   ],
   "metadata": {
    "collapsed": false
   },
   "id": "40ebaf9b64f51143"
  },
  {
   "cell_type": "code",
   "execution_count": 1,
   "outputs": [
    {
     "data": {
      "text/plain": "['0', '1', '2', '3', '4', '5', '6', '7', '8', '9']"
     },
     "execution_count": 1,
     "metadata": {},
     "output_type": "execute_result"
    }
   ],
   "source": [
    "def funct_one(n):\n",
    "    return [str(num) for num in range(n)]\n",
    "\n",
    "funct_one(10)"
   ],
   "metadata": {
    "collapsed": false,
    "ExecuteTime": {
     "end_time": "2024-01-04T22:12:52.580618516Z",
     "start_time": "2024-01-04T22:12:52.578482111Z"
    }
   },
   "id": "b86e7e3b6dd434c9"
  },
  {
   "cell_type": "code",
   "execution_count": 2,
   "outputs": [
    {
     "data": {
      "text/plain": "['0', '1', '2', '3', '4', '5', '6', '7', '8', '9']"
     },
     "execution_count": 2,
     "metadata": {},
     "output_type": "execute_result"
    }
   ],
   "source": [
    "def funct_two(n):\n",
    "    return list(map(str,range(n)))\n",
    "\n",
    "funct_two(10)"
   ],
   "metadata": {
    "collapsed": false,
    "ExecuteTime": {
     "end_time": "2024-01-04T22:12:52.972888055Z",
     "start_time": "2024-01-04T22:12:52.960294259Z"
    }
   },
   "id": "1da4604363808376"
  },
  {
   "cell_type": "markdown",
   "source": [
    "Like we're seeing, the two functions are doing the same thing, but the second one is using the map function to do it. The map function takes in two arguments, a function and an iterable. It then returns an iterator that applies the function to every item of the iterable. In this case, the function is str and the iterable is range(n). The map function is much faster than the for loop, but we need to prove it. We'll use the timeit module to compare the time of the two functions."
   ],
   "metadata": {
    "collapsed": false
   },
   "id": "2d18c519c7e195b3"
  },
  {
   "cell_type": "markdown",
   "source": [
    "____________\n",
    "\n",
    "### ___time___\n",
    "\n",
    "The time module can be used to time your Python programs. The timeit module has a convenient function called timeit() that takes in two strings, a statement (stmt) and a setup. The setup is executed only once, and then the statement is executed repeatedly. The timeit() function runs the setup statement one time, then executes the statement 1,000,000 times, and then returns the amount of time it took to run those executions."
   ],
   "metadata": {
    "collapsed": false
   },
   "id": "1675bc9fb86b31b0"
  },
  {
   "cell_type": "code",
   "execution_count": 3,
   "outputs": [
    {
     "name": "stdout",
     "output_type": "stream",
     "text": [
      "4.029273986816406e-05\n"
     ]
    }
   ],
   "source": [
    "import time\n",
    "\n",
    "#  CURRENT TIME BEFORE\n",
    "\n",
    "start_time = time.time()\n",
    "\n",
    "# RUN CODE\n",
    "\n",
    "funct_one(10)\n",
    "\n",
    "# CURRENT TIME AFTER RUNNING CODE\n",
    "\n",
    "end_time = time.time()\n",
    "\n",
    "# ELAPSED TIME\n",
    "\n",
    "elapsed_time = end_time - start_time\n",
    "\n",
    "print(elapsed_time)"
   ],
   "metadata": {
    "collapsed": false,
    "ExecuteTime": {
     "end_time": "2024-01-04T22:12:54.144346133Z",
     "start_time": "2024-01-04T22:12:54.139879268Z"
    }
   },
   "id": "62176ba92d3984db"
  },
  {
   "cell_type": "code",
   "execution_count": 4,
   "outputs": [
    {
     "name": "stdout",
     "output_type": "stream",
     "text": [
      "8.20159912109375e-05\n"
     ]
    }
   ],
   "source": [
    "#  CURRENT TIME BEFORE\n",
    "\n",
    "start_time = time.time()\n",
    "\n",
    "# RUN CODE\n",
    "\n",
    "funct_two(10)\n",
    "\n",
    "# CURRENT TIME AFTER RUNNING CODE\n",
    "\n",
    "end_time = time.time()\n",
    "\n",
    "# ELAPSED TIME\n",
    "\n",
    "elapsed_time = end_time - start_time\n",
    "\n",
    "print(elapsed_time)"
   ],
   "metadata": {
    "collapsed": false,
    "ExecuteTime": {
     "end_time": "2024-01-04T22:12:54.829892439Z",
     "start_time": "2024-01-04T22:12:54.824746543Z"
    }
   },
   "id": "4555dfd03501aa05"
  },
  {
   "cell_type": "markdown",
   "source": [
    "____________\n",
    "\n",
    "### ___timeit___\n",
    "\n",
    "Now let's use the timeit module to compare the two functions. We'll pass in the actual functions as strings, and then we'll pass in the setup. We'll do this for n = 10000, 100000, and 1000000."
   ],
   "metadata": {
    "collapsed": false
   },
   "id": "ed707054ad0eb902"
  },
  {
   "cell_type": "code",
   "execution_count": 5,
   "outputs": [
    {
     "data": {
      "text/plain": "1.9001814080002077"
     },
     "execution_count": 5,
     "metadata": {},
     "output_type": "execute_result"
    }
   ],
   "source": [
    "import timeit\n",
    "\n",
    "\n",
    "# stmt is the actual code we want to run.\n",
    "\n",
    "stmt = '''\n",
    "funct_one(100)\n",
    "'''\n",
    "\n",
    "# setup is the code that we need to run before we run the actual code.\n",
    "\n",
    "setup = '''\n",
    "def funct_one(n):\n",
    "    return [str(num) for num in range(n)]\n",
    "'''\n",
    "\n",
    "timeit.timeit(stmt,setup,number=100000)"
   ],
   "metadata": {
    "collapsed": false,
    "ExecuteTime": {
     "end_time": "2024-01-04T22:12:57.729411567Z",
     "start_time": "2024-01-04T22:12:55.827834464Z"
    }
   },
   "id": "fa0902d674af7b01"
  },
  {
   "cell_type": "code",
   "execution_count": 6,
   "outputs": [
    {
     "data": {
      "text/plain": "1.39014274299916"
     },
     "execution_count": 6,
     "metadata": {},
     "output_type": "execute_result"
    }
   ],
   "source": [
    "stmt = '''\n",
    "funct_two(100)\n",
    "'''\n",
    "\n",
    "setup = '''\n",
    "def funct_two(n):\n",
    "    return list(map(str,range(n)))\n",
    "'''\n",
    "\n",
    "timeit.timeit(stmt,setup,number=100000)"
   ],
   "metadata": {
    "collapsed": false,
    "ExecuteTime": {
     "end_time": "2024-01-04T22:12:59.127513750Z",
     "start_time": "2024-01-04T22:12:57.735849588Z"
    }
   },
   "id": "54c93fe1d1e8eecc"
  },
  {
   "cell_type": "code",
   "execution_count": 7,
   "outputs": [
    {
     "name": "stdout",
     "output_type": "stream",
     "text": [
      "13.9 µs ± 145 ns per loop (mean ± std. dev. of 7 runs, 100,000 loops each)\n"
     ]
    }
   ],
   "source": [
    "%%timeit\n",
    "funct_one(100)"
   ],
   "metadata": {
    "collapsed": false,
    "ExecuteTime": {
     "end_time": "2024-01-04T22:13:10.500084202Z",
     "start_time": "2024-01-04T22:12:59.137130476Z"
    }
   },
   "id": "1f4d774d0bc53513"
  },
  {
   "cell_type": "code",
   "execution_count": 8,
   "outputs": [
    {
     "name": "stdout",
     "output_type": "stream",
     "text": [
      "11.4 µs ± 234 ns per loop (mean ± std. dev. of 7 runs, 100,000 loops each)\n"
     ]
    }
   ],
   "source": [
    "%%timeit\n",
    "funct_two(100)"
   ],
   "metadata": {
    "collapsed": false,
    "ExecuteTime": {
     "end_time": "2024-01-04T22:13:19.819403171Z",
     "start_time": "2024-01-04T22:13:10.520114610Z"
    }
   },
   "id": "6b8b3720794a0c27"
  }
 ],
 "metadata": {
  "kernelspec": {
   "display_name": "Python 3",
   "language": "python",
   "name": "python3"
  },
  "language_info": {
   "codemirror_mode": {
    "name": "ipython",
    "version": 2
   },
   "file_extension": ".py",
   "mimetype": "text/x-python",
   "name": "python",
   "nbconvert_exporter": "python",
   "pygments_lexer": "ipython2",
   "version": "2.7.6"
  }
 },
 "nbformat": 4,
 "nbformat_minor": 5
}
