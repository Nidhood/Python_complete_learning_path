{
 "cells": [
  {
   "cell_type": "markdown",
   "source": [
    "# Regular Expression Pattern\n",
    "\n",
    "## Character Identifiers\n",
    "\n",
    "The following table lists the characters that can be used to define a pattern that matches a single character, witch means that the pattern will match any single character that appears in the pattern.\n",
    "\n",
    "<table>\n",
    "  <tr>\n",
    "    <th style=\"text-align:center;\">Character</th>\n",
    "    <th style=\"text-align:center;\">Description</th>\n",
    "    <th style=\"text-align:center;\">Example Pattern Code</th>\n",
    "    <th style=\"text-align:center;\">Example Match</th>\n",
    "  </tr>\n",
    "  <tr>\n",
    "    <td style=\"text-align:center;\">\\d</td>\n",
    "    <td style=\"text-align:left;\">A digit</td>\n",
    "    <td style=\"text-align:center;\">file_\\d\\d</td>\n",
    "    <td style=\"text-align:center;\">file_25</td>\n",
    "  </tr>\n",
    "  <tr>\n",
    "    <td style=\"text-align:center;\">\\w</td>\n",
    "    <td style=\"text-align:left;\">Alphanumeric</td>\n",
    "    <td style=\"text-align:center;\">\\w-\\w\\w\\w</td>\n",
    "    <td style=\"text-align:center;\">A-b_1</td>\n",
    "  </tr>\n",
    "  <tr>\n",
    "    <td style=\"text-align:center;\">\\s</td>\n",
    "    <td style=\"text-align:left;\">White space</td>\n",
    "    <td style=\"text-align:center;\">a\\sb\\sc</td>\n",
    "    <td style=\"text-align:center;\">a b c</td>\n",
    "  </tr>\n",
    "  <tr>\n",
    "    <td style=\"text-align:center;\">\\D</td>\n",
    "    <td style=\"text-align:left;\">A non digit</td>\n",
    "    <td style=\"text-align:center;\">\\D\\D\\Ð</td>\n",
    "    <td style=\"text-align:center;\">ABC</td>\n",
    "  </tr>\n",
    "  <tr>\n",
    "    <td style=\"text-align:center;\">\\W</td>\n",
    "    <td style=\"text-align:left;\">Non-alphanumeric</td>\n",
    "    <td style=\"text-align:center;\">\\W\\W\\W\\W\\W</td>\n",
    "    <td style=\"text-align:center;\">*-+=)</td>\n",
    "  </tr>\n",
    "  <tr>\n",
    "    <td style=\"text-align:center;\">\\S</td>\n",
    "    <td style=\"text-align:left;\">Non-whitespace</td>\n",
    "    <td style=\"text-align:center;\">\\S\\S\\S\\S</td>\n",
    "    <td style=\"text-align:center;\">Yoyo</td>\n",
    "  </tr>\n",
    "</table>\n"
   ],
   "metadata": {
    "collapsed": false
   },
   "id": "e88d909acaf2c782"
  },
  {
   "cell_type": "code",
   "execution_count": 1,
   "outputs": [
    {
     "data": {
      "text/plain": "<re.Match object; span=(33, 45), match='408-555-1234'>"
     },
     "execution_count": 1,
     "metadata": {},
     "output_type": "execute_result"
    }
   ],
   "source": [
    "import re\n",
    "\n",
    "text = \"The phone number of the agent is 408-555-1234. Call soon!\"\n",
    "\n",
    "phone = re.search(\"408-555-1234\", text) # search for the pattern in the text\n",
    "\n",
    "phone"
   ],
   "metadata": {
    "collapsed": false,
    "ExecuteTime": {
     "end_time": "2024-01-04T21:41:14.083181356Z",
     "start_time": "2024-01-04T21:41:14.082380017Z"
    }
   },
   "id": "1f97ff7571893180"
  },
  {
   "cell_type": "code",
   "execution_count": 2,
   "outputs": [
    {
     "data": {
      "text/plain": "<re.Match object; span=(33, 45), match='408-555-1234'>"
     },
     "execution_count": 2,
     "metadata": {},
     "output_type": "execute_result"
    }
   ],
   "source": [
    "phone = re.search(r\"\\d\\d\\d-\\d\\d\\d-\\d\\d\\d\\d\", text) # search for the pattern in the text using regular expression, that intellicently search for the pattern, although the pattern is not exactly the same as the text.\n",
    "\n",
    "phone"
   ],
   "metadata": {
    "collapsed": false,
    "ExecuteTime": {
     "end_time": "2024-01-04T21:41:14.403885608Z",
     "start_time": "2024-01-04T21:41:14.384183140Z"
    }
   },
   "id": "1949431fe70d8c2b"
  },
  {
   "cell_type": "code",
   "execution_count": 3,
   "outputs": [
    {
     "data": {
      "text/plain": "'408-555-1234'"
     },
     "execution_count": 3,
     "metadata": {},
     "output_type": "execute_result"
    }
   ],
   "source": [
    "phone.group() # return the matched pattern"
   ],
   "metadata": {
    "collapsed": false,
    "ExecuteTime": {
     "end_time": "2024-01-04T21:41:14.686982823Z",
     "start_time": "2024-01-04T21:41:14.663245871Z"
    }
   },
   "id": "11eeb06ad7457f85"
  },
  {
   "cell_type": "markdown",
   "source": [
    "## Quantifiers\n",
    "\n",
    "Now, if we want to search for a pattern that has a variable length, we can use quantifiers. The following table lists the characters that can be used to define a pattern that matches a variable length string.\n",
    "\n",
    "<table>\n",
    "  <tr>\n",
    "    <th style=\"text-align:center;\">Character</th>\n",
    "    <th style=\"text-align:center;\">Description</th>\n",
    "    <th style=\"text-align:center;\">Example Pattern Code</th>\n",
    "    <th style=\"text-align:center;\">Example Match</th>\n",
    "  </tr>\n",
    "  <tr>\n",
    "    <td style=\"text-align:center;\">+</td>\n",
    "    <td style=\"text-align:left;\">Occurs one or more times</td>\n",
    "    <td style=\"text-align:center;\">Version \\w-\\w+</td>\n",
    "    <td style=\"text-align:center;\">Version A-b1_1</td>\n",
    "  </tr>\n",
    "  <tr>\n",
    "    <td style=\"text-align:center;\">{3}</td>\n",
    "    <td style=\"text-align:left;\">Occurs exactly 3 times</td>\n",
    "    <td style=\"text-align:center;\">\\D{3}</td>\n",
    "    <td style=\"text-align:center;\">ABC</td>\n",
    "  </tr>\n",
    "  <tr>\n",
    "    <td style=\"text-align:center;\">{2,4}</td>\n",
    "    <td style=\"text-align:left;\">Occurs 2 to 4 times</td>\n",
    "    <td style=\"text-align:center;\">\\d{2,4}</td>\n",
    "    <td style=\"text-align:center;\">123</td>\n",
    "  </tr>\n",
    "  <tr>\n",
    "    <td style=\"text-align:center;\">{3,}</td>\n",
    "    <td style=\"text-align:left;\">Occurs 3 or more</td>\n",
    "    <td style=\"text-align:center;\">\\w{3,}</td>\n",
    "    <td style=\"text-align:center;\">anycharacters</td>\n",
    "  </tr>\n",
    "  <tr>\n",
    "    <td style=\"text-align:center;\">\\*</td>\n",
    "    <td style=\"text-align:left;\">Occurs zero or more times</td>\n",
    "    <td style=\"text-align:center;\">A\\*B\\*C*</td>\n",
    "    <td style=\"text-align:center;\">AAACC</td>\n",
    "  </tr>\n",
    "  <tr>\n",
    "    <td style=\"text-align:center;\">?</td>\n",
    "    <td style=\"text-align:left;\">Once or none</td>\n",
    "    <td style=\"text-align:center;\">plurals?</td>\n",
    "    <td style=\"text-align:center;\">plural</td>\n",
    "  </tr>"
   ],
   "metadata": {
    "collapsed": false
   },
   "id": "e77c2cb080ab124a"
  },
  {
   "cell_type": "code",
   "execution_count": 4,
   "outputs": [
    {
     "data": {
      "text/plain": "<re.Match object; span=(33, 45), match='408-555-1234'>"
     },
     "execution_count": 4,
     "metadata": {},
     "output_type": "execute_result"
    }
   ],
   "source": [
    "phone = re.search(r\"\\d{3}-\\d{3}-\\d{4}\", text) # Using quantifiers to search for the pattern in the text using regular expression, we can reduce the code and make it more readable.\n",
    "\n",
    "phone"
   ],
   "metadata": {
    "collapsed": false,
    "ExecuteTime": {
     "end_time": "2024-01-04T21:41:15.161935442Z",
     "start_time": "2024-01-04T21:41:15.144292343Z"
    }
   },
   "id": "8256b63f10635f02"
  },
  {
   "cell_type": "markdown",
   "source": [
    "### ___re.compile()___\n",
    "\n",
    "We can also use the ___re.compile()___ function to create a pattern object, which can be used later to search for the pattern in the text."
   ],
   "metadata": {
    "collapsed": false
   },
   "id": "8aaafa8861f19154"
  },
  {
   "cell_type": "code",
   "execution_count": 5,
   "outputs": [
    {
     "data": {
      "text/plain": "<re.Match object; span=(33, 45), match='408-555-1234'>"
     },
     "execution_count": 5,
     "metadata": {},
     "output_type": "execute_result"
    }
   ],
   "source": [
    "phone_pattern = re.compile(r\"(\\d{3})-(\\d{3})-(\\d{4})\") # create a pattern object\n",
    "\n",
    "results = re.search(phone_pattern, text) # search for the pattern in the text using the pattern object\n",
    "\n",
    "results"
   ],
   "metadata": {
    "collapsed": false,
    "ExecuteTime": {
     "end_time": "2024-01-04T21:41:16.023443178Z",
     "start_time": "2024-01-04T21:41:16.011512854Z"
    }
   },
   "id": "e78ca727aaf8a674"
  },
  {
   "cell_type": "code",
   "execution_count": 6,
   "outputs": [
    {
     "data": {
      "text/plain": "'408-555-1234'"
     },
     "execution_count": 6,
     "metadata": {},
     "output_type": "execute_result"
    }
   ],
   "source": [
    "results.group() # return the matched pattern"
   ],
   "metadata": {
    "collapsed": false,
    "ExecuteTime": {
     "end_time": "2024-01-04T21:41:16.440096344Z",
     "start_time": "2024-01-04T21:41:16.432149591Z"
    }
   },
   "id": "d511ea7f13fc0d25"
  },
  {
   "cell_type": "code",
   "execution_count": 7,
   "outputs": [
    {
     "data": {
      "text/plain": "'408'"
     },
     "execution_count": 7,
     "metadata": {},
     "output_type": "execute_result"
    }
   ],
   "source": [
    "results.group(1) # return the first group of the matched pattern"
   ],
   "metadata": {
    "collapsed": false,
    "ExecuteTime": {
     "end_time": "2024-01-04T21:41:16.950297888Z",
     "start_time": "2024-01-04T21:41:16.937413521Z"
    }
   },
   "id": "3dae0ed4d516a0ce"
  },
  {
   "cell_type": "code",
   "execution_count": 8,
   "outputs": [
    {
     "data": {
      "text/plain": "'555'"
     },
     "execution_count": 8,
     "metadata": {},
     "output_type": "execute_result"
    }
   ],
   "source": [
    "results.group(2) # return the second group of the matched pattern"
   ],
   "metadata": {
    "collapsed": false,
    "ExecuteTime": {
     "end_time": "2024-01-04T21:41:17.509405954Z",
     "start_time": "2024-01-04T21:41:17.503196360Z"
    }
   },
   "id": "3841d7f6c78d83f"
  },
  {
   "cell_type": "code",
   "execution_count": 9,
   "outputs": [
    {
     "data": {
      "text/plain": "'1234'"
     },
     "execution_count": 9,
     "metadata": {},
     "output_type": "execute_result"
    }
   ],
   "source": [
    "results.group(3) # return the third group of the matched pattern"
   ],
   "metadata": {
    "collapsed": false,
    "ExecuteTime": {
     "end_time": "2024-01-04T21:41:18.172057859Z",
     "start_time": "2024-01-04T21:41:18.141945396Z"
    }
   },
   "id": "27e9ac25660fafb2"
  }
 ],
 "metadata": {
  "kernelspec": {
   "display_name": "Python 3",
   "language": "python",
   "name": "python3"
  },
  "language_info": {
   "codemirror_mode": {
    "name": "ipython",
    "version": 2
   },
   "file_extension": ".py",
   "mimetype": "text/x-python",
   "name": "python",
   "nbconvert_exporter": "python",
   "pygments_lexer": "ipython2",
   "version": "2.7.6"
  }
 },
 "nbformat": 4,
 "nbformat_minor": 5
}
