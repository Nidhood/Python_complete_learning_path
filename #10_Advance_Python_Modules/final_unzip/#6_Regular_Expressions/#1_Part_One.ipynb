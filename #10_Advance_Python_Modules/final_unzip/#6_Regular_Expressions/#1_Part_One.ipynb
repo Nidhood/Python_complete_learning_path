{
 "cells": [
  {
   "cell_type": "markdown",
   "source": [
    "# What is a regular expression?\n",
    "\n",
    "A regular expression is a sequence of characters that define a search pattern. Usually this pattern is then used by string searching algorithms for \"find\" or \"find and replace\" operations on strings. Another name is regex or regexp, that is sometimes used in source code editors and programming languages.\n",
    "\n",
    "An example can be the necessity to find all the email addresses in a text document. A regular expression can be used to define a pattern for searching, that can be used by the search algorithm to find matches, like email addresses, telephone numbers or URLs in a document."
   ],
   "metadata": {
    "collapsed": false
   },
   "id": "f6d994d6a09ae314"
  },
  {
   "cell_type": "markdown",
   "source": [
    "____________\n",
    "\n",
    "### ___Regex patterns___\n",
    "\n",
    "A regular expression is a pattern that is matched against a subject string from left to right. Most characters stand for themselves in a pattern, and match the corresponding characters in the subject. As a simple example, the pattern `the` will match any string containing the substring `the` such as `the`, `them`, or `therefore`."
   ],
   "metadata": {
    "collapsed": false
   },
   "id": "7a7b8c54b0a1c190"
  },
  {
   "cell_type": "code",
   "execution_count": 1,
   "outputs": [
    {
     "data": {
      "text/plain": "True"
     },
     "execution_count": 1,
     "metadata": {},
     "output_type": "execute_result"
    }
   ],
   "source": [
    "text = \"The agent's phone number is 408-555-1234. Call soon!\"\n",
    "\n",
    "'phone' in text"
   ],
   "metadata": {
    "collapsed": false,
    "ExecuteTime": {
     "end_time": "2024-01-04T21:24:38.385744764Z",
     "start_time": "2024-01-04T21:24:38.382678227Z"
    }
   },
   "id": "3c446f3a4bf40274"
  },
  {
   "cell_type": "markdown",
   "source": [
    "__________________\n",
    "\n",
    "### ___re.search()___\n",
    "\n",
    "The `re` library in Python provides several functions that make it a skill worth mastering. The most commonly used function is `re.search()`. This function will search the entire string and return the first match. If no match is found, it returns `None`. To use `re.search()` we need to import the library."
   ],
   "metadata": {
    "collapsed": false
   },
   "id": "5c846a54fcb330aa"
  },
  {
   "cell_type": "code",
   "execution_count": 2,
   "outputs": [
    {
     "data": {
      "text/plain": "<re.Match object; span=(12, 17), match='phone'>"
     },
     "execution_count": 2,
     "metadata": {},
     "output_type": "execute_result"
    }
   ],
   "source": [
    "import re\n",
    "\n",
    "pattern = 'phone'\n",
    "\n",
    "re.search(pattern, text)"
   ],
   "metadata": {
    "collapsed": false,
    "ExecuteTime": {
     "end_time": "2024-01-04T21:24:38.703611901Z",
     "start_time": "2024-01-04T21:24:38.661003051Z"
    }
   },
   "id": "d268370f312b9966"
  },
  {
   "cell_type": "code",
   "execution_count": 3,
   "outputs": [
    {
     "data": {
      "text/plain": "'phone'"
     },
     "execution_count": 3,
     "metadata": {},
     "output_type": "execute_result"
    }
   ],
   "source": [
    "text[12:17] # the slice of the text where the pattern was found"
   ],
   "metadata": {
    "collapsed": false,
    "ExecuteTime": {
     "end_time": "2024-01-04T21:24:38.918217712Z",
     "start_time": "2024-01-04T21:24:38.900033958Z"
    }
   },
   "id": "b26a1f0d1eb46363"
  },
  {
   "cell_type": "code",
   "execution_count": 4,
   "outputs": [],
   "source": [
    "pattern = 'NOT IN TEXT'\n",
    "\n",
    "re.search(pattern, text) # returns nothing if the pattern is not found"
   ],
   "metadata": {
    "collapsed": false,
    "ExecuteTime": {
     "end_time": "2024-01-04T21:24:39.163510566Z",
     "start_time": "2024-01-04T21:24:39.149395654Z"
    }
   },
   "id": "41d16644f9ec6363"
  },
  {
   "cell_type": "code",
   "execution_count": 5,
   "outputs": [
    {
     "data": {
      "text/plain": "<re.Match object; span=(12, 17), match='phone'>"
     },
     "execution_count": 5,
     "metadata": {},
     "output_type": "execute_result"
    }
   ],
   "source": [
    "pattern = 'phone'\n",
    "\n",
    "match = re.search(pattern, text)\n",
    "\n",
    "match"
   ],
   "metadata": {
    "collapsed": false,
    "ExecuteTime": {
     "end_time": "2024-01-04T21:24:39.290671080Z",
     "start_time": "2024-01-04T21:24:39.246736465Z"
    }
   },
   "id": "e7ab18c19182e4a4"
  },
  {
   "cell_type": "markdown",
   "source": [
    "__________________\n",
    "\n",
    "### ___match.span()___\n",
    "\n",
    "The `span()` method of match object returns the start and end indices of the match as a tuple."
   ],
   "metadata": {
    "collapsed": false
   },
   "id": "70cf5974dbe09742"
  },
  {
   "cell_type": "code",
   "execution_count": 6,
   "outputs": [
    {
     "data": {
      "text/plain": "(12, 17)"
     },
     "execution_count": 6,
     "metadata": {},
     "output_type": "execute_result"
    }
   ],
   "source": [
    "match.span()"
   ],
   "metadata": {
    "collapsed": false,
    "ExecuteTime": {
     "end_time": "2024-01-04T21:24:39.585820433Z",
     "start_time": "2024-01-04T21:24:39.579970291Z"
    }
   },
   "id": "fcbb3cbf40ed8d7"
  },
  {
   "cell_type": "markdown",
   "source": [
    "__________________\n",
    "\n",
    "### ___match.start()___\n",
    "\n",
    "The `start()` method returns the index of the start of the matched substring. Equivalent to `match.span()[0]`."
   ],
   "metadata": {
    "collapsed": false
   },
   "id": "7fe315244f7cab9"
  },
  {
   "cell_type": "code",
   "execution_count": 7,
   "outputs": [
    {
     "data": {
      "text/plain": "12"
     },
     "execution_count": 7,
     "metadata": {},
     "output_type": "execute_result"
    }
   ],
   "source": [
    "match.start()"
   ],
   "metadata": {
    "collapsed": false,
    "ExecuteTime": {
     "end_time": "2024-01-04T21:24:40.010771949Z",
     "start_time": "2024-01-04T21:24:39.987028395Z"
    }
   },
   "id": "642ce87e8d584755"
  },
  {
   "cell_type": "markdown",
   "source": [
    "__________________\n",
    "\n",
    "### ___match.end()___\n",
    "\n",
    "The `end()` method returns the index of the end of the matched substring. Equivalent to `match.span()[1]`."
   ],
   "metadata": {
    "collapsed": false
   },
   "id": "71dc3c6b0a5f78b"
  },
  {
   "cell_type": "code",
   "execution_count": 8,
   "outputs": [
    {
     "data": {
      "text/plain": "17"
     },
     "execution_count": 8,
     "metadata": {},
     "output_type": "execute_result"
    }
   ],
   "source": [
    "match.end()"
   ],
   "metadata": {
    "collapsed": false,
    "ExecuteTime": {
     "end_time": "2024-01-04T21:24:40.350197882Z",
     "start_time": "2024-01-04T21:24:40.343157867Z"
    }
   },
   "id": "13f84336438914f7"
  },
  {
   "cell_type": "code",
   "execution_count": 9,
   "outputs": [
    {
     "data": {
      "text/plain": "<re.Match object; span=(3, 8), match='phone'>"
     },
     "execution_count": 9,
     "metadata": {},
     "output_type": "execute_result"
    }
   ],
   "source": [
    "text = 'my phone once, my phone twice'\n",
    "\n",
    "match = re.search(pattern, text)\n",
    "\n",
    "match # only the first instance is returned"
   ],
   "metadata": {
    "collapsed": false,
    "ExecuteTime": {
     "end_time": "2024-01-04T21:24:40.616171130Z",
     "start_time": "2024-01-04T21:24:40.596092454Z"
    }
   },
   "id": "4846217ade05bdff"
  },
  {
   "cell_type": "markdown",
   "source": [
    "__________________\n",
    "\n",
    "### ___re.findall()___\n",
    "\n",
    "The `re.findall()` method returns a list of all matches."
   ],
   "metadata": {
    "collapsed": false
   },
   "id": "cce615bbe1764f6f"
  },
  {
   "cell_type": "code",
   "execution_count": 10,
   "outputs": [
    {
     "data": {
      "text/plain": "['phone', 'phone']"
     },
     "execution_count": 10,
     "metadata": {},
     "output_type": "execute_result"
    }
   ],
   "source": [
    "matches = re.findall(pattern, text)\n",
    "\n",
    "matches # returns all instances"
   ],
   "metadata": {
    "collapsed": false,
    "ExecuteTime": {
     "end_time": "2024-01-04T21:24:40.964340990Z",
     "start_time": "2024-01-04T21:24:40.938511300Z"
    }
   },
   "id": "44ae904fcbb216ce"
  },
  {
   "cell_type": "markdown",
   "source": [
    "__________________\n",
    "\n",
    "### ___re.finditer()___\n",
    "\n",
    "The `re.finditer()` method returns an iterator of match objects."
   ],
   "metadata": {
    "collapsed": false
   },
   "id": "9572bd238bc039e0"
  },
  {
   "cell_type": "code",
   "execution_count": 11,
   "outputs": [
    {
     "name": "stdout",
     "output_type": "stream",
     "text": [
      "(3, 8)\n",
      "(18, 23)\n"
     ]
    }
   ],
   "source": [
    "for match in re.finditer(pattern, text):\n",
    "    print(match.span())"
   ],
   "metadata": {
    "collapsed": false,
    "ExecuteTime": {
     "end_time": "2024-01-04T21:24:41.340313976Z",
     "start_time": "2024-01-04T21:24:41.319456180Z"
    }
   },
   "id": "716e740359836afb"
  },
  {
   "cell_type": "markdown",
   "source": [
    "__________________\n",
    "\n",
    "### ___match.group()___\n",
    "\n",
    "The `group()` method returns the string matched by the re. Equivalent to `match[0]`."
   ],
   "metadata": {
    "collapsed": false
   },
   "id": "b9d7747cabdd04b5"
  },
  {
   "cell_type": "code",
   "execution_count": 12,
   "outputs": [
    {
     "name": "stdout",
     "output_type": "stream",
     "text": [
      "phone\n",
      "phone\n"
     ]
    }
   ],
   "source": [
    "for match in re.finditer(pattern, text):\n",
    "    print(match.group())"
   ],
   "metadata": {
    "collapsed": false,
    "ExecuteTime": {
     "end_time": "2024-01-04T21:24:42.051626599Z",
     "start_time": "2024-01-04T21:24:42.040850484Z"
    }
   },
   "id": "8a85cca85ab7b35f"
  }
 ],
 "metadata": {
  "kernelspec": {
   "display_name": "Python 3",
   "language": "python",
   "name": "python3"
  },
  "language_info": {
   "codemirror_mode": {
    "name": "ipython",
    "version": 2
   },
   "file_extension": ".py",
   "mimetype": "text/x-python",
   "name": "python",
   "nbconvert_exporter": "python",
   "pygments_lexer": "ipython2",
   "version": "2.7.6"
  }
 },
 "nbformat": 4,
 "nbformat_minor": 5
}
