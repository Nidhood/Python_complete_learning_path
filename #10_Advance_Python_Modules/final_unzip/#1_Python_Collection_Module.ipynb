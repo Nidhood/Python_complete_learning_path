{
 "cells": [
  {
   "cell_type": "markdown",
   "source": [
    "### Python Collection Module\n",
    "\n",
    "Python collection module provides specialized container datatypes, counter, deque, namedtuple, ordereddict, defaultdic and userdict. These are alternatives to Python’s general purpose built-in containers, dict, list, set, and tuple."
   ],
   "metadata": {
    "collapsed": false
   },
   "id": "3c3dfe4b3e39dd21"
  },
  {
   "cell_type": "code",
   "execution_count": 1,
   "outputs": [
    {
     "data": {
      "text/plain": "Counter({1: 10, 2: 5, 3: 3})"
     },
     "execution_count": 1,
     "metadata": {},
     "output_type": "execute_result"
    }
   ],
   "source": [
    "from collections import Counter\n",
    "\n",
    "my_list = [1,1,1,1,1,1,1,1,1,1,2,2,2,2,2,3,3,3]\n",
    "\n",
    "Counter(my_list)"
   ],
   "metadata": {
    "collapsed": false,
    "ExecuteTime": {
     "end_time": "2024-01-04T19:59:41.435908908Z",
     "start_time": "2024-01-04T19:59:41.434526048Z"
    }
   },
   "id": "791836ac920ff6ec"
  },
  {
   "cell_type": "markdown",
   "source": [
    "What actually Counter does is, it counts the number of occurrences of an element in a list and returns a dictionary with key-value pairs, where key is the element and value is the number of occurrences of that element in the list."
   ],
   "metadata": {
    "collapsed": false
   },
   "id": "94ad5919e16063e6"
  },
  {
   "cell_type": "code",
   "execution_count": 2,
   "outputs": [
    {
     "data": {
      "text/plain": "Counter({'a': 3, 'b': 4, 'c': 5})"
     },
     "execution_count": 2,
     "metadata": {},
     "output_type": "execute_result"
    }
   ],
   "source": [
    "my_list = ['a','a','a','b','b','b','b','c','c','c','c','c']\n",
    "\n",
    "Counter(my_list)"
   ],
   "metadata": {
    "collapsed": false,
    "ExecuteTime": {
     "end_time": "2024-01-04T19:59:42.129358742Z",
     "start_time": "2024-01-04T19:59:42.102461987Z"
    }
   },
   "id": "edbade31807a6541"
  },
  {
   "cell_type": "markdown",
   "source": [
    "With Counter, we can also count the number of occurrences of each character in a string."
   ],
   "metadata": {
    "collapsed": false
   },
   "id": "b3fe29e08497e295"
  },
  {
   "cell_type": "code",
   "execution_count": 3,
   "outputs": [
    {
     "data": {
      "text/plain": "Counter({'a': 5, 'b': 5, 'c': 5})"
     },
     "execution_count": 3,
     "metadata": {},
     "output_type": "execute_result"
    }
   ],
   "source": [
    "Counter('aaaaabbbbbccccc')"
   ],
   "metadata": {
    "collapsed": false,
    "ExecuteTime": {
     "end_time": "2024-01-04T19:59:42.874577011Z",
     "start_time": "2024-01-04T19:59:42.851037163Z"
    }
   },
   "id": "d667e3a4c11a829a"
  },
  {
   "cell_type": "markdown",
   "source": [
    "Also, we can count the number of occurrences of each word in a sentence."
   ],
   "metadata": {
    "collapsed": false
   },
   "id": "4d8ea31f045c00c6"
  },
  {
   "cell_type": "code",
   "execution_count": 4,
   "outputs": [
    {
     "data": {
      "text/plain": "Counter({'how': 1,\n         'many': 1,\n         'times': 2,\n         'does': 1,\n         'each': 3,\n         'word': 3,\n         'show': 1,\n         'up': 1,\n         'in': 1,\n         'this': 1,\n         'sentence': 1})"
     },
     "execution_count": 4,
     "metadata": {},
     "output_type": "execute_result"
    }
   ],
   "source": [
    "my_string = 'How many times does each word show up in this sentence word times each each word'\n",
    "\n",
    "words = my_string.lower().split()\n",
    "\n",
    "Counter(words)"
   ],
   "metadata": {
    "collapsed": false,
    "ExecuteTime": {
     "end_time": "2024-01-04T19:59:43.621859986Z",
     "start_time": "2024-01-04T19:59:43.616473067Z"
    }
   },
   "id": "84ab2876c8079460"
  },
  {
   "cell_type": "code",
   "execution_count": 5,
   "outputs": [],
   "source": [
    "letters = 'aaaaabbbbbccccc'\n",
    "\n",
    "c = Counter(letters)"
   ],
   "metadata": {
    "collapsed": false,
    "ExecuteTime": {
     "end_time": "2024-01-04T19:59:44.051710982Z",
     "start_time": "2024-01-04T19:59:44.040107069Z"
    }
   },
   "id": "d4e13d4e4300a543"
  },
  {
   "cell_type": "markdown",
   "source": [
    "________________\n",
    "### ___most_common()___\n",
    "\n",
    "This method returns a list of the n most common elements and their counts from the most common to the least. If n is not specified, most_common() returns all elements in the counter."
   ],
   "metadata": {
    "collapsed": false
   },
   "id": "e1a7535dba34a221"
  },
  {
   "cell_type": "code",
   "execution_count": 6,
   "outputs": [
    {
     "data": {
      "text/plain": "[('a', 5), ('b', 5), ('c', 5)]"
     },
     "execution_count": 6,
     "metadata": {},
     "output_type": "execute_result"
    }
   ],
   "source": [
    "c.most_common()"
   ],
   "metadata": {
    "collapsed": false,
    "ExecuteTime": {
     "end_time": "2024-01-04T19:59:44.879793552Z",
     "start_time": "2024-01-04T19:59:44.872286108Z"
    }
   },
   "id": "c47fca212fbbc993"
  },
  {
   "cell_type": "markdown",
   "source": [
    "_______________\n",
    "\n",
    "### ___sum()___\n",
    "\n",
    "This method returns the sum of all counts."
   ],
   "metadata": {
    "collapsed": false
   },
   "id": "4b176b385d6d29c2"
  },
  {
   "cell_type": "code",
   "execution_count": 7,
   "outputs": [
    {
     "data": {
      "text/plain": "15"
     },
     "execution_count": 7,
     "metadata": {},
     "output_type": "execute_result"
    }
   ],
   "source": [
    "sum(c.values())"
   ],
   "metadata": {
    "collapsed": false,
    "ExecuteTime": {
     "end_time": "2024-01-04T19:59:45.750451694Z",
     "start_time": "2024-01-04T19:59:45.739529715Z"
    }
   },
   "id": "14287adf27be23b7"
  },
  {
   "cell_type": "markdown",
   "source": [
    "_______________\n",
    "### ___clear()___\n",
    "\n",
    "This method is used to reset the counter to an empty state.\n"
   ],
   "metadata": {
    "collapsed": false
   },
   "id": "b77611ec0aca3100"
  },
  {
   "cell_type": "code",
   "execution_count": 8,
   "outputs": [
    {
     "data": {
      "text/plain": "Counter()"
     },
     "execution_count": 8,
     "metadata": {},
     "output_type": "execute_result"
    }
   ],
   "source": [
    "c.clear()\n",
    "c"
   ],
   "metadata": {
    "collapsed": false,
    "ExecuteTime": {
     "end_time": "2024-01-04T19:59:46.549001602Z",
     "start_time": "2024-01-04T19:59:46.541258483Z"
    }
   },
   "id": "b694e121d950ff8"
  },
  {
   "cell_type": "markdown",
   "source": [
    "___________\n",
    "\n",
    "### ___items()___\n",
    "\n",
    "This method returns an iterator that produces all of the items known to the Counter."
   ],
   "metadata": {
    "collapsed": false
   },
   "id": "a7137514f69af265"
  },
  {
   "cell_type": "code",
   "execution_count": 9,
   "outputs": [
    {
     "data": {
      "text/plain": "dict_items([('a', 5), ('b', 5), ('c', 5)])"
     },
     "execution_count": 9,
     "metadata": {},
     "output_type": "execute_result"
    }
   ],
   "source": [
    "letters = 'aaaaabbbbbccccc'\n",
    "\n",
    "c = Counter(letters)\n",
    "\n",
    "c.items()"
   ],
   "metadata": {
    "collapsed": false,
    "ExecuteTime": {
     "end_time": "2024-01-04T19:59:47.333085809Z",
     "start_time": "2024-01-04T19:59:47.318204187Z"
    }
   },
   "id": "bacc694e0bf8960c"
  },
  {
   "cell_type": "markdown",
   "source": [
    "____________\n",
    "\n",
    "### ___keys()___\n",
    "\n",
    "This method returns an iterator that produces all of the keys known to the Counter."
   ],
   "metadata": {
    "collapsed": false
   },
   "id": "f81144d342cc9a91"
  },
  {
   "cell_type": "code",
   "execution_count": 10,
   "outputs": [
    {
     "data": {
      "text/plain": "dict_keys(['a', 'b', 'c'])"
     },
     "execution_count": 10,
     "metadata": {},
     "output_type": "execute_result"
    }
   ],
   "source": [
    "c.keys()"
   ],
   "metadata": {
    "collapsed": false,
    "ExecuteTime": {
     "end_time": "2024-01-04T19:59:48.162607506Z",
     "start_time": "2024-01-04T19:59:48.154976376Z"
    }
   },
   "id": "de31e4282827fdeb"
  },
  {
   "cell_type": "markdown",
   "source": [
    "___________\n",
    "\n",
    "### ___values()___\n",
    "\n",
    "This method returns an iterator that produces all of the values known to the Counter."
   ],
   "metadata": {
    "collapsed": false
   },
   "id": "12939a866650975"
  },
  {
   "cell_type": "code",
   "execution_count": 11,
   "outputs": [
    {
     "data": {
      "text/plain": "dict_values([5, 5, 5])"
     },
     "execution_count": 11,
     "metadata": {},
     "output_type": "execute_result"
    }
   ],
   "source": [
    "c.values()"
   ],
   "metadata": {
    "collapsed": false,
    "ExecuteTime": {
     "end_time": "2024-01-04T19:59:49.027621206Z",
     "start_time": "2024-01-04T19:59:49.022630904Z"
    }
   },
   "id": "df1c9ea0a67b975f"
  },
  {
   "cell_type": "markdown",
   "source": [
    "__________________\n",
    "\n",
    "### ___c += Counter()___\n",
    "\n",
    "This method is used to add values from another Counter or from any iterable producing key-value pairs."
   ],
   "metadata": {
    "collapsed": false
   },
   "id": "59617850b336e365"
  },
  {
   "cell_type": "code",
   "execution_count": 12,
   "outputs": [
    {
     "data": {
      "text/plain": "Counter({'a': 5, 'b': 5, 'c': 5})"
     },
     "execution_count": 12,
     "metadata": {},
     "output_type": "execute_result"
    }
   ],
   "source": [
    "c += Counter()\n",
    "c"
   ],
   "metadata": {
    "collapsed": false,
    "ExecuteTime": {
     "end_time": "2024-01-04T19:59:50.267496213Z",
     "start_time": "2024-01-04T19:59:50.237400432Z"
    }
   },
   "id": "a073ab89e18a6a7"
  },
  {
   "cell_type": "markdown",
   "source": [
    "__________________\n",
    "\n",
    "### ___c -= Counter()___\n",
    "\n",
    "This method is used to subtract values from another Counter or from any iterable producing key-value pairs."
   ],
   "metadata": {
    "collapsed": false
   },
   "id": "ef2bd9e130a2332f"
  },
  {
   "cell_type": "code",
   "execution_count": 13,
   "outputs": [
    {
     "data": {
      "text/plain": "Counter({'a': 5, 'b': 5, 'c': 5})"
     },
     "execution_count": 13,
     "metadata": {},
     "output_type": "execute_result"
    }
   ],
   "source": [
    "c -= Counter()\n",
    "c"
   ],
   "metadata": {
    "collapsed": false,
    "ExecuteTime": {
     "end_time": "2024-01-04T19:59:51.337626153Z",
     "start_time": "2024-01-04T19:59:51.322595937Z"
    }
   },
   "id": "2858e82f55a35c37"
  },
  {
   "cell_type": "markdown",
   "source": [
    "__________________\n",
    "### ___defaultdict()___\n",
    "\n",
    "The Python defaultdict type behaves almost exactly like a regular Python dictionary, but if you try to access or modify a missing key, then defaultdict will automatically create the key and generate a default value for it."
   ],
   "metadata": {
    "collapsed": false
   },
   "id": "1d2a783d095d73ee"
  },
  {
   "cell_type": "code",
   "execution_count": 14,
   "outputs": [
    {
     "data": {
      "text/plain": "10"
     },
     "execution_count": 14,
     "metadata": {},
     "output_type": "execute_result"
    }
   ],
   "source": [
    "from collections import defaultdict\n",
    "\n",
    "d = {'a':10} # regular dictionary\n",
    "\n",
    "d['a']"
   ],
   "metadata": {
    "collapsed": false,
    "ExecuteTime": {
     "end_time": "2024-01-04T19:59:52.281553532Z",
     "start_time": "2024-01-04T19:59:52.265645255Z"
    }
   },
   "id": "e2cd231a896fd8b9"
  },
  {
   "cell_type": "code",
   "execution_count": 15,
   "outputs": [
    {
     "ename": "KeyError",
     "evalue": "'wrong'",
     "output_type": "error",
     "traceback": [
      "\u001B[0;31m---------------------------------------------------------------------------\u001B[0m",
      "\u001B[0;31mKeyError\u001B[0m                                  Traceback (most recent call last)",
      "Cell \u001B[0;32mIn[15], line 1\u001B[0m\n\u001B[0;32m----> 1\u001B[0m \u001B[43md\u001B[49m\u001B[43m[\u001B[49m\u001B[38;5;124;43m'\u001B[39;49m\u001B[38;5;124;43mwrong\u001B[39;49m\u001B[38;5;124;43m'\u001B[39;49m\u001B[43m]\u001B[49m\n",
      "\u001B[0;31mKeyError\u001B[0m: 'wrong'"
     ]
    }
   ],
   "source": [
    "d['wrong']"
   ],
   "metadata": {
    "collapsed": false,
    "ExecuteTime": {
     "end_time": "2024-01-04T19:59:52.930298274Z",
     "start_time": "2024-01-04T19:59:52.698829535Z"
    }
   },
   "id": "89dd8f2c6bb03fb3"
  },
  {
   "cell_type": "code",
   "execution_count": 16,
   "outputs": [
    {
     "data": {
      "text/plain": "100"
     },
     "execution_count": 16,
     "metadata": {},
     "output_type": "execute_result"
    }
   ],
   "source": [
    "d = defaultdict(lambda: 0) # defaultdict\n",
    "\n",
    "d['correct'] = 100\n",
    "\n",
    "d['correct']"
   ],
   "metadata": {
    "collapsed": false,
    "ExecuteTime": {
     "end_time": "2024-01-04T19:59:53.096168013Z",
     "start_time": "2024-01-04T19:59:53.091252063Z"
    }
   },
   "id": "7bf1ea887dbec5e8"
  },
  {
   "cell_type": "code",
   "execution_count": 17,
   "outputs": [
    {
     "data": {
      "text/plain": "0"
     },
     "execution_count": 17,
     "metadata": {},
     "output_type": "execute_result"
    }
   ],
   "source": [
    "d['Wrong key!']"
   ],
   "metadata": {
    "collapsed": false,
    "ExecuteTime": {
     "end_time": "2024-01-04T19:59:53.590462255Z",
     "start_time": "2024-01-04T19:59:53.569826685Z"
    }
   },
   "id": "dc21e5ebc7272e07"
  },
  {
   "cell_type": "markdown",
   "source": [
    "Here, we have created a defaultdict with a default value of 0. So, if we try to access a key that does not exist in the dictionary, then defaultdict will create the key and assign a default value of 0 to it."
   ],
   "metadata": {
    "collapsed": false
   },
   "id": "71bcaf2b7168b0fb"
  },
  {
   "cell_type": "markdown",
   "source": [
    "__________________\n",
    "\n",
    "### ___Named Tuple___\n",
    "\n",
    "Python supports a type of container like dictionaries called “namedtuple()” present in module, “collections“. Like dictionaries they contain keys that are hashed to a particular value. But on contrary, it supports both access from key value and iteration, the functionality that dictionaries lack."
   ],
   "metadata": {
    "collapsed": false
   },
   "id": "b33f0f3860f21521"
  },
  {
   "cell_type": "code",
   "execution_count": 18,
   "outputs": [
    {
     "data": {
      "text/plain": "Dog(age=2, breed='Lab', name='Sammy')"
     },
     "execution_count": 18,
     "metadata": {},
     "output_type": "execute_result"
    }
   ],
   "source": [
    "from collections import namedtuple\n",
    "\n",
    "Dog = namedtuple('Dog',['age','breed','name'])\n",
    "\n",
    "sam = Dog(age=2,breed='Lab',name='Sammy')\n",
    "\n",
    "sam"
   ],
   "metadata": {
    "collapsed": false,
    "ExecuteTime": {
     "end_time": "2024-01-04T19:59:54.949458899Z",
     "start_time": "2024-01-04T19:59:54.919802774Z"
    }
   },
   "id": "65f4778bafff0320"
  },
  {
   "cell_type": "code",
   "execution_count": 19,
   "outputs": [
    {
     "data": {
      "text/plain": "2"
     },
     "execution_count": 19,
     "metadata": {},
     "output_type": "execute_result"
    }
   ],
   "source": [
    "sam.age"
   ],
   "metadata": {
    "collapsed": false,
    "ExecuteTime": {
     "end_time": "2024-01-04T19:59:55.314730222Z",
     "start_time": "2024-01-04T19:59:55.308815616Z"
    }
   },
   "id": "d0b7c57606ec935"
  },
  {
   "cell_type": "code",
   "execution_count": 20,
   "outputs": [
    {
     "data": {
      "text/plain": "'Lab'"
     },
     "execution_count": 20,
     "metadata": {},
     "output_type": "execute_result"
    }
   ],
   "source": [
    "sam.breed"
   ],
   "metadata": {
    "collapsed": false,
    "ExecuteTime": {
     "end_time": "2024-01-04T19:59:55.788577349Z",
     "start_time": "2024-01-04T19:59:55.756661677Z"
    }
   },
   "id": "3f9876b7b1a2cb03"
  },
  {
   "cell_type": "code",
   "execution_count": 21,
   "outputs": [
    {
     "data": {
      "text/plain": "2"
     },
     "execution_count": 21,
     "metadata": {},
     "output_type": "execute_result"
    }
   ],
   "source": [
    "sam[0]"
   ],
   "metadata": {
    "collapsed": false,
    "ExecuteTime": {
     "end_time": "2024-01-04T19:59:56.313705130Z",
     "start_time": "2024-01-04T19:59:56.289513252Z"
    }
   },
   "id": "4c2af38d90b63e70"
  }
 ],
 "metadata": {
  "kernelspec": {
   "display_name": "Python 3",
   "language": "python",
   "name": "python3"
  },
  "language_info": {
   "codemirror_mode": {
    "name": "ipython",
    "version": 2
   },
   "file_extension": ".py",
   "mimetype": "text/x-python",
   "name": "python",
   "nbconvert_exporter": "python",
   "pygments_lexer": "ipython2",
   "version": "2.7.6"
  }
 },
 "nbformat": 4,
 "nbformat_minor": 5
}
