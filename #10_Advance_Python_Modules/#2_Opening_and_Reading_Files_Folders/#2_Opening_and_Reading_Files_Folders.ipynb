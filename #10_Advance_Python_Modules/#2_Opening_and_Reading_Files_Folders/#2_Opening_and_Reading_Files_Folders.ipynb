{
 "cells": [
  {
   "cell_type": "markdown",
   "source": [
    "### Opening and reading files and folders\n",
    "\n",
    "We need to open the files and folders that we want to read. We can do this using the `open()` function. This function takes two arguments: the path to the file and the mode in which we want to open the file. The mode can be `r` for reading, `w` for writing, `a` for appending, and `r+` for reading and writing. We will only use the `r` mode in this tutorial."
   ],
   "metadata": {
    "collapsed": false
   },
   "id": "83bba3ece2bbab08"
  },
  {
   "cell_type": "markdown",
   "source": [
    "__________  \n",
    "### ___pwd___\n",
    "\n",
    "The `pwd` command shows the current working directory. This is the directory that we are currently in. We can use the `os` module to get the current working directory. We can use the `os.getcwd()` function to get the current working directory."
   ],
   "metadata": {
    "collapsed": false
   },
   "id": "66ba0f0e148d4c3f"
  },
  {
   "cell_type": "code",
   "execution_count": 1,
   "outputs": [
    {
     "data": {
      "text/plain": "'/home/nidhood/Desktop/Python/Python_complete_learning_path/#10_Advance_Python Modules/#2_Opening_and_Reading_Files_Folders'"
     },
     "execution_count": 1,
     "metadata": {},
     "output_type": "execute_result"
    }
   ],
   "source": [
    "pwd"
   ],
   "metadata": {
    "collapsed": false,
    "ExecuteTime": {
     "end_time": "2024-01-04T20:34:55.959810280Z",
     "start_time": "2024-01-04T20:34:55.958491468Z"
    }
   },
   "id": "e902c24c37bb3b4d"
  },
  {
   "cell_type": "code",
   "execution_count": 2,
   "outputs": [],
   "source": [
    "f = open('practice.txt', 'w+')\n",
    "f.write('This is a test string')\n",
    "f.close()"
   ],
   "metadata": {
    "collapsed": false,
    "ExecuteTime": {
     "end_time": "2024-01-04T20:34:57.088230296Z",
     "start_time": "2024-01-04T20:34:57.073895791Z"
    }
   },
   "id": "761552c9755afc61"
  },
  {
   "cell_type": "markdown",
   "source": [
    "____________    \n",
    "### ___os module___\n",
    "\n",
    "The os module provides a portable way of using operating system dependent functionality. We can use the `os` module to list the files and folders in the current working directory. We can use the `os.listdir()` function to list the files and folders in the current working directory."
   ],
   "metadata": {
    "collapsed": false
   },
   "id": "795886c187964b13"
  },
  {
   "cell_type": "code",
   "execution_count": 3,
   "outputs": [],
   "source": [
    "import os"
   ],
   "metadata": {
    "collapsed": false,
    "ExecuteTime": {
     "end_time": "2024-01-04T20:35:00.769739165Z",
     "start_time": "2024-01-04T20:35:00.744557326Z"
    }
   },
   "id": "3884e1ae333fe65"
  },
  {
   "cell_type": "markdown",
   "source": [
    "________\n",
    "\n",
    "### ___getcwd()___\n",
    "\n",
    "The `getcwd()` function returns the current working directory. We can use the `os` module to get the current working directory. We can use the `os.getcwd()` function to get the current working directory."
   ],
   "metadata": {
    "collapsed": false
   },
   "id": "ccd7ed26bacc0808"
  },
  {
   "cell_type": "code",
   "execution_count": 4,
   "outputs": [
    {
     "data": {
      "text/plain": "'/home/nidhood/Desktop/Python/Python_complete_learning_path/#10_Advance_Python Modules/#2_Opening_and_Reading_Files_Folders'"
     },
     "execution_count": 4,
     "metadata": {},
     "output_type": "execute_result"
    }
   ],
   "source": [
    "os.getcwd()"
   ],
   "metadata": {
    "collapsed": false,
    "ExecuteTime": {
     "end_time": "2024-01-04T20:35:11.895726770Z",
     "start_time": "2024-01-04T20:35:11.871407421Z"
    }
   },
   "id": "6df3f8791f2a3898"
  },
  {
   "cell_type": "markdown",
   "source": [
    "__________  \n",
    "### ___listdir()___\n",
    "\n",
    "The `listdir()` function returns a list of the files and folders in the current working directory. We can use the `os` module to list the files and folders in the current working directory. We can use the `os.listdir()` function to list the files and folders in the current working directory."
   ],
   "metadata": {
    "collapsed": false
   },
   "id": "9a8a6fd25d88d90c"
  },
  {
   "cell_type": "code",
   "execution_count": 5,
   "outputs": [
    {
     "data": {
      "text/plain": "['#2_Opening_and_Reading_Files_Folders.ipynb',\n 'Example_Top_Level',\n 'practice.txt']"
     },
     "execution_count": 5,
     "metadata": {},
     "output_type": "execute_result"
    }
   ],
   "source": [
    "os.listdir()"
   ],
   "metadata": {
    "collapsed": false,
    "ExecuteTime": {
     "end_time": "2024-01-04T20:35:17.764213381Z",
     "start_time": "2024-01-04T20:35:17.732597542Z"
    }
   },
   "id": "1a2dca537944c7b1"
  },
  {
   "cell_type": "markdown",
   "source": [
    "Also we can use the `os` module to list the files and folders in a different directory. We can use the `os.listdir()` function to list the files and folders in a different directory."
   ],
   "metadata": {
    "collapsed": false
   },
   "id": "b2d2a11e837967dc"
  },
  {
   "cell_type": "code",
   "execution_count": 6,
   "outputs": [
    {
     "data": {
      "text/plain": "['C++',\n '.vscode',\n 'MatLab',\n 'Docker',\n 'Java',\n 'Python',\n 'CockroachDB',\n 'ROS2',\n 'C',\n 'ROS',\n 'Blender']"
     },
     "execution_count": 6,
     "metadata": {},
     "output_type": "execute_result"
    }
   ],
   "source": [
    "os.listdir('/home/nidhood/Desktop')"
   ],
   "metadata": {
    "collapsed": false,
    "ExecuteTime": {
     "end_time": "2024-01-04T20:35:19.556230089Z",
     "start_time": "2024-01-04T20:35:19.522293562Z"
    }
   },
   "id": "37ce6ad1ab3d84e3"
  },
  {
   "cell_type": "markdown",
   "source": [
    "### ___shutil module___\n",
    "\n",
    "The shutil module offers a number of high-level operations on files and collections of files. We can use the `shutil` module to copy files and folders. We can use the `shutil.copy()` function to copy files and folders."
   ],
   "metadata": {
    "collapsed": false
   },
   "id": "2274051c0c7cc7d5"
  },
  {
   "cell_type": "code",
   "execution_count": 7,
   "outputs": [],
   "source": [
    "import shutil"
   ],
   "metadata": {
    "collapsed": false,
    "ExecuteTime": {
     "end_time": "2024-01-04T20:35:21.373264058Z",
     "start_time": "2024-01-04T20:35:21.359867817Z"
    }
   },
   "id": "1de3c799a75e8583"
  },
  {
   "cell_type": "markdown",
   "source": [
    "__________\n",
    "\n",
    "### ___shutil.copy()___\n",
    "\n",
    "The `copy()` function copies the file or folder from the first argument to the second argument. We can use the `shutil.copy()` function to copy files and folders."
   ],
   "metadata": {
    "collapsed": false
   },
   "id": "4ea77a8844c439f4"
  },
  {
   "cell_type": "code",
   "execution_count": 8,
   "outputs": [
    {
     "data": {
      "text/plain": "'/home/nidhood/Desktop/practice.txt'"
     },
     "execution_count": 8,
     "metadata": {},
     "output_type": "execute_result"
    }
   ],
   "source": [
    "shutil.copy('practice.txt', '/home/nidhood/Desktop') # The first argument is the file we want to copy and the second argument is the path to the folder where we want to copy the file."
   ],
   "metadata": {
    "collapsed": false,
    "ExecuteTime": {
     "end_time": "2024-01-04T20:35:27.207039731Z",
     "start_time": "2024-01-04T20:35:27.163631154Z"
    }
   },
   "id": "bd78163ac19e17dd"
  },
  {
   "cell_type": "markdown",
   "source": [
    "__________  \n",
    "\n",
    "### ___shutil.move()___\n",
    "\n",
    "The `move()` function moves the file or folder from the first argument to the second argument. We can use the `shutil.move()` function to move files and folders."
   ],
   "metadata": {
    "collapsed": false
   },
   "id": "938558aafa2ec6d9"
  },
  {
   "cell_type": "code",
   "execution_count": 10,
   "outputs": [
    {
     "data": {
      "text/plain": "'/home/nidhood/Desktop/practice.txt'"
     },
     "execution_count": 10,
     "metadata": {},
     "output_type": "execute_result"
    }
   ],
   "source": [
    "shutil.move('practice.txt', '/home/nidhood/Desktop') # The first argument is the file we want to move and the second argument is the path to the folder where we want to move the file."
   ],
   "metadata": {
    "collapsed": false,
    "ExecuteTime": {
     "end_time": "2024-01-04T20:36:03.754979573Z",
     "start_time": "2024-01-04T20:36:03.707444295Z"
    }
   },
   "id": "854109d682f2f6f4"
  },
  {
   "cell_type": "code",
   "execution_count": 11,
   "outputs": [
    {
     "data": {
      "text/plain": "['C++',\n '.vscode',\n 'MatLab',\n 'Docker',\n 'Java',\n 'Python',\n 'CockroachDB',\n 'ROS2',\n 'C',\n 'practice.txt',\n 'ROS',\n 'Blender']"
     },
     "execution_count": 11,
     "metadata": {},
     "output_type": "execute_result"
    }
   ],
   "source": [
    "os.listdir('/home/nidhood/Desktop')"
   ],
   "metadata": {
    "collapsed": false,
    "ExecuteTime": {
     "end_time": "2024-01-04T20:36:04.631151029Z",
     "start_time": "2024-01-04T20:36:04.612237876Z"
    }
   },
   "id": "16cf741d2560b66c"
  },
  {
   "cell_type": "markdown",
   "source": [
    "### ___os.unlink()___\n",
    "\n",
    "The `unlink()` function deletes the file or folder from the first argument. We can use the `os.unlink()` function to delete files and folders."
   ],
   "metadata": {
    "collapsed": false
   },
   "id": "3dc37d077e363c6e"
  },
  {
   "cell_type": "code",
   "execution_count": 12,
   "outputs": [],
   "source": [
    "os.unlink('/home/nidhood/Desktop/practice.txt') # The argument is the file we want to delete."
   ],
   "metadata": {
    "collapsed": false,
    "ExecuteTime": {
     "end_time": "2024-01-04T20:36:06.781846552Z",
     "start_time": "2024-01-04T20:36:06.718884379Z"
    }
   },
   "id": "c876c0c79acfc939"
  },
  {
   "cell_type": "markdown",
   "source": [
    "________    \n",
    "### ___os.rmdir()___\n",
    "\n",
    "The `rmdir()` function deletes the folder from the first argument. We can use the `os.rmdir()` function to delete folders."
   ],
   "metadata": {
    "collapsed": false
   },
   "id": "cb8eeb0d9214af26"
  },
  {
   "cell_type": "code",
   "execution_count": 14,
   "outputs": [
    {
     "ename": "FileNotFoundError",
     "evalue": "[Errno 2] No such file or directory: '/home/nidhood/Desktop/practice.txt'",
     "output_type": "error",
     "traceback": [
      "\u001B[0;31m---------------------------------------------------------------------------\u001B[0m",
      "\u001B[0;31mFileNotFoundError\u001B[0m                         Traceback (most recent call last)",
      "Cell \u001B[0;32mIn[14], line 1\u001B[0m\n\u001B[0;32m----> 1\u001B[0m \u001B[43mos\u001B[49m\u001B[38;5;241;43m.\u001B[39;49m\u001B[43mrmdir\u001B[49m\u001B[43m(\u001B[49m\u001B[38;5;124;43m'\u001B[39;49m\u001B[38;5;124;43m/home/nidhood/Desktop/practice.txt\u001B[39;49m\u001B[38;5;124;43m'\u001B[39;49m\u001B[43m)\u001B[49m \u001B[38;5;66;03m# The argument is the folder we want to delete.\u001B[39;00m\n",
      "\u001B[0;31mFileNotFoundError\u001B[0m: [Errno 2] No such file or directory: '/home/nidhood/Desktop/practice.txt'"
     ]
    }
   ],
   "source": [
    "os.rmdir('/home/nidhood/Desktop/practice.txt') # The argument is the folder we want to delete."
   ],
   "metadata": {
    "collapsed": false,
    "ExecuteTime": {
     "end_time": "2024-01-04T20:36:23.964342852Z",
     "start_time": "2024-01-04T20:36:23.936413809Z"
    }
   },
   "id": "d42c98d01ef184c"
  },
  {
   "cell_type": "markdown",
   "source": [
    "\n",
    "_______________\n",
    "### ___shutil.rmtree()___\n",
    "\n",
    "The `rmtree()` function deletes the folder from the first argument. We can use the `shutil.rmtree()` function to delete folders."
   ],
   "metadata": {
    "collapsed": false
   },
   "id": "702b239b3a3d7e39"
  },
  {
   "cell_type": "markdown",
   "source": [
    "### ___send2trash module___\n",
    "\n",
    "The send2trash module is a way to send files and folders to the trash instead of permanently deleting them. We can use the `send2trash` module to send files and folders to the trash. We can use the `send2trash.send2trash()` function to send files and folders to the trash."
   ],
   "metadata": {
    "collapsed": false
   },
   "id": "967a8512ca42be60"
  },
  {
   "cell_type": "code",
   "execution_count": 15,
   "outputs": [
    {
     "name": "stdout",
     "output_type": "stream",
     "text": [
      "Requirement already satisfied: send2trash in /usr/local/lib/python3.8/dist-packages (1.8.2)\r\n",
      "Note: you may need to restart the kernel to use updated packages.\n"
     ]
    }
   ],
   "source": [
    "pip install send2trash"
   ],
   "metadata": {
    "collapsed": false,
    "ExecuteTime": {
     "end_time": "2024-01-04T20:36:43.038503531Z",
     "start_time": "2024-01-04T20:36:39.727307198Z"
    }
   },
   "id": "80aafc4d83d7c3ce"
  },
  {
   "cell_type": "code",
   "execution_count": 16,
   "outputs": [
    {
     "ename": "FileNotFoundError",
     "evalue": "[Errno 2] No such file or directory: '/home/nidhood/Desktop/practice.txt'",
     "output_type": "error",
     "traceback": [
      "\u001B[0;31m---------------------------------------------------------------------------\u001B[0m",
      "\u001B[0;31mFileNotFoundError\u001B[0m                         Traceback (most recent call last)",
      "File \u001B[0;32m/usr/lib/python3.8/shutil.py:791\u001B[0m, in \u001B[0;36mmove\u001B[0;34m(src, dst, copy_function)\u001B[0m\n\u001B[1;32m    790\u001B[0m \u001B[38;5;28;01mtry\u001B[39;00m:\n\u001B[0;32m--> 791\u001B[0m     \u001B[43mos\u001B[49m\u001B[38;5;241;43m.\u001B[39;49m\u001B[43mrename\u001B[49m\u001B[43m(\u001B[49m\u001B[43msrc\u001B[49m\u001B[43m,\u001B[49m\u001B[43m \u001B[49m\u001B[43mreal_dst\u001B[49m\u001B[43m)\u001B[49m\n\u001B[1;32m    792\u001B[0m \u001B[38;5;28;01mexcept\u001B[39;00m \u001B[38;5;167;01mOSError\u001B[39;00m:\n",
      "\u001B[0;31mFileNotFoundError\u001B[0m: [Errno 2] No such file or directory: '/home/nidhood/Desktop/practice.txt' -> '/home/nidhood/Desktop/Python/Python_complete_learning_path/#10_Advance_Python Modules/#2_Opening_and_Reading_Files_Folders/practice.txt'",
      "\nDuring handling of the above exception, another exception occurred:\n",
      "\u001B[0;31mFileNotFoundError\u001B[0m                         Traceback (most recent call last)",
      "Cell \u001B[0;32mIn[16], line 3\u001B[0m\n\u001B[1;32m      1\u001B[0m \u001B[38;5;28;01mimport\u001B[39;00m \u001B[38;5;21;01msend2trash\u001B[39;00m\n\u001B[0;32m----> 3\u001B[0m \u001B[43mshutil\u001B[49m\u001B[38;5;241;43m.\u001B[39;49m\u001B[43mmove\u001B[49m\u001B[43m(\u001B[49m\u001B[38;5;124;43m'\u001B[39;49m\u001B[38;5;124;43m/home/nidhood/Desktop/practice.txt\u001B[39;49m\u001B[38;5;124;43m'\u001B[39;49m\u001B[43m,\u001B[49m\u001B[43m \u001B[49m\u001B[38;5;124;43m'\u001B[39;49m\u001B[38;5;124;43m/home/nidhood/Desktop/Python/Python_complete_learning_path/#10_Advance_Python Modules/#2_Opening_and_Reading_Files_Folders\u001B[39;49m\u001B[38;5;124;43m'\u001B[39;49m\u001B[43m)\u001B[49m\n\u001B[1;32m      5\u001B[0m os\u001B[38;5;241m.\u001B[39mlistdir()\n",
      "File \u001B[0;32m/usr/lib/python3.8/shutil.py:811\u001B[0m, in \u001B[0;36mmove\u001B[0;34m(src, dst, copy_function)\u001B[0m\n\u001B[1;32m    809\u001B[0m         rmtree(src)\n\u001B[1;32m    810\u001B[0m     \u001B[38;5;28;01melse\u001B[39;00m:\n\u001B[0;32m--> 811\u001B[0m         \u001B[43mcopy_function\u001B[49m\u001B[43m(\u001B[49m\u001B[43msrc\u001B[49m\u001B[43m,\u001B[49m\u001B[43m \u001B[49m\u001B[43mreal_dst\u001B[49m\u001B[43m)\u001B[49m\n\u001B[1;32m    812\u001B[0m         os\u001B[38;5;241m.\u001B[39munlink(src)\n\u001B[1;32m    813\u001B[0m \u001B[38;5;28;01mreturn\u001B[39;00m real_dst\n",
      "File \u001B[0;32m/usr/lib/python3.8/shutil.py:435\u001B[0m, in \u001B[0;36mcopy2\u001B[0;34m(src, dst, follow_symlinks)\u001B[0m\n\u001B[1;32m    433\u001B[0m \u001B[38;5;28;01mif\u001B[39;00m os\u001B[38;5;241m.\u001B[39mpath\u001B[38;5;241m.\u001B[39misdir(dst):\n\u001B[1;32m    434\u001B[0m     dst \u001B[38;5;241m=\u001B[39m os\u001B[38;5;241m.\u001B[39mpath\u001B[38;5;241m.\u001B[39mjoin(dst, os\u001B[38;5;241m.\u001B[39mpath\u001B[38;5;241m.\u001B[39mbasename(src))\n\u001B[0;32m--> 435\u001B[0m \u001B[43mcopyfile\u001B[49m\u001B[43m(\u001B[49m\u001B[43msrc\u001B[49m\u001B[43m,\u001B[49m\u001B[43m \u001B[49m\u001B[43mdst\u001B[49m\u001B[43m,\u001B[49m\u001B[43m \u001B[49m\u001B[43mfollow_symlinks\u001B[49m\u001B[38;5;241;43m=\u001B[39;49m\u001B[43mfollow_symlinks\u001B[49m\u001B[43m)\u001B[49m\n\u001B[1;32m    436\u001B[0m copystat(src, dst, follow_symlinks\u001B[38;5;241m=\u001B[39mfollow_symlinks)\n\u001B[1;32m    437\u001B[0m \u001B[38;5;28;01mreturn\u001B[39;00m dst\n",
      "File \u001B[0;32m/usr/lib/python3.8/shutil.py:264\u001B[0m, in \u001B[0;36mcopyfile\u001B[0;34m(src, dst, follow_symlinks)\u001B[0m\n\u001B[1;32m    262\u001B[0m     os\u001B[38;5;241m.\u001B[39msymlink(os\u001B[38;5;241m.\u001B[39mreadlink(src), dst)\n\u001B[1;32m    263\u001B[0m \u001B[38;5;28;01melse\u001B[39;00m:\n\u001B[0;32m--> 264\u001B[0m     \u001B[38;5;28;01mwith\u001B[39;00m \u001B[38;5;28;43mopen\u001B[39;49m\u001B[43m(\u001B[49m\u001B[43msrc\u001B[49m\u001B[43m,\u001B[49m\u001B[43m \u001B[49m\u001B[38;5;124;43m'\u001B[39;49m\u001B[38;5;124;43mrb\u001B[39;49m\u001B[38;5;124;43m'\u001B[39;49m\u001B[43m)\u001B[49m \u001B[38;5;28;01mas\u001B[39;00m fsrc, \u001B[38;5;28mopen\u001B[39m(dst, \u001B[38;5;124m'\u001B[39m\u001B[38;5;124mwb\u001B[39m\u001B[38;5;124m'\u001B[39m) \u001B[38;5;28;01mas\u001B[39;00m fdst:\n\u001B[1;32m    265\u001B[0m         \u001B[38;5;66;03m# macOS\u001B[39;00m\n\u001B[1;32m    266\u001B[0m         \u001B[38;5;28;01mif\u001B[39;00m _HAS_FCOPYFILE:\n\u001B[1;32m    267\u001B[0m             \u001B[38;5;28;01mtry\u001B[39;00m:\n",
      "\u001B[0;31mFileNotFoundError\u001B[0m: [Errno 2] No such file or directory: '/home/nidhood/Desktop/practice.txt'"
     ]
    }
   ],
   "source": [
    "import send2trash\n",
    "\n",
    "shutil.move('/home/nidhood/Desktop/practice.txt', '/home/nidhood/Desktop/Python/Python_complete_learning_path/#10_Advance_Python Modules/#2_Opening_and_Reading_Files_Folders')\n",
    "\n",
    "os.listdir()"
   ],
   "metadata": {
    "collapsed": false,
    "ExecuteTime": {
     "end_time": "2024-01-04T20:36:44.229094090Z",
     "start_time": "2024-01-04T20:36:44.079583344Z"
    }
   },
   "id": "7a7c93836f1ac9f1"
  },
  {
   "cell_type": "code",
   "execution_count": 17,
   "outputs": [
    {
     "ename": "OSError",
     "evalue": "Error trashing file /home/nidhood/Desktop/Python/Python_complete_learning_path/#10_Advance_Python Modules/#2_Opening_and_Reading_Files_Folders/practice.txt: No such file or directory",
     "output_type": "error",
     "traceback": [
      "\u001B[0;31m---------------------------------------------------------------------------\u001B[0m",
      "\u001B[0;31mError\u001B[0m                                     Traceback (most recent call last)",
      "File \u001B[0;32m/usr/local/lib/python3.8/dist-packages/send2trash/plat_gio.py:17\u001B[0m, in \u001B[0;36msend2trash\u001B[0;34m(paths)\u001B[0m\n\u001B[1;32m     16\u001B[0m     f \u001B[38;5;241m=\u001B[39m Gio\u001B[38;5;241m.\u001B[39mFile\u001B[38;5;241m.\u001B[39mnew_for_path(path)\n\u001B[0;32m---> 17\u001B[0m     \u001B[43mf\u001B[49m\u001B[38;5;241;43m.\u001B[39;49m\u001B[43mtrash\u001B[49m\u001B[43m(\u001B[49m\u001B[43mcancellable\u001B[49m\u001B[38;5;241;43m=\u001B[39;49m\u001B[38;5;28;43;01mNone\u001B[39;49;00m\u001B[43m)\u001B[49m\n\u001B[1;32m     18\u001B[0m \u001B[38;5;28;01mexcept\u001B[39;00m GObject\u001B[38;5;241m.\u001B[39mGError \u001B[38;5;28;01mas\u001B[39;00m e:\n",
      "\u001B[0;31mError\u001B[0m: g-io-error-quark: Error trashing file /home/nidhood/Desktop/Python/Python_complete_learning_path/#10_Advance_Python Modules/#2_Opening_and_Reading_Files_Folders/practice.txt: No such file or directory (1)",
      "\nDuring handling of the above exception, another exception occurred:\n",
      "\u001B[0;31mOSError\u001B[0m                                   Traceback (most recent call last)",
      "Cell \u001B[0;32mIn[17], line 1\u001B[0m\n\u001B[0;32m----> 1\u001B[0m \u001B[43msend2trash\u001B[49m\u001B[38;5;241;43m.\u001B[39;49m\u001B[43msend2trash\u001B[49m\u001B[43m(\u001B[49m\u001B[38;5;124;43m'\u001B[39;49m\u001B[38;5;124;43mpractice.txt\u001B[39;49m\u001B[38;5;124;43m'\u001B[39;49m\u001B[43m)\u001B[49m \u001B[38;5;66;03m# The argument is the file or folder we want to send to the trash.\u001B[39;00m\n",
      "File \u001B[0;32m/usr/local/lib/python3.8/dist-packages/send2trash/plat_gio.py:23\u001B[0m, in \u001B[0;36msend2trash\u001B[0;34m(paths)\u001B[0m\n\u001B[1;32m     19\u001B[0m \u001B[38;5;28;01mif\u001B[39;00m e\u001B[38;5;241m.\u001B[39mcode \u001B[38;5;241m==\u001B[39m Gio\u001B[38;5;241m.\u001B[39mIOErrorEnum\u001B[38;5;241m.\u001B[39mNOT_SUPPORTED:\n\u001B[1;32m     20\u001B[0m     \u001B[38;5;66;03m# We get here if we can't create a trash directory on the same\u001B[39;00m\n\u001B[1;32m     21\u001B[0m     \u001B[38;5;66;03m# device. I don't know if other errors can result in NOT_SUPPORTED.\u001B[39;00m\n\u001B[1;32m     22\u001B[0m     \u001B[38;5;28;01mraise\u001B[39;00m TrashPermissionError(\u001B[38;5;124m\"\u001B[39m\u001B[38;5;124m\"\u001B[39m)\n\u001B[0;32m---> 23\u001B[0m \u001B[38;5;28;01mraise\u001B[39;00m \u001B[38;5;167;01mOSError\u001B[39;00m(e\u001B[38;5;241m.\u001B[39mmessage)\n",
      "\u001B[0;31mOSError\u001B[0m: Error trashing file /home/nidhood/Desktop/Python/Python_complete_learning_path/#10_Advance_Python Modules/#2_Opening_and_Reading_Files_Folders/practice.txt: No such file or directory"
     ]
    }
   ],
   "source": [
    "send2trash.send2trash('practice.txt') # The argument is the file or folder we want to send to the trash."
   ],
   "metadata": {
    "collapsed": false,
    "ExecuteTime": {
     "end_time": "2024-01-04T20:36:57.935771525Z",
     "start_time": "2024-01-04T20:36:57.862242889Z"
    }
   },
   "id": "f973ef7cd8eba331"
  },
  {
   "cell_type": "code",
   "execution_count": 18,
   "outputs": [
    {
     "data": {
      "text/plain": "['#2_Opening_and_Reading_Files_Folders.ipynb', 'Example_Top_Level']"
     },
     "execution_count": 18,
     "metadata": {},
     "output_type": "execute_result"
    }
   ],
   "source": [
    "os.listdir()"
   ],
   "metadata": {
    "collapsed": false,
    "ExecuteTime": {
     "end_time": "2024-01-04T20:36:58.631516106Z",
     "start_time": "2024-01-04T20:36:58.602344216Z"
    }
   },
   "id": "911fa74d6089df31"
  },
  {
   "cell_type": "markdown",
   "source": [
    "Like we can use the `send2trash.send2trash()` function to send files and folders to the trash, we can use the `os.unlink()` function to delete files and folders permanently."
   ],
   "metadata": {
    "collapsed": false
   },
   "id": "dae9aa4e5a0ea347"
  },
  {
   "cell_type": "markdown",
   "source": [
    "______________\n",
    "\n",
    "### ___os.walk()___\n",
    "\n",
    "The `walk()` function generates the file names in a directory tree by walking the tree either top-down or bottom-up. We can use the `os.walk()` function to generate the file names in a directory tree by walking the tree either top-down or bottom-up."
   ],
   "metadata": {
    "collapsed": false
   },
   "id": "16c26e9aa4224827"
  },
  {
   "cell_type": "code",
   "execution_count": 19,
   "outputs": [
    {
     "data": {
      "text/plain": "'/home/nidhood/Desktop/Python/Python_complete_learning_path/#10_Advance_Python Modules/#2_Opening_and_Reading_Files_Folders'"
     },
     "execution_count": 19,
     "metadata": {},
     "output_type": "execute_result"
    }
   ],
   "source": [
    "os.getcwd()"
   ],
   "metadata": {
    "collapsed": false,
    "ExecuteTime": {
     "end_time": "2024-01-04T20:37:10.385118642Z",
     "start_time": "2024-01-04T20:37:10.371472405Z"
    }
   },
   "id": "3d6131e2825652e0"
  },
  {
   "cell_type": "code",
   "execution_count": 20,
   "outputs": [
    {
     "name": "stdout",
     "output_type": "stream",
     "text": [
      "Currently looking at /home/nidhood/Desktop/Python/Python_complete_learning_path/#10_Advance_Python Modules/#2_Opening_and_Reading_Files_Folders\n",
      "\n",
      "\n",
      "The subfolders are: \n",
      "Subfolder: Example_Top_Level\n",
      "\n",
      "\n",
      "The files are: \n",
      "File: #2_Opening_and_Reading_Files_Folders.ipynb\n",
      "\n",
      "\n",
      "Currently looking at /home/nidhood/Desktop/Python/Python_complete_learning_path/#10_Advance_Python Modules/#2_Opening_and_Reading_Files_Folders/Example_Top_Level\n",
      "\n",
      "\n",
      "The subfolders are: \n",
      "Subfolder: Mid_Example_Two\n",
      "Subfolder: Mid_Example_One\n",
      "\n",
      "\n",
      "The files are: \n",
      "File: Mid_Example.txt\n",
      "\n",
      "\n",
      "Currently looking at /home/nidhood/Desktop/Python/Python_complete_learning_path/#10_Advance_Python Modules/#2_Opening_and_Reading_Files_Folders/Example_Top_Level/Mid_Example_Two\n",
      "\n",
      "\n",
      "The subfolders are: \n",
      "\n",
      "\n",
      "The files are: \n",
      "\n",
      "\n",
      "Currently looking at /home/nidhood/Desktop/Python/Python_complete_learning_path/#10_Advance_Python Modules/#2_Opening_and_Reading_Files_Folders/Example_Top_Level/Mid_Example_One\n",
      "\n",
      "\n",
      "The subfolders are: \n",
      "\n",
      "\n",
      "The files are: \n"
     ]
    }
   ],
   "source": [
    "file_path = '/home/nidhood/Desktop/Python/Python_complete_learning_path/#10_Advance_Python Modules/#2_Opening_and_Reading_Files_Folders'\n",
    "\n",
    "for folder, subfolders, files in os.walk(file_path):\n",
    "    print(f'Currently looking at {folder}')\n",
    "    print('\\n')\n",
    "    print('The subfolders are: ')\n",
    "    for subfolder in subfolders:\n",
    "        print(f'Subfolder: {subfolder}')\n",
    "    print('\\n')\n",
    "    print('The files are: ')\n",
    "    for file in files:\n",
    "        print(f'File: {file}')\n",
    "    print('\\n')"
   ],
   "metadata": {
    "collapsed": false,
    "ExecuteTime": {
     "end_time": "2024-01-04T20:37:12.387098085Z",
     "start_time": "2024-01-04T20:37:12.368726333Z"
    }
   },
   "id": "421945b040e6f595"
  },
  {
   "cell_type": "markdown",
   "source": [
    "We can use the `os.walk()` function to generate the file names in a directory tree by walking the tree either top-down or bottom-up. We can use the `os.walk()` function to generate the file names in a directory tree by walking the tree either top-down or bottom-up."
   ],
   "metadata": {
    "collapsed": false
   },
   "id": "f669f088743e8491"
  }
 ],
 "metadata": {
  "kernelspec": {
   "display_name": "Python 3",
   "language": "python",
   "name": "python3"
  },
  "language_info": {
   "codemirror_mode": {
    "name": "ipython",
    "version": 2
   },
   "file_extension": ".py",
   "mimetype": "text/x-python",
   "name": "python",
   "nbconvert_exporter": "python",
   "pygments_lexer": "ipython2",
   "version": "2.7.6"
  }
 },
 "nbformat": 4,
 "nbformat_minor": 5
}
