{
 "cells": [
  {
   "cell_type": "markdown",
   "source": [
    "### Zipping and Unzipping Files\n",
    "\n",
    "Python is able to zip and unzip files using the `zipfile` module.  The `zipfile` module is part of the Python Standard Library, so no additional installation is required."
   ],
   "metadata": {
    "collapsed": false
   },
   "id": "4f714b5260dffd85"
  },
  {
   "cell_type": "code",
   "execution_count": 1,
   "outputs": [],
   "source": [
    "with open('file1.txt', 'w+') as f:\n",
    "    f.write('ONE FILE')\n",
    "    \n",
    "with open('file2.txt', 'w+') as f:\n",
    "    f.write('TWO FILE')"
   ],
   "metadata": {
    "collapsed": false,
    "ExecuteTime": {
     "end_time": "2024-01-04T22:25:35.315152526Z",
     "start_time": "2024-01-04T22:25:35.314359586Z"
    }
   },
   "id": "16bbd8169ad45a2"
  },
  {
   "cell_type": "markdown",
   "source": [
    "### ___ZipFile()___\n",
    "\n",
    "The `zipfile` library is built in to Python, we can use it to compress folders or files. To compress all files in a folder, use the `os.walk()` method to iterate this process for all the files in a directory."
   ],
   "metadata": {
    "collapsed": false
   },
   "id": "2fc8434c2d6d0652"
  },
  {
   "cell_type": "code",
   "execution_count": 3,
   "outputs": [],
   "source": [
    "import zipfile\n",
    "comp_file = zipfile.ZipFile('comp_file.zip', 'w')\n",
    "\n",
    "comp_file.write('file1.txt', compress_type=zipfile.ZIP_DEFLATED)\n",
    "\n",
    "comp_file.write('file2.txt', compress_type=zipfile.ZIP_DEFLATED)\n",
    "\n",
    "comp_file.close()"
   ],
   "metadata": {
    "collapsed": false,
    "ExecuteTime": {
     "end_time": "2024-01-04T22:27:58.228472120Z",
     "start_time": "2024-01-04T22:27:58.170472974Z"
    }
   },
   "id": "13ec99fa8fd4a1c1"
  },
  {
   "cell_type": "markdown",
   "source": [
    "Now if we want to extract the contents from a zipped file, we can use the extractall() method.\n",
    "\n",
    "_________________\n",
    "\n",
    "### ___extractall()___\n",
    "\n",
    "The `extractall()` method for ZipFile objects extracts all the files and folders from a ZIP file into the current working directory."
   ],
   "metadata": {
    "collapsed": false
   },
   "id": "48fdb95f347df31c"
  },
  {
   "cell_type": "code",
   "execution_count": 4,
   "outputs": [],
   "source": [
    "zip_obj = zipfile.ZipFile('comp_file.zip', 'r')\n",
    "zip_obj.extractall('extracted_content') # We specify the folder where we want to extract the files."
   ],
   "metadata": {
    "collapsed": false,
    "ExecuteTime": {
     "end_time": "2024-01-04T22:30:03.484017888Z",
     "start_time": "2024-01-04T22:30:03.416391402Z"
    }
   },
   "id": "cd5b571ecf03d009"
  },
  {
   "cell_type": "markdown",
   "source": [
    "It works, but in almost all cases we don't want to compress and extract individual files, we want to compress the entire folder. For this, we can use the `shutil` library, like we learn before."
   ],
   "metadata": {
    "collapsed": false
   },
   "id": "3561bab6fa78a401"
  },
  {
   "cell_type": "code",
   "execution_count": 7,
   "outputs": [
    {
     "data": {
      "text/plain": "'/home/nidhood/Desktop/Python/Python_complete_learning_path/#10_Advance_Python_Modules'"
     },
     "execution_count": 7,
     "metadata": {},
     "output_type": "execute_result"
    }
   ],
   "source": [
    "pwd"
   ],
   "metadata": {
    "collapsed": false,
    "ExecuteTime": {
     "end_time": "2024-01-04T22:32:41.925975233Z",
     "start_time": "2024-01-04T22:32:41.881215532Z"
    }
   },
   "id": "b09136447b41edc6"
  },
  {
   "cell_type": "code",
   "execution_count": 8,
   "outputs": [
    {
     "data": {
      "text/plain": "'/home/nidhood/Desktop/Python/Python_complete_learning_path/#10_Advance_Python_Modules/example.zip'"
     },
     "execution_count": 8,
     "metadata": {},
     "output_type": "execute_result"
    }
   ],
   "source": [
    "import shutil\n",
    "\n",
    "dir_to_zip = '/home/nidhood/Desktop/Python/Python_complete_learning_path/#10_Advance_Python_Modules'\n",
    "\n",
    "output_filename = 'example'\n",
    "\n",
    "shutil.make_archive(output_filename, 'zip', dir_to_zip)"
   ],
   "metadata": {
    "collapsed": false,
    "ExecuteTime": {
     "end_time": "2024-01-04T22:33:55.867772441Z",
     "start_time": "2024-01-04T22:33:55.744218916Z"
    }
   },
   "id": "473f231de9d29fb5"
  },
  {
   "cell_type": "code",
   "execution_count": 9,
   "outputs": [],
   "source": [
    "shutil.unpack_archive('example.zip', 'final_unzip', 'zip')"
   ],
   "metadata": {
    "collapsed": false,
    "ExecuteTime": {
     "end_time": "2024-01-04T22:34:55.811583484Z",
     "start_time": "2024-01-04T22:34:55.752889061Z"
    }
   },
   "id": "8369d48ca2f1f17f"
  }
 ],
 "metadata": {
  "kernelspec": {
   "display_name": "Python 3",
   "language": "python",
   "name": "python3"
  },
  "language_info": {
   "codemirror_mode": {
    "name": "ipython",
    "version": 2
   },
   "file_extension": ".py",
   "mimetype": "text/x-python",
   "name": "python",
   "nbconvert_exporter": "python",
   "pygments_lexer": "ipython2",
   "version": "2.7.6"
  }
 },
 "nbformat": 4,
 "nbformat_minor": 5
}
