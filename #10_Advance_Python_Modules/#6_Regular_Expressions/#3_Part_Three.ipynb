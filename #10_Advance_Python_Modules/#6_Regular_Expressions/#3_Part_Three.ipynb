{
 "cells": [
  {
   "cell_type": "markdown",
   "source": [
    "# Additional Regex Syntax\n",
    "\n",
    "We can also use the following syntax to match any single character except for the ones listed:"
   ],
   "metadata": {
    "collapsed": false
   },
   "id": "3fdf0d7fb151e5c5"
  },
  {
   "cell_type": "code",
   "execution_count": 1,
   "outputs": [
    {
     "data": {
      "text/plain": "<re.Match object; span=(7, 10), match='cat'>"
     },
     "execution_count": 1,
     "metadata": {},
     "output_type": "execute_result"
    }
   ],
   "source": [
    "import re\n",
    "\n",
    "re.search(r\"cat|dog\", \"I like cats.\")"
   ],
   "metadata": {
    "collapsed": false,
    "ExecuteTime": {
     "end_time": "2024-01-04T21:55:32.239162127Z",
     "start_time": "2024-01-04T21:55:32.238311436Z"
    }
   },
   "id": "c1a577839ed73d0c"
  },
  {
   "cell_type": "code",
   "execution_count": 2,
   "outputs": [
    {
     "data": {
      "text/plain": "['cat', 'dog']"
     },
     "execution_count": 2,
     "metadata": {},
     "output_type": "execute_result"
    }
   ],
   "source": [
    "re.findall(r\"cat|dog\", \"I like both cats and dogs.\")"
   ],
   "metadata": {
    "collapsed": false,
    "ExecuteTime": {
     "end_time": "2024-01-04T21:55:32.459462590Z",
     "start_time": "2024-01-04T21:55:32.455614018Z"
    }
   },
   "id": "ae1c96bc0b40cfa9"
  },
  {
   "cell_type": "code",
   "execution_count": 3,
   "outputs": [
    {
     "data": {
      "text/plain": "['at', 'at', 'at', 'at', 'at']"
     },
     "execution_count": 3,
     "metadata": {},
     "output_type": "execute_result"
    }
   ],
   "source": [
    "re.findall(r'at', 'The fat cat sat on the mat with the hat.')"
   ],
   "metadata": {
    "collapsed": false,
    "ExecuteTime": {
     "end_time": "2024-01-04T21:55:32.598659170Z",
     "start_time": "2024-01-04T21:55:32.552678198Z"
    }
   },
   "id": "59d91ae35992b878"
  },
  {
   "cell_type": "code",
   "execution_count": 4,
   "outputs": [
    {
     "data": {
      "text/plain": "['fat', 'cat', 'sat', 'mat', 'hat']"
     },
     "execution_count": 4,
     "metadata": {},
     "output_type": "execute_result"
    }
   ],
   "source": [
    "re.findall(r'.at', 'The fat cat sat on the mat with the hat.') # . is a wildcard, witch means it will match any character where the dot is, but after the dot we have the letter a, so it will match any character followed by the letter a."
   ],
   "metadata": {
    "collapsed": false,
    "ExecuteTime": {
     "end_time": "2024-01-04T21:55:32.840728588Z",
     "start_time": "2024-01-04T21:55:32.827170447Z"
    }
   },
   "id": "12622bd71e19aceb"
  },
  {
   "cell_type": "code",
   "execution_count": 5,
   "outputs": [
    {
     "data": {
      "text/plain": "['e fat', 't sat', 'e mat', 'e hat']"
     },
     "execution_count": 5,
     "metadata": {},
     "output_type": "execute_result"
    }
   ],
   "source": [
    "re.findall(r'...at', 'The fat cat sat on the mat with the hat.')"
   ],
   "metadata": {
    "collapsed": false,
    "ExecuteTime": {
     "end_time": "2024-01-04T21:55:32.980789221Z",
     "start_time": "2024-01-04T21:55:32.968840679Z"
    }
   },
   "id": "66f3caa113f66b6a"
  },
  {
   "cell_type": "code",
   "execution_count": 6,
   "outputs": [
    {
     "data": {
      "text/plain": "['1']"
     },
     "execution_count": 6,
     "metadata": {},
     "output_type": "execute_result"
    }
   ],
   "source": [
    "re.findall(r'^\\d', '1 is a number') # ^ means that the match must occur at the beginning of the string."
   ],
   "metadata": {
    "collapsed": false,
    "ExecuteTime": {
     "end_time": "2024-01-04T21:55:33.179616383Z",
     "start_time": "2024-01-04T21:55:33.164696232Z"
    }
   },
   "id": "5c627bd64b8d8450"
  },
  {
   "cell_type": "code",
   "execution_count": 7,
   "outputs": [
    {
     "data": {
      "text/plain": "['2']"
     },
     "execution_count": 7,
     "metadata": {},
     "output_type": "execute_result"
    }
   ],
   "source": [
    "re.findall(r'\\d$', 'The number is 2') # $ means that the match must occur at the end of the string."
   ],
   "metadata": {
    "collapsed": false,
    "ExecuteTime": {
     "end_time": "2024-01-04T21:55:33.418367373Z",
     "start_time": "2024-01-04T21:55:33.401278558Z"
    }
   },
   "id": "b25d056cb3c559b8"
  },
  {
   "cell_type": "code",
   "execution_count": 8,
   "outputs": [
    {
     "data": {
      "text/plain": "['There are ', ' numbers ', ' inside ', ' this sentence.']"
     },
     "execution_count": 8,
     "metadata": {},
     "output_type": "execute_result"
    }
   ],
   "source": [
    "phrase = 'There are 3 numbers 34 inside 5 this sentence.'\n",
    "\n",
    "pattern = r'[^\\d]+' # ^ inside the brackets means that we want to exclude any digit from the match, and the + means that we want to match one or more of the preceding characters.\n",
    "\n",
    "re.findall(pattern, phrase)"
   ],
   "metadata": {
    "collapsed": false,
    "ExecuteTime": {
     "end_time": "2024-01-04T21:55:33.655359277Z",
     "start_time": "2024-01-04T21:55:33.636443026Z"
    }
   },
   "id": "39e985be496c78d3"
  },
  {
   "cell_type": "code",
   "execution_count": 9,
   "outputs": [
    {
     "data": {
      "text/plain": "'This is a string But it has punctuation How can we remove it'"
     },
     "execution_count": 9,
     "metadata": {},
     "output_type": "execute_result"
    }
   ],
   "source": [
    "test_phrase = 'This is a string! But it has punctuation. How can we remove it?'\n",
    "\n",
    "clean = re.findall(r'[^!.? ]+', test_phrase) # we want to exclude any of the characters inside the brackets, and the + means that we want to match one or more of the preceding characters.\n",
    "\n",
    "new_phrase = ' '.join(clean)\n",
    "\n",
    "new_phrase"
   ],
   "metadata": {
    "collapsed": false,
    "ExecuteTime": {
     "end_time": "2024-01-04T21:55:34.073536651Z",
     "start_time": "2024-01-04T21:55:34.068170634Z"
    }
   },
   "id": "1a278285250defc6"
  },
  {
   "cell_type": "code",
   "execution_count": 10,
   "outputs": [
    {
     "data": {
      "text/plain": "['hyphen-words', 'long-ish']"
     },
     "execution_count": 10,
     "metadata": {},
     "output_type": "execute_result"
    }
   ],
   "source": [
    "text = 'Only find the hyphen-words in this sentence. But you do not know how long-ish they are.'\n",
    "\n",
    "pattern = r'[\\w]+-[\\w]+' # \\w means any word character (a-z, A-Z, 0-9, _), and the + means that we want to match one or more of the preceding characters.\n",
    "\n",
    "re.findall(pattern, text)"
   ],
   "metadata": {
    "collapsed": false,
    "ExecuteTime": {
     "end_time": "2024-01-04T21:55:34.335970848Z",
     "start_time": "2024-01-04T21:55:34.316271926Z"
    }
   },
   "id": "cbc84c81cf112700"
  },
  {
   "cell_type": "code",
   "execution_count": 11,
   "outputs": [
    {
     "data": {
      "text/plain": "<re.Match object; span=(27, 34), match='catfish'>"
     },
     "execution_count": 11,
     "metadata": {},
     "output_type": "execute_result"
    }
   ],
   "source": [
    "text = 'Hello, would you like some catfish?'\n",
    "\n",
    "text_two = 'Hello, would you like to take a catnap?'\n",
    "\n",
    "text_three = 'Hello, have you seen this caterpillar?'\n",
    "\n",
    "re.search(r'cat(fish|nap|claw)', text)"
   ],
   "metadata": {
    "collapsed": false,
    "ExecuteTime": {
     "end_time": "2024-01-04T21:55:34.555094430Z",
     "start_time": "2024-01-04T21:55:34.542816554Z"
    }
   },
   "id": "d1470dd89dff2714"
  },
  {
   "cell_type": "code",
   "execution_count": 12,
   "outputs": [
    {
     "data": {
      "text/plain": "<re.Match object; span=(32, 38), match='catnap'>"
     },
     "execution_count": 12,
     "metadata": {},
     "output_type": "execute_result"
    }
   ],
   "source": [
    "re.search(r'cat(fish|nap|claw)', text_two)"
   ],
   "metadata": {
    "collapsed": false,
    "ExecuteTime": {
     "end_time": "2024-01-04T21:55:34.778568635Z",
     "start_time": "2024-01-04T21:55:34.749881364Z"
    }
   },
   "id": "5a6664f7be69a5f"
  },
  {
   "cell_type": "code",
   "execution_count": 13,
   "outputs": [],
   "source": [
    "re.search(r'cat(fish|nap|claw)', text_three)"
   ],
   "metadata": {
    "collapsed": false,
    "ExecuteTime": {
     "end_time": "2024-01-04T21:55:35.090378126Z",
     "start_time": "2024-01-04T21:55:35.063843572Z"
    }
   },
   "id": "3396b288dcef27ea"
  }
 ],
 "metadata": {
  "kernelspec": {
   "display_name": "Python 3",
   "language": "python",
   "name": "python3"
  },
  "language_info": {
   "codemirror_mode": {
    "name": "ipython",
    "version": 2
   },
   "file_extension": ".py",
   "mimetype": "text/x-python",
   "name": "python",
   "nbconvert_exporter": "python",
   "pygments_lexer": "ipython2",
   "version": "2.7.6"
  }
 },
 "nbformat": 4,
 "nbformat_minor": 5
}
