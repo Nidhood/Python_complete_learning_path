{
 "cells": [
  {
   "cell_type": "markdown",
   "source": [
    "# Working with PDFs files in Python \n",
    "\n",
    "The Portable Document Format (PDF) was developed by Adobe in the 1990s and is today one of the most popular formats for exchanging documents. PDFs are typically used to distribute read-only documents that preserve the layout of a page. They are commonly used for documents like user manuals, eBooks, application forms, and scanned documents, to name a few."
   ],
   "metadata": {
    "collapsed": false
   },
   "id": "7cb64cd1d1b0a245"
  },
  {
   "cell_type": "markdown",
   "source": [
    "- PyPDF2: A Python library to extract document information and content, split documents page-by-page, merge documents, crop pages, and add watermarks."
   ],
   "metadata": {
    "collapsed": false
   },
   "id": "a3248b6a813d7aa5"
  },
  {
   "cell_type": "code",
   "execution_count": 5,
   "outputs": [
    {
     "name": "stdout",
     "output_type": "stream",
     "text": [
      "Requirement already satisfied: PyPDF2 in /home/nidhood/.local/lib/python3.8/site-packages (3.0.1)\r\n",
      "Requirement already satisfied: typing_extensions>=3.10.0.0; python_version < \"3.10\" in /home/nidhood/.local/lib/python3.8/site-packages (from PyPDF2) (4.9.0)\r\n",
      "Note: you may need to restart the kernel to use updated packages.\n"
     ]
    }
   ],
   "source": [
    "pip install PyPDF2"
   ],
   "metadata": {
    "collapsed": false,
    "ExecuteTime": {
     "end_time": "2024-01-06T00:31:06.924257351Z",
     "start_time": "2024-01-06T00:31:03.181830082Z"
    }
   },
   "id": "f55c4a1ec16f84a3"
  },
  {
   "cell_type": "markdown",
   "source": [
    "- PdfReader: Is a library that allows you to parse PDF files and extract elements from them. It can extract information about the document, such as the number of pages, the author and the creator, and the producer of the document. It can also extract text and images, or mark the document's structure."
   ],
   "metadata": {
    "collapsed": false
   },
   "id": "c4c2e482673fb7f1"
  },
  {
   "cell_type": "code",
   "execution_count": 3,
   "outputs": [
    {
     "name": "stdout",
     "output_type": "stream",
     "text": [
      "Requirement already satisfied: pdfreader in /home/nidhood/.local/lib/python3.8/site-packages (0.1.12)\r\n",
      "Requirement already satisfied: pillow>=7.1.0 in /home/nidhood/.local/lib/python3.8/site-packages (from pdfreader) (10.2.0)\r\n",
      "Requirement already satisfied: python-dateutil>=2.8.1 in /home/nidhood/.local/lib/python3.8/site-packages (from pdfreader) (2.8.2)\r\n",
      "Requirement already satisfied: pycryptodome>=3.9.9 in /home/nidhood/.local/lib/python3.8/site-packages (from pdfreader) (3.19.1)\r\n",
      "Requirement already satisfied: bitarray>=1.1.0 in /home/nidhood/.local/lib/python3.8/site-packages (from pdfreader) (2.9.2)\r\n",
      "Requirement already satisfied: six>=1.5 in /usr/lib/python3/dist-packages (from python-dateutil>=2.8.1->pdfreader) (1.14.0)\r\n",
      "Note: you may need to restart the kernel to use updated packages.\n"
     ]
    }
   ],
   "source": [
    "pip install pdfreader"
   ],
   "metadata": {
    "collapsed": false,
    "ExecuteTime": {
     "end_time": "2024-01-06T00:33:13.538234555Z",
     "start_time": "2024-01-06T00:33:09.995851020Z"
    }
   },
   "id": "a1f5db086a7454d0"
  },
  {
   "cell_type": "code",
   "execution_count": 19,
   "outputs": [
    {
     "data": {
      "text/plain": "5"
     },
     "execution_count": 19,
     "metadata": {},
     "output_type": "execute_result"
    }
   ],
   "source": [
    "import PyPDF2\n",
    "\n",
    "f = open('Working_Business_Proposal.pdf', 'rb') # rb = read binary\n",
    "pdf_reader = PyPDF2.PdfReader(f)\n",
    "len(pdf_reader.pages)"
   ],
   "metadata": {
    "collapsed": false,
    "ExecuteTime": {
     "end_time": "2024-01-06T00:40:12.929302Z",
     "start_time": "2024-01-06T00:40:12.886229416Z"
    }
   },
   "id": "805e6b9c3b963033"
  },
  {
   "cell_type": "code",
   "execution_count": 25,
   "outputs": [
    {
     "data": {
      "text/plain": "'Business Proposal The Revolution is Coming Leverage agile frameworks to provide a robust synopsis for high level overviews. Iterative approaches to corporate strategy foster collaborative thinking to further the overall value proposition. Organically grow the holistic world view of disruptive innovation via workplace diversity and empowerment. Bring to the table win-win survival strategies to ensure proactive domination. At the end of the day, going forward, a new normal that has evolved from generation X is on the runway heading towards a streamlined cloud solution. User generated content in real-time will have multiple touchpoints for offshoring. Capitalize on low hanging fruit to identify a ballpark value added activity to beta test. Override the digital divide with additional clickthroughs from DevOps. Nanotechnology immersion along the information highway will close the loop on focusing solely on the bottom line. Podcasting operational change management inside of workﬂows to establish a framework. Taking seamless key performance indicators ofﬂine to maximise the long tail. Keeping your eye on the ball while performing a deep dive on the start-up mentality to derive convergence on cross-platform integration. Collaboratively administrate empowered markets via plug-and-play networks. Dynamically procrastinate B2C users after installed base beneﬁts. Dramatically visualize customer directed convergence without revolutionary ROI. Efﬁciently unleash cross-media information without cross-media value. Quickly maximize timely deliverables for real-time schemas. Dramatically maintain clicks-and-mortar solutions without functional solutions. BUSINESS PROPOSAL!1'"
     },
     "execution_count": 25,
     "metadata": {},
     "output_type": "execute_result"
    }
   ],
   "source": [
    "page_one = pdf_reader.pages[0]\n",
    "page_one_text = page_one.extract_text()\n",
    "page_one_text"
   ],
   "metadata": {
    "collapsed": false,
    "ExecuteTime": {
     "end_time": "2024-01-06T00:41:46.450086468Z",
     "start_time": "2024-01-06T00:41:46.380859167Z"
    }
   },
   "id": "bf5ef80e35b2a5dc"
  },
  {
   "cell_type": "code",
   "execution_count": 26,
   "outputs": [],
   "source": [
    "f.close()"
   ],
   "metadata": {
    "collapsed": false,
    "ExecuteTime": {
     "end_time": "2024-01-06T00:41:57.029040994Z",
     "start_time": "2024-01-06T00:41:56.972994772Z"
    }
   },
   "id": "8919e45e6fda2e4"
  },
  {
   "cell_type": "code",
   "execution_count": 27,
   "outputs": [],
   "source": [
    "f = open('Working_Business_Proposal.pdf', 'rb')\n",
    "pdf_reader = PyPDF2.PdfReader(f)"
   ],
   "metadata": {
    "collapsed": false,
    "ExecuteTime": {
     "end_time": "2024-01-06T00:43:19.771304176Z",
     "start_time": "2024-01-06T00:43:19.711826562Z"
    }
   },
   "id": "74661b4be15d874f"
  },
  {
   "cell_type": "code",
   "execution_count": 28,
   "outputs": [],
   "source": [
    "first_page = pdf_reader.pages[0]"
   ],
   "metadata": {
    "collapsed": false,
    "ExecuteTime": {
     "end_time": "2024-01-06T00:43:44.805582933Z",
     "start_time": "2024-01-06T00:43:44.757036549Z"
    }
   },
   "id": "8a873589af60d6bd"
  },
  {
   "cell_type": "code",
   "execution_count": 30,
   "outputs": [],
   "source": [
    "pdf_writer = PyPDF2.PdfWriter()"
   ],
   "metadata": {
    "collapsed": false,
    "ExecuteTime": {
     "end_time": "2024-01-06T00:43:53.277041626Z",
     "start_time": "2024-01-06T00:43:53.231467324Z"
    }
   },
   "id": "eed6c41f95fdd769"
  },
  {
   "cell_type": "code",
   "execution_count": 32,
   "outputs": [
    {
     "data": {
      "text/plain": "{'/Type': '/Page',\n '/Resources': {'/ProcSet': ['/PDF', '/Text'],\n  '/ColorSpace': {'/Cs1': ['/ICCBased',\n    IndirectObject(7, 0, 140441989581648)]},\n  '/Font': {'/TT2': {'/Type': '/Font',\n    '/Subtype': '/TrueType',\n    '/BaseFont': '/URTVHR+Helvetica-Light',\n    '/FontDescriptor': {'/Type': '/FontDescriptor',\n     '/FontName': '/URTVHR+Helvetica-Light',\n     '/Flags': 32,\n     '/FontBBox': [-453, -355, 1345, 1206],\n     '/ItalicAngle': 0,\n     '/Ascent': 770,\n     '/Descent': -230,\n     '/CapHeight': 718,\n     '/StemV': 68,\n     '/XHeight': 524,\n     '/StemH': 58,\n     '/AvgWidth': 600,\n     '/MaxWidth': 1445,\n     '/FontFile2': {'/Length1': 13268, '/Filter': '/FlateDecode'}},\n    '/Encoding': '/MacRomanEncoding',\n    '/FirstChar': 32,\n    '/LastChar': 223,\n    '/Widths': [278,\n     0,\n     278,\n     0,\n     0,\n     0,\n     0,\n     0,\n     0,\n     0,\n     0,\n     0,\n     278,\n     333,\n     278,\n     278,\n     556,\n     0,\n     556,\n     0,\n     556,\n     0,\n     0,\n     556,\n     0,\n     0,\n     0,\n     0,\n     0,\n     0,\n     0,\n     0,\n     0,\n     667,\n     667,\n     722,\n     722,\n     611,\n     0,\n     778,\n     722,\n     278,\n     0,\n     667,\n     556,\n     0,\n     722,\n     778,\n     611,\n     778,\n     667,\n     611,\n     556,\n     722,\n     0,\n     0,\n     611,\n     0,\n     0,\n     0,\n     0,\n     0,\n     0,\n     0,\n     0,\n     556,\n     611,\n     556,\n     611,\n     556,\n     278,\n     611,\n     556,\n     222,\n     222,\n     500,\n     222,\n     833,\n     556,\n     556,\n     611,\n     611,\n     333,\n     500,\n     278,\n     556,\n     500,\n     722,\n     500,\n     500,\n     500,\n     0,\n     0,\n     0,\n     0,\n     0,\n     0,\n     0,\n     0,\n     0,\n     0,\n     0,\n     0,\n     0,\n     0,\n     0,\n     0,\n     0,\n     0,\n     0,\n     0,\n     0,\n     0,\n     0,\n     0,\n     0,\n     0,\n     0,\n     0,\n     0,\n     0,\n     0,\n     0,\n     0,\n     0,\n     0,\n     0,\n     0,\n     0,\n     0,\n     0,\n     0,\n     0,\n     0,\n     0,\n     0,\n     0,\n     0,\n     0,\n     0,\n     0,\n     0,\n     0,\n     0,\n     0,\n     0,\n     0,\n     0,\n     0,\n     0,\n     0,\n     0,\n     0,\n     0,\n     0,\n     0,\n     0,\n     0,\n     0,\n     0,\n     0,\n     0,\n     0,\n     0,\n     0,\n     0,\n     0,\n     0,\n     0,\n     0,\n     0,\n     0,\n     0,\n     0,\n     0,\n     0,\n     0,\n     0,\n     0,\n     0,\n     0,\n     0,\n     0,\n     0,\n     0,\n     0,\n     0,\n     0,\n     0,\n     0,\n     500,\n     500]},\n   '/TT1': {'/Type': '/Font',\n    '/Subtype': '/TrueType',\n    '/BaseFont': '/SLRTDM+Baskerville',\n    '/FontDescriptor': {'/Type': '/FontDescriptor',\n     '/FontName': '/SLRTDM+Baskerville',\n     '/Flags': 32,\n     '/FontBBox': [-506, -344, 1765, 961],\n     '/ItalicAngle': 0,\n     '/Ascent': 898,\n     '/Descent': -246,\n     '/CapHeight': 669,\n     '/StemV': 96,\n     '/XHeight': 400,\n     '/StemH': 22,\n     '/AvgWidth': 579,\n     '/MaxWidth': 1791,\n     '/FontFile2': {'/Length1': 5016, '/Filter': '/FlateDecode'}},\n    '/Encoding': '/MacRomanEncoding',\n    '/FirstChar': 32,\n    '/LastChar': 118,\n    '/Widths': [250,\n     0,\n     0,\n     0,\n     0,\n     0,\n     0,\n     0,\n     0,\n     0,\n     0,\n     0,\n     0,\n     0,\n     0,\n     0,\n     0,\n     500,\n     500,\n     500,\n     500,\n     500,\n     0,\n     0,\n     0,\n     0,\n     0,\n     0,\n     0,\n     0,\n     0,\n     0,\n     0,\n     677,\n     615,\n     719,\n     0,\n     625,\n     0,\n     0,\n     0,\n     354,\n     0,\n     0,\n     604,\n     0,\n     750,\n     823,\n     563,\n     0,\n     729,\n     542,\n     698,\n     771,\n     0,\n     0,\n     0,\n     0,\n     0,\n     0,\n     0,\n     0,\n     0,\n     0,\n     0,\n     469,\n     0,\n     0,\n     0,\n     438,\n     0,\n     469,\n     531,\n     250,\n     0,\n     0,\n     240,\n     802,\n     531,\n     500,\n     521,\n     0,\n     365,\n     333,\n     292,\n     521,\n     458]},\n   '/TT3': {'/Type': '/Font',\n    '/Subtype': '/TrueType',\n    '/BaseFont': '/VJMLYK+Baskerville',\n    '/FontDescriptor': {'/Type': '/FontDescriptor',\n     '/FontName': '/VJMLYK+Baskerville',\n     '/Flags': 4,\n     '/FontBBox': [-506, -344, 1765, 961],\n     '/ItalicAngle': 0,\n     '/Ascent': 898,\n     '/Descent': -246,\n     '/CapHeight': 669,\n     '/StemV': 96,\n     '/XHeight': 400,\n     '/StemH': 22,\n     '/AvgWidth': 579,\n     '/MaxWidth': 1791,\n     '/FontFile2': {'/Length1': 508, '/Filter': '/FlateDecode'}},\n    '/ToUnicode': {'/Filter': '/FlateDecode'},\n    '/FirstChar': 33,\n    '/LastChar': 33,\n    '/Widths': [0]}}},\n '/Contents': {'/Filter': '/FlateDecode'},\n '/MediaBox': [0, 0, 612, 792],\n '/Parent': {'/Type': '/Pages',\n  '/Count': 1,\n  '/Kids': [IndirectObject(4, 0, 140441989581648)]}}"
     },
     "execution_count": 32,
     "metadata": {},
     "output_type": "execute_result"
    }
   ],
   "source": [
    "pdf_writer.add_page(first_page)"
   ],
   "metadata": {
    "collapsed": false,
    "ExecuteTime": {
     "end_time": "2024-01-06T00:44:34.485555722Z",
     "start_time": "2024-01-06T00:44:34.361612736Z"
    }
   },
   "id": "3d0fc6751b200716"
  },
  {
   "cell_type": "code",
   "execution_count": 33,
   "outputs": [],
   "source": [
    "pdf_output = open('Some_New_Doc.pdf', 'wb')\n",
    "pdf_writer.write(pdf_output)\n",
    "f.close()"
   ],
   "metadata": {
    "collapsed": false,
    "ExecuteTime": {
     "end_time": "2024-01-06T00:45:54.457460648Z",
     "start_time": "2024-01-06T00:45:54.390305515Z"
    }
   },
   "id": "1d032bd4d80ec3ed"
  },
  {
   "cell_type": "code",
   "execution_count": 34,
   "outputs": [],
   "source": [
    "pdf_output.close()"
   ],
   "metadata": {
    "collapsed": false,
    "ExecuteTime": {
     "end_time": "2024-01-06T00:46:02.942387614Z",
     "start_time": "2024-01-06T00:46:02.871185221Z"
    }
   },
   "id": "4236774b9ab20951"
  },
  {
   "cell_type": "code",
   "execution_count": 41,
   "outputs": [],
   "source": [
    "f = open('Working_Business_Proposal.pdf', 'rb')\n",
    "\n",
    "pdf_text = []\n",
    "\n",
    "pdf_reader = PyPDF2.PdfReader(f)\n",
    "\n",
    "for num in range(len(pdf_reader.pages)):\n",
    "    \n",
    "    page = pdf_reader.pages[num]\n",
    "    \n",
    "    pdf_text.append(page.extract_text())\n",
    "\n",
    "f.close()"
   ],
   "metadata": {
    "collapsed": false,
    "ExecuteTime": {
     "end_time": "2024-01-06T00:49:04.128632102Z",
     "start_time": "2024-01-06T00:49:03.988088737Z"
    }
   },
   "id": "34bdced72e0055f"
  },
  {
   "cell_type": "code",
   "execution_count": 42,
   "outputs": [
    {
     "name": "stdout",
     "output_type": "stream",
     "text": [
      "Completely synergize resource taxing relationships via premier niche markets. Professionally cultivate one-to-one customer service with robust ideas. Dynamically innovate resource-leveling customer service for state of the art customer service. Objectively innovate empowered manufactured products whereas parallel platforms. Holisticly predominate extensible testing procedures for reliable supply chains. Dramatically engage top-line web services vis-a-vis cutting-edge deliverables. Proactively envisioned multimedia based expertise and cross-media growth strategies. Seamlessly visualize quality intellectual capital without superior collaboration and idea-sharing. Holistically pontiﬁcate installed base portals after maintainable products. Phosﬂuorescently engage worldwide methodologies with web-enabled technology. Interactively coordinate proactive e-commerce via process-centric \"outside the box\" thinking. Completely pursue scalable customer service through sustainable potentialities. Collaboratively administrate turnkey channels whereas virtual e-tailers. Objectively seize scalable metrics whereas proactive e-services. Seamlessly empower fully researched growth strategies and interoperable internal or \"organic\" sources. Credibly innovate granular internal or \"organic\" sources whereas high standards in web-readiness. Energistically scale future-proof core competencies vis-a-vis impactful experiences. Dramatically synthesize integrated schemas with optimal networks. Interactively procrastinate high-payoff content without backward-compatible data. Quickly cultivate optimal processes and tactical architectures. Completely iterate covalent strategic theme areas via accurate e-markets. Globally incubate standards compliant channels before scalable beneﬁts. Quickly disseminate superior deliverables whereas web-enabled BUSINESS PROPOSAL!2\n"
     ]
    }
   ],
   "source": [
    "print(pdf_text[1]) # We can see all pages.\n"
   ],
   "metadata": {
    "collapsed": false,
    "ExecuteTime": {
     "end_time": "2024-01-06T00:49:08.276858081Z",
     "start_time": "2024-01-06T00:49:08.224217590Z"
    }
   },
   "id": "860f8ce243a42b0d"
  }
 ],
 "metadata": {
  "kernelspec": {
   "display_name": "Python 3",
   "language": "python",
   "name": "python3"
  },
  "language_info": {
   "codemirror_mode": {
    "name": "ipython",
    "version": 2
   },
   "file_extension": ".py",
   "mimetype": "text/x-python",
   "name": "python",
   "nbconvert_exporter": "python",
   "pygments_lexer": "ipython2",
   "version": "2.7.6"
  }
 },
 "nbformat": 4,
 "nbformat_minor": 5
}
