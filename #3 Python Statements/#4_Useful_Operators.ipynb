{
 "cells": [
  {
   "cell_type": "markdown",
   "source": [
    "# Useful Operators\n",
    "\n",
    "_______________\n",
    "\n",
    "### __range()__\n",
    "\n",
    "The range function allows you to quickly *generate* a list of integers, this comes in handy a lot, so take note of how to use it! There are 3 parameters you can pass, a start, a stop, and a step size."
   ],
   "metadata": {
    "collapsed": false
   },
   "id": "4a4bb721d554fc51"
  },
  {
   "cell_type": "code",
   "execution_count": 1,
   "outputs": [
    {
     "name": "stdout",
     "output_type": "stream",
     "text": [
      "0\n",
      "1\n",
      "2\n",
      "3\n",
      "4\n",
      "5\n",
      "6\n",
      "7\n",
      "8\n",
      "9\n"
     ]
    }
   ],
   "source": [
    "for num in range(10):\n",
    "    print(num)"
   ],
   "metadata": {
    "collapsed": false,
    "ExecuteTime": {
     "end_time": "2023-12-22T21:29:16.986445949Z",
     "start_time": "2023-12-22T21:29:16.983636863Z"
    }
   },
   "id": "8b8e06907e64a3f1"
  },
  {
   "cell_type": "code",
   "execution_count": 2,
   "outputs": [
    {
     "name": "stdout",
     "output_type": "stream",
     "text": [
      "3\n",
      "4\n",
      "5\n",
      "6\n",
      "7\n",
      "8\n",
      "9\n"
     ]
    }
   ],
   "source": [
    "for num in range(3,10):\n",
    "    print(num)"
   ],
   "metadata": {
    "collapsed": false,
    "ExecuteTime": {
     "end_time": "2023-12-22T21:29:17.557556333Z",
     "start_time": "2023-12-22T21:29:17.518949324Z"
    }
   },
   "id": "a21ee77ac58639f2"
  },
  {
   "cell_type": "code",
   "execution_count": 3,
   "outputs": [
    {
     "name": "stdout",
     "output_type": "stream",
     "text": [
      "0\n",
      "2\n",
      "4\n",
      "6\n",
      "8\n"
     ]
    }
   ],
   "source": [
    "for num in range(0,10,2):\n",
    "    print(num)"
   ],
   "metadata": {
    "collapsed": false,
    "ExecuteTime": {
     "end_time": "2023-12-22T21:29:18.097069272Z",
     "start_time": "2023-12-22T21:29:18.067852491Z"
    }
   },
   "id": "23ac8b6fa99e259c"
  },
  {
   "cell_type": "markdown",
   "source": [
    "______  \n",
    "\n",
    "### __enumerate()__\n",
    "\n",
    "The enumerate() function allows you to keep a count as you iterate through an object. It does this by returning a tuple in the form (count,element). The function itself is equivalent to:\n",
    "\n",
    "\n",
    "    def enumerate(sequence, start=0):\n",
    "        n = start\n",
    "        for elem in sequence:\n",
    "            yield n, elem\n",
    "            n += 1"
   ],
   "metadata": {
    "collapsed": false
   },
   "id": "f153bf77b262fdef"
  },
  {
   "cell_type": "code",
   "execution_count": 4,
   "outputs": [
    {
     "name": "stdout",
     "output_type": "stream",
     "text": [
      "a\n",
      "b\n",
      "c\n",
      "d\n",
      "e\n"
     ]
    }
   ],
   "source": [
    "index_count = 0\n",
    "word = 'abcde'\n",
    "\n",
    "for letter in word:\n",
    "    print(word[index_count]) # Here we are using the index_count for the index, and indexing the word variable with it. Useful, but not as useful as enumerate.\n",
    "    index_count += 1"
   ],
   "metadata": {
    "collapsed": false,
    "ExecuteTime": {
     "end_time": "2023-12-22T21:29:19.026558827Z",
     "start_time": "2023-12-22T21:29:19.004679468Z"
    }
   },
   "id": "b1fb0cba1db7587d"
  },
  {
   "cell_type": "code",
   "execution_count": 5,
   "outputs": [
    {
     "name": "stdout",
     "output_type": "stream",
     "text": [
      "(0, 'a')\n",
      "(1, 'b')\n",
      "(2, 'c')\n",
      "(3, 'd')\n",
      "(4, 'e')\n"
     ]
    }
   ],
   "source": [
    "word = 'abcde'\n",
    "\n",
    "for item in enumerate(word): # Here we are using the enumerate function to get the same result as above. And it is much cleaner.\n",
    "    print(item)"
   ],
   "metadata": {
    "collapsed": false,
    "ExecuteTime": {
     "end_time": "2023-12-22T21:29:19.583814117Z",
     "start_time": "2023-12-22T21:29:19.552710245Z"
    }
   },
   "id": "d041a9f59d37f8b6"
  },
  {
   "cell_type": "code",
   "execution_count": 6,
   "outputs": [
    {
     "name": "stdout",
     "output_type": "stream",
     "text": [
      "0\n",
      "a\n",
      "\n",
      "\n",
      "1\n",
      "b\n",
      "\n",
      "\n",
      "2\n",
      "c\n",
      "\n",
      "\n",
      "3\n",
      "d\n",
      "\n",
      "\n",
      "4\n",
      "e\n"
     ]
    }
   ],
   "source": [
    "for index,letter in enumerate(word): # Here we are using tuple unpacking to get the same result as above. And it is much cleaner.\n",
    "    print(index)\n",
    "    print(letter)\n",
    "    print('\\n')"
   ],
   "metadata": {
    "collapsed": false,
    "ExecuteTime": {
     "end_time": "2023-12-22T21:29:20.036064767Z",
     "start_time": "2023-12-22T21:29:20.003098328Z"
    }
   },
   "id": "16178583cabdd874"
  },
  {
   "cell_type": "markdown",
   "source": [
    "______\n",
    "\n",
    "### __zip()__\n",
    "\n",
    "The zip function *zips* together two lists. Again, we can convert this zip object into a tuple using tuple()."
   ],
   "metadata": {
    "collapsed": false
   },
   "id": "4c7251aad9d4c77c"
  },
  {
   "cell_type": "code",
   "execution_count": 7,
   "outputs": [
    {
     "name": "stdout",
     "output_type": "stream",
     "text": [
      "(1, 'a')\n",
      "(2, 'b')\n",
      "(3, 'c')\n"
     ]
    }
   ],
   "source": [
    "my_list1 = [1,2,3]\n",
    "my_list2 = ['a','b','c']\n",
    "\n",
    "for item in zip(my_list1,my_list2):\n",
    "    print(item)"
   ],
   "metadata": {
    "collapsed": false,
    "ExecuteTime": {
     "end_time": "2023-12-22T21:29:21.061610529Z",
     "start_time": "2023-12-22T21:29:21.031371265Z"
    }
   },
   "id": "80e0fe3c3f165eb8"
  },
  {
   "cell_type": "code",
   "execution_count": 8,
   "outputs": [
    {
     "name": "stdout",
     "output_type": "stream",
     "text": [
      "(1, 'a', 100)\n",
      "(2, 'b', 200)\n",
      "(3, 'c', 300)\n"
     ]
    }
   ],
   "source": [
    "my_list1 = [1,2,3]\n",
    "my_list2 = ['a','b','c']\n",
    "my_list3 = [100,200,300]\n",
    "\n",
    "for item in zip(my_list1,my_list2,my_list3):\n",
    "    print(item)"
   ],
   "metadata": {
    "collapsed": false,
    "ExecuteTime": {
     "end_time": "2023-12-22T21:29:21.603340337Z",
     "start_time": "2023-12-22T21:29:21.562490479Z"
    }
   },
   "id": "677f476497d92e34"
  },
  {
   "cell_type": "markdown",
   "source": [
    "Here is important note about zip()! If these lists are not of equal length, then the zip function will only zip up to the shortest length list."
   ],
   "metadata": {
    "collapsed": false
   },
   "id": "eedba5f4601a5dd9"
  },
  {
   "cell_type": "code",
   "execution_count": 9,
   "outputs": [
    {
     "name": "stdout",
     "output_type": "stream",
     "text": [
      "(1, 'a', 100)\n",
      "(2, 'b', 200)\n",
      "(3, 'c', 300)\n"
     ]
    }
   ],
   "source": [
    "my_list1 = [1,2,3,4,5,6]\n",
    "my_list2 = ['a','b','c']\n",
    "my_list3 = [100,200,300]\n",
    "\n",
    "for item in zip(my_list1,my_list2,my_list3):\n",
    "    print(item)"
   ],
   "metadata": {
    "collapsed": false,
    "ExecuteTime": {
     "end_time": "2023-12-22T21:29:22.462884424Z",
     "start_time": "2023-12-22T21:29:22.458131252Z"
    }
   },
   "id": "4b25913b9a7483c7"
  },
  {
   "cell_type": "code",
   "execution_count": 10,
   "outputs": [
    {
     "data": {
      "text/plain": "[(1, 'a'), (2, 'b'), (3, 'c')]"
     },
     "execution_count": 10,
     "metadata": {},
     "output_type": "execute_result"
    }
   ],
   "source": [
    "list(zip(my_list1,my_list2)) # You can also cast the zipped items to a list."
   ],
   "metadata": {
    "collapsed": false,
    "ExecuteTime": {
     "end_time": "2023-12-22T21:29:23.043023430Z",
     "start_time": "2023-12-22T21:29:23.015377954Z"
    }
   },
   "id": "705bf3647d177d"
  },
  {
   "cell_type": "markdown",
   "source": [
    "______\n",
    "\n",
    "### __in__\n",
    "\n",
    "We've already seen the __in__ keyword during the for loop, but we can also use it to quickly check if an object is in a list"
   ],
   "metadata": {
    "collapsed": false
   },
   "id": "14e691a2c207d692"
  },
  {
   "cell_type": "code",
   "execution_count": 11,
   "outputs": [
    {
     "data": {
      "text/plain": "False"
     },
     "execution_count": 11,
     "metadata": {},
     "output_type": "execute_result"
    }
   ],
   "source": [
    "'x' in [1,2,3]"
   ],
   "metadata": {
    "collapsed": false,
    "ExecuteTime": {
     "end_time": "2023-12-22T21:29:23.969783091Z",
     "start_time": "2023-12-22T21:29:23.942100658Z"
    }
   },
   "id": "39f750df62614f38"
  },
  {
   "cell_type": "code",
   "execution_count": 12,
   "outputs": [
    {
     "data": {
      "text/plain": "True"
     },
     "execution_count": 12,
     "metadata": {},
     "output_type": "execute_result"
    }
   ],
   "source": [
    "'x' in ['x','y','z']"
   ],
   "metadata": {
    "collapsed": false,
    "ExecuteTime": {
     "end_time": "2023-12-22T21:29:24.521380834Z",
     "start_time": "2023-12-22T21:29:24.483391373Z"
    }
   },
   "id": "1555f9dd1759d3ac"
  },
  {
   "cell_type": "code",
   "execution_count": 13,
   "outputs": [
    {
     "data": {
      "text/plain": "True"
     },
     "execution_count": 13,
     "metadata": {},
     "output_type": "execute_result"
    }
   ],
   "source": [
    "'a' in 'a world'"
   ],
   "metadata": {
    "collapsed": false,
    "ExecuteTime": {
     "end_time": "2023-12-22T21:29:24.883338396Z",
     "start_time": "2023-12-22T21:29:24.850349575Z"
    }
   },
   "id": "8102ef4c8b5c72d9"
  },
  {
   "cell_type": "code",
   "execution_count": 14,
   "outputs": [
    {
     "data": {
      "text/plain": "True"
     },
     "execution_count": 14,
     "metadata": {},
     "output_type": "execute_result"
    }
   ],
   "source": [
    "'mykey' in {'mykey':345}"
   ],
   "metadata": {
    "collapsed": false,
    "ExecuteTime": {
     "end_time": "2023-12-22T21:29:25.402605952Z",
     "start_time": "2023-12-22T21:29:25.361412914Z"
    }
   },
   "id": "9cde562f9cdc5bf6"
  },
  {
   "cell_type": "code",
   "execution_count": 15,
   "outputs": [
    {
     "data": {
      "text/plain": "False"
     },
     "execution_count": 15,
     "metadata": {},
     "output_type": "execute_result"
    }
   ],
   "source": [
    "d = {'mykey':345}\n",
    "345 in d.keys()"
   ],
   "metadata": {
    "collapsed": false,
    "ExecuteTime": {
     "end_time": "2023-12-22T21:29:25.897088206Z",
     "start_time": "2023-12-22T21:29:25.859309459Z"
    }
   },
   "id": "5af08adb2db4d8"
  },
  {
   "cell_type": "code",
   "execution_count": 16,
   "outputs": [
    {
     "data": {
      "text/plain": "True"
     },
     "execution_count": 16,
     "metadata": {},
     "output_type": "execute_result"
    }
   ],
   "source": [
    "d = {'mykey':345}\n",
    "345 in d.values()"
   ],
   "metadata": {
    "collapsed": false,
    "ExecuteTime": {
     "end_time": "2023-12-22T21:29:26.423188095Z",
     "start_time": "2023-12-22T21:29:26.392167344Z"
    }
   },
   "id": "3a6d31f4e22af43a"
  },
  {
   "cell_type": "markdown",
   "source": [
    "______\n",
    "\n",
    "### _min_ and _max_\n",
    "\n",
    "Quickly check the minimum or maximum of a list with these functions. Only works with lists of all integers."
   ],
   "metadata": {
    "collapsed": false
   },
   "id": "c6166da3553edb65"
  },
  {
   "cell_type": "code",
   "execution_count": 17,
   "outputs": [
    {
     "data": {
      "text/plain": "10"
     },
     "execution_count": 17,
     "metadata": {},
     "output_type": "execute_result"
    }
   ],
   "source": [
    "mylist = [10,20,30,40,100]\n",
    "min(mylist)"
   ],
   "metadata": {
    "collapsed": false,
    "ExecuteTime": {
     "end_time": "2023-12-22T21:29:27.476069075Z",
     "start_time": "2023-12-22T21:29:27.457871764Z"
    }
   },
   "id": "95e41728d1295364"
  },
  {
   "cell_type": "code",
   "execution_count": 18,
   "outputs": [
    {
     "data": {
      "text/plain": "100"
     },
     "execution_count": 18,
     "metadata": {},
     "output_type": "execute_result"
    }
   ],
   "source": [
    "max(mylist)"
   ],
   "metadata": {
    "collapsed": false,
    "ExecuteTime": {
     "end_time": "2023-12-22T21:29:28.215946288Z",
     "start_time": "2023-12-22T21:29:28.170275510Z"
    }
   },
   "id": "931c5373603854c6"
  },
  {
   "cell_type": "markdown",
   "source": [
    "______\n",
    "\n",
    "### __random__\n",
    "\n",
    "Python comes with a built in random library. There are a lot of functions included in this random library, so we will only show you two useful functions for now."
   ],
   "metadata": {
    "collapsed": false
   },
   "id": "9670c1f79186108b"
  },
  {
   "cell_type": "code",
   "execution_count": 19,
   "outputs": [],
   "source": [
    "from random import shuffle"
   ],
   "metadata": {
    "collapsed": false,
    "ExecuteTime": {
     "end_time": "2023-12-22T21:29:29.400532852Z",
     "start_time": "2023-12-22T21:29:29.373829586Z"
    }
   },
   "id": "f2ddfa95fa098ac5"
  },
  {
   "cell_type": "code",
   "execution_count": 20,
   "outputs": [
    {
     "data": {
      "text/plain": "[2, 6, 3, 9, 8, 1, 10, 7, 5, 4]"
     },
     "execution_count": 20,
     "metadata": {},
     "output_type": "execute_result"
    }
   ],
   "source": [
    "mylist = [1,2,3,4,5,6,7,8,9,10]\n",
    "shuffle(mylist)\n",
    "mylist"
   ],
   "metadata": {
    "collapsed": false,
    "ExecuteTime": {
     "end_time": "2023-12-22T21:29:29.903733035Z",
     "start_time": "2023-12-22T21:29:29.877605966Z"
    }
   },
   "id": "e80430a180d311b2"
  },
  {
   "cell_type": "code",
   "execution_count": 21,
   "outputs": [
    {
     "data": {
      "text/plain": "34"
     },
     "execution_count": 21,
     "metadata": {},
     "output_type": "execute_result"
    }
   ],
   "source": [
    "from random import randint\n",
    "\n",
    "randint(0,100) # Return random integer in range [a, b], including both end points."
   ],
   "metadata": {
    "collapsed": false,
    "ExecuteTime": {
     "end_time": "2023-12-22T21:29:30.387364636Z",
     "start_time": "2023-12-22T21:29:30.351296300Z"
    }
   },
   "id": "6d804666a60236d5"
  },
  {
   "cell_type": "markdown",
   "source": [
    "______\n",
    "\n",
    "### __input__\n",
    "\n",
    "Allows you to ask a user for input."
   ],
   "metadata": {
    "collapsed": false
   },
   "id": "786bb21c0a5391c9"
  },
  {
   "cell_type": "code",
   "execution_count": 22,
   "outputs": [
    {
     "data": {
      "text/plain": "'12'"
     },
     "execution_count": 22,
     "metadata": {},
     "output_type": "execute_result"
    }
   ],
   "source": [
    "input('Enter Something into this box: ')"
   ],
   "metadata": {
    "collapsed": false,
    "ExecuteTime": {
     "end_time": "2023-12-22T21:29:35.820729394Z",
     "start_time": "2023-12-22T21:29:31.317614721Z"
    }
   },
   "id": "936cac751e4e8a5a"
  },
  {
   "cell_type": "code",
   "execution_count": 23,
   "outputs": [
    {
     "data": {
      "text/plain": "'Ivan'"
     },
     "execution_count": 23,
     "metadata": {},
     "output_type": "execute_result"
    }
   ],
   "source": [
    "result = input('What is your name?: ')\n",
    "result"
   ],
   "metadata": {
    "collapsed": false,
    "ExecuteTime": {
     "end_time": "2023-12-22T21:29:39.479666523Z",
     "start_time": "2023-12-22T21:29:37.007002347Z"
    }
   },
   "id": "1d54f63584497444"
  },
  {
   "cell_type": "code",
   "execution_count": 24,
   "outputs": [
    {
     "data": {
      "text/plain": "str"
     },
     "execution_count": 24,
     "metadata": {},
     "output_type": "execute_result"
    }
   ],
   "source": [
    "number = input('Favorite Number: ')\n",
    "type(number)"
   ],
   "metadata": {
    "collapsed": false,
    "ExecuteTime": {
     "end_time": "2023-12-22T21:29:43.248932313Z",
     "start_time": "2023-12-22T21:29:40.512982749Z"
    }
   },
   "id": "68271d3b39b86db9"
  },
  {
   "cell_type": "code",
   "execution_count": 25,
   "outputs": [
    {
     "data": {
      "text/plain": "7.0"
     },
     "execution_count": 25,
     "metadata": {},
     "output_type": "execute_result"
    }
   ],
   "source": [
    "float(number)"
   ],
   "metadata": {
    "collapsed": false,
    "ExecuteTime": {
     "end_time": "2023-12-22T21:29:44.385544819Z",
     "start_time": "2023-12-22T21:29:44.334187119Z"
    }
   },
   "id": "651f9cb845f14f36"
  },
  {
   "cell_type": "code",
   "execution_count": 26,
   "outputs": [
    {
     "data": {
      "text/plain": "7"
     },
     "execution_count": 26,
     "metadata": {},
     "output_type": "execute_result"
    }
   ],
   "source": [
    "int(number)"
   ],
   "metadata": {
    "collapsed": false,
    "ExecuteTime": {
     "end_time": "2023-12-22T21:29:45.054039159Z",
     "start_time": "2023-12-22T21:29:45.045195873Z"
    }
   },
   "id": "c04d0da47b075f6a"
  }
 ],
 "metadata": {
  "kernelspec": {
   "display_name": "Python 3",
   "language": "python",
   "name": "python3"
  },
  "language_info": {
   "codemirror_mode": {
    "name": "ipython",
    "version": 2
   },
   "file_extension": ".py",
   "mimetype": "text/x-python",
   "name": "python",
   "nbconvert_exporter": "python",
   "pygments_lexer": "ipython2",
   "version": "2.7.6"
  }
 },
 "nbformat": 4,
 "nbformat_minor": 5
}
