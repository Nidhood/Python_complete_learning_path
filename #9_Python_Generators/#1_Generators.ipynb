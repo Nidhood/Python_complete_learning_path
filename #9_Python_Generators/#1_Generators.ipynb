{
 "cells": [
  {
   "cell_type": "markdown",
   "source": [
    "# Generators\n",
    "\n",
    "Generators are a special class of functions that simplify the task of writing iterators. Regular functions compute a value and return it, but generators return an iterator that returns a stream of values."
   ],
   "metadata": {
    "collapsed": false
   },
   "id": "78c4e696855f093f"
  },
  {
   "cell_type": "code",
   "execution_count": 1,
   "outputs": [
    {
     "data": {
      "text/plain": "[0, 1, 8, 27, 64, 125, 216, 343, 512, 729]"
     },
     "execution_count": 1,
     "metadata": {},
     "output_type": "execute_result"
    }
   ],
   "source": [
    "def create_cubes(n):\n",
    "    result = []\n",
    "    for x in range(n):\n",
    "        result.append(x**3)\n",
    "    return result\n",
    "\n",
    "create_cubes(10)"
   ],
   "metadata": {
    "collapsed": false,
    "ExecuteTime": {
     "end_time": "2023-12-25T20:36:41.241748280Z",
     "start_time": "2023-12-25T20:36:41.238612612Z"
    }
   },
   "id": "97c30efd32962ed9"
  },
  {
   "cell_type": "code",
   "execution_count": 2,
   "outputs": [
    {
     "name": "stdout",
     "output_type": "stream",
     "text": [
      "0\n",
      "1\n",
      "8\n",
      "27\n",
      "64\n",
      "125\n",
      "216\n",
      "343\n",
      "512\n",
      "729\n"
     ]
    }
   ],
   "source": [
    "for x in create_cubes(10):\n",
    "    print(x)"
   ],
   "metadata": {
    "collapsed": false,
    "ExecuteTime": {
     "end_time": "2023-12-25T20:36:41.546708888Z",
     "start_time": "2023-12-25T20:36:41.522673087Z"
    }
   },
   "id": "453e5693c9782529"
  },
  {
   "cell_type": "markdown",
   "source": [
    "Notice that this function creates a list of all cubes from 0 to n and returns that list. This can be very memory intensive, especially if the output list is large. So we can reach another way to do this more efficiently by using generators, which generate values on the fly."
   ],
   "metadata": {
    "collapsed": false
   },
   "id": "2a8599a0d7aa0d65"
  },
  {
   "cell_type": "code",
   "execution_count": 3,
   "outputs": [
    {
     "name": "stdout",
     "output_type": "stream",
     "text": [
      "0\n",
      "1\n",
      "8\n",
      "27\n",
      "64\n",
      "125\n",
      "216\n",
      "343\n",
      "512\n",
      "729\n"
     ]
    }
   ],
   "source": [
    "def create_cubes(n):\n",
    "    for x in range(n):\n",
    "        yield x**3\n",
    "        \n",
    "        \n",
    "for x in create_cubes(10):\n",
    "    print(x)"
   ],
   "metadata": {
    "collapsed": false,
    "ExecuteTime": {
     "end_time": "2023-12-25T20:36:42.218660144Z",
     "start_time": "2023-12-25T20:36:42.199274967Z"
    }
   },
   "id": "ea83b51835a6a67f"
  },
  {
   "cell_type": "markdown",
   "source": [
    "________\n",
    "\n",
    "### _yield_ \n",
    "\n",
    "The yield statement let us to create a generator function. Unlike return, yield returns a generator object to the caller. When a generator function is compiled they become an object that supports an iteration protocol. That means when they are called in your code the don't actually return a value and then exit. Instead, generator functions will automatically suspend and resume their execution and state around the last point of value generation. The advantage is that instead of having to compute an entire series of values up front, the generator computes one value waits until the next value is called for."
   ],
   "metadata": {
    "collapsed": false
   },
   "id": "776820cb55bf9b99"
  },
  {
   "cell_type": "code",
   "execution_count": 4,
   "outputs": [
    {
     "data": {
      "text/plain": "<generator object create_cubes at 0x7f8c283a60b0>"
     },
     "execution_count": 4,
     "metadata": {},
     "output_type": "execute_result"
    }
   ],
   "source": [
    "create_cubes(10)"
   ],
   "metadata": {
    "collapsed": false,
    "ExecuteTime": {
     "end_time": "2023-12-25T20:36:42.981775381Z",
     "start_time": "2023-12-25T20:36:42.977126513Z"
    }
   },
   "id": "617bcf9a5536b662"
  },
  {
   "cell_type": "code",
   "execution_count": 5,
   "outputs": [
    {
     "data": {
      "text/plain": "[0, 1, 8, 27, 64, 125, 216, 343, 512, 729]"
     },
     "execution_count": 5,
     "metadata": {},
     "output_type": "execute_result"
    }
   ],
   "source": [
    "list(create_cubes(10))"
   ],
   "metadata": {
    "collapsed": false,
    "ExecuteTime": {
     "end_time": "2023-12-25T20:36:43.309903655Z",
     "start_time": "2023-12-25T20:36:43.304259312Z"
    }
   },
   "id": "31a8afb098a5913f"
  },
  {
   "cell_type": "code",
   "execution_count": 6,
   "outputs": [
    {
     "name": "stdout",
     "output_type": "stream",
     "text": [
      "1\n",
      "1\n",
      "2\n",
      "3\n",
      "5\n",
      "8\n",
      "13\n",
      "21\n",
      "34\n",
      "55\n"
     ]
    }
   ],
   "source": [
    "def gen_fibon(n):\n",
    "    a = 1\n",
    "    b = 1\n",
    "    for i in range(n):\n",
    "        yield a\n",
    "        a,b = b,a+b\n",
    "\n",
    "for number in gen_fibon(10):\n",
    "    print(number)"
   ],
   "metadata": {
    "collapsed": false,
    "ExecuteTime": {
     "end_time": "2023-12-25T20:36:43.667895606Z",
     "start_time": "2023-12-25T20:36:43.651350950Z"
    }
   },
   "id": "6b4c9ebd8bd625f0"
  },
  {
   "cell_type": "code",
   "execution_count": 7,
   "outputs": [
    {
     "name": "stdout",
     "output_type": "stream",
     "text": [
      "0\n",
      "1\n",
      "2\n"
     ]
    }
   ],
   "source": [
    "def simple_gen():\n",
    "    for x in range(3):\n",
    "        yield x\n",
    "\n",
    "for number in simple_gen():\n",
    "    print(number)"
   ],
   "metadata": {
    "collapsed": false,
    "ExecuteTime": {
     "end_time": "2023-12-25T20:36:44.005783542Z",
     "start_time": "2023-12-25T20:36:43.998653681Z"
    }
   },
   "id": "f6befa4da6e9f796"
  },
  {
   "cell_type": "code",
   "execution_count": 8,
   "outputs": [
    {
     "data": {
      "text/plain": "<generator object simple_gen at 0x7f8c2839ec80>"
     },
     "execution_count": 8,
     "metadata": {},
     "output_type": "execute_result"
    }
   ],
   "source": [
    "g = simple_gen()\n",
    "g"
   ],
   "metadata": {
    "collapsed": false,
    "ExecuteTime": {
     "end_time": "2023-12-25T20:36:44.425458722Z",
     "start_time": "2023-12-25T20:36:44.403394373Z"
    }
   },
   "id": "c484c34d54b53d9d"
  },
  {
   "cell_type": "markdown",
   "source": [
    "### _next()_\n",
    "\n",
    "We can use the next() function to iterate through a generator or we can just use a for loop."
   ],
   "metadata": {
    "collapsed": false
   },
   "id": "e61586cc60b4f94a"
  },
  {
   "cell_type": "code",
   "execution_count": 9,
   "outputs": [
    {
     "name": "stdout",
     "output_type": "stream",
     "text": [
      "0\n"
     ]
    }
   ],
   "source": [
    "print(next(g))"
   ],
   "metadata": {
    "collapsed": false,
    "ExecuteTime": {
     "end_time": "2023-12-25T20:36:45.049000804Z",
     "start_time": "2023-12-25T20:36:45.034561657Z"
    }
   },
   "id": "c758109e313188a0"
  },
  {
   "cell_type": "code",
   "execution_count": 10,
   "outputs": [
    {
     "name": "stdout",
     "output_type": "stream",
     "text": [
      "1\n"
     ]
    }
   ],
   "source": [
    "print(next(g))"
   ],
   "metadata": {
    "collapsed": false,
    "ExecuteTime": {
     "end_time": "2023-12-25T20:36:45.505756719Z",
     "start_time": "2023-12-25T20:36:45.500949957Z"
    }
   },
   "id": "dfe9008ba6bedc7a"
  },
  {
   "cell_type": "code",
   "execution_count": 11,
   "outputs": [
    {
     "name": "stdout",
     "output_type": "stream",
     "text": [
      "2\n"
     ]
    }
   ],
   "source": [
    "print(next(g))"
   ],
   "metadata": {
    "collapsed": false,
    "ExecuteTime": {
     "end_time": "2023-12-25T20:36:45.920085864Z",
     "start_time": "2023-12-25T20:36:45.897696460Z"
    }
   },
   "id": "20d52186778f7b97"
  },
  {
   "cell_type": "markdown",
   "source": [
    "### _iter()_\n",
    "\n",
    "Iterators are objects that can be iterated upon. Generators are not the only way to create iterators, but they are the easiest way to create iterators. If an object has an iter method, then it is an iterator. The iter method calls the next method for the given object."
   ],
   "metadata": {
    "collapsed": false
   },
   "id": "e58f9ff7734965cc"
  },
  {
   "cell_type": "code",
   "execution_count": 12,
   "outputs": [
    {
     "name": "stdout",
     "output_type": "stream",
     "text": [
      "h\n",
      "e\n",
      "l\n",
      "l\n",
      "o\n"
     ]
    }
   ],
   "source": [
    "string = 'hello'\n",
    "\n",
    "for letter in string:\n",
    "    print(letter)"
   ],
   "metadata": {
    "collapsed": false,
    "ExecuteTime": {
     "end_time": "2023-12-25T20:36:49.275596477Z",
     "start_time": "2023-12-25T20:36:49.257394352Z"
    }
   },
   "id": "6d0d3b0deb102ae3"
  },
  {
   "cell_type": "code",
   "execution_count": 13,
   "outputs": [
    {
     "data": {
      "text/plain": "'h'"
     },
     "execution_count": 13,
     "metadata": {},
     "output_type": "execute_result"
    }
   ],
   "source": [
    "s_iter = iter(string)\n",
    "\n",
    "next(s_iter)"
   ],
   "metadata": {
    "collapsed": false,
    "ExecuteTime": {
     "end_time": "2023-12-25T20:36:49.548347002Z",
     "start_time": "2023-12-25T20:36:49.541544160Z"
    }
   },
   "id": "a1a175e3be32b4cc"
  },
  {
   "cell_type": "code",
   "execution_count": 14,
   "outputs": [
    {
     "data": {
      "text/plain": "'e'"
     },
     "execution_count": 14,
     "metadata": {},
     "output_type": "execute_result"
    }
   ],
   "source": [
    "next(s_iter)"
   ],
   "metadata": {
    "collapsed": false,
    "ExecuteTime": {
     "end_time": "2023-12-25T20:36:49.849101874Z",
     "start_time": "2023-12-25T20:36:49.835782285Z"
    }
   },
   "id": "667dfb0dd0ff6286"
  },
  {
   "cell_type": "code",
   "execution_count": 15,
   "outputs": [
    {
     "data": {
      "text/plain": "'l'"
     },
     "execution_count": 15,
     "metadata": {},
     "output_type": "execute_result"
    }
   ],
   "source": [
    "next(s_iter)"
   ],
   "metadata": {
    "collapsed": false,
    "ExecuteTime": {
     "end_time": "2023-12-25T20:36:50.197253710Z",
     "start_time": "2023-12-25T20:36:50.177606435Z"
    }
   },
   "id": "e86b3f0ca065e634"
  },
  {
   "cell_type": "code",
   "execution_count": 16,
   "outputs": [
    {
     "data": {
      "text/plain": "'l'"
     },
     "execution_count": 16,
     "metadata": {},
     "output_type": "execute_result"
    }
   ],
   "source": [
    "next(s_iter)"
   ],
   "metadata": {
    "collapsed": false,
    "ExecuteTime": {
     "end_time": "2023-12-25T20:36:50.475468855Z",
     "start_time": "2023-12-25T20:36:50.460291831Z"
    }
   },
   "id": "808daa5ed84ef591"
  },
  {
   "cell_type": "code",
   "execution_count": 17,
   "outputs": [
    {
     "data": {
      "text/plain": "'o'"
     },
     "execution_count": 17,
     "metadata": {},
     "output_type": "execute_result"
    }
   ],
   "source": [
    "next(s_iter)"
   ],
   "metadata": {
    "collapsed": false,
    "ExecuteTime": {
     "end_time": "2023-12-25T20:36:50.905119165Z",
     "start_time": "2023-12-25T20:36:50.884653291Z"
    }
   },
   "id": "62459470dbde9930"
  }
 ],
 "metadata": {
  "kernelspec": {
   "display_name": "Python 3",
   "language": "python",
   "name": "python3"
  },
  "language_info": {
   "codemirror_mode": {
    "name": "ipython",
    "version": 2
   },
   "file_extension": ".py",
   "mimetype": "text/x-python",
   "name": "python",
   "nbconvert_exporter": "python",
   "pygments_lexer": "ipython2",
   "version": "2.7.6"
  }
 },
 "nbformat": 4,
 "nbformat_minor": 5
}
