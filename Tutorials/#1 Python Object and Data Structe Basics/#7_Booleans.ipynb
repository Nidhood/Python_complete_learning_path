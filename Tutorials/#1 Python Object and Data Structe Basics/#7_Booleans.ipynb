{
 "cells": [
  {
   "cell_type": "markdown",
   "source": [
    "# Booleans\n",
    "\n",
    "Booleans are operators that allow you to convey True or False statements. These are very important later on when we deal with control flow and logic!"
   ],
   "metadata": {
    "collapsed": false
   },
   "id": "b43013adc46e3bea"
  },
  {
   "cell_type": "code",
   "execution_count": 1,
   "outputs": [
    {
     "data": {
      "text/plain": "True"
     },
     "execution_count": 1,
     "metadata": {},
     "output_type": "execute_result"
    }
   ],
   "source": [
    "True"
   ],
   "metadata": {
    "collapsed": false,
    "ExecuteTime": {
     "end_time": "2023-12-21T18:02:07.454141601Z",
     "start_time": "2023-12-21T18:02:07.401160767Z"
    }
   },
   "id": "7586d3bf7dd55b3a"
  },
  {
   "cell_type": "code",
   "execution_count": 2,
   "outputs": [
    {
     "data": {
      "text/plain": "False"
     },
     "execution_count": 2,
     "metadata": {},
     "output_type": "execute_result"
    }
   ],
   "source": [
    "False"
   ],
   "metadata": {
    "collapsed": false,
    "ExecuteTime": {
     "end_time": "2023-12-21T18:02:07.475363622Z",
     "start_time": "2023-12-21T18:02:07.443238664Z"
    }
   },
   "id": "f27498f8473195f7"
  },
  {
   "cell_type": "markdown",
   "source": [
    "An important concept that we should know is the None keyword. This is used to define a null or empty value. It is not the same as 0 or False, it is a placeholder for an object that we do not know yet. For example:"
   ],
   "metadata": {
    "collapsed": false
   },
   "id": "d4dfc00b6fed8c2d"
  },
  {
   "cell_type": "code",
   "execution_count": 3,
   "outputs": [
    {
     "name": "stdout",
     "output_type": "stream",
     "text": [
      "None\n"
     ]
    }
   ],
   "source": [
    "b = None\n",
    "print(b)"
   ],
   "metadata": {
    "collapsed": false,
    "ExecuteTime": {
     "end_time": "2023-12-21T18:02:07.526462448Z",
     "start_time": "2023-12-21T18:02:07.461839802Z"
    }
   },
   "id": "9566a3d2ef384246"
  }
 ],
 "metadata": {
  "kernelspec": {
   "display_name": "Python 3",
   "language": "python",
   "name": "python3"
  },
  "language_info": {
   "codemirror_mode": {
    "name": "ipython",
    "version": 2
   },
   "file_extension": ".py",
   "mimetype": "text/x-python",
   "name": "python",
   "nbconvert_exporter": "python",
   "pygments_lexer": "ipython2",
   "version": "2.7.6"
  }
 },
 "nbformat": 4,
 "nbformat_minor": 5
}
