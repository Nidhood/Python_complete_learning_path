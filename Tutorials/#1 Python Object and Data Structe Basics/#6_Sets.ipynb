{
 "cells": [
  {
   "cell_type": "markdown",
   "source": [
    "# Sets\n",
    "\n",
    "Sets are unordered collections of unique elements. Meaning there can only be one representative of the same object in a set. Sets are useful for finding unique elements in a list."
   ],
   "metadata": {
    "collapsed": false
   },
   "id": "17744faa1cd9e930"
  },
  {
   "cell_type": "code",
   "execution_count": 1,
   "outputs": [
    {
     "data": {
      "text/plain": "set()"
     },
     "execution_count": 1,
     "metadata": {},
     "output_type": "execute_result"
    }
   ],
   "source": [
    "my_set = set()\n",
    "my_set"
   ],
   "metadata": {
    "collapsed": false,
    "ExecuteTime": {
     "end_time": "2023-12-21T17:57:58.940584943Z",
     "start_time": "2023-12-21T17:57:58.939430189Z"
    }
   },
   "id": "8762a0e681c3ae65"
  },
  {
   "cell_type": "markdown",
   "source": [
    "________    \n",
    "### _add()_\n",
    "\n",
    "Add an element to a set. If the element is already in the set, it won't add it again."
   ],
   "metadata": {
    "collapsed": false
   },
   "id": "b081bf14cabe937c"
  },
  {
   "cell_type": "code",
   "execution_count": 2,
   "outputs": [
    {
     "data": {
      "text/plain": "{1, 2, 3}"
     },
     "execution_count": 2,
     "metadata": {},
     "output_type": "execute_result"
    }
   ],
   "source": [
    "my_set.add(1)\n",
    "my_set.add(2)\n",
    "my_set.add(3)\n",
    "my_set"
   ],
   "metadata": {
    "collapsed": false,
    "ExecuteTime": {
     "end_time": "2023-12-21T17:57:59.668184053Z",
     "start_time": "2023-12-21T17:57:59.662060531Z"
    }
   },
   "id": "f916f2a089f35ab6"
  },
  {
   "cell_type": "markdown",
   "source": [
    "Like we said before, sets only contain unique elements. So if we try to add an element that is already in the set, it won't add it again. This is useful for finding unique elements in a list."
   ],
   "metadata": {
    "collapsed": false
   },
   "id": "ac2d15365e822898"
  },
  {
   "cell_type": "code",
   "execution_count": 3,
   "outputs": [
    {
     "data": {
      "text/plain": "{1, 2, 3}"
     },
     "execution_count": 3,
     "metadata": {},
     "output_type": "execute_result"
    }
   ],
   "source": [
    "my_list = [1,1,1,1,2,2,2,2,3,3,3,3]\n",
    "set(my_list)"
   ],
   "metadata": {
    "collapsed": false,
    "ExecuteTime": {
     "end_time": "2023-12-21T17:58:01.133371137Z",
     "start_time": "2023-12-21T17:58:01.120336975Z"
    }
   },
   "id": "4be317f842b90f7"
  }
 ],
 "metadata": {
  "kernelspec": {
   "display_name": "Python 3",
   "language": "python",
   "name": "python3"
  },
  "language_info": {
   "codemirror_mode": {
    "name": "ipython",
    "version": 2
   },
   "file_extension": ".py",
   "mimetype": "text/x-python",
   "name": "python",
   "nbconvert_exporter": "python",
   "pygments_lexer": "ipython2",
   "version": "2.7.6"
  }
 },
 "nbformat": 4,
 "nbformat_minor": 5
}
