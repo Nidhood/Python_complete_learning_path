{
 "cells": [
  {
   "cell_type": "markdown",
   "source": [
    "# Decorators in Python\n",
    "\n",
    "The main concept behind decorators is to make a function more useful without modifying the original function. This is also called metaprogramming because a part of the program tries to modify another part of the program at compile time.\n",
    "\n",
    "Luckily, Python allows us to modify functions using decorators that allow you to tack on extra functionality to an already existing function. This is called metaprogramming as a part of the program tries to modify another part of the program at compile time. They use the @ operator and are then placed on top of the original function. Now you can add on extra functionality with a decorator:\n",
    "\n",
    "```python\n",
    "@some_decorator\n",
    "def simple_func():\n",
    "    # Do simple stuff\n",
    "    pass\n",
    "´´´\n"
   ],
   "metadata": {
    "collapsed": false
   },
   "id": "d1f05440a81f9a50"
  },
  {
   "cell_type": "code",
   "execution_count": 1,
   "outputs": [
    {
     "data": {
      "text/plain": "1"
     },
     "execution_count": 1,
     "metadata": {},
     "output_type": "execute_result"
    }
   ],
   "source": [
    "def func():\n",
    "    return 1\n",
    "\n",
    "func()"
   ],
   "metadata": {
    "collapsed": false,
    "ExecuteTime": {
     "end_time": "2023-12-25T20:20:08.219552922Z",
     "start_time": "2023-12-25T20:20:08.218489362Z"
    }
   },
   "id": "9424d76f3dd6a417"
  },
  {
   "cell_type": "code",
   "execution_count": 2,
   "outputs": [
    {
     "data": {
      "text/plain": "'Hello!'"
     },
     "execution_count": 2,
     "metadata": {},
     "output_type": "execute_result"
    }
   ],
   "source": [
    "def hello():\n",
    "    return \"Hello!\"\n",
    "\n",
    "hello()"
   ],
   "metadata": {
    "collapsed": false,
    "ExecuteTime": {
     "end_time": "2023-12-25T20:20:08.536154066Z",
     "start_time": "2023-12-25T20:20:08.506784108Z"
    }
   },
   "id": "dd0261f0937e74dc"
  },
  {
   "cell_type": "code",
   "execution_count": 3,
   "outputs": [
    {
     "data": {
      "text/plain": "'Hello!'"
     },
     "execution_count": 3,
     "metadata": {},
     "output_type": "execute_result"
    }
   ],
   "source": [
    "greet = hello\n",
    "greet()"
   ],
   "metadata": {
    "collapsed": false,
    "ExecuteTime": {
     "end_time": "2023-12-25T20:20:08.777409934Z",
     "start_time": "2023-12-25T20:20:08.756837242Z"
    }
   },
   "id": "bdf3b317dd608192"
  },
  {
   "cell_type": "markdown",
   "source": [
    "What's happening here is that we are assigning the result of a function, hello, to the greet variable. Note that we are not using parentheses here because we are not calling the function hello instead we are just putting it into the greet variable. "
   ],
   "metadata": {
    "collapsed": false
   },
   "id": "2d93b9b03eedaa7e"
  },
  {
   "cell_type": "code",
   "execution_count": 4,
   "outputs": [
    {
     "ename": "NameError",
     "evalue": "name 'hello' is not defined",
     "output_type": "error",
     "traceback": [
      "\u001B[0;31m---------------------------------------------------------------------------\u001B[0m",
      "\u001B[0;31mNameError\u001B[0m                                 Traceback (most recent call last)",
      "Cell \u001B[0;32mIn[4], line 2\u001B[0m\n\u001B[1;32m      1\u001B[0m \u001B[38;5;28;01mdel\u001B[39;00m hello\n\u001B[0;32m----> 2\u001B[0m \u001B[43mhello\u001B[49m()\n",
      "\u001B[0;31mNameError\u001B[0m: name 'hello' is not defined"
     ]
    }
   ],
   "source": [
    "del hello\n",
    "hello()"
   ],
   "metadata": {
    "collapsed": false,
    "ExecuteTime": {
     "end_time": "2023-12-25T20:20:09.438906311Z",
     "start_time": "2023-12-25T20:20:09.210975943Z"
    }
   },
   "id": "ef5ca8e1df9a11f"
  },
  {
   "cell_type": "code",
   "execution_count": 5,
   "outputs": [
    {
     "data": {
      "text/plain": "'Hello!'"
     },
     "execution_count": 5,
     "metadata": {},
     "output_type": "execute_result"
    }
   ],
   "source": [
    "greet()"
   ],
   "metadata": {
    "collapsed": false,
    "ExecuteTime": {
     "end_time": "2023-12-25T20:20:09.616671339Z",
     "start_time": "2023-12-25T20:20:09.594174312Z"
    }
   },
   "id": "f1a67f62417f87a7"
  },
  {
   "cell_type": "markdown",
   "source": [
    "Although we deleted the name hello from the space, the name greet still points to the original hello function. This is important to note because functions are objects that can be passed into other objects. "
   ],
   "metadata": {
    "collapsed": false
   },
   "id": "35c9d489f00f5c7b"
  },
  {
   "cell_type": "code",
   "execution_count": 6,
   "outputs": [
    {
     "name": "stdout",
     "output_type": "stream",
     "text": [
      "The hello() function has been executed!\n",
      "\t This is the greet() func inside hello!\n",
      "\t This is welcome() inside hello\n",
      "This is the end of the hello function!\n"
     ]
    }
   ],
   "source": [
    "def hello(name='Ivan'):\n",
    "    print('The hello() function has been executed!')\n",
    "\n",
    "    def greet():\n",
    "        return '\\t This is the greet() func inside hello!'\n",
    "    \n",
    "    def welcome():\n",
    "        return '\\t This is welcome() inside hello'\n",
    "    \n",
    "    print(greet())\n",
    "    print(welcome())\n",
    "    print('This is the end of the hello function!')\n",
    "    \n",
    "hello()"
   ],
   "metadata": {
    "collapsed": false,
    "ExecuteTime": {
     "end_time": "2023-12-25T20:20:10.405972574Z",
     "start_time": "2023-12-25T20:20:10.402267983Z"
    }
   },
   "id": "c72edf5c0716dedc"
  },
  {
   "cell_type": "code",
   "execution_count": 7,
   "outputs": [
    {
     "name": "stdout",
     "output_type": "stream",
     "text": [
      "The hello() function has been executed!\n",
      "I am going to return a function!\n"
     ]
    }
   ],
   "source": [
    "def hello(name='Ivan'):\n",
    "    print('The hello() function has been executed!')\n",
    "\n",
    "    def greet():\n",
    "        return '\\t This is the greet() func inside hello!'\n",
    "    \n",
    "    def welcome():\n",
    "        return '\\t This is welcome() inside hello'\n",
    "    \n",
    "    print('I am going to return a function!')\n",
    "    \n",
    "    if name == 'Ivan':\n",
    "        return greet\n",
    "    else:\n",
    "        return welcome\n",
    "\n",
    "my_new_func = hello('Ivan')"
   ],
   "metadata": {
    "collapsed": false,
    "ExecuteTime": {
     "end_time": "2023-12-25T20:20:10.889418646Z",
     "start_time": "2023-12-25T20:20:10.875640450Z"
    }
   },
   "id": "d338ea54799b6e48"
  },
  {
   "cell_type": "code",
   "execution_count": 8,
   "outputs": [
    {
     "name": "stdout",
     "output_type": "stream",
     "text": [
      "\t This is the greet() func inside hello!\n"
     ]
    }
   ],
   "source": [
    "print(my_new_func())"
   ],
   "metadata": {
    "collapsed": false,
    "ExecuteTime": {
     "end_time": "2023-12-25T20:20:11.409120093Z",
     "start_time": "2023-12-25T20:20:11.399662539Z"
    }
   },
   "id": "63eda9eae5285f98"
  },
  {
   "cell_type": "code",
   "execution_count": 9,
   "outputs": [],
   "source": [
    "def cool():\n",
    "    \n",
    "    def super_cool():\n",
    "        return 'I am very cool!'\n",
    "    \n",
    "    return super_cool"
   ],
   "metadata": {
    "collapsed": false,
    "ExecuteTime": {
     "end_time": "2023-12-25T20:20:11.803521617Z",
     "start_time": "2023-12-25T20:20:11.798921067Z"
    }
   },
   "id": "278d7a36185447b9"
  },
  {
   "cell_type": "code",
   "execution_count": 10,
   "outputs": [
    {
     "data": {
      "text/plain": "'I am very cool!'"
     },
     "execution_count": 10,
     "metadata": {},
     "output_type": "execute_result"
    }
   ],
   "source": [
    "some_func = cool()\n",
    "\n",
    "some_func()"
   ],
   "metadata": {
    "collapsed": false,
    "ExecuteTime": {
     "end_time": "2023-12-25T20:20:12.263640542Z",
     "start_time": "2023-12-25T20:20:12.258587701Z"
    }
   },
   "id": "6da1aa4be46debdb"
  },
  {
   "cell_type": "code",
   "execution_count": 11,
   "outputs": [
    {
     "name": "stdout",
     "output_type": "stream",
     "text": [
      "Other code runs here!\n",
      "Hi Ivan!\n"
     ]
    }
   ],
   "source": [
    "def hello():\n",
    "    return 'Hi Ivan!'\n",
    "\n",
    "def other(some_def_func):\n",
    "    print('Other code runs here!')\n",
    "    print(some_def_func())\n",
    "\n",
    "other(hello)"
   ],
   "metadata": {
    "collapsed": false,
    "ExecuteTime": {
     "end_time": "2023-12-25T20:20:12.716035273Z",
     "start_time": "2023-12-25T20:20:12.678676145Z"
    }
   },
   "id": "45fabba1a48125fd"
  },
  {
   "cell_type": "markdown",
   "source": [
    "Notice here how we are passing the functions as objects. We can use this to create a decorator!"
   ],
   "metadata": {
    "collapsed": false
   },
   "id": "e3e5a71bff5c3fbf"
  },
  {
   "cell_type": "code",
   "execution_count": 12,
   "outputs": [
    {
     "name": "stdout",
     "output_type": "stream",
     "text": [
      "I want to be decorated!\n"
     ]
    }
   ],
   "source": [
    "def new_decorator(original_func):\n",
    "    \n",
    "    def wrap_func():\n",
    "        \n",
    "        print('Some extra code, before the original function')\n",
    "        \n",
    "        original_func()\n",
    "        \n",
    "        print('Some extra code, after the original function!')\n",
    "        \n",
    "    return wrap_func\n",
    "\n",
    "def func_needs_decorator():\n",
    "    print('I want to be decorated!')\n",
    "    \n",
    "func_needs_decorator()"
   ],
   "metadata": {
    "collapsed": false,
    "ExecuteTime": {
     "end_time": "2023-12-25T20:20:13.958568649Z",
     "start_time": "2023-12-25T20:20:13.955358717Z"
    }
   },
   "id": "da5542e1799b8580"
  },
  {
   "cell_type": "code",
   "execution_count": 13,
   "outputs": [
    {
     "name": "stdout",
     "output_type": "stream",
     "text": [
      "Some extra code, before the original function\n",
      "I want to be decorated!\n",
      "Some extra code, after the original function!\n"
     ]
    }
   ],
   "source": [
    "decorated_func = new_decorator(func_needs_decorator)\n",
    "\n",
    "decorated_func()"
   ],
   "metadata": {
    "collapsed": false,
    "ExecuteTime": {
     "end_time": "2023-12-25T20:20:14.619829439Z",
     "start_time": "2023-12-25T20:20:14.613188721Z"
    }
   },
   "id": "447b4dee18eb8424"
  },
  {
   "cell_type": "markdown",
   "source": [
    "So, basically what we do before was  to manually create a decorator. Now we can see how we can rewrite this code using the @ symbol, which is what Python uses for Decorators:"
   ],
   "metadata": {
    "collapsed": false
   },
   "id": "117a72ebbec07f6"
  },
  {
   "cell_type": "code",
   "execution_count": 14,
   "outputs": [
    {
     "name": "stdout",
     "output_type": "stream",
     "text": [
      "Some extra code, before the original function\n",
      "I want to be decorated!\n",
      "Some extra code, after the original function!\n"
     ]
    }
   ],
   "source": [
    "@new_decorator # This decorator is the same as the decorated_func = new_decorator(func_needs_decorator), this means that the new_decorator function is going to be executed first and then the func_needs_decorator function is going to be executed.\n",
    "def func_needs_decorator():\n",
    "    print('I want to be decorated!')\n",
    "    \n",
    "func_needs_decorator()"
   ],
   "metadata": {
    "collapsed": false,
    "ExecuteTime": {
     "end_time": "2023-12-25T20:20:15.761745845Z",
     "start_time": "2023-12-25T20:20:15.755346903Z"
    }
   },
   "id": "d4b88ec08dddf705"
  },
  {
   "cell_type": "markdown",
   "source": [
    "Finally, to improve our understanding, decorators are just a way to wrap functions and modify or enhance their behaviour. If you are familiar with Python classes, decorators are just a way of implementing the Decorator Design Pattern in Python, without having to implement a class.\n"
   ],
   "metadata": {
    "collapsed": false
   },
   "id": "e29569dbe00ee7af"
  }
 ],
 "metadata": {
  "kernelspec": {
   "display_name": "Python 3",
   "language": "python",
   "name": "python3"
  },
  "language_info": {
   "codemirror_mode": {
    "name": "ipython",
    "version": 2
   },
   "file_extension": ".py",
   "mimetype": "text/x-python",
   "name": "python",
   "nbconvert_exporter": "python",
   "pygments_lexer": "ipython2",
   "version": "2.7.6"
  }
 },
 "nbformat": 4,
 "nbformat_minor": 5
}
