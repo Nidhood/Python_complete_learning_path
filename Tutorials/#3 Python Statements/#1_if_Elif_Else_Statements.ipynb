{
 "cells": [
  {
   "cell_type": "markdown",
   "source": [
    "# If, Elif, Else Statements\n",
    "\n",
    "If, Elif, Else Statements are conditional statements that allow us to control what code is executed and when. The syntax for these conditional statements is as follows:\n",
    "\n",
    "    if some_condition:\n",
    "        # execute some code\n",
    "    elif some_other_condition:\n",
    "        # do something different\n",
    "    else:\n",
    "        # do something else\n",
    "        \n",
    "### _if_\n",
    "\n",
    "The if statement is used to check a condition. If the condition is true, we run a block of statements (called the if-block), else we process another block of statements (called the else-block). The else clause is optional.\n",
    "\n",
    "### _elif_\n",
    "\n",
    "The elif statement allows you to check multiple expressions for TRUE and execute a block of code as soon as one of the conditions evaluates to TRUE.\n",
    "\n",
    "### _else_\n",
    "\n",
    "The else statement allows you to execute a block of code if none of the conditions are true."
   ],
   "metadata": {
    "collapsed": false
   },
   "id": "1c25977002a2fdea"
  },
  {
   "cell_type": "code",
   "execution_count": 1,
   "outputs": [
    {
     "name": "stdout",
     "output_type": "stream",
     "text": [
      "ITS TRUE!\n"
     ]
    }
   ],
   "source": [
    "if True:\n",
    "    print('ITS TRUE!')  "
   ],
   "metadata": {
    "collapsed": false,
    "ExecuteTime": {
     "end_time": "2023-12-22T20:49:38.328802817Z",
     "start_time": "2023-12-22T20:49:38.327957689Z"
    }
   },
   "id": "caca9ce463a540cd"
  },
  {
   "cell_type": "code",
   "execution_count": 2,
   "outputs": [
    {
     "name": "stdout",
     "output_type": "stream",
     "text": [
      "ITS TRUE!\n"
     ]
    }
   ],
   "source": [
    "if 3 > 2:\n",
    "    print('ITS TRUE!')"
   ],
   "metadata": {
    "collapsed": false,
    "ExecuteTime": {
     "end_time": "2023-12-22T20:49:38.860013256Z",
     "start_time": "2023-12-22T20:49:38.847372415Z"
    }
   },
   "id": "8d803c6fb049f464"
  },
  {
   "cell_type": "code",
   "execution_count": 3,
   "outputs": [
    {
     "name": "stdout",
     "output_type": "stream",
     "text": [
      "Welcome to the bank!\n"
     ]
    }
   ],
   "source": [
    "loc = 'Bank'\n",
    "\n",
    "if loc == 'Auto Shop':\n",
    "    print('Welcome to the Auto Shop!')\n",
    "elif loc == 'Bank':\n",
    "    print('Welcome to the bank!')\n",
    "elif loc == 'Mall':\n",
    "    print('Welcome to the mall!')\n",
    "else:\n",
    "    print('Where are you?')"
   ],
   "metadata": {
    "collapsed": false,
    "ExecuteTime": {
     "end_time": "2023-12-22T20:49:39.595921690Z",
     "start_time": "2023-12-22T20:49:39.587297854Z"
    }
   },
   "id": "5a476d6754439307"
  },
  {
   "cell_type": "code",
   "execution_count": 4,
   "outputs": [
    {
     "name": "stdout",
     "output_type": "stream",
     "text": [
      "Welcome George!\n"
     ]
    }
   ],
   "source": [
    "person = 'George'\n",
    "\n",
    "if person == 'Sammy':\n",
    "    print('Welcome Sammy!')\n",
    "elif person == 'George':\n",
    "    print(\"Welcome George!\")\n",
    "else:\n",
    "    print(\"Welcome, what's your name?\")"
   ],
   "metadata": {
    "collapsed": false,
    "ExecuteTime": {
     "end_time": "2023-12-22T20:49:40.558798409Z",
     "start_time": "2023-12-22T20:49:40.533769683Z"
    }
   },
   "id": "951945e3e4577088"
  }
 ],
 "metadata": {
  "kernelspec": {
   "display_name": "Python 3",
   "language": "python",
   "name": "python3"
  },
  "language_info": {
   "codemirror_mode": {
    "name": "ipython",
    "version": 2
   },
   "file_extension": ".py",
   "mimetype": "text/x-python",
   "name": "python",
   "nbconvert_exporter": "python",
   "pygments_lexer": "ipython2",
   "version": "2.7.6"
  }
 },
 "nbformat": 4,
 "nbformat_minor": 5
}
