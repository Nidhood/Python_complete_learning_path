{
 "cells": [
  {
   "cell_type": "markdown",
   "source": [
    "# While Loops\n",
    "\n",
    "While loops are similar to for loops, except that the loop is executed while a condition is true, rather than a set number of times. The syntax is as follows:\n",
    "\n",
    "    while condition:\n",
    "        # do something\n",
    "        \n",
    "### _while_\n",
    "\n",
    "While keyword is used to start a while loop. The condition is specified after the while keyword. The condition is evaluated, and if the condition is true, the code within the loop is executed. This will continue until the condition is false."
   ],
   "metadata": {
    "collapsed": false
   },
   "id": "9dc11c653f629a7e"
  },
  {
   "cell_type": "code",
   "execution_count": 1,
   "outputs": [
    {
     "name": "stdout",
     "output_type": "stream",
     "text": [
      "The current value of x is 0\n",
      "The current value of x is 1\n",
      "The current value of x is 2\n",
      "The current value of x is 3\n",
      "The current value of x is 4\n"
     ]
    }
   ],
   "source": [
    "x = 0\n",
    "\n",
    "while x < 5:\n",
    "    print('The current value of x is {}'.format(x))\n",
    "    x += 1"
   ],
   "metadata": {
    "collapsed": false,
    "ExecuteTime": {
     "end_time": "2023-12-22T21:12:24.050060168Z",
     "start_time": "2023-12-22T21:12:24.047889736Z"
    }
   },
   "id": "fc7be382370f497a"
  },
  {
   "cell_type": "markdown",
   "source": [
    "### _break_, _continue_, _pass_\n",
    "\n",
    "_____   \n",
    "# _pass_\n",
    "\n",
    "The pass keyword is used to do nothing at all. It can be used when a statement is required syntactically, but the program requires no action. "
   ],
   "metadata": {
    "collapsed": false
   },
   "id": "2a9ccea88eb4e8c"
  },
  {
   "cell_type": "code",
   "execution_count": 2,
   "outputs": [
    {
     "name": "stdout",
     "output_type": "stream",
     "text": [
      "end of my script\n"
     ]
    }
   ],
   "source": [
    "x = [1,2,3]\n",
    "\n",
    "for item in x:\n",
    "    # comment\n",
    "    pass\n",
    "\n",
    "print('end of my script')"
   ],
   "metadata": {
    "collapsed": false,
    "ExecuteTime": {
     "end_time": "2023-12-22T21:12:24.865203428Z",
     "start_time": "2023-12-22T21:12:24.845199110Z"
    }
   },
   "id": "590f1d3039773ee7"
  },
  {
   "cell_type": "markdown",
   "source": [
    "______  \n",
    "# _continue_\n",
    "\n",
    "The continued keyword can be used to skip the rest of the code inside a loop and continue to the next iteration.\n"
   ],
   "metadata": {
    "collapsed": false
   },
   "id": "948321fc94be6fb3"
  },
  {
   "cell_type": "code",
   "execution_count": 3,
   "outputs": [
    {
     "name": "stdout",
     "output_type": "stream",
     "text": [
      "The current value of x is 0\n",
      "continuing...\n",
      "The current value of x is 1\n",
      "x is equal to 2\n",
      "The current value of x is 2\n",
      "continuing...\n",
      "The current value of x is 3\n",
      "continuing...\n",
      "The current value of x is 4\n",
      "continuing...\n"
     ]
    }
   ],
   "source": [
    "x = 0\n",
    "\n",
    "while x < 5:\n",
    "    print('The current value of x is {}'.format(x))\n",
    "    x += 1\n",
    "    if x == 2:\n",
    "        print('x is equal to 2')\n",
    "    else:\n",
    "        print('continuing...')\n",
    "        continue"
   ],
   "metadata": {
    "collapsed": false,
    "ExecuteTime": {
     "end_time": "2023-12-22T21:12:25.736636943Z",
     "start_time": "2023-12-22T21:12:25.718570661Z"
    }
   },
   "id": "2bb262fd67aa5d24"
  },
  {
   "cell_type": "markdown",
   "source": [
    "_______ \n",
    "# _break_\n",
    "\n",
    "The break keyword can be used to break out of the current closest enclosing loop. "
   ],
   "metadata": {
    "collapsed": false
   },
   "id": "21a8a51b790a2f8a"
  },
  {
   "cell_type": "code",
   "execution_count": 4,
   "outputs": [
    {
     "name": "stdout",
     "output_type": "stream",
     "text": [
      "The current value of x is 0\n",
      "continuing...\n",
      "The current value of x is 1\n",
      "x is equal to 2\n"
     ]
    }
   ],
   "source": [
    "x = 0\n",
    "\n",
    "while x < 5:\n",
    "    print('The current value of x is {}'.format(x))\n",
    "    x += 1\n",
    "    if x == 2:\n",
    "        print('x is equal to 2')\n",
    "        break\n",
    "    else:\n",
    "        print('continuing...')\n",
    "        continue"
   ],
   "metadata": {
    "collapsed": false,
    "ExecuteTime": {
     "end_time": "2023-12-22T21:12:26.992143667Z",
     "start_time": "2023-12-22T21:12:26.967080823Z"
    }
   },
   "id": "c2b4e9812eb782eb"
  }
 ],
 "metadata": {
  "kernelspec": {
   "display_name": "Python 3",
   "language": "python",
   "name": "python3"
  },
  "language_info": {
   "codemirror_mode": {
    "name": "ipython",
    "version": 2
   },
   "file_extension": ".py",
   "mimetype": "text/x-python",
   "name": "python",
   "nbconvert_exporter": "python",
   "pygments_lexer": "ipython2",
   "version": "2.7.6"
  }
 },
 "nbformat": 4,
 "nbformat_minor": 5
}
