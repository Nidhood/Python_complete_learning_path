{
 "cells": [
  {
   "cell_type": "markdown",
   "source": [
    "# List Comprehension\n",
    "\n",
    "List comprehension is a concise way to create lists. It consists of brackets containing an expression followed by a for clause, then zero or more for or if clauses. The expressions can be anything, meaning you can put in all kinds of objects in lists. The list comprehension always returns a result list. "
   ],
   "metadata": {
    "collapsed": false
   },
   "id": "cf21ea3998e89061"
  },
  {
   "cell_type": "code",
   "execution_count": 1,
   "outputs": [
    {
     "name": "stdout",
     "output_type": "stream",
     "text": [
      "['h', 'e', 'l', 'l', 'o']\n"
     ]
    }
   ],
   "source": [
    "my_string = 'hello'\n",
    "\n",
    "my_list = []\n",
    "\n",
    "for letter in my_string:  # normal method.\n",
    "    my_list.append(letter)\n",
    "\n",
    "print(my_list)"
   ],
   "metadata": {
    "collapsed": false,
    "ExecuteTime": {
     "end_time": "2023-12-22T21:40:20.392526535Z",
     "start_time": "2023-12-22T21:40:20.391611343Z"
    }
   },
   "id": "a1d2fdf0abe801f5"
  },
  {
   "cell_type": "code",
   "execution_count": 2,
   "outputs": [
    {
     "name": "stdout",
     "output_type": "stream",
     "text": [
      "['h', 'e', 'l', 'l', 'o']\n"
     ]
    }
   ],
   "source": [
    "my_list = [letter for letter in my_string] # list comprehension method.\n",
    "print(my_list)"
   ],
   "metadata": {
    "collapsed": false,
    "ExecuteTime": {
     "end_time": "2023-12-22T21:40:20.729950178Z",
     "start_time": "2023-12-22T21:40:20.720409793Z"
    }
   },
   "id": "2cb9cc964dcbe5c9"
  },
  {
   "cell_type": "code",
   "execution_count": 3,
   "outputs": [
    {
     "name": "stdout",
     "output_type": "stream",
     "text": [
      "['w', 'o', 'r', 'd']\n"
     ]
    }
   ],
   "source": [
    "my_list = [x for x in 'word'] # list comprehension method.\n",
    "print(my_list)"
   ],
   "metadata": {
    "collapsed": false,
    "ExecuteTime": {
     "end_time": "2023-12-22T21:40:21.053484272Z",
     "start_time": "2023-12-22T21:40:21.045723944Z"
    }
   },
   "id": "24a8727d723eb5f"
  },
  {
   "cell_type": "code",
   "execution_count": 4,
   "outputs": [
    {
     "name": "stdout",
     "output_type": "stream",
     "text": [
      "[0, 1, 2, 3, 4, 5, 6, 7, 8, 9, 10]\n"
     ]
    }
   ],
   "source": [
    "my_list = [num for num in range(0,11)] # list comprehension method.\n",
    "print(my_list)"
   ],
   "metadata": {
    "collapsed": false,
    "ExecuteTime": {
     "end_time": "2023-12-22T21:40:21.442807344Z",
     "start_time": "2023-12-22T21:40:21.438473521Z"
    }
   },
   "id": "abcca3c5bb80c6a3"
  },
  {
   "cell_type": "code",
   "execution_count": 5,
   "outputs": [
    {
     "name": "stdout",
     "output_type": "stream",
     "text": [
      "[0, 1, 4, 9, 16, 25, 36, 49, 64, 81, 100]\n"
     ]
    }
   ],
   "source": [
    "my_list = [num**2 for num in range(0,11)] # list comprehension method.\n",
    "print(my_list)"
   ],
   "metadata": {
    "collapsed": false,
    "ExecuteTime": {
     "end_time": "2023-12-22T21:40:21.772322470Z",
     "start_time": "2023-12-22T21:40:21.758260632Z"
    }
   },
   "id": "55aaa8dbb884a57"
  },
  {
   "cell_type": "code",
   "execution_count": 6,
   "outputs": [
    {
     "name": "stdout",
     "output_type": "stream",
     "text": [
      "[0, 2, 4, 6, 8, 10]\n"
     ]
    }
   ],
   "source": [
    "my_list = [x for x in range(0,11) if x%2==0] # list comprehension method.\n",
    "print(my_list)"
   ],
   "metadata": {
    "collapsed": false,
    "ExecuteTime": {
     "end_time": "2023-12-22T21:40:22.128316032Z",
     "start_time": "2023-12-22T21:40:22.101176558Z"
    }
   },
   "id": "229c996cb9ada257"
  },
  {
   "cell_type": "code",
   "execution_count": 7,
   "outputs": [
    {
     "name": "stdout",
     "output_type": "stream",
     "text": [
      "[32.0, 50.0, 68.0, 94.1]\n"
     ]
    }
   ],
   "source": [
    "celcius = [0,10,20,34.5]\n",
    "fahrenheit = [((9/5)*temp + 32) for temp in celcius]\n",
    "print(fahrenheit)"
   ],
   "metadata": {
    "collapsed": false,
    "ExecuteTime": {
     "end_time": "2023-12-22T21:40:22.534979458Z",
     "start_time": "2023-12-22T21:40:22.521858612Z"
    }
   },
   "id": "94b9ec3c768ab7f3"
  },
  {
   "cell_type": "markdown",
   "source": [
    "We can use if else in list comprehension? Yes, we can."
   ],
   "metadata": {
    "collapsed": false
   },
   "id": "9d2fabf613bfc1c6"
  },
  {
   "cell_type": "code",
   "execution_count": 8,
   "outputs": [
    {
     "name": "stdout",
     "output_type": "stream",
     "text": [
      "[0, 'ODD', 2, 'ODD', 4, 'ODD', 6, 'ODD', 8, 'ODD', 10]\n"
     ]
    }
   ],
   "source": [
    "results = [x if x%2==0 else 'ODD' for x in range(0,11)]\n",
    "print(results)"
   ],
   "metadata": {
    "collapsed": false,
    "ExecuteTime": {
     "end_time": "2023-12-22T21:40:23.217435784Z",
     "start_time": "2023-12-22T21:40:23.210617104Z"
    }
   },
   "id": "2d92d9677eaf4aeb"
  },
  {
   "cell_type": "markdown",
   "source": [
    "A crucial program method is nested loop in list comprehension."
   ],
   "metadata": {
    "collapsed": false
   },
   "id": "b5421eb9c3410b0e"
  },
  {
   "cell_type": "code",
   "execution_count": 9,
   "outputs": [
    {
     "name": "stdout",
     "output_type": "stream",
     "text": [
      "[2, 20, 2000, 4, 40, 4000, 6, 60, 6000]\n"
     ]
    }
   ],
   "source": [
    "my_list = []\n",
    "\n",
    "for x in [2,4,6]:           # normal method.\n",
    "    for y in [1,10,1000]:\n",
    "        my_list.append(x*y)\n",
    "        \n",
    "print(my_list)"
   ],
   "metadata": {
    "collapsed": false,
    "ExecuteTime": {
     "end_time": "2023-12-22T21:40:24.078385842Z",
     "start_time": "2023-12-22T21:40:24.071264425Z"
    }
   },
   "id": "8629a1df119a5ce8"
  },
  {
   "cell_type": "code",
   "execution_count": 10,
   "outputs": [
    {
     "name": "stdout",
     "output_type": "stream",
     "text": [
      "[2, 20, 2000, 4, 40, 4000, 6, 60, 6000]\n"
     ]
    }
   ],
   "source": [
    "my_list = [x*y for x in [2,4,6] for y in [1,10,1000]] # list comprehension method.\n",
    "print(my_list)"
   ],
   "metadata": {
    "collapsed": false,
    "ExecuteTime": {
     "end_time": "2023-12-22T21:40:24.915188360Z",
     "start_time": "2023-12-22T21:40:24.905086349Z"
    }
   },
   "id": "71ff192ad39e0132"
  }
 ],
 "metadata": {
  "kernelspec": {
   "display_name": "Python 3",
   "language": "python",
   "name": "python3"
  },
  "language_info": {
   "codemirror_mode": {
    "name": "ipython",
    "version": 2
   },
   "file_extension": ".py",
   "mimetype": "text/x-python",
   "name": "python",
   "nbconvert_exporter": "python",
   "pygments_lexer": "ipython2",
   "version": "2.7.6"
  }
 },
 "nbformat": 4,
 "nbformat_minor": 5
}
