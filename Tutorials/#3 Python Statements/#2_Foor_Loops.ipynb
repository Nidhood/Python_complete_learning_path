{
 "cells": [
  {
   "cell_type": "markdown",
   "source": [
    "# For Loops\n",
    "\n",
    "For loops, statements are used to iterate through a sequence (list, tuple, string) or other iterable objects. Iterating through a sequence is called traversal. The syntax for a for loop is:\n",
    "\n",
    "\n",
    "my_iterable = [1,2,3]\n",
    "***for*** item_name ***in*** my_iterable:\n",
    "    print(item_name)\n",
    "    \n",
    "### _for_\n",
    "\n",
    "The for is a keyword that tells Python that we are about to start a for loop.\n",
    "\n",
    "### _in_\n",
    "\n",
    "The in is a keyword that tells Python that we are about to specify what sequence we want to iterate through.\n",
    "    "
   ],
   "metadata": {
    "collapsed": false
   },
   "id": "628fb42344f7d6b6"
  },
  {
   "cell_type": "code",
   "execution_count": 1,
   "outputs": [
    {
     "name": "stdout",
     "output_type": "stream",
     "text": [
      "1\n",
      "2\n",
      "3\n",
      "4\n",
      "5\n",
      "6\n",
      "7\n",
      "8\n",
      "9\n",
      "10\n"
     ]
    }
   ],
   "source": [
    "my_list = [1,2,3,4,5,6,7,8,9,10]\n",
    "\n",
    "for num in my_list:\n",
    "    print(num)"
   ],
   "metadata": {
    "collapsed": false,
    "ExecuteTime": {
     "end_time": "2023-12-22T21:02:30.215569747Z",
     "start_time": "2023-12-22T21:02:30.179167518Z"
    }
   },
   "id": "84a96355872d5f10"
  },
  {
   "cell_type": "code",
   "execution_count": 2,
   "outputs": [
    {
     "name": "stdout",
     "output_type": "stream",
     "text": [
      "Odd Number: 1\n",
      "2\n",
      "Odd Number: 3\n",
      "4\n",
      "Odd Number: 5\n",
      "6\n",
      "Odd Number: 7\n",
      "8\n",
      "Odd Number: 9\n",
      "10\n"
     ]
    }
   ],
   "source": [
    "for num in my_list:\n",
    "    # Check for even\n",
    "    if num % 2 == 0:\n",
    "        print(num)\n",
    "    else:\n",
    "        print(f'Odd Number: {num}')\n",
    "        "
   ],
   "metadata": {
    "collapsed": false,
    "ExecuteTime": {
     "end_time": "2023-12-22T21:02:30.254910435Z",
     "start_time": "2023-12-22T21:02:30.215169970Z"
    }
   },
   "id": "3da6d899e1468a64"
  },
  {
   "cell_type": "code",
   "execution_count": 3,
   "outputs": [
    {
     "name": "stdout",
     "output_type": "stream",
     "text": [
      "H\n",
      "e\n",
      "l\n",
      "l\n",
      "o\n",
      " \n",
      "W\n",
      "o\n",
      "r\n",
      "l\n",
      "d\n"
     ]
    }
   ],
   "source": [
    "my_string = 'Hello World'\n",
    "\n",
    "for letter in my_string:\n",
    "    print(letter)"
   ],
   "metadata": {
    "collapsed": false,
    "ExecuteTime": {
     "end_time": "2023-12-22T21:02:30.312099540Z",
     "start_time": "2023-12-22T21:02:30.244205028Z"
    }
   },
   "id": "d2c07696c7c8199e"
  },
  {
   "cell_type": "code",
   "execution_count": 4,
   "outputs": [
    {
     "name": "stdout",
     "output_type": "stream",
     "text": [
      "(1, 2)\n",
      "(3, 4)\n",
      "(5, 6)\n",
      "(7, 8)\n"
     ]
    }
   ],
   "source": [
    "my_list = [(1,2),(3,4),(5,6),(7,8)]\n",
    "\n",
    "for item in my_list:\n",
    "    print(item)"
   ],
   "metadata": {
    "collapsed": false,
    "ExecuteTime": {
     "end_time": "2023-12-22T21:02:30.426633147Z",
     "start_time": "2023-12-22T21:02:30.311695339Z"
    }
   },
   "id": "2c6b46c6c1430957"
  },
  {
   "cell_type": "markdown",
   "source": [
    "An important concept is _tuple unpacking_. With tuple unpacking, we can access the individual items in a tuple. For example:"
   ],
   "metadata": {
    "collapsed": false
   },
   "id": "de5fec021cffd23c"
  },
  {
   "cell_type": "code",
   "execution_count": 5,
   "outputs": [
    {
     "name": "stdout",
     "output_type": "stream",
     "text": [
      "1\n",
      "3\n",
      "5\n",
      "7\n"
     ]
    }
   ],
   "source": [
    "for a,b in my_list:\n",
    "    print(a)"
   ],
   "metadata": {
    "collapsed": false,
    "ExecuteTime": {
     "end_time": "2023-12-22T21:02:30.466099357Z",
     "start_time": "2023-12-22T21:02:30.419823788Z"
    }
   },
   "id": "5a16358ede7c5693"
  },
  {
   "cell_type": "code",
   "execution_count": 6,
   "outputs": [
    {
     "name": "stdout",
     "output_type": "stream",
     "text": [
      "2\n",
      "4\n",
      "6\n",
      "8\n"
     ]
    }
   ],
   "source": [
    "for a,b in my_list:\n",
    "    print(b)"
   ],
   "metadata": {
    "collapsed": false,
    "ExecuteTime": {
     "end_time": "2023-12-22T21:02:30.513068034Z",
     "start_time": "2023-12-22T21:02:30.446817203Z"
    }
   },
   "id": "e223cccc47950ec2"
  },
  {
   "cell_type": "code",
   "execution_count": 7,
   "outputs": [
    {
     "name": "stdout",
     "output_type": "stream",
     "text": [
      "2\n",
      "6\n",
      "9\n"
     ]
    }
   ],
   "source": [
    "my_list = [(1,2,3),(5,6,7),(8,9,10)]\n",
    "\n",
    "for a,b,c in my_list:\n",
    "    print(b)"
   ],
   "metadata": {
    "collapsed": false,
    "ExecuteTime": {
     "end_time": "2023-12-22T21:02:30.609622520Z",
     "start_time": "2023-12-22T21:02:30.517992687Z"
    }
   },
   "id": "6f69ab13525d662c"
  },
  {
   "cell_type": "code",
   "execution_count": 8,
   "outputs": [
    {
     "name": "stdout",
     "output_type": "stream",
     "text": [
      "k1\n",
      "k2\n",
      "k3\n"
     ]
    }
   ],
   "source": [
    "d = {'k1':1,'k2':2,'k3':3}\n",
    "\n",
    "for item in d: # By default, this will iterate through the keys\n",
    "    print(item)"
   ],
   "metadata": {
    "collapsed": false,
    "ExecuteTime": {
     "end_time": "2023-12-22T21:02:30.680151707Z",
     "start_time": "2023-12-22T21:02:30.608777482Z"
    }
   },
   "id": "1de771698076f5c1"
  },
  {
   "cell_type": "code",
   "execution_count": 9,
   "outputs": [
    {
     "name": "stdout",
     "output_type": "stream",
     "text": [
      "('k1', 1)\n",
      "('k2', 2)\n",
      "('k3', 3)\n"
     ]
    }
   ],
   "source": [
    "for item in d.items(): # This will iterate through the key-value pairs\n",
    "    print(item)"
   ],
   "metadata": {
    "collapsed": false,
    "ExecuteTime": {
     "end_time": "2023-12-22T21:02:30.749130142Z",
     "start_time": "2023-12-22T21:02:30.660570637Z"
    }
   },
   "id": "5efb20e66b3fec91"
  },
  {
   "cell_type": "code",
   "execution_count": 10,
   "outputs": [
    {
     "name": "stdout",
     "output_type": "stream",
     "text": [
      "1\n",
      "2\n",
      "3\n"
     ]
    }
   ],
   "source": [
    "for key,value in d.items(): # This will iterate through the key-value pairs\n",
    "    print(value)"
   ],
   "metadata": {
    "collapsed": false,
    "ExecuteTime": {
     "end_time": "2023-12-22T21:02:30.785367754Z",
     "start_time": "2023-12-22T21:02:30.703663829Z"
    }
   },
   "id": "15307ba8a0d41bd0"
  }
 ],
 "metadata": {
  "kernelspec": {
   "display_name": "Python 3",
   "language": "python",
   "name": "python3"
  },
  "language_info": {
   "codemirror_mode": {
    "name": "ipython",
    "version": 2
   },
   "file_extension": ".py",
   "mimetype": "text/x-python",
   "name": "python",
   "nbconvert_exporter": "python",
   "pygments_lexer": "ipython2",
   "version": "2.7.6"
  }
 },
 "nbformat": 4,
 "nbformat_minor": 5
}
