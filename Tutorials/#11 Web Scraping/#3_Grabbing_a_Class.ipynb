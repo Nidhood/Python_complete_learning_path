{
 "cells": [
  {
   "cell_type": "markdown",
   "source": [
    "# Table with some common CSS Selectors\n",
    "\n",
    "\n",
    "<table>\n",
    "  <tr>\n",
    "    <th style=\"text-align:center;\">Syntax</th>\n",
    "    <th style=\"text-align:center;\">Match results</th>\n",
    "  </tr>\n",
    "  <tr>\n",
    "    <td style=\"text-align:left;\">soup.select('div')</td>\n",
    "    <td style=\"text-align:left;\">All elements named &lt;div&gt;</td>\n",
    "  </tr>\n",
    "  <tr>\n",
    "    <td style=\"text-align:left;\">soup.select('#some_id')</td>\n",
    "    <td style=\"text-align:left;\">The element with the id attribute of some_id</td>\n",
    "  </tr>\n",
    "  <tr>\n",
    "    <td style=\"text-align:left;\">soup.select('.some_class')</td>\n",
    "    <td style=\"text-align:left;\">All elements that use a CSS class attribute named some_class</td>\n",
    "  </tr>\n",
    "  <tr>\n",
    "    <td style=\"text-align:left;\">soup.select('div span')</td>\n",
    "    <td style=\"text-align:left;\">All elements named &lt;span&gt; that are within an element named &lt;div&gt;</td>\n",
    "  </tr>\n",
    "  <tr>\n",
    "    <td style=\"text-align:left;\">soup.select('div > span')</td>\n",
    "    <td style=\"text-align:left;\">All elements named &lt;span&gt; that are directly within an element named &lt;div&gt;, with no other element in between</td>\n",
    "  </tr>\n",
    "  <tr>\n",
    "    <td style=\"text-align:left;\">soup.select('input[name]')</td>\n",
    "    <td style=\"text-align:left;\">All elements named &lt;input&gt; that have a name attribute with any value</td>\n",
    "  </tr>\n",
    "  <tr>\n",
    "    <td style=\"text-align:left;\">soup.select('input[type=\"button\"]')</td>\n",
    "    <td style=\"text-align:left;\">All elements named &lt;input&gt; that have an attribute named type with value button</td>\n",
    "  </tr>\n",
    "</table>\n"
   ],
   "metadata": {
    "collapsed": false
   },
   "id": "fabf3e2f87274b6"
  },
  {
   "cell_type": "code",
   "execution_count": 1,
   "outputs": [],
   "source": [
    "import requests\n",
    "import bs4\n",
    "\n",
    "res = requests.get('https://en.wikipedia.org/wiki/Grace_Hopper')"
   ],
   "metadata": {
    "collapsed": false,
    "ExecuteTime": {
     "end_time": "2024-01-05T20:06:15.378810081Z",
     "start_time": "2024-01-05T20:06:14.637738556Z"
    }
   },
   "id": "d46107d693e401f2"
  },
  {
   "cell_type": "code",
   "execution_count": 2,
   "outputs": [],
   "source": [
    "soup = bs4.BeautifulSoup(res.text, 'lxml')"
   ],
   "metadata": {
    "collapsed": false,
    "ExecuteTime": {
     "end_time": "2024-01-05T20:06:19.096538663Z",
     "start_time": "2024-01-05T20:06:18.762078176Z"
    }
   },
   "id": "9b3bc6d2e11bab70"
  },
  {
   "cell_type": "code",
   "execution_count": 5,
   "outputs": [
    {
     "data": {
      "text/plain": "[<div class=\"vector-toc-text\">(Top)</div>,\n <div class=\"vector-toc-text\">\n <span class=\"vector-toc-numb\">1</span>Early life and education</div>,\n <div class=\"vector-toc-text\">\n <span class=\"vector-toc-numb\">2</span>Career</div>,\n <div class=\"vector-toc-text\">\n <span class=\"vector-toc-numb\">2.1</span>World War II</div>,\n <div class=\"vector-toc-text\">\n <span class=\"vector-toc-numb\">2.2</span>UNIVAC</div>,\n <div class=\"vector-toc-text\">\n <span class=\"vector-toc-numb\">2.3</span>COBOL</div>,\n <div class=\"vector-toc-text\">\n <span class=\"vector-toc-numb\">2.4</span>Standards</div>,\n <div class=\"vector-toc-text\">\n <span class=\"vector-toc-numb\">3</span>Retirement</div>,\n <div class=\"vector-toc-text\">\n <span class=\"vector-toc-numb\">4</span>Post-retirement</div>,\n <div class=\"vector-toc-text\">\n <span class=\"vector-toc-numb\">5</span>Anecdotes</div>,\n <div class=\"vector-toc-text\">\n <span class=\"vector-toc-numb\">6</span>Death</div>,\n <div class=\"vector-toc-text\">\n <span class=\"vector-toc-numb\">7</span>Dates of rank</div>,\n <div class=\"vector-toc-text\">\n <span class=\"vector-toc-numb\">8</span>Awards and honors</div>,\n <div class=\"vector-toc-text\">\n <span class=\"vector-toc-numb\">8.1</span>Military awards</div>,\n <div class=\"vector-toc-text\">\n <span class=\"vector-toc-numb\">8.2</span>Other awards</div>,\n <div class=\"vector-toc-text\">\n <span class=\"vector-toc-numb\">9</span>Legacy</div>,\n <div class=\"vector-toc-text\">\n <span class=\"vector-toc-numb\">9.1</span>Places</div>,\n <div class=\"vector-toc-text\">\n <span class=\"vector-toc-numb\">9.2</span>Programs</div>,\n <div class=\"vector-toc-text\">\n <span class=\"vector-toc-numb\">9.3</span>In popular culture</div>,\n <div class=\"vector-toc-text\">\n <span class=\"vector-toc-numb\">9.3.1</span>Grace Hopper Celebration of Women in Computing</div>,\n <div class=\"vector-toc-text\">\n <span class=\"vector-toc-numb\">10</span>See also</div>,\n <div class=\"vector-toc-text\">\n <span class=\"vector-toc-numb\">11</span>Notes</div>,\n <div class=\"vector-toc-text\">\n <span class=\"vector-toc-numb\">12</span>References</div>,\n <div class=\"vector-toc-text\">\n <span class=\"vector-toc-numb\">13</span>Obituary notices</div>,\n <div class=\"vector-toc-text\">\n <span class=\"vector-toc-numb\">14</span>Further reading</div>,\n <div class=\"vector-toc-text\">\n <span class=\"vector-toc-numb\">15</span>External links</div>]"
     },
     "execution_count": 5,
     "metadata": {},
     "output_type": "execute_result"
    }
   ],
   "source": [
    "soup.select('.vector-toc-text')"
   ],
   "metadata": {
    "collapsed": false,
    "ExecuteTime": {
     "end_time": "2024-01-05T20:07:36.115184034Z",
     "start_time": "2024-01-05T20:07:36.070521798Z"
    }
   },
   "id": "5a791bc0e986e812"
  },
  {
   "cell_type": "code",
   "execution_count": 6,
   "outputs": [
    {
     "data": {
      "text/plain": "<div class=\"vector-toc-text\">(Top)</div>"
     },
     "execution_count": 6,
     "metadata": {},
     "output_type": "execute_result"
    }
   ],
   "source": [
    "soup.select('.vector-toc-text')[0]"
   ],
   "metadata": {
    "collapsed": false,
    "ExecuteTime": {
     "end_time": "2024-01-05T20:08:20.318351754Z",
     "start_time": "2024-01-05T20:08:20.253869085Z"
    }
   },
   "id": "325cd64a881d4f87"
  },
  {
   "cell_type": "code",
   "execution_count": 9,
   "outputs": [
    {
     "data": {
      "text/plain": "<div class=\"vector-toc-text\">\n<span class=\"vector-toc-numb\">1</span>Early life and education</div>"
     },
     "execution_count": 9,
     "metadata": {},
     "output_type": "execute_result"
    }
   ],
   "source": [
    "first_item = soup.select('.vector-toc-text')[1]\n",
    "first_item"
   ],
   "metadata": {
    "collapsed": false,
    "ExecuteTime": {
     "end_time": "2024-01-05T20:08:58.971635602Z",
     "start_time": "2024-01-05T20:08:58.905679914Z"
    }
   },
   "id": "1560df512c2edebf"
  },
  {
   "cell_type": "code",
   "execution_count": 10,
   "outputs": [
    {
     "data": {
      "text/plain": "'\\n1Early life and education'"
     },
     "execution_count": 10,
     "metadata": {},
     "output_type": "execute_result"
    }
   ],
   "source": [
    "first_item.text"
   ],
   "metadata": {
    "collapsed": false,
    "ExecuteTime": {
     "end_time": "2024-01-05T20:09:00.880260716Z",
     "start_time": "2024-01-05T20:09:00.873281559Z"
    }
   },
   "id": "4092d70799219067"
  },
  {
   "cell_type": "code",
   "execution_count": 11,
   "outputs": [
    {
     "name": "stdout",
     "output_type": "stream",
     "text": [
      "(Top)\n",
      "\n",
      "1Early life and education\n",
      "\n",
      "2Career\n",
      "\n",
      "2.1World War II\n",
      "\n",
      "2.2UNIVAC\n",
      "\n",
      "2.3COBOL\n",
      "\n",
      "2.4Standards\n",
      "\n",
      "3Retirement\n",
      "\n",
      "4Post-retirement\n",
      "\n",
      "5Anecdotes\n",
      "\n",
      "6Death\n",
      "\n",
      "7Dates of rank\n",
      "\n",
      "8Awards and honors\n",
      "\n",
      "8.1Military awards\n",
      "\n",
      "8.2Other awards\n",
      "\n",
      "9Legacy\n",
      "\n",
      "9.1Places\n",
      "\n",
      "9.2Programs\n",
      "\n",
      "9.3In popular culture\n",
      "\n",
      "9.3.1Grace Hopper Celebration of Women in Computing\n",
      "\n",
      "10See also\n",
      "\n",
      "11Notes\n",
      "\n",
      "12References\n",
      "\n",
      "13Obituary notices\n",
      "\n",
      "14Further reading\n",
      "\n",
      "15External links\n"
     ]
    }
   ],
   "source": [
    "for item in soup.select('.vector-toc-text'):\n",
    "    print(item.text)"
   ],
   "metadata": {
    "collapsed": false,
    "ExecuteTime": {
     "end_time": "2024-01-05T20:09:19.648913569Z",
     "start_time": "2024-01-05T20:09:19.563663037Z"
    }
   },
   "id": "c8a674f1dc55ff58"
  },
  {
   "cell_type": "code",
   "execution_count": null,
   "outputs": [],
   "source": [],
   "metadata": {
    "collapsed": false
   },
   "id": "767186c16a65f041"
  }
 ],
 "metadata": {
  "kernelspec": {
   "display_name": "Python 3",
   "language": "python",
   "name": "python3"
  },
  "language_info": {
   "codemirror_mode": {
    "name": "ipython",
    "version": 2
   },
   "file_extension": ".py",
   "mimetype": "text/x-python",
   "name": "python",
   "nbconvert_exporter": "python",
   "pygments_lexer": "ipython2",
   "version": "2.7.6"
  }
 },
 "nbformat": 4,
 "nbformat_minor": 5
}
