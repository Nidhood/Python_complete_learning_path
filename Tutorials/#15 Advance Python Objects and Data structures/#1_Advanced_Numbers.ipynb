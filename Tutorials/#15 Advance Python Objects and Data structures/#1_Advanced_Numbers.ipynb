{
 "cells": [
  {
   "cell_type": "markdown",
   "source": [
    "# Advanced Numbers\n",
    "\n",
    "In this section we are going to explore more number representations in Python."
   ],
   "metadata": {
    "collapsed": false
   },
   "id": "51f53c2037e8e70d"
  },
  {
   "cell_type": "markdown",
   "source": [
    "___________\n",
    "\n",
    "### __Hexadecimal__\n",
    "\n",
    "Hexadecimal is base 16. It uses the digits 0-9 and the letters A-F. Which in python we write using the *hex()* function."
   ],
   "metadata": {
    "collapsed": false
   },
   "id": "22c263d17fbeb933"
  },
  {
   "cell_type": "code",
   "execution_count": 2,
   "outputs": [
    {
     "data": {
      "text/plain": "'0xc'"
     },
     "execution_count": 2,
     "metadata": {},
     "output_type": "execute_result"
    }
   ],
   "source": [
    "hex(12) # Decimal to hex"
   ],
   "metadata": {
    "collapsed": false,
    "ExecuteTime": {
     "end_time": "2024-01-06T01:43:38.128992946Z",
     "start_time": "2024-01-06T01:43:38.099970242Z"
    }
   },
   "id": "79d84757e123391f"
  },
  {
   "cell_type": "markdown",
   "source": [
    "____________    \n",
    "\n",
    "### __Binary__\n",
    "\n",
    "Binary is base 2. It uses the digits 0 and 1. That's it. Each digit is also known as a *bit*. Which in python we write using the *bin()* function."
   ],
   "metadata": {
    "collapsed": false
   },
   "id": "b4743a6c6d254067"
  },
  {
   "cell_type": "code",
   "execution_count": 7,
   "outputs": [
    {
     "data": {
      "text/plain": "'0b10000000'"
     },
     "execution_count": 7,
     "metadata": {},
     "output_type": "execute_result"
    }
   ],
   "source": [
    "bin(128) # Decimal to binary"
   ],
   "metadata": {
    "collapsed": false,
    "ExecuteTime": {
     "end_time": "2024-01-06T01:45:00.587080625Z",
     "start_time": "2024-01-06T01:45:00.535421279Z"
    }
   },
   "id": "20aafaa31a6cb1de"
  },
  {
   "cell_type": "code",
   "execution_count": 8,
   "outputs": [
    {
     "data": {
      "text/plain": "'0b1000000000'"
     },
     "execution_count": 8,
     "metadata": {},
     "output_type": "execute_result"
    }
   ],
   "source": [
    "bin(512) # Decimal to binary"
   ],
   "metadata": {
    "collapsed": false,
    "ExecuteTime": {
     "end_time": "2024-01-06T01:45:01.160141274Z",
     "start_time": "2024-01-06T01:45:01.154880722Z"
    }
   },
   "id": "13cd4b5f6e593182"
  },
  {
   "cell_type": "code",
   "execution_count": 9,
   "outputs": [
    {
     "data": {
      "text/plain": "'0b10000000000'"
     },
     "execution_count": 9,
     "metadata": {},
     "output_type": "execute_result"
    }
   ],
   "source": [
    "bin(1024) # Decimal to binary"
   ],
   "metadata": {
    "collapsed": false,
    "ExecuteTime": {
     "end_time": "2024-01-06T01:45:01.946484907Z",
     "start_time": "2024-01-06T01:45:01.933520612Z"
    }
   },
   "id": "111145a332c3723f"
  },
  {
   "cell_type": "markdown",
   "source": [
    "____________\n",
    "\n",
    "### __Exponentials__\n",
    "\n",
    "Python has a built-in function for exponentials also known as powers. The ** operator is used to calculate powers. Which in python we write using the ** operator. Or the *pow()* function."
   ],
   "metadata": {
    "collapsed": false
   },
   "id": "219fbbf6ab340e1e"
  },
  {
   "cell_type": "code",
   "execution_count": 10,
   "outputs": [
    {
     "data": {
      "text/plain": "16"
     },
     "execution_count": 10,
     "metadata": {},
     "output_type": "execute_result"
    }
   ],
   "source": [
    "2**4 # 2 to the power of 4"
   ],
   "metadata": {
    "collapsed": false,
    "ExecuteTime": {
     "end_time": "2024-01-06T01:45:26.064031658Z",
     "start_time": "2024-01-06T01:45:26.013626395Z"
    }
   },
   "id": "3c440662ce367e40"
  },
  {
   "cell_type": "code",
   "execution_count": 11,
   "outputs": [
    {
     "data": {
      "text/plain": "16"
     },
     "execution_count": 11,
     "metadata": {},
     "output_type": "execute_result"
    }
   ],
   "source": [
    "pow(2,4) # 2 to the power of 4"
   ],
   "metadata": {
    "collapsed": false,
    "ExecuteTime": {
     "end_time": "2024-01-06T01:45:28.075568494Z",
     "start_time": "2024-01-06T01:45:28.012670329Z"
    }
   },
   "id": "9921a6188b9efd0d"
  },
  {
   "cell_type": "code",
   "execution_count": 12,
   "outputs": [
    {
     "data": {
      "text/plain": "1"
     },
     "execution_count": 12,
     "metadata": {},
     "output_type": "execute_result"
    }
   ],
   "source": [
    "pow(2,4,3) # 2 to the power of 4, modulo 3"
   ],
   "metadata": {
    "collapsed": false,
    "ExecuteTime": {
     "end_time": "2024-01-06T01:45:34.599810996Z",
     "start_time": "2024-01-06T01:45:34.533625174Z"
    }
   },
   "id": "9a8210241dcc0d7c"
  },
  {
   "cell_type": "markdown",
   "source": [
    "____________\n",
    "\n",
    "### __Absolute Value__\n",
    "\n",
    "The *abs()* function returns the absolute value of a number. The argument may be an integer or a floating point number. If the argument is a complex number, its magnitude is returned. Which in python we write using the *abs()* function."
   ],
   "metadata": {
    "collapsed": false
   },
   "id": "82b25615a1f65a87"
  },
  {
   "cell_type": "code",
   "execution_count": 13,
   "outputs": [
    {
     "data": {
      "text/plain": "3"
     },
     "execution_count": 13,
     "metadata": {},
     "output_type": "execute_result"
    }
   ],
   "source": [
    "abs(-3) # Absolute value"
   ],
   "metadata": {
    "collapsed": false,
    "ExecuteTime": {
     "end_time": "2024-01-06T01:45:57.700540720Z",
     "start_time": "2024-01-06T01:45:57.650469403Z"
    }
   },
   "id": "841644dad23dd027"
  },
  {
   "cell_type": "markdown",
   "source": [
    "____________\n",
    "\n",
    "### __Round__\n",
    "\n",
    "The *round()* function returns the floating point number rounded off to the given number of digits after the decimal point. If no digits are given, it rounds off the number to the nearest integer. Which in python we write using the *round()* function."
   ],
   "metadata": {
    "collapsed": false
   },
   "id": "d87745c99c668f33"
  },
  {
   "cell_type": "code",
   "execution_count": 14,
   "outputs": [
    {
     "data": {
      "text/plain": "3"
     },
     "execution_count": 14,
     "metadata": {},
     "output_type": "execute_result"
    }
   ],
   "source": [
    "round(3.1) # Round to nearest integer"
   ],
   "metadata": {
    "collapsed": false,
    "ExecuteTime": {
     "end_time": "2024-01-06T01:46:06.165142782Z",
     "start_time": "2024-01-06T01:46:06.111154003Z"
    }
   },
   "id": "2f8ff4d1b51031c1"
  },
  {
   "cell_type": "code",
   "execution_count": 15,
   "outputs": [
    {
     "data": {
      "text/plain": "4"
     },
     "execution_count": 15,
     "metadata": {},
     "output_type": "execute_result"
    }
   ],
   "source": [
    "round(3.9) # Round to nearest integer"
   ],
   "metadata": {
    "collapsed": false,
    "ExecuteTime": {
     "end_time": "2024-01-06T01:46:09.505764434Z",
     "start_time": "2024-01-06T01:46:09.418961437Z"
    }
   },
   "id": "11b33b8eb61295a2"
  },
  {
   "cell_type": "code",
   "execution_count": 16,
   "outputs": [
    {
     "data": {
      "text/plain": "3.14"
     },
     "execution_count": 16,
     "metadata": {},
     "output_type": "execute_result"
    }
   ],
   "source": [
    "round(3.141592,2) # Round to 2 decimal places"
   ],
   "metadata": {
    "collapsed": false,
    "ExecuteTime": {
     "end_time": "2024-01-06T01:46:54.639567161Z",
     "start_time": "2024-01-06T01:46:54.569003742Z"
    }
   },
   "id": "87746c92c8c9c3f8"
  }
 ],
 "metadata": {
  "kernelspec": {
   "display_name": "Python 3",
   "language": "python",
   "name": "python3"
  },
  "language_info": {
   "codemirror_mode": {
    "name": "ipython",
    "version": 2
   },
   "file_extension": ".py",
   "mimetype": "text/x-python",
   "name": "python",
   "nbconvert_exporter": "python",
   "pygments_lexer": "ipython2",
   "version": "2.7.6"
  }
 },
 "nbformat": 4,
 "nbformat_minor": 5
}
