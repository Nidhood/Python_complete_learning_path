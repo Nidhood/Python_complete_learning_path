{
 "cells": [
  {
   "cell_type": "markdown",
   "source": [
    "# Advance Strings\n",
    "\n",
    "We can reduce the time using the advance string methods."
   ],
   "metadata": {
    "collapsed": false
   },
   "id": "d74f01cdb591a97f"
  },
  {
   "cell_type": "markdown",
   "source": [
    "___________\n",
    "\n",
    "### ___Capitalize___\n",
    "\n",
    "The *capitalize()* method will capitalize the first word in a string."
   ],
   "metadata": {
    "collapsed": false
   },
   "id": "671e619853d0e07b"
  },
  {
   "cell_type": "code",
   "execution_count": 2,
   "outputs": [
    {
     "data": {
      "text/plain": "'Hello world'"
     },
     "execution_count": 2,
     "metadata": {},
     "output_type": "execute_result"
    }
   ],
   "source": [
    "s = 'hello world'\n",
    "\n",
    "s.capitalize()"
   ],
   "metadata": {
    "collapsed": false,
    "ExecuteTime": {
     "end_time": "2024-01-06T01:49:05.528940389Z",
     "start_time": "2024-01-06T01:49:05.486702221Z"
    }
   },
   "id": "b7f76ac5d1fda1ea"
  },
  {
   "cell_type": "markdown",
   "source": [
    "___________\n",
    "\n",
    "### ___Upper___\n",
    "\n",
    "The *upper()* method will convert all the characters in a string to uppercase."
   ],
   "metadata": {
    "collapsed": false
   },
   "id": "55183d0f62ac772a"
  },
  {
   "cell_type": "code",
   "execution_count": 3,
   "outputs": [
    {
     "data": {
      "text/plain": "'HELLO WORLD'"
     },
     "execution_count": 3,
     "metadata": {},
     "output_type": "execute_result"
    }
   ],
   "source": [
    "s.upper()"
   ],
   "metadata": {
    "collapsed": false,
    "ExecuteTime": {
     "end_time": "2024-01-06T01:49:19.827236150Z",
     "start_time": "2024-01-06T01:49:19.771281371Z"
    }
   },
   "id": "3f8b47bcb98d113c"
  },
  {
   "cell_type": "markdown",
   "source": [
    "___________\n",
    "\n",
    "### ___Lower___\n",
    "\n",
    "The *lower()* method will convert all the characters in a string to lowercase."
   ],
   "metadata": {
    "collapsed": false
   },
   "id": "a2015202de46793d"
  },
  {
   "cell_type": "code",
   "execution_count": 4,
   "outputs": [
    {
     "data": {
      "text/plain": "'hello world'"
     },
     "execution_count": 4,
     "metadata": {},
     "output_type": "execute_result"
    }
   ],
   "source": [
    "s.lower()"
   ],
   "metadata": {
    "collapsed": false,
    "ExecuteTime": {
     "end_time": "2024-01-06T01:49:31.160804143Z",
     "start_time": "2024-01-06T01:49:31.094588008Z"
    }
   },
   "id": "7ccb88b82c822657"
  },
  {
   "cell_type": "markdown",
   "source": [
    "___________\n",
    "\n",
    "### ___Count___\n",
    "\n",
    "The *count()* method will count the number of times a character occurs in a string."
   ],
   "metadata": {
    "collapsed": false
   },
   "id": "7171ca53706705f8"
  },
  {
   "cell_type": "code",
   "execution_count": 5,
   "outputs": [
    {
     "data": {
      "text/plain": "2"
     },
     "execution_count": 5,
     "metadata": {},
     "output_type": "execute_result"
    }
   ],
   "source": [
    "s.count('o')"
   ],
   "metadata": {
    "collapsed": false,
    "ExecuteTime": {
     "end_time": "2024-01-06T01:49:49.629432433Z",
     "start_time": "2024-01-06T01:49:49.573413571Z"
    }
   },
   "id": "39113f02af66e692"
  },
  {
   "cell_type": "markdown",
   "source": [
    "___________\n",
    "\n",
    "### ___Find___\n",
    "\n",
    "The *find()* method will find the index of the first occurrence of a character in a string."
   ],
   "metadata": {
    "collapsed": false
   },
   "id": "f4356c51f734a864"
  },
  {
   "cell_type": "code",
   "execution_count": 6,
   "outputs": [
    {
     "data": {
      "text/plain": "4"
     },
     "execution_count": 6,
     "metadata": {},
     "output_type": "execute_result"
    }
   ],
   "source": [
    "s.find('o')"
   ],
   "metadata": {
    "collapsed": false,
    "ExecuteTime": {
     "end_time": "2024-01-06T01:50:01.762844742Z",
     "start_time": "2024-01-06T01:50:01.708209570Z"
    }
   },
   "id": "8223bb9273c88f1f"
  },
  {
   "cell_type": "markdown",
   "source": [
    "___________\n",
    "\n",
    "### ___Center___\n",
    "\n",
    "The *center()* method will center align a string with a specified width."
   ],
   "metadata": {
    "collapsed": false
   },
   "id": "6ae1b2831b8fa4c"
  },
  {
   "cell_type": "code",
   "execution_count": 7,
   "outputs": [
    {
     "data": {
      "text/plain": "'zzzzhello worldzzzzz'"
     },
     "execution_count": 7,
     "metadata": {},
     "output_type": "execute_result"
    }
   ],
   "source": [
    "s.center(20,'z')"
   ],
   "metadata": {
    "collapsed": false,
    "ExecuteTime": {
     "end_time": "2024-01-06T01:50:21.702977131Z",
     "start_time": "2024-01-06T01:50:21.648568537Z"
    }
   },
   "id": "11c46553d4f12236"
  },
  {
   "cell_type": "markdown",
   "source": [
    "___________\n",
    "\n",
    "### ___isalnum___\n",
    "\n",
    "The *isalnum()* method will return True if all characters in a string are alphanumeric."
   ],
   "metadata": {
    "collapsed": false
   },
   "id": "11dc94a001d8725b"
  },
  {
   "cell_type": "code",
   "execution_count": 9,
   "outputs": [
    {
     "data": {
      "text/plain": "True"
     },
     "execution_count": 9,
     "metadata": {},
     "output_type": "execute_result"
    }
   ],
   "source": [
    "s = 'hello'\n",
    "\n",
    "s.isalnum()"
   ],
   "metadata": {
    "collapsed": false,
    "ExecuteTime": {
     "end_time": "2024-01-06T01:51:54.395920670Z",
     "start_time": "2024-01-06T01:51:54.320316318Z"
    }
   },
   "id": "63d488d5b8131fc0"
  },
  {
   "cell_type": "markdown",
   "source": [
    "___________\n",
    "\n",
    "### ___isalpha___\n",
    "\n",
    "The *isalpha()* method will return True if all characters in a string are alphabetic."
   ],
   "metadata": {
    "collapsed": false
   },
   "id": "c1304ecfc6a52168"
  },
  {
   "cell_type": "code",
   "execution_count": 10,
   "outputs": [
    {
     "data": {
      "text/plain": "True"
     },
     "execution_count": 10,
     "metadata": {},
     "output_type": "execute_result"
    }
   ],
   "source": [
    "s.isalpha()"
   ],
   "metadata": {
    "collapsed": false,
    "ExecuteTime": {
     "end_time": "2024-01-06T01:52:09.873174434Z",
     "start_time": "2024-01-06T01:52:09.817167468Z"
    }
   },
   "id": "146552ced528dd9f"
  },
  {
   "cell_type": "markdown",
   "source": [
    "___________\n",
    "\n",
    "### ___islower___\n",
    "\n",
    "The *islower()* method will return True if all characters in a string are lowercase."
   ],
   "metadata": {
    "collapsed": false
   },
   "id": "35d6b55ac6f82138"
  },
  {
   "cell_type": "code",
   "execution_count": 11,
   "outputs": [
    {
     "data": {
      "text/plain": "True"
     },
     "execution_count": 11,
     "metadata": {},
     "output_type": "execute_result"
    }
   ],
   "source": [
    "s.islower()"
   ],
   "metadata": {
    "collapsed": false,
    "ExecuteTime": {
     "end_time": "2024-01-06T01:52:29.214094417Z",
     "start_time": "2024-01-06T01:52:29.124557832Z"
    }
   },
   "id": "6dc59adb9ddf20be"
  },
  {
   "cell_type": "markdown",
   "source": [
    "___________\n",
    "\n",
    "### ___isspace___\n",
    "\n",
    "The *isspace()* method will return True if all characters in a string are whitespace."
   ],
   "metadata": {
    "collapsed": false
   },
   "id": "fc17db83c71f8deb"
  },
  {
   "cell_type": "code",
   "execution_count": 12,
   "outputs": [
    {
     "data": {
      "text/plain": "False"
     },
     "execution_count": 12,
     "metadata": {},
     "output_type": "execute_result"
    }
   ],
   "source": [
    "s.isspace()"
   ],
   "metadata": {
    "collapsed": false,
    "ExecuteTime": {
     "end_time": "2024-01-06T01:52:42.610417958Z",
     "start_time": "2024-01-06T01:52:42.507143350Z"
    }
   },
   "id": "fbdaf0df87bb44a"
  },
  {
   "cell_type": "markdown",
   "source": [
    "___________\n",
    "\n",
    "### ___istitle___\n",
    "\n",
    "The *istitle()* method will return True if a string is titlecased."
   ],
   "metadata": {
    "collapsed": false
   },
   "id": "6dba3995519ac6f2"
  },
  {
   "cell_type": "code",
   "execution_count": 13,
   "outputs": [
    {
     "data": {
      "text/plain": "False"
     },
     "execution_count": 13,
     "metadata": {},
     "output_type": "execute_result"
    }
   ],
   "source": [
    "s.istitle()"
   ],
   "metadata": {
    "collapsed": false,
    "ExecuteTime": {
     "end_time": "2024-01-06T01:53:06.171255234Z",
     "start_time": "2024-01-06T01:53:06.104363897Z"
    }
   },
   "id": "5f209f3dc388fbe3"
  },
  {
   "cell_type": "markdown",
   "source": [
    "___________\n",
    "\n",
    "### ___isupper___\n",
    "\n",
    "The *isupper()* method will return True if all characters in a string are uppercase."
   ],
   "metadata": {
    "collapsed": false
   },
   "id": "82609575e2e1d749"
  },
  {
   "cell_type": "code",
   "execution_count": 14,
   "outputs": [
    {
     "data": {
      "text/plain": "False"
     },
     "execution_count": 14,
     "metadata": {},
     "output_type": "execute_result"
    }
   ],
   "source": [
    "s.isupper()"
   ],
   "metadata": {
    "collapsed": false,
    "ExecuteTime": {
     "end_time": "2024-01-06T01:53:26.336773816Z",
     "start_time": "2024-01-06T01:53:26.277128118Z"
    }
   },
   "id": "2a4f995672ef3b80"
  },
  {
   "cell_type": "code",
   "execution_count": 15,
   "outputs": [
    {
     "data": {
      "text/plain": "True"
     },
     "execution_count": 15,
     "metadata": {},
     "output_type": "execute_result"
    }
   ],
   "source": [
    "s = 'HELLO'\n",
    "\n",
    "s.isupper()"
   ],
   "metadata": {
    "collapsed": false,
    "ExecuteTime": {
     "end_time": "2024-01-06T01:53:29.242127884Z",
     "start_time": "2024-01-06T01:53:29.116043094Z"
    }
   },
   "id": "24a84e98b3add5ae"
  },
  {
   "cell_type": "markdown",
   "source": [
    "___________\n",
    "\n",
    "### ___endswith___\n",
    "\n",
    "The *endswith()* method will return True if a string ends with a specified suffix."
   ],
   "metadata": {
    "collapsed": false
   },
   "id": "ebb138b71953b205"
  },
  {
   "cell_type": "code",
   "execution_count": 16,
   "outputs": [
    {
     "data": {
      "text/plain": "False"
     },
     "execution_count": 16,
     "metadata": {},
     "output_type": "execute_result"
    }
   ],
   "source": [
    "s.endswith('o')"
   ],
   "metadata": {
    "collapsed": false,
    "ExecuteTime": {
     "end_time": "2024-01-06T01:53:45.451256097Z",
     "start_time": "2024-01-06T01:53:45.376072956Z"
    }
   },
   "id": "98586ec9defbfb3c"
  },
  {
   "cell_type": "code",
   "execution_count": 17,
   "outputs": [
    {
     "data": {
      "text/plain": "False"
     },
     "execution_count": 17,
     "metadata": {},
     "output_type": "execute_result"
    }
   ],
   "source": [
    "s[-1] == 'o'"
   ],
   "metadata": {
    "collapsed": false,
    "ExecuteTime": {
     "end_time": "2024-01-06T01:53:49.595861501Z",
     "start_time": "2024-01-06T01:53:49.512471773Z"
    }
   },
   "id": "367e925f8ba6f890"
  },
  {
   "cell_type": "markdown",
   "source": [
    "___________\n",
    "\n",
    "### ___split___\n",
    "\n",
    "The *split()* method will split a string at a specified separator and return a list of the substrings."
   ],
   "metadata": {
    "collapsed": false
   },
   "id": "bab1a22ecc91be39"
  },
  {
   "cell_type": "code",
   "execution_count": 19,
   "outputs": [
    {
     "data": {
      "text/plain": "['h', ' h', ' h', '  h', ' h ', '']"
     },
     "execution_count": 19,
     "metadata": {},
     "output_type": "execute_result"
    }
   ],
   "source": [
    "s = 'hi hi hi  hi h i'\n",
    "\n",
    "s.split('i')"
   ],
   "metadata": {
    "collapsed": false,
    "ExecuteTime": {
     "end_time": "2024-01-06T01:54:34.999094826Z",
     "start_time": "2024-01-06T01:54:34.943941976Z"
    }
   },
   "id": "474019e513f1e223"
  },
  {
   "cell_type": "markdown",
   "source": [
    "___________\n",
    "\n",
    "### ___partition___\n",
    "\n",
    "The *partition()* method will split a string at the first occurrence of a specified separator and return a tuple containing the part the before the separator, the separator, and the part after the separator."
   ],
   "metadata": {
    "collapsed": false
   },
   "id": "4d60de1c3652b15e"
  },
  {
   "cell_type": "code",
   "execution_count": 20,
   "outputs": [
    {
     "data": {
      "text/plain": "('h', 'i', ' hi hi  hi h i')"
     },
     "execution_count": 20,
     "metadata": {},
     "output_type": "execute_result"
    }
   ],
   "source": [
    "s.partition('i')"
   ],
   "metadata": {
    "collapsed": false,
    "ExecuteTime": {
     "end_time": "2024-01-06T01:55:05.131991913Z",
     "start_time": "2024-01-06T01:55:05.088383322Z"
    }
   },
   "id": "e12a1ea6e32b2b2e"
  }
 ],
 "metadata": {
  "kernelspec": {
   "display_name": "Python 3",
   "language": "python",
   "name": "python3"
  },
  "language_info": {
   "codemirror_mode": {
    "name": "ipython",
    "version": 2
   },
   "file_extension": ".py",
   "mimetype": "text/x-python",
   "name": "python",
   "nbconvert_exporter": "python",
   "pygments_lexer": "ipython2",
   "version": "2.7.6"
  }
 },
 "nbformat": 4,
 "nbformat_minor": 5
}
