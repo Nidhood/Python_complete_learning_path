{
 "cells": [
  {
   "cell_type": "markdown",
   "source": [
    "# Introduction to functions\n",
    "\n",
    "In programming, one of the most important concepts is the idea of a function. A function is a block of code that performs a specific task. Functions are used to make code more modular, and to avoid repeating code. Functions can also be used to make code more readable."
   ],
   "metadata": {
    "collapsed": false
   },
   "id": "108757bc2ad2d036"
  },
  {
   "cell_type": "markdown",
   "source": [
    "_______ \n",
    "\n",
    "### _def_\n",
    "\n",
    "The `def` keyword is used to define a function. The syntax for defining a function is as follows:\n",
    "\n",
    "```python\n",
    "def function_name():\n",
    "    # code goes here\n",
    "```\n",
    "\n",
    "The function name can be anything you want, as long as it follows the same rules as variable names. The code inside the function must be indented. Notice that the () are empty. We will learn about parameters later, but for now, we will leave them empty.\n",
    "\n",
    "________\n",
    "\n",
    "### _return_\n",
    "\n",
    "The `return` keyword is used to return a value from a function. The syntax for returning a value from a function is as follows:\n",
    "\n",
    "```python\n",
    "def function_name():\n",
    "    # code goes here\n",
    "    return value\n",
    "```\n",
    "\n",
    "Depending on the function, you may or may not want to return a value. If you do not want to return a value, you can leave out the `return` keyword."
   ],
   "metadata": {
    "collapsed": false
   },
   "id": "47e17c865db763ff"
  },
  {
   "cell_type": "code",
   "execution_count": 1,
   "outputs": [
    {
     "name": "stdout",
     "output_type": "stream",
     "text": [
      "Hello!\n"
     ]
    }
   ],
   "source": [
    "def say_hello():\n",
    "    print(\"Hello!\")\n",
    "    \n",
    "say_hello()"
   ],
   "metadata": {
    "collapsed": false,
    "ExecuteTime": {
     "end_time": "2023-12-24T04:53:46.632794152Z",
     "start_time": "2023-12-24T04:53:46.631573156Z"
    }
   },
   "id": "170bd7a943c21908"
  },
  {
   "cell_type": "code",
   "execution_count": 2,
   "outputs": [
    {
     "name": "stdout",
     "output_type": "stream",
     "text": [
      "Hello!\n"
     ]
    },
    {
     "data": {
      "text/plain": "1"
     },
     "execution_count": 2,
     "metadata": {},
     "output_type": "execute_result"
    }
   ],
   "source": [
    "def say_hello():\n",
    "    print(\"Hello!\")\n",
    "    return 1\n",
    "\n",
    "say_hello()"
   ],
   "metadata": {
    "collapsed": false,
    "ExecuteTime": {
     "end_time": "2023-12-24T04:53:47.070478110Z",
     "start_time": "2023-12-24T04:53:47.034498399Z"
    }
   },
   "id": "3768cb73d3fe45c4"
  },
  {
   "cell_type": "markdown",
   "source": [
    "### _parameters_\n",
    "\n",
    "Parameters are fundamental to functions. Parameters are the values that are passed into a function. The syntax for defining a function with parameters is as follows:\n",
    "\n",
    "```python\n",
    "def function_name(parameter1, parameter2, ...):\n",
    "    # code goes here\n",
    "```"
   ],
   "metadata": {
    "collapsed": false
   },
   "id": "7fc4ae105570d4a7"
  },
  {
   "cell_type": "code",
   "execution_count": 3,
   "outputs": [],
   "source": [
    "def say_hello(name):\n",
    "    print(\"Hello, {}!\".format(name))"
   ],
   "metadata": {
    "collapsed": false,
    "ExecuteTime": {
     "end_time": "2023-12-24T04:53:47.991809503Z",
     "start_time": "2023-12-24T04:53:47.986799663Z"
    }
   },
   "id": "e199c94d2d126ce3"
  },
  {
   "cell_type": "code",
   "execution_count": 4,
   "outputs": [
    {
     "name": "stdout",
     "output_type": "stream",
     "text": [
      "Hello, John!\n"
     ]
    }
   ],
   "source": [
    "say_hello(\"John\")"
   ],
   "metadata": {
    "collapsed": false,
    "ExecuteTime": {
     "end_time": "2023-12-24T04:53:48.652299894Z",
     "start_time": "2023-12-24T04:53:48.601743203Z"
    }
   },
   "id": "221caf2be3946590"
  },
  {
   "cell_type": "code",
   "execution_count": 5,
   "outputs": [
    {
     "name": "stdout",
     "output_type": "stream",
     "text": [
      "Hello, Jane!\n"
     ]
    }
   ],
   "source": [
    "say_hello(\"Jane\")"
   ],
   "metadata": {
    "collapsed": false,
    "ExecuteTime": {
     "end_time": "2023-12-24T04:53:49.214838733Z",
     "start_time": "2023-12-24T04:53:49.176777707Z"
    }
   },
   "id": "3c316de09208e208"
  },
  {
   "cell_type": "markdown",
   "source": [
    "A function can have any number of parameters, including zero. If a function has zero parameters, the parentheses are still required. We can define default values for parameters. If a parameter has a default value, it is optional. If a parameter does not have a default value, it is required. The syntax for defining a function with parameters with default values is as follows:\n",
    "\n",
    "```python   \n",
    "def function_name(parameter1=default_value1, parameter2=default_value2, ...):\n",
    "    # code goes here\n",
    "```"
   ],
   "metadata": {
    "collapsed": false
   },
   "id": "45dbc143558e8d7"
  },
  {
   "cell_type": "code",
   "execution_count": 6,
   "outputs": [
    {
     "name": "stdout",
     "output_type": "stream",
     "text": [
      "Hello, World!\n"
     ]
    }
   ],
   "source": [
    "def say_hello(name=\"World\"):\n",
    "    print(\"Hello, {}!\".format(name))\n",
    "\n",
    "say_hello() # Here, we do not pass in a value for name, so the default value is used"
   ],
   "metadata": {
    "collapsed": false,
    "ExecuteTime": {
     "end_time": "2023-12-24T04:53:50.289511581Z",
     "start_time": "2023-12-24T04:53:50.271844827Z"
    }
   },
   "id": "38408060987fe237"
  },
  {
   "cell_type": "code",
   "execution_count": 7,
   "outputs": [
    {
     "data": {
      "text/plain": "3"
     },
     "execution_count": 7,
     "metadata": {},
     "output_type": "execute_result"
    }
   ],
   "source": [
    "def add_numbers(x=0, y=0):\n",
    "    return x + y\n",
    "\n",
    "add_numbers(1, 2) # Here, we pass in values for x and y, so the default values are not used"
   ],
   "metadata": {
    "collapsed": false,
    "ExecuteTime": {
     "end_time": "2023-12-24T04:53:51.983289619Z",
     "start_time": "2023-12-24T04:53:51.847040565Z"
    }
   },
   "id": "799daa2e4e953f04"
  },
  {
   "cell_type": "code",
   "execution_count": 8,
   "outputs": [
    {
     "data": {
      "text/plain": "0"
     },
     "execution_count": 8,
     "metadata": {},
     "output_type": "execute_result"
    }
   ],
   "source": [
    "add_numbers() # Here, we do not pass in values for x and y, so the default values are used"
   ],
   "metadata": {
    "collapsed": false,
    "ExecuteTime": {
     "end_time": "2023-12-24T04:53:52.046951384Z",
     "start_time": "2023-12-24T04:53:51.995395001Z"
    }
   },
   "id": "10887ec2f7764047"
  },
  {
   "cell_type": "markdown",
   "source": [
    "The important concept behind return keyword is that it allows us to save the result of a function to a variable. This is useful when we want to use the result of a function later on in our code. The syntax for saving the result of a function to a variable is as follows:\n",
    "\n",
    "```python   \n",
    "variable = function_name()\n",
    "```"
   ],
   "metadata": {
    "collapsed": false
   },
   "id": "2319473bcca652a"
  },
  {
   "cell_type": "code",
   "execution_count": 9,
   "outputs": [
    {
     "name": "stdout",
     "output_type": "stream",
     "text": [
      "3\n"
     ]
    }
   ],
   "source": [
    "def add_numbers(x=0, y=0):\n",
    "    return x + y\n",
    "\n",
    "result = add_numbers(1, 2)\n",
    "\n",
    "print(result)"
   ],
   "metadata": {
    "collapsed": false,
    "ExecuteTime": {
     "end_time": "2023-12-24T04:53:53.507154126Z",
     "start_time": "2023-12-24T04:53:53.494423137Z"
    }
   },
   "id": "70bd20db4afd61fd"
  },
  {
   "cell_type": "code",
   "execution_count": 10,
   "outputs": [
    {
     "name": "stdout",
     "output_type": "stream",
     "text": [
      "True\n"
     ]
    }
   ],
   "source": [
    "def even_check(number):\n",
    "    return number % 2 == 0\n",
    "\n",
    "print(even_check(2))"
   ],
   "metadata": {
    "collapsed": false,
    "ExecuteTime": {
     "end_time": "2023-12-24T04:53:54.371170438Z",
     "start_time": "2023-12-24T04:53:54.362822793Z"
    }
   },
   "id": "433f19e565cc4e28"
  },
  {
   "cell_type": "code",
   "execution_count": 11,
   "outputs": [
    {
     "name": "stdout",
     "output_type": "stream",
     "text": [
      "False\n"
     ]
    }
   ],
   "source": [
    "def check_even_list(num_list):\n",
    "    for number in num_list:\n",
    "        if number % 2 == 0:\n",
    "            return True\n",
    "        else:\n",
    "            pass\n",
    "    return False\n",
    "\n",
    "print(check_even_list([1, 3, 5]))"
   ],
   "metadata": {
    "collapsed": false,
    "ExecuteTime": {
     "end_time": "2023-12-24T04:53:54.952914711Z",
     "start_time": "2023-12-24T04:53:54.911530213Z"
    }
   },
   "id": "98b7e2427a0b2eeb"
  },
  {
   "cell_type": "code",
   "execution_count": 12,
   "outputs": [
    {
     "name": "stdout",
     "output_type": "stream",
     "text": [
      "True\n"
     ]
    }
   ],
   "source": [
    "print(check_even_list([1, 2, 3, 4, 5]))"
   ],
   "metadata": {
    "collapsed": false,
    "ExecuteTime": {
     "end_time": "2023-12-24T04:53:55.488858614Z",
     "start_time": "2023-12-24T04:53:55.459450437Z"
    }
   },
   "id": "2ef7e52019a64db6"
  },
  {
   "cell_type": "markdown",
   "source": [
    "Now, we need to return multiple values from a function. The syntax for returning multiple values from a function is as follows:\n",
    "\n",
    "```python\n",
    "return value1, value2, ...\n",
    "```\n",
    "\n",
    "So now we are going to learn how to do tuple unpacking. Tuple unpacking allows us to assign each value in a tuple to a variable."
   ],
   "metadata": {
    "collapsed": false
   },
   "id": "a681c7639ac9d90c"
  },
  {
   "cell_type": "code",
   "execution_count": 13,
   "outputs": [
    {
     "name": "stdout",
     "output_type": "stream",
     "text": [
      "220.0\n",
      "440.0\n",
      "110.0\n"
     ]
    }
   ],
   "source": [
    "stock_prices = [(\"APPL\", 200), (\"GOOG\", 400), (\"MSFT\", 100)]\n",
    "\n",
    "for ticker, price in stock_prices:\n",
    "    print(price + (0.1 * price))"
   ],
   "metadata": {
    "collapsed": false,
    "ExecuteTime": {
     "end_time": "2023-12-24T04:53:56.728182791Z",
     "start_time": "2023-12-24T04:53:56.704774940Z"
    }
   },
   "id": "f627effab1d558e"
  },
  {
   "cell_type": "code",
   "execution_count": 14,
   "outputs": [
    {
     "name": "stdout",
     "output_type": "stream",
     "text": [
      "Cassie worked 800 hours this month!\n"
     ]
    }
   ],
   "source": [
    "work_hours = [(\"Abby\", 100), (\"Billy\", 400), (\"Cassie\", 800)]\n",
    "\n",
    "def employee_check(work_hours):\n",
    "    \n",
    "    current_max = 0\n",
    "    employee_of_month = \"\"\n",
    "    \n",
    "    for employee, hours in work_hours:\n",
    "        if hours > current_max:\n",
    "            current_max = hours\n",
    "            employee_of_month = employee\n",
    "        else:\n",
    "            pass\n",
    "    \n",
    "    return (employee_of_month, current_max)\n",
    "\n",
    "name, hours = employee_check(work_hours)\n",
    "\n",
    "print(f'{name} worked {hours} hours this month!')"
   ],
   "metadata": {
    "collapsed": false,
    "ExecuteTime": {
     "end_time": "2023-12-24T04:53:57.477947403Z",
     "start_time": "2023-12-24T04:53:57.441358217Z"
    }
   },
   "id": "10c70004a3d9200a"
  }
 ],
 "metadata": {
  "kernelspec": {
   "display_name": "Python 3",
   "language": "python",
   "name": "python3"
  },
  "language_info": {
   "codemirror_mode": {
    "name": "ipython",
    "version": 2
   },
   "file_extension": ".py",
   "mimetype": "text/x-python",
   "name": "python",
   "nbconvert_exporter": "python",
   "pygments_lexer": "ipython2",
   "version": "2.7.6"
  }
 },
 "nbformat": 4,
 "nbformat_minor": 5
}
