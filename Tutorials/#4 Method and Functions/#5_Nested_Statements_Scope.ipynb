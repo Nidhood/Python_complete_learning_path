{
 "cells": [
  {
   "cell_type": "markdown",
   "source": [
    "# Nested Statements and Scope\n",
    "\n",
    "Nesting statements is a way to describe how Python deals with the order in which it executes code; this is called *scope;* that means that some variables are accessible only within the scope of a function, while others are accessible anywhere in your code."
   ],
   "metadata": {
    "collapsed": false
   },
   "id": "60b01c59d3e0b59c"
  },
  {
   "cell_type": "code",
   "execution_count": 1,
   "outputs": [
    {
     "name": "stdout",
     "output_type": "stream",
     "text": [
      "25\n"
     ]
    }
   ],
   "source": [
    "x = 25\n",
    "\n",
    "def printer():\n",
    "    x = 50\n",
    "    return x\n",
    "\n",
    "print(x)"
   ],
   "metadata": {
    "collapsed": false,
    "ExecuteTime": {
     "end_time": "2023-12-24T16:20:28.174810488Z",
     "start_time": "2023-12-24T16:20:28.173790061Z"
    }
   },
   "id": "effd2c34c9ecf4bd"
  },
  {
   "cell_type": "markdown",
   "source": [
    "# LEGB Rule:\n",
    "\n",
    "- L: Local — Names assigned in any way within a function (def or lambda)), and not declared global in that function.\n",
    "\n",
    "- E: Enclosing function locals — Names in the local scope of any and all enclosing functions (def or lambda), from inner to outer.\n",
    "\n",
    "- G: Global (module) — Names assigned at the top-level of a module file, or declared global in a def within the file.\n",
    "\n",
    "- B: Built-in (Python) — Names preassigned in the built-in names module: open, range, SyntaxError, ..."
   ],
   "metadata": {
    "collapsed": false
   },
   "id": "e4183d1bd764adb1"
  },
  {
   "cell_type": "code",
   "execution_count": 2,
   "outputs": [
    {
     "name": "stdout",
     "output_type": "stream",
     "text": [
      "Hello Sammy\n"
     ]
    }
   ],
   "source": [
    "name = 'THIS IS A GLOBAL STRING'\n",
    "\n",
    "def greet():\n",
    "    # Enclosing function\n",
    "    name = 'Sammy'\n",
    "    \n",
    "    def hello():\n",
    "        # Local function\n",
    "        print('Hello '+name)\n",
    "    \n",
    "    hello()\n",
    "    \n",
    "greet()"
   ],
   "metadata": {
    "collapsed": false,
    "ExecuteTime": {
     "end_time": "2023-12-24T16:20:28.743292879Z",
     "start_time": "2023-12-24T16:20:28.732773622Z"
    }
   },
   "id": "e572889a85bbcc65"
  },
  {
   "cell_type": "code",
   "execution_count": 3,
   "outputs": [
    {
     "name": "stdout",
     "output_type": "stream",
     "text": [
      "Hello THIS IS A GLOBAL STRING\n"
     ]
    }
   ],
   "source": [
    "def greet():\n",
    "    # Enclosing function\n",
    "    # name = 'Sammy'\n",
    "    \n",
    "    def hello():\n",
    "        # Local function\n",
    "        print('Hello '+name)\n",
    "    \n",
    "    hello()\n",
    "    \n",
    "greet()"
   ],
   "metadata": {
    "collapsed": false,
    "ExecuteTime": {
     "end_time": "2023-12-24T16:20:29.072667185Z",
     "start_time": "2023-12-24T16:20:29.052081008Z"
    }
   },
   "id": "fa7790bea330a333"
  },
  {
   "cell_type": "code",
   "execution_count": 4,
   "outputs": [
    {
     "name": "stdout",
     "output_type": "stream",
     "text": [
      "Hello IM A LOCAL\n"
     ]
    }
   ],
   "source": [
    "def greet():\n",
    "    # Enclosing function\n",
    "    name = 'Sammy'\n",
    "    \n",
    "    def hello():\n",
    "        # Local function\n",
    "        name = 'IM A LOCAL'\n",
    "        print('Hello '+name)\n",
    "    \n",
    "    hello()\n",
    "    \n",
    "greet()"
   ],
   "metadata": {
    "collapsed": false,
    "ExecuteTime": {
     "end_time": "2023-12-24T16:20:29.274369775Z",
     "start_time": "2023-12-24T16:20:29.270958267Z"
    }
   },
   "id": "2cd78e11aaef0381"
  },
  {
   "cell_type": "code",
   "execution_count": 5,
   "outputs": [
    {
     "name": "stdout",
     "output_type": "stream",
     "text": [
      "Help on built-in function len in module builtins:\n",
      "\n",
      "len(obj, /)\n",
      "    Return the number of items in a container.\n"
     ]
    }
   ],
   "source": [
    "help(len)"
   ],
   "metadata": {
    "collapsed": false,
    "ExecuteTime": {
     "end_time": "2023-12-24T16:20:29.600604893Z",
     "start_time": "2023-12-24T16:20:29.589709065Z"
    }
   },
   "id": "500889cbf46cfa00"
  },
  {
   "cell_type": "code",
   "execution_count": 6,
   "outputs": [
    {
     "name": "stdout",
     "output_type": "stream",
     "text": [
      "X is 50\n",
      "I just locally changed X to 200\n"
     ]
    }
   ],
   "source": [
    "x = 50\n",
    "\n",
    "def func(x):\n",
    "    print(f'X is {x}')\n",
    "    \n",
    "    # Local reassignment\n",
    "    x = 200\n",
    "    print(f'I just locally changed X to {x}')\n",
    "    \n",
    "func(x)"
   ],
   "metadata": {
    "collapsed": false,
    "ExecuteTime": {
     "end_time": "2023-12-24T16:20:29.821629857Z",
     "start_time": "2023-12-24T16:20:29.815549907Z"
    }
   },
   "id": "497a8b53a32e4e8f"
  },
  {
   "cell_type": "markdown",
   "source": [
    "_________\n",
    "\n",
    "### _global_\n",
    "\n",
    "The global statement is a declaration that holds for the entire current code block. It means that the listed identifiers are to be interpreted as globals. It would be impossible to assign to a global variable without global, although free variables may refer to globals without being declared global."
   ],
   "metadata": {
    "collapsed": false
   },
   "id": "131493ecddd1bbf1"
  },
  {
   "cell_type": "code",
   "execution_count": 7,
   "outputs": [
    {
     "name": "stdout",
     "output_type": "stream",
     "text": [
      "X is 50\n",
      "I just locally changed global X to NEW VALUE\n"
     ]
    }
   ],
   "source": [
    "x = 50\n",
    "\n",
    "def func():\n",
    "    global x\n",
    "    print(f'X is {x}')\n",
    "    \n",
    "    # Local reassignment on a global variable\n",
    "    x = 'NEW VALUE'\n",
    "    print(f'I just locally changed global X to {x}')\n",
    "\n",
    "func()"
   ],
   "metadata": {
    "collapsed": false,
    "ExecuteTime": {
     "end_time": "2023-12-24T16:20:30.395276605Z",
     "start_time": "2023-12-24T16:20:30.380162700Z"
    }
   },
   "id": "648adef86d39e0e9"
  },
  {
   "cell_type": "code",
   "execution_count": 8,
   "outputs": [
    {
     "name": "stdout",
     "output_type": "stream",
     "text": [
      "NEW VALUE\n"
     ]
    }
   ],
   "source": [
    "print(x)"
   ],
   "metadata": {
    "collapsed": false,
    "ExecuteTime": {
     "end_time": "2023-12-24T16:20:31.023502878Z",
     "start_time": "2023-12-24T16:20:30.916566843Z"
    }
   },
   "id": "f2036e0e15be5887"
  },
  {
   "cell_type": "markdown",
   "source": [
    "Although the use of global variables should be avoided in most cases, there are some cases where they are useful. For example, if you have a configuration file imported into several modules, you might want to store a configuration setting in a global variable that can be modified by any module."
   ],
   "metadata": {
    "collapsed": false
   },
   "id": "387d0e29e5fe2e4a"
  },
  {
   "cell_type": "code",
   "execution_count": 9,
   "outputs": [
    {
     "name": "stdout",
     "output_type": "stream",
     "text": [
      "X is 50\n",
      "I just locally changed global X to NEW VALUE\n",
      "NEW VALUE\n"
     ]
    }
   ],
   "source": [
    "x = 50\n",
    "\n",
    "def func(x):\n",
    "    print(f'X is {x}')\n",
    "    \n",
    "    # Local reassignment on a global variable\n",
    "    x = 'NEW VALUE'\n",
    "    print(f'I just locally changed global X to {x}')\n",
    "    return x\n",
    "\n",
    "x = func(x)\n",
    "print(x)"
   ],
   "metadata": {
    "collapsed": false,
    "ExecuteTime": {
     "end_time": "2023-12-24T16:20:31.257134462Z",
     "start_time": "2023-12-24T16:20:31.252509757Z"
    }
   },
   "id": "cf13e14d6603ba4d"
  }
 ],
 "metadata": {
  "kernelspec": {
   "display_name": "Python 3",
   "language": "python",
   "name": "python3"
  },
  "language_info": {
   "codemirror_mode": {
    "name": "ipython",
    "version": 2
   },
   "file_extension": ".py",
   "mimetype": "text/x-python",
   "name": "python",
   "nbconvert_exporter": "python",
   "pygments_lexer": "ipython2",
   "version": "2.7.6"
  }
 },
 "nbformat": 4,
 "nbformat_minor": 5
}
