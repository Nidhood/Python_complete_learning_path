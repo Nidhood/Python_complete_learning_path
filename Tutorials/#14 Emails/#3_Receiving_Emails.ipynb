{
 "cells": [
  {
   "cell_type": "markdown",
   "source": [
    "# Receiving Emails in Python\n",
    "\n",
    "We can use the imaplib library to connect to our email server and download messages, or just to see our inbox.\n"
   ],
   "metadata": {
    "collapsed": false
   },
   "id": "74d58fdeef26a4fe"
  },
  {
   "cell_type": "code",
   "execution_count": 4,
   "outputs": [],
   "source": [
    "import imaplib"
   ],
   "metadata": {
    "collapsed": false,
    "ExecuteTime": {
     "end_time": "2024-01-06T01:29:34.564905925Z",
     "start_time": "2024-01-06T01:29:34.523734430Z"
    }
   },
   "id": "62fe6b413d932e1f"
  },
  {
   "cell_type": "code",
   "execution_count": 5,
   "outputs": [],
   "source": [
    "M = imaplib.IMAP4_SSL('imap.gmail.com') # connect to an IMAP server"
   ],
   "metadata": {
    "collapsed": false,
    "ExecuteTime": {
     "end_time": "2024-01-06T01:29:37.001362212Z",
     "start_time": "2024-01-06T01:29:36.766132390Z"
    }
   },
   "id": "aef6659c641010e"
  },
  {
   "cell_type": "code",
   "execution_count": 6,
   "outputs": [],
   "source": [
    "import getpass"
   ],
   "metadata": {
    "collapsed": false,
    "ExecuteTime": {
     "end_time": "2024-01-06T01:29:41.304420310Z",
     "start_time": "2024-01-06T01:29:41.282564749Z"
    }
   },
   "id": "2627ea40b3b0e299"
  },
  {
   "cell_type": "code",
   "execution_count": 9,
   "outputs": [],
   "source": [
    "email = getpass.getpass(\"Email: \")\n",
    "password = getpass.getpass(\"Password: \")"
   ],
   "metadata": {
    "collapsed": false,
    "ExecuteTime": {
     "end_time": "2024-01-06T01:30:22.300671781Z",
     "start_time": "2024-01-06T01:30:10.400508849Z"
    }
   },
   "id": "2c561590585b4d32"
  },
  {
   "cell_type": "code",
   "execution_count": 10,
   "outputs": [
    {
     "data": {
      "text/plain": "('OK', [b'ivan.oroz34@gmail.com authenticated (Success)'])"
     },
     "execution_count": 10,
     "metadata": {},
     "output_type": "execute_result"
    }
   ],
   "source": [
    "M.login(email, password)"
   ],
   "metadata": {
    "collapsed": false,
    "ExecuteTime": {
     "end_time": "2024-01-06T01:30:24.557164712Z",
     "start_time": "2024-01-06T01:30:24.222822463Z"
    }
   },
   "id": "dbbdc48c0aee7dd1"
  },
  {
   "cell_type": "code",
   "execution_count": 11,
   "outputs": [
    {
     "data": {
      "text/plain": "('OK',\n [b'(\\\\HasNoChildren) \"/\" \"EPS\"',\n  b'(\\\\HasNoChildren) \"/\" \"IEEE\"',\n  b'(\\\\HasNoChildren) \"/\" \"INBOX\"',\n  b'(\\\\HasNoChildren) \"/\" \"Icetex\"',\n  b'(\\\\HasNoChildren) \"/\" \"Javeriana\"',\n  b'(\\\\HasNoChildren) \"/\" \"LinkedIn\"',\n  b'(\\\\HasNoChildren) \"/\" \"Mama\"',\n  b'(\\\\HasNoChildren) \"/\" \"Mercado Libre\"',\n  b'(\\\\HasNoChildren) \"/\" \"T&AO0-a Querida\"',\n  b'(\\\\HasChildren \\\\Noselect) \"/\" \"[Gmail]\"',\n  b'(\\\\Drafts \\\\HasNoChildren) \"/\" \"[Gmail]/Borradores\"',\n  b'(\\\\Flagged \\\\HasNoChildren) \"/\" \"[Gmail]/Destacados\"',\n  b'(\\\\HasNoChildren \\\\Sent) \"/\" \"[Gmail]/Enviados\"',\n  b'(\\\\HasNoChildren \\\\Important) \"/\" \"[Gmail]/Importantes\"',\n  b'(\\\\HasNoChildren \\\\Trash) \"/\" \"[Gmail]/Papelera\"',\n  b'(\\\\HasNoChildren \\\\Junk) \"/\" \"[Gmail]/Spam\"',\n  b'(\\\\All \\\\HasNoChildren) \"/\" \"[Gmail]/Todos\"'])"
     },
     "execution_count": 11,
     "metadata": {},
     "output_type": "execute_result"
    }
   ],
   "source": [
    "M.list() # list folders. Pass in '' to see the top level folders"
   ],
   "metadata": {
    "collapsed": false,
    "ExecuteTime": {
     "end_time": "2024-01-06T01:30:27.406524477Z",
     "start_time": "2024-01-06T01:30:27.209950163Z"
    }
   },
   "id": "941cbcef10f013f6"
  },
  {
   "cell_type": "code",
   "execution_count": 12,
   "outputs": [
    {
     "data": {
      "text/plain": "('OK', [b'3847'])"
     },
     "execution_count": 12,
     "metadata": {},
     "output_type": "execute_result"
    }
   ],
   "source": [
    "M.select('inbox') # connect to inbox."
   ],
   "metadata": {
    "collapsed": false,
    "ExecuteTime": {
     "end_time": "2024-01-06T01:30:29.249220238Z",
     "start_time": "2024-01-06T01:30:28.958416107Z"
    }
   },
   "id": "7249fd096571779a"
  },
  {
   "cell_type": "code",
   "execution_count": 13,
   "outputs": [],
   "source": [
    "typ, data = M.search(None, 'SUBJECT \"NEW TEST PYTHON\"') # search for emails with the subject of \"NEW TEST PYTHON\""
   ],
   "metadata": {
    "collapsed": false,
    "ExecuteTime": {
     "end_time": "2024-01-06T01:30:32.411459246Z",
     "start_time": "2024-01-06T01:30:32.205480014Z"
    }
   },
   "id": "a43dae24365e9918"
  },
  {
   "cell_type": "code",
   "execution_count": 14,
   "outputs": [
    {
     "data": {
      "text/plain": "'OK'"
     },
     "execution_count": 14,
     "metadata": {},
     "output_type": "execute_result"
    }
   ],
   "source": [
    "typ"
   ],
   "metadata": {
    "collapsed": false,
    "ExecuteTime": {
     "end_time": "2024-01-06T01:30:36.979621875Z",
     "start_time": "2024-01-06T01:30:36.922551839Z"
    }
   },
   "id": "6da269c26f53dee6"
  },
  {
   "cell_type": "code",
   "execution_count": 16,
   "outputs": [],
   "source": [
    "email_id = data[0]"
   ],
   "metadata": {
    "collapsed": false,
    "ExecuteTime": {
     "end_time": "2024-01-06T01:31:09.655683282Z",
     "start_time": "2024-01-06T01:31:09.597989184Z"
    }
   },
   "id": "d26354d601f35734"
  },
  {
   "cell_type": "code",
   "execution_count": 17,
   "outputs": [],
   "source": [
    "result, email_data = M.fetch(email_id, '(RFC822)')"
   ],
   "metadata": {
    "collapsed": false,
    "ExecuteTime": {
     "end_time": "2024-01-06T01:31:54.647341060Z",
     "start_time": "2024-01-06T01:31:54.417101701Z"
    }
   },
   "id": "dfa4d0c8ede6065"
  },
  {
   "cell_type": "code",
   "execution_count": 24,
   "outputs": [],
   "source": [
    "raw_email = email_data[0][1]\n",
    "\n",
    "raw_email_string = raw_email.decode('utf-8')"
   ],
   "metadata": {
    "collapsed": false,
    "ExecuteTime": {
     "end_time": "2024-01-06T01:35:52.175924217Z",
     "start_time": "2024-01-06T01:35:52.118407550Z"
    }
   },
   "id": "c949cdd760a32cfa"
  },
  {
   "cell_type": "code",
   "execution_count": 25,
   "outputs": [],
   "source": [
    "import email\n",
    "\n",
    "email_message = email.message_from_string(raw_email_string)"
   ],
   "metadata": {
    "collapsed": false,
    "ExecuteTime": {
     "end_time": "2024-01-06T01:35:59.613057443Z",
     "start_time": "2024-01-06T01:35:59.519434892Z"
    }
   },
   "id": "27e61db095741531"
  },
  {
   "cell_type": "code",
   "execution_count": 26,
   "outputs": [
    {
     "name": "stdout",
     "output_type": "stream",
     "text": [
      "b'Hello this is a test!\\r\\n'\n"
     ]
    }
   ],
   "source": [
    "for part in email_message.walk():\n",
    "    \n",
    "    if part.get_content_type() == 'text/plain': \n",
    "        body = part.get_payload(decode=True)\n",
    "        print(body)"
   ],
   "metadata": {
    "collapsed": false,
    "ExecuteTime": {
     "end_time": "2024-01-06T01:37:49.452986630Z",
     "start_time": "2024-01-06T01:37:49.384777033Z"
    }
   },
   "id": "827e745fc76a1e39"
  }
 ],
 "metadata": {
  "kernelspec": {
   "display_name": "Python 3",
   "language": "python",
   "name": "python3"
  },
  "language_info": {
   "codemirror_mode": {
    "name": "ipython",
    "version": 2
   },
   "file_extension": ".py",
   "mimetype": "text/x-python",
   "name": "python",
   "nbconvert_exporter": "python",
   "pygments_lexer": "ipython2",
   "version": "2.7.6"
  }
 },
 "nbformat": 4,
 "nbformat_minor": 5
}
