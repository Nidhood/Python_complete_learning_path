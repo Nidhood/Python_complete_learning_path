{
 "cells": [
  {
   "cell_type": "code",
   "execution_count": 1,
   "id": "initial_id",
   "metadata": {
    "collapsed": true,
    "ExecuteTime": {
     "end_time": "2024-01-06T02:32:41.689931407Z",
     "start_time": "2024-01-06T02:32:41.660371602Z"
    }
   },
   "outputs": [],
   "source": [
    "import ipywidgets as widgets"
   ]
  },
  {
   "cell_type": "code",
   "execution_count": 2,
   "outputs": [
    {
     "data": {
      "text/plain": "IntSlider(value=0)",
      "application/vnd.jupyter.widget-view+json": {
       "version_major": 2,
       "version_minor": 0,
       "model_id": "479612bbad324baf9183e808fb0f3d5b"
      }
     },
     "execution_count": 2,
     "metadata": {},
     "output_type": "execute_result"
    }
   ],
   "source": [
    "widgets.IntSlider()"
   ],
   "metadata": {
    "collapsed": false,
    "ExecuteTime": {
     "end_time": "2024-01-06T02:32:48.675525635Z",
     "start_time": "2024-01-06T02:32:48.652970671Z"
    }
   },
   "id": "607e831e2c802a17"
  },
  {
   "cell_type": "code",
   "execution_count": 3,
   "outputs": [],
   "source": [
    "w = widgets.IntSlider()"
   ],
   "metadata": {
    "collapsed": false,
    "ExecuteTime": {
     "end_time": "2024-01-06T02:33:20.767536965Z",
     "start_time": "2024-01-06T02:33:20.705517871Z"
    }
   },
   "id": "e1fdf6777ae7196b"
  },
  {
   "cell_type": "code",
   "execution_count": 4,
   "outputs": [],
   "source": [
    "from IPython.display import display"
   ],
   "metadata": {
    "collapsed": false,
    "ExecuteTime": {
     "end_time": "2024-01-06T02:33:23.830633002Z",
     "start_time": "2024-01-06T02:33:23.790739133Z"
    }
   },
   "id": "a549ddede8f762c3"
  },
  {
   "cell_type": "code",
   "execution_count": 5,
   "outputs": [
    {
     "data": {
      "text/plain": "IntSlider(value=0)",
      "application/vnd.jupyter.widget-view+json": {
       "version_major": 2,
       "version_minor": 0,
       "model_id": "e9274a062d14418abae1aee24354b15b"
      }
     },
     "metadata": {},
     "output_type": "display_data"
    }
   ],
   "source": [
    "display(w)"
   ],
   "metadata": {
    "collapsed": false,
    "ExecuteTime": {
     "end_time": "2024-01-06T02:33:29.494076328Z",
     "start_time": "2024-01-06T02:33:29.446076230Z"
    }
   },
   "id": "30a34dc15b6881d4"
  },
  {
   "cell_type": "code",
   "execution_count": 6,
   "outputs": [
    {
     "data": {
      "text/plain": "IntSlider(value=51)",
      "application/vnd.jupyter.widget-view+json": {
       "version_major": 2,
       "version_minor": 0,
       "model_id": "e9274a062d14418abae1aee24354b15b"
      }
     },
     "metadata": {},
     "output_type": "display_data"
    }
   ],
   "source": [
    "display(w)"
   ],
   "metadata": {
    "collapsed": false,
    "ExecuteTime": {
     "end_time": "2024-01-06T02:33:55.713415994Z",
     "start_time": "2024-01-06T02:33:55.696527457Z"
    }
   },
   "id": "6c83f6318b98874a"
  },
  {
   "cell_type": "code",
   "execution_count": 7,
   "outputs": [],
   "source": [
    "w.close()"
   ],
   "metadata": {
    "collapsed": false,
    "ExecuteTime": {
     "end_time": "2024-01-06T02:34:12.713892007Z",
     "start_time": "2024-01-06T02:34:12.662747334Z"
    }
   },
   "id": "5536b886eeb8b2e3"
  },
  {
   "cell_type": "code",
   "execution_count": 8,
   "outputs": [
    {
     "data": {
      "text/plain": "IntSlider(value=0)",
      "application/vnd.jupyter.widget-view+json": {
       "version_major": 2,
       "version_minor": 0,
       "model_id": "844a93af785c406b82b32537eb19f7e8"
      }
     },
     "metadata": {},
     "output_type": "display_data"
    }
   ],
   "source": [
    "w = widgets.IntSlider()\n",
    "display(w)"
   ],
   "metadata": {
    "collapsed": false,
    "ExecuteTime": {
     "end_time": "2024-01-06T02:36:31.627281541Z",
     "start_time": "2024-01-06T02:36:31.580897193Z"
    }
   },
   "id": "334ff4b21de30e75"
  },
  {
   "cell_type": "code",
   "execution_count": 10,
   "outputs": [
    {
     "data": {
      "text/plain": "49"
     },
     "execution_count": 10,
     "metadata": {},
     "output_type": "execute_result"
    }
   ],
   "source": [
    "w.value"
   ],
   "metadata": {
    "collapsed": false,
    "ExecuteTime": {
     "end_time": "2024-01-06T02:36:51.200145588Z",
     "start_time": "2024-01-06T02:36:51.192417339Z"
    }
   },
   "id": "356c153092606cad"
  },
  {
   "cell_type": "code",
   "execution_count": 12,
   "outputs": [],
   "source": [
    "w.value = 50"
   ],
   "metadata": {
    "collapsed": false,
    "ExecuteTime": {
     "end_time": "2024-01-06T02:37:05.185870063Z",
     "start_time": "2024-01-06T02:37:05.148040819Z"
    }
   },
   "id": "142ba969637be271"
  },
  {
   "cell_type": "code",
   "execution_count": 13,
   "outputs": [
    {
     "data": {
      "text/plain": "['_dom_classes',\n '_model_module',\n '_model_module_version',\n '_model_name',\n '_view_count',\n '_view_module',\n '_view_module_version',\n '_view_name',\n 'behavior',\n 'continuous_update',\n 'description',\n 'description_allow_html',\n 'disabled',\n 'layout',\n 'max',\n 'min',\n 'orientation',\n 'readout',\n 'readout_format',\n 'step',\n 'style',\n 'tabbable',\n 'tooltip',\n 'value']"
     },
     "execution_count": 13,
     "metadata": {},
     "output_type": "execute_result"
    }
   ],
   "source": [
    "w.keys"
   ],
   "metadata": {
    "collapsed": false,
    "ExecuteTime": {
     "end_time": "2024-01-06T02:37:20.928778042Z",
     "start_time": "2024-01-06T02:37:20.875705742Z"
    }
   },
   "id": "16819eb7c10017ff"
  },
  {
   "cell_type": "code",
   "execution_count": 14,
   "outputs": [],
   "source": [
    "w.max = 2000"
   ],
   "metadata": {
    "collapsed": false,
    "ExecuteTime": {
     "end_time": "2024-01-06T02:37:42.074694299Z",
     "start_time": "2024-01-06T02:37:42.015406950Z"
    }
   },
   "id": "3d9aeeecf1eca744"
  },
  {
   "cell_type": "code",
   "execution_count": 15,
   "outputs": [],
   "source": [
    "a = widgets.FloatText()\n",
    "b = widgets.FloatSlider()"
   ],
   "metadata": {
    "collapsed": false,
    "ExecuteTime": {
     "end_time": "2024-01-06T02:38:35.671217400Z",
     "start_time": "2024-01-06T02:38:35.605572044Z"
    }
   },
   "id": "d97cce14e0652ba6"
  },
  {
   "cell_type": "code",
   "execution_count": 17,
   "outputs": [
    {
     "data": {
      "text/plain": "FloatText(value=0.0)",
      "application/vnd.jupyter.widget-view+json": {
       "version_major": 2,
       "version_minor": 0,
       "model_id": "80b2995841aa4985b0211e184b09f207"
      }
     },
     "metadata": {},
     "output_type": "display_data"
    },
    {
     "data": {
      "text/plain": "FloatSlider(value=4.9)",
      "application/vnd.jupyter.widget-view+json": {
       "version_major": 2,
       "version_minor": 0,
       "model_id": "297c4f523a8642d8966212f76e34dbd9"
      }
     },
     "metadata": {},
     "output_type": "display_data"
    }
   ],
   "source": [
    "display(a,b)\n",
    "\n",
    "my_link = widgets.jslink((a,'value'),(b,'value')) # link the values of the two widgets, using the jslink function, or javascript link"
   ],
   "metadata": {
    "collapsed": false,
    "ExecuteTime": {
     "end_time": "2024-01-06T02:39:37.179125740Z",
     "start_time": "2024-01-06T02:39:37.121158935Z"
    }
   },
   "id": "b6e48ab2e3dd13a2"
  },
  {
   "cell_type": "code",
   "execution_count": 18,
   "outputs": [],
   "source": [
    "my_link.unlink() # unlink the widgets"
   ],
   "metadata": {
    "collapsed": false,
    "ExecuteTime": {
     "end_time": "2024-01-06T02:40:42.766639651Z",
     "start_time": "2024-01-06T02:40:42.704950546Z"
    }
   },
   "id": "1fa14b6bf000db31"
  }
 ],
 "metadata": {
  "kernelspec": {
   "display_name": "Python 3",
   "language": "python",
   "name": "python3"
  },
  "language_info": {
   "codemirror_mode": {
    "name": "ipython",
    "version": 2
   },
   "file_extension": ".py",
   "mimetype": "text/x-python",
   "name": "python",
   "nbconvert_exporter": "python",
   "pygments_lexer": "ipython2",
   "version": "2.7.6"
  }
 },
 "nbformat": 4,
 "nbformat_minor": 5
}
