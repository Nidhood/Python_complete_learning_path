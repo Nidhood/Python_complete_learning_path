{
 "cells": [
  {
   "cell_type": "code",
   "execution_count": 1,
   "id": "initial_id",
   "metadata": {
    "collapsed": true,
    "ExecuteTime": {
     "end_time": "2024-01-06T02:51:05.741102499Z",
     "start_time": "2024-01-06T02:51:05.712460128Z"
    }
   },
   "outputs": [],
   "source": [
    "import ipywidgets as widgets\n",
    "from IPython.display import display"
   ]
  },
  {
   "cell_type": "code",
   "execution_count": 2,
   "outputs": [
    {
     "data": {
      "text/plain": "IntSlider(value=0)",
      "application/vnd.jupyter.widget-view+json": {
       "version_major": 2,
       "version_minor": 0,
       "model_id": "dacf07001fb34d408fd695bf33b978a8"
      }
     },
     "metadata": {},
     "output_type": "display_data"
    }
   ],
   "source": [
    "w = widgets.IntSlider()\n",
    "display(w)"
   ],
   "metadata": {
    "collapsed": false,
    "ExecuteTime": {
     "end_time": "2024-01-06T02:51:12.145021362Z",
     "start_time": "2024-01-06T02:51:12.111080243Z"
    }
   },
   "id": "28b3efb47941d086"
  },
  {
   "cell_type": "code",
   "execution_count": 3,
   "outputs": [],
   "source": [
    "w.layout.margin = 'auto' # center the slider\n",
    "w.layout.height = '75px' # set the height of the slider"
   ],
   "metadata": {
    "collapsed": false,
    "ExecuteTime": {
     "end_time": "2024-01-06T02:51:21.407309096Z",
     "start_time": "2024-01-06T02:51:21.361853853Z"
    }
   },
   "id": "406b00ffe4a29883"
  },
  {
   "cell_type": "code",
   "execution_count": 4,
   "outputs": [
    {
     "data": {
      "text/plain": "IntSlider(value=15, description='New Slider')",
      "application/vnd.jupyter.widget-view+json": {
       "version_major": 2,
       "version_minor": 0,
       "model_id": "aebc4bfcde5c46e1bee6181e59d723b8"
      }
     },
     "metadata": {},
     "output_type": "display_data"
    }
   ],
   "source": [
    "x = widgets.IntSlider(value=15,description='New Slider')\n",
    "display(x)"
   ],
   "metadata": {
    "collapsed": false,
    "ExecuteTime": {
     "end_time": "2024-01-06T02:51:47.401855783Z",
     "start_time": "2024-01-06T02:51:47.349924599Z"
    }
   },
   "id": "3192f2bc0174abf8"
  },
  {
   "cell_type": "code",
   "execution_count": 5,
   "outputs": [],
   "source": [
    "x.layout = w.layout"
   ],
   "metadata": {
    "collapsed": false,
    "ExecuteTime": {
     "end_time": "2024-01-06T02:52:07.287645417Z",
     "start_time": "2024-01-06T02:52:07.209546234Z"
    }
   },
   "id": "e464215e3f698b8f"
  },
  {
   "cell_type": "code",
   "execution_count": 6,
   "outputs": [
    {
     "data": {
      "text/plain": "Button(button_style='danger', description='Ordinary Button', style=ButtonStyle())",
      "application/vnd.jupyter.widget-view+json": {
       "version_major": 2,
       "version_minor": 0,
       "model_id": "1b9257a2c6214c2e9e83a70c699d5aed"
      }
     },
     "execution_count": 6,
     "metadata": {},
     "output_type": "execute_result"
    }
   ],
   "source": [
    "widgets.Button(description='Ordinary Button',button_style='danger')"
   ],
   "metadata": {
    "collapsed": false,
    "ExecuteTime": {
     "end_time": "2024-01-06T02:52:37.161781190Z",
     "start_time": "2024-01-06T02:52:37.108252989Z"
    }
   },
   "id": "bb77f26c45622c42"
  },
  {
   "cell_type": "code",
   "execution_count": 7,
   "outputs": [
    {
     "data": {
      "text/plain": "Button(button_style='warning', description='Ordinary Button', style=ButtonStyle())",
      "application/vnd.jupyter.widget-view+json": {
       "version_major": 2,
       "version_minor": 0,
       "model_id": "994740c930844fda88b40f9453491130"
      }
     },
     "execution_count": 7,
     "metadata": {},
     "output_type": "execute_result"
    }
   ],
   "source": [
    "widgets.Button(description='Ordinary Button',button_style='warning')"
   ],
   "metadata": {
    "collapsed": false,
    "ExecuteTime": {
     "end_time": "2024-01-06T02:52:59.559943059Z",
     "start_time": "2024-01-06T02:52:59.459331311Z"
    }
   },
   "id": "562bdcd24176714"
  },
  {
   "cell_type": "code",
   "execution_count": 8,
   "outputs": [
    {
     "data": {
      "text/plain": "Button(button_style='info', description='Ordinary Button', style=ButtonStyle())",
      "application/vnd.jupyter.widget-view+json": {
       "version_major": 2,
       "version_minor": 0,
       "model_id": "d44d152c0b0142998a6c0016f811797b"
      }
     },
     "execution_count": 8,
     "metadata": {},
     "output_type": "execute_result"
    }
   ],
   "source": [
    "widgets.Button(description='Ordinary Button',button_style='info')"
   ],
   "metadata": {
    "collapsed": false,
    "ExecuteTime": {
     "end_time": "2024-01-06T02:53:01.779170559Z",
     "start_time": "2024-01-06T02:53:01.734936712Z"
    }
   },
   "id": "7afadc5796afe3eb"
  },
  {
   "cell_type": "code",
   "execution_count": 9,
   "outputs": [
    {
     "data": {
      "text/plain": "Button(description='Custom color', style=ButtonStyle(button_color='lightgreen'))",
      "application/vnd.jupyter.widget-view+json": {
       "version_major": 2,
       "version_minor": 0,
       "model_id": "f9d72ed539924df7a155632781f3ee23"
      }
     },
     "execution_count": 9,
     "metadata": {},
     "output_type": "execute_result"
    }
   ],
   "source": [
    "b1 = widgets.Button(description='Custom color')\n",
    "b1.style.button_color = 'lightgreen'\n",
    "b1"
   ],
   "metadata": {
    "collapsed": false,
    "ExecuteTime": {
     "end_time": "2024-01-06T02:53:34.700866828Z",
     "start_time": "2024-01-06T02:53:34.633220304Z"
    }
   },
   "id": "18b1693a5ad091cc"
  },
  {
   "cell_type": "code",
   "execution_count": 10,
   "outputs": [
    {
     "data": {
      "text/plain": "['_model_module',\n '_model_module_version',\n '_model_name',\n '_view_count',\n '_view_module',\n '_view_module_version',\n '_view_name',\n 'button_color',\n 'font_family',\n 'font_size',\n 'font_style',\n 'font_variant',\n 'font_weight',\n 'text_color',\n 'text_decoration']"
     },
     "execution_count": 10,
     "metadata": {},
     "output_type": "execute_result"
    }
   ],
   "source": [
    "b1.style.keys"
   ],
   "metadata": {
    "collapsed": false,
    "ExecuteTime": {
     "end_time": "2024-01-06T02:53:53.577424824Z",
     "start_time": "2024-01-06T02:53:53.510053097Z"
    }
   },
   "id": "392a5b75cdcc5577"
  },
  {
   "cell_type": "code",
   "execution_count": 12,
   "outputs": [
    {
     "data": {
      "text/plain": "Button(description='NEW', style=ButtonStyle(button_color='lightgreen'))",
      "application/vnd.jupyter.widget-view+json": {
       "version_major": 2,
       "version_minor": 0,
       "model_id": "24de5f4d7c9a41b9811130dd7f65c2a4"
      }
     },
     "execution_count": 12,
     "metadata": {},
     "output_type": "execute_result"
    }
   ],
   "source": [
    "b2 = widgets.Button(description='NEW')\n",
    "b2.style = b1.style\n",
    "b2"
   ],
   "metadata": {
    "collapsed": false,
    "ExecuteTime": {
     "end_time": "2024-01-06T02:54:14.647850920Z",
     "start_time": "2024-01-06T02:54:14.620373719Z"
    }
   },
   "id": "a2c64fec0eb905d3"
  },
  {
   "cell_type": "code",
   "execution_count": 13,
   "outputs": [
    {
     "data": {
      "text/plain": "IntSlider(value=0, description='My Handle', style=SliderStyle(handle_color='lightblue'))",
      "application/vnd.jupyter.widget-view+json": {
       "version_major": 2,
       "version_minor": 0,
       "model_id": "a58db14408a44cfbb0d8d7767decea2b"
      }
     },
     "execution_count": 13,
     "metadata": {},
     "output_type": "execute_result"
    }
   ],
   "source": [
    "s1 = widgets.IntSlider(description='My Handle')\n",
    "s1.style.handle_color = 'lightblue'\n",
    "s1"
   ],
   "metadata": {
    "collapsed": false,
    "ExecuteTime": {
     "end_time": "2024-01-06T02:54:34.294747918Z",
     "start_time": "2024-01-06T02:54:34.219392729Z"
    }
   },
   "id": "3618f0a89d56ab81"
  }
 ],
 "metadata": {
  "kernelspec": {
   "display_name": "Python 3",
   "language": "python",
   "name": "python3"
  },
  "language_info": {
   "codemirror_mode": {
    "name": "ipython",
    "version": 2
   },
   "file_extension": ".py",
   "mimetype": "text/x-python",
   "name": "python",
   "nbconvert_exporter": "python",
   "pygments_lexer": "ipython2",
   "version": "2.7.6"
  }
 },
 "nbformat": 4,
 "nbformat_minor": 5
}
