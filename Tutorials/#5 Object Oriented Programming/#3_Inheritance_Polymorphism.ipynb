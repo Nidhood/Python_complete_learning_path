{
 "cells": [
  {
   "cell_type": "markdown",
   "source": [
    "# Inheritance and Polymorphism\n",
    "\n",
    "Behind Classes and Objects there is two very important concepts: Inheritance and Polymorphism.\n",
    "\n",
    "______\n",
    "\n",
    "### _Inheritance_\n",
    "\n",
    "Inheritance is the capability of one class to derive or inherit the properties from another class, this means that the child class (or subclass) inherits the methods and attributes from the parent class (or base class)."
   ],
   "metadata": {
    "collapsed": false
   },
   "id": "97e1784fd334548f"
  },
  {
   "cell_type": "code",
   "execution_count": 1,
   "outputs": [],
   "source": [
    "class Animal:\n",
    "    \n",
    "    def __init__(self, name):\n",
    "        self.name = name\n",
    "        \n",
    "    def who_am_i(self):\n",
    "        print(f\"I am {self.name}\")\n",
    "        \n",
    "    def eat(self):\n",
    "        print(\"I am eating\")\n",
    "        \n",
    "    def __str__(self):\n",
    "        return f\"Animal: {self.name}\"   "
   ],
   "metadata": {
    "collapsed": false,
    "ExecuteTime": {
     "end_time": "2023-12-24T21:10:17.314922723Z",
     "start_time": "2023-12-24T21:10:17.313715669Z"
    }
   },
   "id": "59b8980aed9281cd"
  },
  {
   "cell_type": "code",
   "execution_count": 2,
   "outputs": [],
   "source": [
    "my_animal = Animal(\"Fred\")"
   ],
   "metadata": {
    "collapsed": false,
    "ExecuteTime": {
     "end_time": "2023-12-24T21:10:17.702615768Z",
     "start_time": "2023-12-24T21:10:17.694946760Z"
    }
   },
   "id": "d89e7bedeca79a69"
  },
  {
   "cell_type": "markdown",
   "source": [
    "Here we have a base class called Animal. The base class is the most general class and it is the one that will be inherited by the subclasses. In this case, the Animal class has three methods: speak, who_am_i and eat. The speak method is an abstract method, which means that it is not implemented in the base class, but it will be implemented in the subclasses. The other two methods are implemented in the base class, but they can be overwritten in the subclasses."
   ],
   "metadata": {
    "collapsed": false
   },
   "id": "74e497e24bb7b375"
  },
  {
   "cell_type": "code",
   "execution_count": 3,
   "outputs": [],
   "source": [
    "class Dog(Animal):\n",
    "    \n",
    "    def __init__(self, name):\n",
    "        Animal.__init__(self, name)\n",
    "    \n",
    "    def eat(self): # Overwrite the eat method\n",
    "        print(\"I am a dog and I am eating\")\n",
    "        \n",
    "    def __str__(self):\n",
    "        return f\"Dog: {self.name}\""
   ],
   "metadata": {
    "collapsed": false,
    "ExecuteTime": {
     "end_time": "2023-12-24T21:10:18.202190721Z",
     "start_time": "2023-12-24T21:10:18.194304708Z"
    }
   },
   "id": "c2964d8345fbde60"
  },
  {
   "cell_type": "code",
   "execution_count": 4,
   "outputs": [
    {
     "name": "stdout",
     "output_type": "stream",
     "text": [
      "I am Rex\n"
     ]
    }
   ],
   "source": [
    "my_dog = Dog(\"Rex\")\n",
    "my_dog.who_am_i()"
   ],
   "metadata": {
    "collapsed": false,
    "ExecuteTime": {
     "end_time": "2023-12-24T21:10:18.425014769Z",
     "start_time": "2023-12-24T21:10:18.409887902Z"
    }
   },
   "id": "c1ec2f3dc24b3ba8"
  },
  {
   "cell_type": "code",
   "execution_count": 5,
   "outputs": [
    {
     "name": "stdout",
     "output_type": "stream",
     "text": [
      "I am a dog and I am eating\n"
     ]
    }
   ],
   "source": [
    "my_dog.eat()"
   ],
   "metadata": {
    "collapsed": false,
    "ExecuteTime": {
     "end_time": "2023-12-24T21:10:18.694054670Z",
     "start_time": "2023-12-24T21:10:18.670875164Z"
    }
   },
   "id": "9caa302c64ebbce6"
  },
  {
   "cell_type": "markdown",
   "source": [
    "______\n",
    "### _Polymorphism_\n",
    "\n",
    "Polymorphism is the ability to redefine methods for derived classes. For example, in the Animal class we have the eat method. In the Dog class we overwrite the eat method. This means that the eat method will behave differently depending on the class that is calling it."
   ],
   "metadata": {
    "collapsed": false
   },
   "id": "68fc1a1f6fb1c817"
  },
  {
   "cell_type": "code",
   "execution_count": 6,
   "outputs": [],
   "source": [
    "class Dog:\n",
    "    \n",
    "    def __init__(self, name):\n",
    "        self.name = name\n",
    "    \n",
    "    def speak(self): \n",
    "        print(f'{self.name} says Woof!')\n",
    "        \n",
    "class Cat:\n",
    "        \n",
    "        def __init__(self, name):\n",
    "            self.name = name\n",
    "        \n",
    "        def speak(self): \n",
    "            print(f'{self.name} says Meow!')"
   ],
   "metadata": {
    "collapsed": false,
    "ExecuteTime": {
     "end_time": "2023-12-24T21:10:18.936753752Z",
     "start_time": "2023-12-24T21:10:18.927135377Z"
    }
   },
   "id": "8cc3c2e0cc25730d"
  },
  {
   "cell_type": "code",
   "execution_count": 7,
   "outputs": [
    {
     "name": "stdout",
     "output_type": "stream",
     "text": [
      "<class '__main__.Dog'>\n",
      "Rex says Woof!\n",
      "<class '__main__.Cat'>\n",
      "Miau says Meow!\n"
     ]
    }
   ],
   "source": [
    "my_dog = Dog(\"Rex\")\n",
    "my_cat = Cat(\"Miau\")\n",
    "\n",
    "for pet in [my_dog, my_cat]:\n",
    "    print(type(pet))\n",
    "    pet.speak()"
   ],
   "metadata": {
    "collapsed": false,
    "ExecuteTime": {
     "end_time": "2023-12-24T21:10:19.234382356Z",
     "start_time": "2023-12-24T21:10:19.214997291Z"
    }
   },
   "id": "e457527197c04a51"
  },
  {
   "cell_type": "code",
   "execution_count": 8,
   "outputs": [],
   "source": [
    "class Animal:\n",
    "    \n",
    "    def __init__(self, name):\n",
    "        self.name = name\n",
    "    \n",
    "    def speak(self):\n",
    "        raise NotImplementedError(\"Subclass must implement this abstract method\")\n",
    "        \n",
    "    def who_am_i(self):\n",
    "        print(f\"I am {self.name}\")\n",
    "        \n",
    "    def eat(self):\n",
    "        print(\"I am eating\")\n",
    "        \n",
    "    def __str__(self):\n",
    "        return f\"Animal: {self.name}\""
   ],
   "metadata": {
    "collapsed": false,
    "ExecuteTime": {
     "end_time": "2023-12-24T21:10:19.395013919Z",
     "start_time": "2023-12-24T21:10:19.377630766Z"
    }
   },
   "id": "50aa498058e4112"
  },
  {
   "cell_type": "markdown",
   "source": [
    "__________  \n",
    "### _raise_\n",
    "\n",
    "The raise keyword is used to raise an exception. You can define what kind of error to raise, and the text to print to the user."
   ],
   "metadata": {
    "collapsed": false
   },
   "id": "98e5d087f2279a16"
  },
  {
   "cell_type": "code",
   "execution_count": 9,
   "outputs": [],
   "source": [
    "class Dog(Animal):\n",
    "    \n",
    "    def __init__(self, name):\n",
    "        Animal.__init__(self, name)\n",
    "        super().__init__(name)\n",
    "\n",
    "    def speak(self): \n",
    "        print(f'{self.name} says Woof!')\n",
    "        \n",
    "class Cat(Animal):\n",
    "    \n",
    "    def __init__(self, name):\n",
    "        Animal.__init__(self, name)\n",
    "        super().__init__(name)\n",
    "\n",
    "    def speak(self): \n",
    "        print(f'{self.name} says Meow!')"
   ],
   "metadata": {
    "collapsed": false,
    "ExecuteTime": {
     "end_time": "2023-12-24T21:10:19.750167602Z",
     "start_time": "2023-12-24T21:10:19.739334292Z"
    }
   },
   "id": "d93847fa032f455c"
  },
  {
   "cell_type": "code",
   "execution_count": 10,
   "outputs": [
    {
     "name": "stdout",
     "output_type": "stream",
     "text": [
      "Rex says Woof!\n",
      "Miau says Meow!\n"
     ]
    }
   ],
   "source": [
    "my_dog = Dog(\"Rex\")\n",
    "my_cat = Cat(\"Miau\")\n",
    "\n",
    "my_dog.speak()\n",
    "my_cat.speak()"
   ],
   "metadata": {
    "collapsed": false,
    "ExecuteTime": {
     "end_time": "2023-12-24T21:10:20.331040609Z",
     "start_time": "2023-12-24T21:10:20.277715781Z"
    }
   },
   "id": "3cab19ae023925a7"
  }
 ],
 "metadata": {
  "kernelspec": {
   "display_name": "Python 3",
   "language": "python",
   "name": "python3"
  },
  "language_info": {
   "codemirror_mode": {
    "name": "ipython",
    "version": 2
   },
   "file_extension": ".py",
   "mimetype": "text/x-python",
   "name": "python",
   "nbconvert_exporter": "python",
   "pygments_lexer": "ipython2",
   "version": "2.7.6"
  }
 },
 "nbformat": 4,
 "nbformat_minor": 5
}
