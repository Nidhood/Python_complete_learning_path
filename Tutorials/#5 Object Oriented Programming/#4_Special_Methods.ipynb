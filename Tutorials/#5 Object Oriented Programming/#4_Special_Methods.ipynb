{
 "cells": [
  {
   "cell_type": "markdown",
   "source": [
    "# Special (Magic/Dunder) Methods\n",
    "\n",
    "Python classes can implement certain operations with special method names. These methods are not actually called directly but by Python specific language syntax."
   ],
   "metadata": {
    "collapsed": false
   },
   "id": "eecd8ce8ace2f346"
  },
  {
   "cell_type": "code",
   "execution_count": 1,
   "outputs": [
    {
     "name": "stdout",
     "output_type": "stream",
     "text": [
      "A book is created\n"
     ]
    }
   ],
   "source": [
    "class Book:\n",
    "    \n",
    "    def __init__(self, title, author, pages):\n",
    "        print(\"A book is created\")\n",
    "        self.title = title\n",
    "        self.author = author\n",
    "        self.pages = pages\n",
    "        \n",
    "    def __str__(self):\n",
    "        return f'{self.title} by {self.author} with {self.pages} pages'\n",
    "    \n",
    "    def __len__(self):\n",
    "        return self.pages\n",
    "    \n",
    "    def __del__(self):\n",
    "        print(\"A book is destroyed!\")\n",
    "    \n",
    "book = Book(\"Python Rocks!\", \"Jose Portilla\", 159)"
   ],
   "metadata": {
    "collapsed": false,
    "ExecuteTime": {
     "end_time": "2023-12-24T21:17:06.418491706Z",
     "start_time": "2023-12-24T21:17:06.417774189Z"
    }
   },
   "id": "e7f3f595a9d0bd19"
  },
  {
   "cell_type": "code",
   "execution_count": 2,
   "outputs": [
    {
     "name": "stdout",
     "output_type": "stream",
     "text": [
      "Python Rocks! by Jose Portilla with 159 pages\n"
     ]
    }
   ],
   "source": [
    "print(book)"
   ],
   "metadata": {
    "collapsed": false,
    "ExecuteTime": {
     "end_time": "2023-12-24T21:17:06.934324488Z",
     "start_time": "2023-12-24T21:17:06.927300640Z"
    }
   },
   "id": "de377cd2d4c3f809"
  },
  {
   "cell_type": "code",
   "execution_count": 3,
   "outputs": [
    {
     "data": {
      "text/plain": "159"
     },
     "execution_count": 3,
     "metadata": {},
     "output_type": "execute_result"
    }
   ],
   "source": [
    "len(book)"
   ],
   "metadata": {
    "collapsed": false,
    "ExecuteTime": {
     "end_time": "2023-12-24T21:17:07.349522825Z",
     "start_time": "2023-12-24T21:17:07.327120249Z"
    }
   },
   "id": "7e576fa3d3c45393"
  },
  {
   "cell_type": "code",
   "execution_count": 4,
   "outputs": [
    {
     "name": "stdout",
     "output_type": "stream",
     "text": [
      "A book is destroyed!\n"
     ]
    }
   ],
   "source": [
    "del book"
   ],
   "metadata": {
    "collapsed": false,
    "ExecuteTime": {
     "end_time": "2023-12-24T21:17:07.816013657Z",
     "start_time": "2023-12-24T21:17:07.809565558Z"
    }
   },
   "id": "c50402ba09837c72"
  },
  {
   "cell_type": "markdown",
   "source": [
    "### _del_\n",
    "\n",
    "The __del__ method is used to destroy an instance of an object, that means that the object will no longer exist in the memory."
   ],
   "metadata": {
    "collapsed": false
   },
   "id": "b94bf58df55e5f72"
  }
 ],
 "metadata": {
  "kernelspec": {
   "display_name": "Python 3",
   "language": "python",
   "name": "python3"
  },
  "language_info": {
   "codemirror_mode": {
    "name": "ipython",
    "version": 2
   },
   "file_extension": ".py",
   "mimetype": "text/x-python",
   "name": "python",
   "nbconvert_exporter": "python",
   "pygments_lexer": "ipython2",
   "version": "2.7.6"
  }
 },
 "nbformat": 4,
 "nbformat_minor": 5
}
