{
 "cells": [
  {
   "cell_type": "markdown",
   "source": [
    "# Introduction to POO\n",
    "\n",
    "One of the most important concepts in Python is the Object-Oriented Programming (POO). It is a programming paradigm that uses objects and their interactions to design applications and computer programs. It is based on several techniques, including inheritance, modularity, polymorphism, and encapsulation. Its main purpose is to facilitate the development of programs by allowing the programmer to think about the problem and its solution in a more natural way."
   ],
   "metadata": {
    "collapsed": false
   },
   "id": "31adf9cb7f399d41"
  },
  {
   "cell_type": "markdown",
   "source": [
    "__________\n",
    "\n",
    "### _What's an object?_\n",
    "\n",
    "In programming, an object is a collection of data (variables) and methods (functions) that act on those data. And, classes are a template for creating objects. They encapsulate data with code to work on that data. Classes in Python can be created using the keyword class. Attributes are the variables that belong to a class. Methods are functions that belong to a class.\n",
    "\n",
    "__________\n",
    "\n",
    "### _What's a class?_\n",
    "\n",
    "Now that we know what an object is, let's see what a class is. A class is a blueprint for objects. We can think of class as a sketch of a parrot with labels. It contains all the details about the name, colors, size etc. Based on these descriptions, we can study about the parrot. Here, a parrot is an object.\n",
    "\n",
    "__________\n",
    "\n",
    "### _What's the difference between a class and an object?_\n",
    "\n",
    "A class is a blueprint for an object. We can think of class as a sketch of a parrot with labels. It contains all the details about the name, colors, size etc. Based on these descriptions, we can study about the parrot. Here, a parrot is an object.\n",
    "\n",
    "__________\n",
    "\n",
    "### _What's an instance?_\n",
    "\n",
    "An instance is a specific representation of an object. For example, if a Dog is a class, then a particular dog, for example, Lassie is an instance of the Dog class. In other words, an instance is an object created from a class.\n",
    "\n",
    "__________\n",
    "\n",
    "### _What's an attribute?_\n",
    "\n",
    "An attribute is a specification that defines a property of an object, element, or file. It may also refer to or set the specific value for a given instance of such. For clarity, attributes should more correctly be considered metadata.\n",
    "\n",
    "__________\n",
    "\n",
    "### _What's a method?_\n",
    "\n",
    "A method is a function associated with an object. In Python, methods are defined inside a class and are used to perform operations with the attributes of our objects."
   ],
   "metadata": {
    "collapsed": false
   },
   "id": "c8c55eb8f8f67ab8"
  },
  {
   "cell_type": "markdown",
   "source": [
    "\n",
    "__________\n",
    "### _What's the difference between a function and a method?_\n",
    "\n",
    "A function is a piece of code that name calls. It can be passed data to operate on (i.e., the parameters) and can optionally return data (the return value). All data passed to a function is explicitly passed.\n",
    "\n"
   ],
   "metadata": {
    "collapsed": false
   },
   "id": "a647d14064242f28"
  },
  {
   "cell_type": "markdown",
   "source": [
    "### _Syntax of a class_\n",
    "\n",
    "To define a class in Python, we use the keyword class. Let's take an example of a class that represents a parrot. We will use the following syntax to define a class in Python:\n",
    "\n",
    "```python\n",
    "\n",
    "class NameOfClass():\n",
    "\n",
    "    def __init__(self, param1, param2):\n",
    "        self.param1 = param1\n",
    "        self.param2 = param2\n",
    "\n",
    "    def some_method(self):\n",
    "        # perform some action\n",
    "        print(self.param1)\n",
    "```\n",
    "    "
   ],
   "metadata": {
    "collapsed": false
   },
   "id": "6812e078317220cd"
  },
  {
   "cell_type": "markdown",
   "source": [
    "### _What's the __init__ method?_\n",
    "\n",
    "The __init__ method is similar to constructors in C++ and Java. It is run as soon as an object of a class is instantiated. The method is useful to do any initialization you want to do with your object. Notice the double underscores both at the beginning and at the end of the name.\n",
    "\n",
    "__________\n",
    "\n",
    "### _What's the self-keyword?_\n",
    "\n",
    "The self-keyword is used to represent the instance of the class, and it is used to access the variables that belong to the class. It does not have to be named self, you can call it whatever you like, but it has to be the first parameter of any function in the class:\n",
    "\n",
    "```python   \n",
    "class MyClass:\n",
    "    def __init__(self, name, age): # self is the first parameter, witch means that it is an attribute\n",
    "        self.name = name # these are attributes\n",
    "        self.age = age # these are attributes\n",
    "\n",
    "    def myfunc(self): # self is the first parameter\n",
    "        print(\"Hello my name is \" + self.name) # self.name is an attribute\n",
    "```\n"
   ],
   "metadata": {
    "collapsed": false
   },
   "id": "803f0fe6522db7cb"
  }
 ],
 "metadata": {
  "kernelspec": {
   "display_name": "Python 3",
   "language": "python",
   "name": "python3"
  },
  "language_info": {
   "codemirror_mode": {
    "name": "ipython",
    "version": 2
   },
   "file_extension": ".py",
   "mimetype": "text/x-python",
   "name": "python",
   "nbconvert_exporter": "python",
   "pygments_lexer": "ipython2",
   "version": "2.7.6"
  }
 },
 "nbformat": 4,
 "nbformat_minor": 5
}
