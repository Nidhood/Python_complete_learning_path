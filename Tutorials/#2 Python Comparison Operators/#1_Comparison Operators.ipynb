{
 "cells": [
  {
   "cell_type": "markdown",
   "source": [
    "# Comparison Operators\n",
    "\n",
    "The comparison operators allow us to compare variables and output a Boolean value (True or False)."
   ],
   "metadata": {
    "collapsed": false
   },
   "id": "f5f5f254cc5b6599"
  },
  {
   "cell_type": "markdown",
   "source": [
    "_____\n",
    "# Table of Comparison Operators\n",
    "\n",
    "In the table below, a=3 and b=4.\n",
    "\n",
    "<table>\n",
    "  <tr>\n",
    "    <th style=\"text-align:center;\">Operator</th>\n",
    "    <th>Description</th>\n",
    "    <th>Example</th>\n",
    "  </tr>\n",
    "  <tr>\n",
    "    <td style=\"text-align:center;\">==</td>\n",
    "    <td>If the values of two operands are equal, then the condition becomes true.</td>\n",
    "    <td>(a == b) is not true.</td>\n",
    "  </tr>\n",
    "  <tr>\n",
    "    <td style=\"text-align:center;\">!=</td>\n",
    "    <td>If the values of two operands are not equal, then the condition becomes true.</td>\n",
    "    <td>(a != b) is true.</td>\n",
    "  </tr>\n",
    "  <tr>\n",
    "    <td style=\"text-align:center;\">&gt;</td>\n",
    "    <td>If the value of the left operand is greater than the value of the right operand, then the condition becomes true.</td>\n",
    "    <td>(a &gt; b) is not true.</td>\n",
    "  </tr>\n",
    "  <tr>\n",
    "    <td style=\"text-align:center;\">&lt;</td>\n",
    "    <td>If the value of the left operand is less than the value of the right operand, then the condition becomes true.</td>\n",
    "    <td>(a &lt; b) is true.</td>\n",
    "  </tr>\n",
    "  <tr>\n",
    "    <td style=\"text-align:center;\">&gt;=</td>\n",
    "    <td>If the value of the left operand is greater than or equal to the value of the right operand, then the condition becomes true.</td>\n",
    "    <td>(a &gt;= b) is not true.</td>\n",
    "  </tr>\n",
    "  <tr>\n",
    "    <td style=\"text-align:center;\">&lt;=</td>\n",
    "    <td>If the value of the left operand is less than or equal to the value of the right operand, then the condition becomes true.</td>\n",
    "    <td>(a &lt;= b) is true.</td>\n",
    "  </tr>\n",
    "</table>\n"
   ],
   "metadata": {
    "collapsed": false
   },
   "id": "ebca8ab3c11d712a"
  },
  {
   "cell_type": "code",
   "execution_count": 1,
   "outputs": [
    {
     "data": {
      "text/plain": "True"
     },
     "execution_count": 1,
     "metadata": {},
     "output_type": "execute_result"
    }
   ],
   "source": [
    "2 == 2 "
   ],
   "metadata": {
    "collapsed": false,
    "ExecuteTime": {
     "end_time": "2023-12-21T19:13:04.648771436Z",
     "start_time": "2023-12-21T19:13:04.647491271Z"
    }
   },
   "id": "e2b7851893d9ceb4"
  },
  {
   "cell_type": "code",
   "execution_count": 2,
   "outputs": [
    {
     "data": {
      "text/plain": "False"
     },
     "execution_count": 2,
     "metadata": {},
     "output_type": "execute_result"
    }
   ],
   "source": [
    "2 == 1"
   ],
   "metadata": {
    "collapsed": false,
    "ExecuteTime": {
     "end_time": "2023-12-21T19:13:04.940550632Z",
     "start_time": "2023-12-21T19:13:04.931079786Z"
    }
   },
   "id": "63ec78db639a7806"
  },
  {
   "cell_type": "code",
   "execution_count": 3,
   "outputs": [
    {
     "data": {
      "text/plain": "True"
     },
     "execution_count": 3,
     "metadata": {},
     "output_type": "execute_result"
    }
   ],
   "source": [
    "'green' == 'green'"
   ],
   "metadata": {
    "collapsed": false,
    "ExecuteTime": {
     "end_time": "2023-12-21T19:13:05.076643059Z",
     "start_time": "2023-12-21T19:13:05.034950648Z"
    }
   },
   "id": "1f178e7a4ac2801d"
  },
  {
   "cell_type": "code",
   "execution_count": 4,
   "outputs": [
    {
     "data": {
      "text/plain": "False"
     },
     "execution_count": 4,
     "metadata": {},
     "output_type": "execute_result"
    }
   ],
   "source": [
    "'hello' == 'bye'"
   ],
   "metadata": {
    "collapsed": false,
    "ExecuteTime": {
     "end_time": "2023-12-21T19:13:05.332460561Z",
     "start_time": "2023-12-21T19:13:05.271903355Z"
    }
   },
   "id": "1c44e36e09165097"
  },
  {
   "cell_type": "code",
   "execution_count": 5,
   "outputs": [
    {
     "data": {
      "text/plain": "False"
     },
     "execution_count": 5,
     "metadata": {},
     "output_type": "execute_result"
    }
   ],
   "source": [
    "'Bye' == 'bye'"
   ],
   "metadata": {
    "collapsed": false,
    "ExecuteTime": {
     "end_time": "2023-12-21T19:13:05.500399722Z",
     "start_time": "2023-12-21T19:13:05.459402857Z"
    }
   },
   "id": "8d2059469daf9cd4"
  },
  {
   "cell_type": "code",
   "execution_count": 6,
   "outputs": [
    {
     "data": {
      "text/plain": "False"
     },
     "execution_count": 6,
     "metadata": {},
     "output_type": "execute_result"
    }
   ],
   "source": [
    "'2' == 2"
   ],
   "metadata": {
    "collapsed": false,
    "ExecuteTime": {
     "end_time": "2023-12-21T19:13:05.695645490Z",
     "start_time": "2023-12-21T19:13:05.674661472Z"
    }
   },
   "id": "e51c2278d99a12cb"
  },
  {
   "cell_type": "code",
   "execution_count": 7,
   "outputs": [
    {
     "data": {
      "text/plain": "True"
     },
     "execution_count": 7,
     "metadata": {},
     "output_type": "execute_result"
    }
   ],
   "source": [
    "2.0 == 2"
   ],
   "metadata": {
    "collapsed": false,
    "ExecuteTime": {
     "end_time": "2023-12-21T19:13:06.023447077Z",
     "start_time": "2023-12-21T19:13:06.008218380Z"
    }
   },
   "id": "37497b38662b3ac8"
  },
  {
   "cell_type": "code",
   "execution_count": 8,
   "outputs": [
    {
     "data": {
      "text/plain": "True"
     },
     "execution_count": 8,
     "metadata": {},
     "output_type": "execute_result"
    }
   ],
   "source": [
    "2 != 3"
   ],
   "metadata": {
    "collapsed": false,
    "ExecuteTime": {
     "end_time": "2023-12-21T19:13:06.461990283Z",
     "start_time": "2023-12-21T19:13:06.453840027Z"
    }
   },
   "id": "2477c3dc764cdbe1"
  },
  {
   "cell_type": "code",
   "execution_count": 9,
   "outputs": [
    {
     "data": {
      "text/plain": "True"
     },
     "execution_count": 9,
     "metadata": {},
     "output_type": "execute_result"
    }
   ],
   "source": [
    "1 < 2"
   ],
   "metadata": {
    "collapsed": false,
    "ExecuteTime": {
     "end_time": "2023-12-21T19:13:06.808885206Z",
     "start_time": "2023-12-21T19:13:06.767520582Z"
    }
   },
   "id": "4ce71c916ec52d6e"
  },
  {
   "cell_type": "code",
   "execution_count": 10,
   "outputs": [
    {
     "data": {
      "text/plain": "True"
     },
     "execution_count": 10,
     "metadata": {},
     "output_type": "execute_result"
    }
   ],
   "source": [
    "2 > 1"
   ],
   "metadata": {
    "collapsed": false,
    "ExecuteTime": {
     "end_time": "2023-12-21T19:13:07.268467932Z",
     "start_time": "2023-12-21T19:13:07.249487528Z"
    }
   },
   "id": "b64eaff4620ad30f"
  },
  {
   "cell_type": "code",
   "execution_count": 11,
   "outputs": [
    {
     "data": {
      "text/plain": "True"
     },
     "execution_count": 11,
     "metadata": {},
     "output_type": "execute_result"
    }
   ],
   "source": [
    "2 >= 2"
   ],
   "metadata": {
    "collapsed": false,
    "ExecuteTime": {
     "end_time": "2023-12-21T19:13:07.472327707Z",
     "start_time": "2023-12-21T19:13:07.462921789Z"
    }
   },
   "id": "50195a93a2fe395d"
  },
  {
   "cell_type": "code",
   "execution_count": 12,
   "outputs": [
    {
     "data": {
      "text/plain": "False"
     },
     "execution_count": 12,
     "metadata": {},
     "output_type": "execute_result"
    }
   ],
   "source": [
    "4 <= 1"
   ],
   "metadata": {
    "collapsed": false,
    "ExecuteTime": {
     "end_time": "2023-12-21T19:13:08.665149923Z",
     "start_time": "2023-12-21T19:13:08.644686285Z"
    }
   },
   "id": "84837866e97f1306"
  }
 ],
 "metadata": {
  "kernelspec": {
   "display_name": "Python 3",
   "language": "python",
   "name": "python3"
  },
  "language_info": {
   "codemirror_mode": {
    "name": "ipython",
    "version": 2
   },
   "file_extension": ".py",
   "mimetype": "text/x-python",
   "name": "python",
   "nbconvert_exporter": "python",
   "pygments_lexer": "ipython2",
   "version": "2.7.6"
  }
 },
 "nbformat": 4,
 "nbformat_minor": 5
}
