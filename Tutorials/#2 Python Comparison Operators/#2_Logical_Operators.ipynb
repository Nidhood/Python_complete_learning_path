{
 "cells": [
  {
   "cell_type": "markdown",
   "source": [
    "# Logical Operators\n",
    "\n",
    "Logical operators are used to combine conditional statements, and are used to test for conditions that are either true or false."
   ],
   "metadata": {
    "collapsed": false
   },
   "id": "b32979c0108ef2d8"
  },
  {
   "cell_type": "markdown",
   "source": [
    "______\n",
    "### _and_\n",
    "\n",
    "The and keyword is a logical operator, that means that it can be used to combine conditional statements. The and operator is only true when both conditions are true or else it is false."
   ],
   "metadata": {
    "collapsed": false
   },
   "id": "8bcc9b4cc22da019"
  },
  {
   "cell_type": "code",
   "execution_count": 1,
   "outputs": [
    {
     "data": {
      "text/plain": "True"
     },
     "execution_count": 1,
     "metadata": {},
     "output_type": "execute_result"
    }
   ],
   "source": [
    "2 < 3 and 3 < 4"
   ],
   "metadata": {
    "collapsed": false,
    "ExecuteTime": {
     "end_time": "2023-12-21T19:16:23.878354348Z",
     "start_time": "2023-12-21T19:16:23.875777537Z"
    }
   },
   "id": "7fcba222434146b2"
  },
  {
   "cell_type": "code",
   "execution_count": 2,
   "outputs": [
    {
     "data": {
      "text/plain": "False"
     },
     "execution_count": 2,
     "metadata": {},
     "output_type": "execute_result"
    }
   ],
   "source": [
    "2 < 3 and 3 > 4"
   ],
   "metadata": {
    "collapsed": false,
    "ExecuteTime": {
     "end_time": "2023-12-21T19:16:25.717105845Z",
     "start_time": "2023-12-21T19:16:25.643845315Z"
    }
   },
   "id": "fc55a062bf883da6"
  },
  {
   "cell_type": "code",
   "execution_count": 8,
   "outputs": [
    {
     "data": {
      "text/plain": "True"
     },
     "execution_count": 8,
     "metadata": {},
     "output_type": "execute_result"
    }
   ],
   "source": [
    "(2 < 3) and ('a' == 'a')"
   ],
   "metadata": {
    "collapsed": false,
    "ExecuteTime": {
     "end_time": "2023-12-21T19:18:35.987180273Z",
     "start_time": "2023-12-21T19:18:35.913031283Z"
    }
   },
   "id": "a82136e8a4468ff8"
  },
  {
   "cell_type": "code",
   "execution_count": 9,
   "outputs": [
    {
     "data": {
      "text/plain": "False"
     },
     "execution_count": 9,
     "metadata": {},
     "output_type": "execute_result"
    }
   ],
   "source": [
    "(2 < 2.1) and ('a' == 'b')"
   ],
   "metadata": {
    "collapsed": false,
    "ExecuteTime": {
     "end_time": "2023-12-21T19:18:52.836756089Z",
     "start_time": "2023-12-21T19:18:52.787351394Z"
    }
   },
   "id": "6ca47dfcd2f292b9"
  },
  {
   "cell_type": "markdown",
   "source": [
    "______\n",
    "### _or_\n",
    "\n",
    "The or keyword is a logical operator, that means that it can be used to combine conditional statements. The or operator is true when either of the conditions is true or both are true, and false if both are false."
   ],
   "metadata": {
    "collapsed": false
   },
   "id": "9481adc482fc40a6"
  },
  {
   "cell_type": "code",
   "execution_count": 3,
   "outputs": [
    {
     "data": {
      "text/plain": "True"
     },
     "execution_count": 3,
     "metadata": {},
     "output_type": "execute_result"
    }
   ],
   "source": [
    "2 < 3 or 3 < 4"
   ],
   "metadata": {
    "collapsed": false,
    "ExecuteTime": {
     "end_time": "2023-12-21T19:17:17.895293090Z",
     "start_time": "2023-12-21T19:17:17.826845687Z"
    }
   },
   "id": "c8191d9bf0b001c6"
  },
  {
   "cell_type": "code",
   "execution_count": 4,
   "outputs": [
    {
     "data": {
      "text/plain": "True"
     },
     "execution_count": 4,
     "metadata": {},
     "output_type": "execute_result"
    }
   ],
   "source": [
    "2 < 3 or 3 > 4"
   ],
   "metadata": {
    "collapsed": false,
    "ExecuteTime": {
     "end_time": "2023-12-21T19:17:19.454083117Z",
     "start_time": "2023-12-21T19:17:19.387081880Z"
    }
   },
   "id": "856e917a94863bb9"
  },
  {
   "cell_type": "code",
   "execution_count": 5,
   "outputs": [
    {
     "data": {
      "text/plain": "False"
     },
     "execution_count": 5,
     "metadata": {},
     "output_type": "execute_result"
    }
   ],
   "source": [
    "2 > 3 or 3 > 4"
   ],
   "metadata": {
    "collapsed": false,
    "ExecuteTime": {
     "end_time": "2023-12-21T19:17:21.206624473Z",
     "start_time": "2023-12-21T19:17:21.128446408Z"
    }
   },
   "id": "d8f1e856267f5c9"
  },
  {
   "cell_type": "code",
   "execution_count": 10,
   "outputs": [
    {
     "data": {
      "text/plain": "True"
     },
     "execution_count": 10,
     "metadata": {},
     "output_type": "execute_result"
    }
   ],
   "source": [
    "(2 < 3) or ('a' == 'a')"
   ],
   "metadata": {
    "collapsed": false,
    "ExecuteTime": {
     "end_time": "2023-12-21T19:19:06.903939340Z",
     "start_time": "2023-12-21T19:19:06.836317580Z"
    }
   },
   "id": "a8447684ed25f7ab"
  },
  {
   "cell_type": "code",
   "execution_count": 11,
   "outputs": [
    {
     "data": {
      "text/plain": "True"
     },
     "execution_count": 11,
     "metadata": {},
     "output_type": "execute_result"
    }
   ],
   "source": [
    "(2 < 2.1) or ('a' == 'b')"
   ],
   "metadata": {
    "collapsed": false,
    "ExecuteTime": {
     "end_time": "2023-12-21T19:19:14.080990986Z",
     "start_time": "2023-12-21T19:19:14.035116634Z"
    }
   },
   "id": "4a6ecb46044b5ae5"
  },
  {
   "cell_type": "code",
   "execution_count": 12,
   "outputs": [
    {
     "data": {
      "text/plain": "False"
     },
     "execution_count": 12,
     "metadata": {},
     "output_type": "execute_result"
    }
   ],
   "source": [
    "(2 > 3) or ('a' == 'b')"
   ],
   "metadata": {
    "collapsed": false,
    "ExecuteTime": {
     "end_time": "2023-12-21T19:19:23.617070369Z",
     "start_time": "2023-12-21T19:19:23.553753157Z"
    }
   },
   "id": "d1297894e2276e2c"
  },
  {
   "cell_type": "markdown",
   "source": [
    "______\n",
    "### _not_\n",
    "\n",
    "The not keyword can also be used to invert the truth value of a conditional statement, that means that it can be used to combine conditional statements. The not operator is true when the condition is false and false when the condition is true."
   ],
   "metadata": {
    "collapsed": false
   },
   "id": "914237654dd5e74d"
  },
  {
   "cell_type": "code",
   "execution_count": 13,
   "outputs": [
    {
     "data": {
      "text/plain": "False"
     },
     "execution_count": 13,
     "metadata": {},
     "output_type": "execute_result"
    }
   ],
   "source": [
    "not 2 < 3"
   ],
   "metadata": {
    "collapsed": false,
    "ExecuteTime": {
     "end_time": "2023-12-21T19:19:27.251837849Z",
     "start_time": "2023-12-21T19:19:27.207018697Z"
    }
   },
   "id": "a5f25bb8594662e"
  },
  {
   "cell_type": "code",
   "execution_count": 14,
   "outputs": [
    {
     "data": {
      "text/plain": "True"
     },
     "execution_count": 14,
     "metadata": {},
     "output_type": "execute_result"
    }
   ],
   "source": [
    "not 2 > 3"
   ],
   "metadata": {
    "collapsed": false,
    "ExecuteTime": {
     "end_time": "2023-12-21T19:19:27.577843427Z",
     "start_time": "2023-12-21T19:19:27.537674533Z"
    }
   },
   "id": "c715110801988a1f"
  }
 ],
 "metadata": {
  "kernelspec": {
   "display_name": "Python 3",
   "language": "python",
   "name": "python3"
  },
  "language_info": {
   "codemirror_mode": {
    "name": "ipython",
    "version": 2
   },
   "file_extension": ".py",
   "mimetype": "text/x-python",
   "name": "python",
   "nbconvert_exporter": "python",
   "pygments_lexer": "ipython2",
   "version": "2.7.6"
  }
 },
 "nbformat": 4,
 "nbformat_minor": 5
}
