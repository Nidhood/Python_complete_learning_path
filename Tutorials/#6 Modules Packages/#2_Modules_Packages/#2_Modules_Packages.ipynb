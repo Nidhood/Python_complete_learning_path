{
 "cells": [
  {
   "cell_type": "markdown",
   "source": [
    "# Modules and Packages\n",
    "\n",
    "Realised that we can import modules and packages from other files, now we can start to build our own modules and packages.\n",
    "\n",
    "______  \n",
    "### _modules_\n",
    "\n",
    "A module is a file containing Python definitions and statements. The file name is the module name with the suffix .py appended. Within a module, the module’s name (as a string) is available as the value of the global variable __name__.\n",
    "\n",
    "______\n",
    "### _packages_\n",
    "\n",
    "A package is a collection of modules in directories that give a package hierarchy. It is a way of structuring Python’s module namespace by using “dotted module names”. A.B stands for a submodule named B in a package named A. Two different packages like P1 and P2 can both have modules with the same name, let’s say M, for example. The submodule M of the package P1 and the submodule M of the package P2 can be totally different. A package is imported like a module, but we use the dot (.) operator to access the modules contained in the package. Finally the __init__.py file is required for Python to treat the directories as containing packages. The syntax to call a module from a package is the following:\n",
    "\n",
    "```python\n",
    "import package.module\n",
    "```\n",
    "\n"
   ],
   "metadata": {
    "collapsed": false
   },
   "id": "e12a402ca64b5665"
  },
  {
   "cell_type": "code",
   "execution_count": null,
   "outputs": [],
   "source": [],
   "metadata": {
    "collapsed": false
   },
   "id": "940db164952774b8"
  }
 ],
 "metadata": {
  "kernelspec": {
   "display_name": "Python 3",
   "language": "python",
   "name": "python3"
  },
  "language_info": {
   "codemirror_mode": {
    "name": "ipython",
    "version": 2
   },
   "file_extension": ".py",
   "mimetype": "text/x-python",
   "name": "python",
   "nbconvert_exporter": "python",
   "pygments_lexer": "ipython2",
   "version": "2.7.6"
  }
 },
 "nbformat": 4,
 "nbformat_minor": 5
}
