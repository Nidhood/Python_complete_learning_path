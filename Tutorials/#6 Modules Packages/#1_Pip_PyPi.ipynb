{
 "cells": [
  {
   "cell_type": "markdown",
   "source": [
    "### _PyPi_\n",
    "\n",
    "The Python Package Index (PyPI) is a repository of software for the Python programming language. PyPI helps you find and install software developed and shared by the Python community. Learn about installing packages.\n",
    "\n",
    "\n",
    "### _pip_\n",
    "Pip is the package installer for Python. You can use pip to install packages from the Python Package Index and other indexes.\n",
    "\n",
    "```bash     \n",
    "pip install SomePackage            # latest version\n",
    "pip install SomePackage==1.0.4     # specific version\n",
    "pip install 'SomePackage>=1.0.4'     # minimum version\n",
    "```"
   ],
   "metadata": {
    "collapsed": false
   },
   "id": "5b090d89e2f249df"
  },
  {
   "cell_type": "code",
   "execution_count": 1,
   "outputs": [
    {
     "name": "stdout",
     "output_type": "stream",
     "text": [
      "Requirement already satisfied: requests in /usr/local/lib/python3.8/dist-packages (2.31.0)\r\n",
      "Requirement already satisfied: urllib3<3,>=1.21.1 in /usr/lib/python3/dist-packages (from requests) (1.25.8)\r\n",
      "Requirement already satisfied: idna<4,>=2.5 in /usr/lib/python3/dist-packages (from requests) (2.8)\r\n",
      "Requirement already satisfied: certifi>=2017.4.17 in /usr/lib/python3/dist-packages (from requests) (2019.11.28)\r\n",
      "Requirement already satisfied: charset-normalizer<4,>=2 in /usr/local/lib/python3.8/dist-packages (from requests) (3.3.2)\r\n",
      "Note: you may need to restart the kernel to use updated packages.\n"
     ]
    }
   ],
   "source": [
    "pip install requests"
   ],
   "metadata": {
    "collapsed": false,
    "ExecuteTime": {
     "end_time": "2023-12-25T17:29:21.330184085Z",
     "start_time": "2023-12-25T17:29:17.099447681Z"
    }
   },
   "id": "939ce4bc77ef40c3"
  },
  {
   "cell_type": "code",
   "execution_count": 2,
   "outputs": [
    {
     "name": "stdout",
     "output_type": "stream",
     "text": [
      "Requirement already satisfied: colorama in /usr/lib/python3/dist-packages (0.4.3)\r\n",
      "Note: you may need to restart the kernel to use updated packages.\n"
     ]
    }
   ],
   "source": [
    "pip install colorama"
   ],
   "metadata": {
    "collapsed": false,
    "ExecuteTime": {
     "end_time": "2023-12-25T17:29:41.145495781Z",
     "start_time": "2023-12-25T17:29:37.730937145Z"
    }
   },
   "id": "47f1cb678c484649"
  },
  {
   "cell_type": "code",
   "execution_count": 3,
   "outputs": [],
   "source": [
    "from colorama import init\n",
    "init()"
   ],
   "metadata": {
    "collapsed": false,
    "ExecuteTime": {
     "end_time": "2023-12-25T17:30:07.541953773Z",
     "start_time": "2023-12-25T17:30:07.468165053Z"
    }
   },
   "id": "1b4c68611564334d"
  },
  {
   "cell_type": "code",
   "execution_count": 4,
   "outputs": [
    {
     "name": "stdout",
     "output_type": "stream",
     "text": [
      "some red text\n"
     ]
    }
   ],
   "source": [
    "from colorama import Fore\n",
    "print(Fore.RED + 'some red text')"
   ],
   "metadata": {
    "collapsed": false,
    "ExecuteTime": {
     "end_time": "2023-12-25T17:30:18.848791008Z",
     "start_time": "2023-12-25T17:30:18.761196461Z"
    }
   },
   "id": "24b8c589b67aa6a4"
  }
 ],
 "metadata": {
  "kernelspec": {
   "display_name": "Python 3",
   "language": "python",
   "name": "python3"
  },
  "language_info": {
   "codemirror_mode": {
    "name": "ipython",
    "version": 2
   },
   "file_extension": ".py",
   "mimetype": "text/x-python",
   "name": "python",
   "nbconvert_exporter": "python",
   "pygments_lexer": "ipython2",
   "version": "2.7.6"
  }
 },
 "nbformat": 4,
 "nbformat_minor": 5
}
