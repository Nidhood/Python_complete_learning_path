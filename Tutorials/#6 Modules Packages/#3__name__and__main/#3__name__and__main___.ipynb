{
 "cells": [
  {
   "cell_type": "markdown",
   "source": [
    "# _\\_\\_name\\_\\__ and \"_\\_\\_main_\\_\\_\"\n",
    "\n",
    "When we are creating a python module, we may be interested in knowing whether a module is being imported or used by itself as the main module. Based on that we can add some code to be executed when the module is run as a standalone program."
   ],
   "metadata": {
    "collapsed": false
   },
   "id": "61c98d71059ce861"
  },
  {
   "cell_type": "markdown",
   "source": [
    "______\n",
    "# _\\_\\_main\\_\\__\n",
    "\n",
    "When a python module is imported, the special variable \"\\_\\_main\\_\\_\" is set to the name of the module. Therefore, it would be possible to check its value and run the code only if it is set to the name of the module.\n",
    "\n",
    "\n",
    "\n"
   ],
   "metadata": {
    "collapsed": false
   },
   "id": "7a7114d85759192e"
  },
  {
   "cell_type": "markdown",
   "source": [
    "______\n",
    "### _\\_\\_name\\_\\__\n",
    "\n",
    "When a python module is imported, the special variable \"\\_\\_name\\_\\_\" is set to the name of the module. Therefore, it would be possible to check its value and run the code only if it is set to the name of the module. "
   ],
   "metadata": {
    "collapsed": false
   },
   "id": "413b55f8276aced"
  },
  {
   "cell_type": "markdown",
   "source": [
    "It's important to know that most of the time, the code in a module is not intended to be run as a standalone program. Therefore, it's a good practice to add the following code at the end of the module:\n",
    "```python\n",
    "def main():\n",
    "    # add your code here\n",
    "    ...\n",
    "\n",
    "def other_func():\n",
    "    ...\n",
    "\n",
    "if __name__ == \"__main__\":\n",
    "    # execute only if run as a script\n",
    "    main() # call the main function\n",
    "    other_func() # call other functions\n",
    "```\n",
    "\n",
    "This way, the code in the main() function will only be executed if the module is run as a standalone program. If the module is imported, the code in the main() function won't be executed. "
   ],
   "metadata": {
    "collapsed": false
   },
   "id": "2e7e28dfb03000e3"
  },
  {
   "cell_type": "code",
   "execution_count": null,
   "outputs": [],
   "source": [],
   "metadata": {
    "collapsed": false
   },
   "id": "6ad13025f81f07fe"
  }
 ],
 "metadata": {
  "kernelspec": {
   "display_name": "Python 3",
   "language": "python",
   "name": "python3"
  },
  "language_info": {
   "codemirror_mode": {
    "name": "ipython",
    "version": 2
   },
   "file_extension": ".py",
   "mimetype": "text/x-python",
   "name": "python",
   "nbconvert_exporter": "python",
   "pygments_lexer": "ipython2",
   "version": "2.7.6"
  }
 },
 "nbformat": 4,
 "nbformat_minor": 5
}
