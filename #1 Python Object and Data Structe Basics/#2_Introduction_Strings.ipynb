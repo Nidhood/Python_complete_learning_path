{
 "cells": [
  {
   "cell_type": "markdown",
   "source": [
    "#  Indexing and slicing with strings"
   ],
   "metadata": {
    "collapsed": false
   },
   "id": "293782986cfb1a19"
  },
  {
   "cell_type": "markdown",
   "source": [
    "Since a string is an ordered sequence, we can utilize indexing and slicing to extract specific subsections of the string."
   ],
   "metadata": {
    "collapsed": false
   },
   "id": "9e5b079b60290828"
  },
  {
   "cell_type": "markdown",
   "source": [
    "|:--:|:---:|:--:|:---:|:--:|:---:|\n",
    "| ***character:*** | h | e | l | l | o | \n",
    "| ***Index:*** | 0 | 1 | 2 | 3 | 4 | \n",
    "| ***Reverse Index:*** | 0 | -4 | -3 | -2| -1 | "
   ],
   "metadata": {
    "collapsed": false
   },
   "id": "7bac356c35674d39"
  },
  {
   "cell_type": "markdown",
   "source": [
    "## Syntax for slice and index form"
   ],
   "metadata": {
    "collapsed": false
   },
   "id": "a51aecb789cb1ce3"
  },
  {
   "cell_type": "markdown",
   "source": [
    "### [start : stop : step]\n",
    "\n",
    "- ***start :*** Is a numerical index for the slice start.\n",
    "- ***stop :*** Is the index you will go up to (_but not include_).\n",
    "- ***step :*** Is the size of the \"jump\" you take."
   ],
   "metadata": {
    "collapsed": false
   },
   "id": "65276f69df8d69c0"
  },
  {
   "cell_type": "code",
   "execution_count": 33,
   "outputs": [
    {
     "name": "stdout",
     "output_type": "stream",
     "text": [
      "Hello\n",
      "I'm\n",
      "going\n",
      "on\n",
      "a \n",
      "run\n",
      "nur a no gniog m'I olleH\n"
     ]
    }
   ],
   "source": [
    "string_example = \"Hello I'm going on a run\"\n",
    "print(string_example[0:5])\n",
    "print(string_example[6:9])\n",
    "print(string_example[10:15])\n",
    "print(string_example[16:18])\n",
    "print(string_example[19:21])\n",
    "print(string_example[21:24])\n",
    "print(string_example[::-1]) # reversed string!"
   ],
   "metadata": {
    "collapsed": false,
    "ExecuteTime": {
     "end_time": "2023-12-21T06:36:20.183220200Z",
     "start_time": "2023-12-21T06:36:20.158219100Z"
    }
   },
   "id": "df48bcedfbbbf206"
  },
  {
   "cell_type": "code",
   "execution_count": null,
   "outputs": [],
   "source": [],
   "metadata": {
    "collapsed": false
   },
   "id": "b83791368ffa409b"
  }
 ],
 "metadata": {
  "kernelspec": {
   "display_name": "Python 3",
   "language": "python",
   "name": "python3"
  },
  "language_info": {
   "codemirror_mode": {
    "name": "ipython",
    "version": 2
   },
   "file_extension": ".py",
   "mimetype": "text/x-python",
   "name": "python",
   "nbconvert_exporter": "python",
   "pygments_lexer": "ipython2",
   "version": "2.7.6"
  }
 },
 "nbformat": 4,
 "nbformat_minor": 5
}
