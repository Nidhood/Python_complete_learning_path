{
 "cells": [
  {
   "cell_type": "markdown",
   "source": [
    "#  Indexing and slicing with strings"
   ],
   "metadata": {
    "collapsed": false
   },
   "id": "293782986cfb1a19"
  },
  {
   "cell_type": "markdown",
   "source": [
    "Since a string is an ordered sequence, we can utilize indexing and slicing to extract specific subsections of the string."
   ],
   "metadata": {
    "collapsed": false
   },
   "id": "9e5b079b60290828"
  },
  {
   "cell_type": "markdown",
   "source": [
    "|:--:|:---:|:--:|:---:|:--:|:---:|\n",
    "| ***character:*** | h | e | l | l | o | \n",
    "| ***Index:*** | 0 | 1 | 2 | 3 | 4 | \n",
    "| ***Reverse Index:*** | 0 | -4 | -3 | -2| -1 | "
   ],
   "metadata": {
    "collapsed": false
   },
   "id": "7bac356c35674d39"
  },
  {
   "cell_type": "markdown",
   "source": [
    "## Syntax for slice and index form"
   ],
   "metadata": {
    "collapsed": false
   },
   "id": "a51aecb789cb1ce3"
  },
  {
   "cell_type": "markdown",
   "source": [
    "### [start : stop : step]\n",
    "\n",
    "- ***start :*** Is a numerical index for the slice start.\n",
    "- ***stop :*** Is the index you will go up to (_but not include_).\n",
    "- ***step :*** Is the size of the \"jump\" you take."
   ],
   "metadata": {
    "collapsed": false
   },
   "id": "65276f69df8d69c0"
  },
  {
   "cell_type": "code",
   "execution_count": 15,
   "outputs": [
    {
     "name": "stdout",
     "output_type": "stream",
     "text": [
      "Hello\n",
      "I'm\n",
      "going\n",
      "on\n",
      "a \n",
      "run\n",
      "nur a no gniog m'I olleH\n"
     ]
    }
   ],
   "source": [
    "string_example = \"Hello I'm going on a run\"\n",
    "print(string_example[0:5])\n",
    "print(string_example[6:9])\n",
    "print(string_example[10:15])\n",
    "print(string_example[16:18])\n",
    "print(string_example[19:21])\n",
    "print(string_example[21:24])\n",
    "print(string_example[::-1]) # reversed string!"
   ],
   "metadata": {
    "collapsed": false,
    "ExecuteTime": {
     "end_time": "2023-12-21T03:28:40.380363704Z",
     "start_time": "2023-12-21T03:28:40.336848336Z"
    }
   },
   "id": "df48bcedfbbbf206"
  },
  {
   "cell_type": "markdown",
   "source": [
    "## Are strings mutable?\n",
    "String are not mutable! (meaning you can't use indexing to change individual elements of a string)"
   ],
   "metadata": {
    "collapsed": false
   },
   "id": "a282a60183ed10c6"
  },
  {
   "cell_type": "markdown",
   "source": [
    "#  Properties and Methods\n",
    "## _upper()_\n",
    "Is a function that converts all the letters in a string to uppercase. "
   ],
   "metadata": {
    "collapsed": false
   },
   "id": "fc714ea37b8480ce"
  },
  {
   "cell_type": "code",
   "execution_count": 19,
   "outputs": [
    {
     "data": {
      "text/plain": "\"HELLO I'M GOING ON A RUN\""
     },
     "execution_count": 19,
     "metadata": {},
     "output_type": "execute_result"
    }
   ],
   "source": [
    "string_example.upper()"
   ],
   "metadata": {
    "collapsed": false,
    "ExecuteTime": {
     "end_time": "2023-12-21T03:31:04.358483943Z",
     "start_time": "2023-12-21T03:31:04.315528991Z"
    }
   },
   "id": "7dccad2f59fb412b"
  },
  {
   "cell_type": "markdown",
   "source": [
    "## _lower()_\n",
    "Is method in Python is used to convert all the characters in a string to lowercase."
   ],
   "metadata": {
    "collapsed": false
   },
   "id": "b6f912fc1cc6560e"
  },
  {
   "cell_type": "code",
   "execution_count": 20,
   "outputs": [
    {
     "data": {
      "text/plain": "\"hello i'm going on a run\""
     },
     "execution_count": 20,
     "metadata": {},
     "output_type": "execute_result"
    }
   ],
   "source": [
    "string_example.lower()"
   ],
   "metadata": {
    "collapsed": false,
    "ExecuteTime": {
     "end_time": "2023-12-21T03:31:04.674203811Z",
     "start_time": "2023-12-21T03:31:04.659121716Z"
    }
   },
   "id": "698c83909ca755e9"
  },
  {
   "cell_type": "markdown",
   "source": [
    "## _split()_\n",
    "Is method in Python is used to split a string into a list of substrings based on a specified delimiter (whitespace by default). "
   ],
   "metadata": {
    "collapsed": false
   },
   "id": "3be6838160337b9b"
  },
  {
   "cell_type": "code",
   "execution_count": 22,
   "outputs": [
    {
     "data": {
      "text/plain": "['Hello', \"I'm\", 'going', 'on', 'a', 'run']"
     },
     "execution_count": 22,
     "metadata": {},
     "output_type": "execute_result"
    }
   ],
   "source": [
    "string_example.split()"
   ],
   "metadata": {
    "collapsed": false,
    "ExecuteTime": {
     "end_time": "2023-12-21T03:32:47.144225673Z",
     "start_time": "2023-12-21T03:32:47.102795300Z"
    }
   },
   "id": "678289ff5223e6e9"
  },
  {
   "cell_type": "markdown",
   "source": [
    "#  Formatting with Strings\n",
    "## _Formatting with placeholders_\n",
    "Formatting with placeholders is the oldest way to format strings in Python. It uses the modulo (%) operator and the modulo operator allows you to format a string in a similar way as you would with the printf() function in C.\n",
    "\n",
    "a. _String formatting with %s as placeholder:_"
   ],
   "metadata": {
    "collapsed": false
   },
   "id": "23e044671036414a"
  },
  {
   "cell_type": "code",
   "execution_count": 47,
   "outputs": [
    {
     "name": "stdout",
     "output_type": "stream",
     "text": [
      "I'm going to inject some text here, and more text here.\n"
     ]
    }
   ],
   "source": [
    "print(\"I'm going to inject %s text here, and %s text here.\" %('some','more'))"
   ],
   "metadata": {
    "collapsed": false,
    "ExecuteTime": {
     "end_time": "2023-12-21T03:54:17.131967422Z",
     "start_time": "2023-12-21T03:54:17.087720145Z"
    }
   },
   "id": "f98efa562a5659df"
  },
  {
   "cell_type": "markdown",
   "source": [
    "b. _Integer formatting with %d as placeholder:_"
   ],
   "metadata": {
    "collapsed": false
   },
   "id": "c744074d9ea7ec99"
  },
  {
   "cell_type": "code",
   "execution_count": 48,
   "outputs": [
    {
     "name": "stdout",
     "output_type": "stream",
     "text": [
      "I'm going to inject 2 whole number here, and 3 whole number here.\n"
     ]
    }
   ],
   "source": [
    "print(\"I'm going to inject %d whole number here, and %d whole number here.\" %(2,3))"
   ],
   "metadata": {
    "collapsed": false,
    "ExecuteTime": {
     "end_time": "2023-12-21T03:55:32.447043873Z",
     "start_time": "2023-12-21T03:55:32.354389991Z"
    }
   },
   "id": "ea7d7efebd8e71f5"
  },
  {
   "cell_type": "markdown",
   "source": [
    "c. _Float formatting with %f as placeholder:_"
   ],
   "metadata": {
    "collapsed": false
   },
   "id": "25ba8077081ab0ff"
  },
  {
   "cell_type": "code",
   "execution_count": 52,
   "outputs": [
    {
     "name": "stdout",
     "output_type": "stream",
     "text": [
      "I'm going to inject 1.299 decimal number here, and 16.5 decimal number here.\n"
     ]
    }
   ],
   "source": [
    "print(\"I'm going to inject %1.3f decimal number here, and %2.1f decimal number here.\" %(100/77,33/2))"
   ],
   "metadata": {
    "collapsed": false,
    "ExecuteTime": {
     "end_time": "2023-12-21T03:56:54.293611816Z",
     "start_time": "2023-12-21T03:56:54.277316464Z"
    }
   },
   "id": "1f7eedf091935eff"
  },
  {
   "cell_type": "markdown",
   "source": [
    "Also, we can use field width and precision:"
   ],
   "metadata": {
    "collapsed": false
   },
   "id": "a3d294c6bab9e874"
  },
  {
   "cell_type": "code",
   "execution_count": 83,
   "outputs": [
    {
     "name": "stdout",
     "output_type": "stream",
     "text": [
      "This is my ten-character, two-decimal number:      13.58\n"
     ]
    }
   ],
   "source": [
    "print('This is my ten-character, two-decimal number: %10.2f' %13.579)"
   ],
   "metadata": {
    "collapsed": false,
    "ExecuteTime": {
     "end_time": "2023-12-21T04:17:12.157082478Z",
     "start_time": "2023-12-21T04:17:12.122311049Z"
    }
   },
   "id": "66f26e6f3cf3dc34"
  },
  {
   "cell_type": "markdown",
   "source": [
    "## _format()_\n",
    "Is a method that allows you to format string in different ways, the syntax is:\n",
    "\n",
    "***'String here {} then also {}'.format('something1','something2')***"
   ],
   "metadata": {
    "collapsed": false
   },
   "id": "f4e3b2f1e038aa65"
  },
  {
   "cell_type": "code",
   "execution_count": 84,
   "outputs": [
    {
     "name": "stdout",
     "output_type": "stream",
     "text": [
      "This is a string INSERTED\n"
     ]
    }
   ],
   "source": [
    "print('This is a string {}'.format('INSERTED'))"
   ],
   "metadata": {
    "collapsed": false,
    "ExecuteTime": {
     "end_time": "2023-12-21T04:17:13.738389836Z",
     "start_time": "2023-12-21T04:17:13.706937958Z"
    }
   },
   "id": "edf6030558641f38"
  },
  {
   "cell_type": "markdown",
   "source": [
    "Also, we can use more arguments to insert more strings:"
   ],
   "metadata": {
    "collapsed": false
   },
   "id": "6bebb1c64ded969d"
  },
  {
   "cell_type": "code",
   "execution_count": 85,
   "outputs": [
    {
     "name": "stdout",
     "output_type": "stream",
     "text": [
      "The fox brown quick\n"
     ]
    }
   ],
   "source": [
    "print('The {} {} {}'.format('fox','brown','quick'))"
   ],
   "metadata": {
    "collapsed": false,
    "ExecuteTime": {
     "end_time": "2023-12-21T04:17:14.950936673Z",
     "start_time": "2023-12-21T04:17:14.900065691Z"
    }
   },
   "id": "8b19487b99e7b361"
  },
  {
   "cell_type": "markdown",
   "source": [
    "Also, we can use index to reorder the string:"
   ],
   "metadata": {
    "collapsed": false
   },
   "id": "5a5aa3909fc92aa4"
  },
  {
   "cell_type": "code",
   "execution_count": 86,
   "outputs": [
    {
     "name": "stdout",
     "output_type": "stream",
     "text": [
      "The quick brown fox\n"
     ]
    }
   ],
   "source": [
    "print('The {2} {1} {0}'.format('fox','brown','quick'))"
   ],
   "metadata": {
    "collapsed": false,
    "ExecuteTime": {
     "end_time": "2023-12-21T04:17:15.584877317Z",
     "start_time": "2023-12-21T04:17:15.559987290Z"
    }
   },
   "id": "db1fe5b5338b83ad"
  },
  {
   "cell_type": "markdown",
   "source": [
    "Also, we can use keywords to reorder the string:"
   ],
   "metadata": {
    "collapsed": false
   },
   "id": "a410d4e8c1e2015a"
  },
  {
   "cell_type": "code",
   "execution_count": 87,
   "outputs": [
    {
     "name": "stdout",
     "output_type": "stream",
     "text": [
      "The quick brown fox\n"
     ]
    }
   ],
   "source": [
    "print('The {q} {b} {f}'.format(f='fox',b='brown',q='quick'))"
   ],
   "metadata": {
    "collapsed": false,
    "ExecuteTime": {
     "end_time": "2023-12-21T04:17:16.302977269Z",
     "start_time": "2023-12-21T04:17:16.268878569Z"
    }
   },
   "id": "15ce63e630ad42a4"
  },
  {
   "cell_type": "markdown",
   "source": [
    "Also, we can use .format() method to adjust alignment, padding and precision:"
   ],
   "metadata": {
    "collapsed": false
   },
   "id": "eb1be7f25067c4cb"
  },
  {
   "cell_type": "code",
   "execution_count": 88,
   "outputs": [
    {
     "name": "stdout",
     "output_type": "stream",
     "text": [
      "Fruit    | Quantity \n",
      "Apples   |       3.0\n",
      "Oranges  |        10\n"
     ]
    }
   ],
   "source": [
    "print('{0:8} | {1:9}'.format('Fruit','Quantity'))\n",
    "print('{0:8} | {1:9}'.format('Apples',3.))\n",
    "print('{0:8} | {1:9}'.format('Oranges',10))"
   ],
   "metadata": {
    "collapsed": false,
    "ExecuteTime": {
     "end_time": "2023-12-21T04:17:17.335426901Z",
     "start_time": "2023-12-21T04:17:17.305353345Z"
    }
   },
   "id": "8871aee3fa5ada95"
  },
  {
   "cell_type": "markdown",
   "source": [
    "Also, we can pass an optional character to specify the padding character:"
   ],
   "metadata": {
    "collapsed": false
   },
   "id": "1db3c76f9e075709"
  },
  {
   "cell_type": "code",
   "execution_count": 89,
   "outputs": [
    {
     "name": "stdout",
     "output_type": "stream",
     "text": [
      "Left     |  Center  |    Right\n",
      "11       |    22    |       33\n"
     ]
    }
   ],
   "source": [
    "print('{0:<8} | {1:^8} | {2:>8}'.format('Left','Center','Right'))\n",
    "print('{0:<8} | {1:^8} | {2:>8}'.format(11, 22, 33))"
   ],
   "metadata": {
    "collapsed": false,
    "ExecuteTime": {
     "end_time": "2023-12-21T04:17:18.389966746Z",
     "start_time": "2023-12-21T04:17:18.363863111Z"
    }
   },
   "id": "4c7623f2e2bc27e2"
  },
  {
   "cell_type": "markdown",
   "source": [
    "Also, we can precede the alignment operator with a padding character:"
   ],
   "metadata": {
    "collapsed": false
   },
   "id": "a924204939a1f49c"
  },
  {
   "cell_type": "code",
   "execution_count": 90,
   "outputs": [
    {
     "name": "stdout",
     "output_type": "stream",
     "text": [
      "Left==== | -Center- | ...Right\n",
      "11====== | ---22--- | ......33\n"
     ]
    }
   ],
   "source": [
    "print('{0:=<8} | {1:-^8} | {2:.>8}'.format('Left','Center','Right'))\n",
    "print('{0:=<8} | {1:-^8} | {2:.>8}'.format(11, 22, 33))"
   ],
   "metadata": {
    "collapsed": false,
    "ExecuteTime": {
     "end_time": "2023-12-21T04:17:19.299501136Z",
     "start_time": "2023-12-21T04:17:19.293477351Z"
    }
   },
   "id": "3776e8e2255be129"
  },
  {
   "cell_type": "markdown",
   "source": [
    "Also, we can use the format method to adjust the width and precision of floating point numbers:"
   ],
   "metadata": {
    "collapsed": false
   },
   "id": "ded269d7b4048093"
  },
  {
   "cell_type": "code",
   "execution_count": 93,
   "outputs": [
    {
     "name": "stdout",
     "output_type": "stream",
     "text": [
      "My 10 character, four decimal number is:   23.4568\n"
     ]
    }
   ],
   "source": [
    "num = 23.45678\n",
    "print('My 10 character, four decimal number is:{0:10.4f}'.format(num))"
   ],
   "metadata": {
    "collapsed": false,
    "ExecuteTime": {
     "end_time": "2023-12-21T04:18:34.510620495Z",
     "start_time": "2023-12-21T04:18:34.491220540Z"
    }
   },
   "id": "f3844d8eaa10d3ad"
  },
  {
   "cell_type": "markdown",
   "source": [
    "## _{value:width.precision f}_\n",
    "Is a format method that allows you to adjust the width and precision of floating point numbers."
   ],
   "metadata": {
    "collapsed": false
   },
   "id": "21d376faffff1918"
  },
  {
   "cell_type": "code",
   "execution_count": 94,
   "outputs": [
    {
     "name": "stdout",
     "output_type": "stream",
     "text": [
      "The result was 0.1287001287001287\n"
     ]
    }
   ],
   "source": [
    "result = 100/777\n",
    "print(\"The result was {r}\".format(r=result))\n"
   ],
   "metadata": {
    "collapsed": false,
    "ExecuteTime": {
     "end_time": "2023-12-21T04:18:34.977611351Z",
     "start_time": "2023-12-21T04:18:34.957290126Z"
    }
   },
   "id": "f9119dc928940f62"
  },
  {
   "cell_type": "markdown",
   "source": [
    "Is important to notice that the result is a float number, so we can use the format method to adjust the width and precision of the float number:"
   ],
   "metadata": {
    "collapsed": false
   },
   "id": "ef9db262cbd9473"
  },
  {
   "cell_type": "code",
   "execution_count": 95,
   "outputs": [
    {
     "name": "stdout",
     "output_type": "stream",
     "text": [
      "The result was 0.129\n"
     ]
    }
   ],
   "source": [
    "print(\"The result was {r:1.3f}\".format(r=result))"
   ],
   "metadata": {
    "collapsed": false,
    "ExecuteTime": {
     "end_time": "2023-12-21T04:18:35.392997320Z",
     "start_time": "2023-12-21T04:18:35.375781373Z"
    }
   },
   "id": "b9f9bb208e86179e"
  },
  {
   "cell_type": "markdown",
   "source": [
    "## _f-strings_\n",
    "The new way to format strings in Python 3.6. Is a literal string prefixed with 'f' which contains expressions inside braces. The expressions are replaced with their values."
   ],
   "metadata": {
    "collapsed": false
   },
   "id": "bcc9ad08340e8fd2"
  },
  {
   "cell_type": "code",
   "execution_count": 96,
   "outputs": [
    {
     "name": "stdout",
     "output_type": "stream",
     "text": [
      "Hello, my name is Ivan\n"
     ]
    }
   ],
   "source": [
    "name = \"Ivan\"\n",
    "print(f'Hello, my name is {name}')"
   ],
   "metadata": {
    "collapsed": false,
    "ExecuteTime": {
     "end_time": "2023-12-21T04:18:35.880151810Z",
     "start_time": "2023-12-21T04:18:35.862671700Z"
    }
   },
   "id": "900b1b1a01b8e787"
  },
  {
   "cell_type": "markdown",
   "source": [
    "Also, we can use de float formatting:"
   ],
   "metadata": {
    "collapsed": false
   },
   "id": "5087cc72b167674d"
  },
  {
   "cell_type": "code",
   "execution_count": 99,
   "outputs": [
    {
     "name": "stdout",
     "output_type": "stream",
     "text": [
      "My 10 character, four decimal number is:   23.4568\n"
     ]
    }
   ],
   "source": [
    "num = 23.45678\n",
    "print(f'My 10 character, four decimal number is:{num:{10}.{6}}')"
   ],
   "metadata": {
    "collapsed": false,
    "ExecuteTime": {
     "end_time": "2023-12-21T04:18:59.013606067Z",
     "start_time": "2023-12-21T04:18:58.940683684Z"
    }
   },
   "id": "2f8ca1981e1db59b"
  },
  {
   "cell_type": "markdown",
   "source": [
    "It is important to notice that the f-strings do not pad to the right of the decimal, even if precision allows it."
   ],
   "metadata": {
    "collapsed": false
   },
   "id": "5330a2a05f9282ab"
  },
  {
   "cell_type": "code",
   "execution_count": null,
   "outputs": [],
   "source": [],
   "metadata": {
    "collapsed": false
   },
   "id": "e2ca2bc1d92c40c9"
  }
 ],
 "metadata": {
  "kernelspec": {
   "display_name": "Python 3",
   "language": "python",
   "name": "python3"
  },
  "language_info": {
   "codemirror_mode": {
    "name": "ipython",
    "version": 2
   },
   "file_extension": ".py",
   "mimetype": "text/x-python",
   "name": "python",
   "nbconvert_exporter": "python",
   "pygments_lexer": "ipython2",
   "version": "2.7.6"
  }
 },
 "nbformat": 4,
 "nbformat_minor": 5
}
