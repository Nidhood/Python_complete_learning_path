{
 "cells": [
  {
   "cell_type": "markdown",
   "source": [
    "# Lists\n",
    "\n",
    "Lists are ordered sequences that can hold a variety of object types. They use [] brackets and commas to separate objects in the list. Lists support indexing and slicing. Lists can be nested and also have a variety of useful methods that can be called off of them. "
   ],
   "metadata": {
    "collapsed": false
   },
   "id": "169bdecfb922c2cd"
  },
  {
   "cell_type": "markdown",
   "source": [
    "___________\n",
    "### _len()_\n",
    "\n",
    "The len() function returns the number of items in an object. When the object is a string, the len() function returns the number of characters in the string."
   ],
   "metadata": {
    "collapsed": false
   },
   "id": "aaf08344e12d5c33"
  },
  {
   "cell_type": "code",
   "execution_count": 61,
   "outputs": [
    {
     "name": "stdout",
     "output_type": "stream",
     "text": [
      "The length of my_list is:  5\n"
     ]
    }
   ],
   "source": [
    "my_list = ['one','two','three',4,5]\n",
    "print('The length of my_list is: ', len(my_list))"
   ],
   "metadata": {
    "collapsed": false,
    "ExecuteTime": {
     "end_time": "2023-12-21T17:15:54.138082485Z",
     "start_time": "2023-12-21T17:15:54.119021114Z"
    }
   },
   "id": "6f6efdefbffd26b1"
  },
  {
   "cell_type": "markdown",
   "source": [
    "__________  \n",
    "### _append()_\n",
    "\n",
    "The append() method adds an item to the end of the list."
   ],
   "metadata": {
    "collapsed": false
   },
   "id": "f4f4a3fd1bf6b35b"
  },
  {
   "cell_type": "code",
   "execution_count": 62,
   "outputs": [
    {
     "name": "stdout",
     "output_type": "stream",
     "text": [
      "['one', 'two', 'three', 4, 5, 'six', 0.77]\n"
     ]
    }
   ],
   "source": [
    "my_list.append('six')\n",
    "my_list.append(77/100)\n",
    "print(my_list)"
   ],
   "metadata": {
    "collapsed": false,
    "ExecuteTime": {
     "end_time": "2023-12-21T17:15:54.657125744Z",
     "start_time": "2023-12-21T17:15:54.648802655Z"
    }
   },
   "id": "8a999efafd3208d1"
  },
  {
   "cell_type": "markdown",
   "source": [
    "_________\n",
    "### _pop()_\n",
    "\n",
    "The pop() method removes and returns the last item in the list. "
   ],
   "metadata": {
    "collapsed": false
   },
   "id": "ccedc51de57c4f71"
  },
  {
   "cell_type": "code",
   "execution_count": 63,
   "outputs": [
    {
     "name": "stdout",
     "output_type": "stream",
     "text": [
      "['one', 'two', 'three', 4, 5, 'six']\n"
     ]
    }
   ],
   "source": [
    "my_list.pop()\n",
    "print(my_list)"
   ],
   "metadata": {
    "collapsed": false,
    "ExecuteTime": {
     "end_time": "2023-12-21T17:15:55.417873022Z",
     "start_time": "2023-12-21T17:15:55.402067249Z"
    }
   },
   "id": "5b65a2f3339d6076"
  },
  {
   "cell_type": "markdown",
   "source": [
    "Also, the method takes an optional argument that specifies the index of the item to remove."
   ],
   "metadata": {
    "collapsed": false
   },
   "id": "9782a87ca7152a90"
  },
  {
   "cell_type": "code",
   "execution_count": 64,
   "outputs": [
    {
     "name": "stdout",
     "output_type": "stream",
     "text": [
      "['one', 'two', 4, 5, 'six']\n"
     ]
    }
   ],
   "source": [
    "my_list.pop(2)\n",
    "print(my_list)"
   ],
   "metadata": {
    "collapsed": false,
    "ExecuteTime": {
     "end_time": "2023-12-21T17:15:56.177059175Z",
     "start_time": "2023-12-21T17:15:56.155860036Z"
    }
   },
   "id": "226984e0178b1125"
  },
  {
   "cell_type": "markdown",
   "source": [
    "Also, we can save the popped item to a variable."
   ],
   "metadata": {
    "collapsed": false
   },
   "id": "8a4d782ca6680d13"
  },
  {
   "cell_type": "code",
   "execution_count": 65,
   "outputs": [
    {
     "name": "stdout",
     "output_type": "stream",
     "text": [
      "The popped item is:  six and the list is:  ['one', 'two', 4, 5]\n"
     ]
    }
   ],
   "source": [
    "popped_item = my_list.pop()\n",
    "print('The popped item is: ', popped_item, 'and the list is: ', my_list)"
   ],
   "metadata": {
    "collapsed": false,
    "ExecuteTime": {
     "end_time": "2023-12-21T17:15:56.783976370Z",
     "start_time": "2023-12-21T17:15:56.769798854Z"
    }
   },
   "id": "73d432353238fc95"
  },
  {
   "cell_type": "markdown",
   "source": [
    "_________\n",
    "### _sort()_\n",
    "\n",
    "The sort() method sorts the items in a list in ascending order."
   ],
   "metadata": {
    "collapsed": false
   },
   "id": "c900df0c9436a7b3"
  },
  {
   "cell_type": "code",
   "execution_count": 66,
   "outputs": [
    {
     "name": "stdout",
     "output_type": "stream",
     "text": [
      "[1, 2, 3, 4, 5]\n"
     ]
    }
   ],
   "source": [
    "my_list = [4,2,1,3,5]\n",
    "my_list.sort()\n",
    "print(my_list)"
   ],
   "metadata": {
    "collapsed": false,
    "ExecuteTime": {
     "end_time": "2023-12-21T17:15:57.394143716Z",
     "start_time": "2023-12-21T17:15:57.376079576Z"
    }
   },
   "id": "f32312e9d4d1fda3"
  },
  {
   "cell_type": "markdown",
   "source": [
    "__________\n",
    "### _reverse()_\n",
    "\n",
    "The reverse() method reverses the elements of a list."
   ],
   "metadata": {
    "collapsed": false
   },
   "id": "2bd8499a9b5d4a33"
  },
  {
   "cell_type": "code",
   "execution_count": 67,
   "outputs": [
    {
     "name": "stdout",
     "output_type": "stream",
     "text": [
      "[5, 4, 3, 2, 1]\n"
     ]
    }
   ],
   "source": [
    "my_list.reverse()\n",
    "print(my_list)"
   ],
   "metadata": {
    "collapsed": false,
    "ExecuteTime": {
     "end_time": "2023-12-21T17:15:57.972176360Z",
     "start_time": "2023-12-21T17:15:57.945285998Z"
    }
   },
   "id": "38011ca2bbc47549"
  },
  {
   "cell_type": "markdown",
   "source": [
    "__________\n",
    "### _Are lists mutable?_\n",
    "\n",
    "Yes, lists are mutable. This means that we can change an item in a list by accessing it directly as part of the assignment statement. "
   ],
   "metadata": {
    "collapsed": false
   },
   "id": "ce35a9ce117af7a5"
  },
  {
   "cell_type": "code",
   "execution_count": 68,
   "outputs": [
    {
     "name": "stdout",
     "output_type": "stream",
     "text": [
      "[1, 'two', 'three', 'four', 'five']\n"
     ]
    }
   ],
   "source": [
    "new_list = ['one','two','three','four','five']\n",
    "new_list[0] = 1\n",
    "print(new_list)"
   ],
   "metadata": {
    "collapsed": false,
    "ExecuteTime": {
     "end_time": "2023-12-21T17:15:59.011793975Z",
     "start_time": "2023-12-21T17:15:59.003744549Z"
    }
   },
   "id": "8c02b3faff7d7748"
  },
  {
   "cell_type": "markdown",
   "source": [
    "### _Slicing and Indexing_\n",
    "\n",
    "Like we said, lists are ordered sequences, so they can be indexed and sliced. Indexing and slicing work just like in strings."
   ],
   "metadata": {
    "collapsed": false
   },
   "id": "79f0f731c74f3b1a"
  },
  {
   "cell_type": "code",
   "execution_count": 69,
   "outputs": [
    {
     "name": "stdout",
     "output_type": "stream",
     "text": [
      "['two', 'three', 'four', 'five']\n"
     ]
    }
   ],
   "source": [
    "print(new_list[1:])"
   ],
   "metadata": {
    "collapsed": false,
    "ExecuteTime": {
     "end_time": "2023-12-21T17:15:59.918510528Z",
     "start_time": "2023-12-21T17:15:59.911379132Z"
    }
   },
   "id": "d59cabdff03e0f8"
  },
  {
   "cell_type": "code",
   "execution_count": 70,
   "outputs": [
    {
     "name": "stdout",
     "output_type": "stream",
     "text": [
      "[1, 'two', 'three']\n"
     ]
    }
   ],
   "source": [
    "print(new_list[:3])"
   ],
   "metadata": {
    "collapsed": false,
    "ExecuteTime": {
     "end_time": "2023-12-21T17:16:00.382636500Z",
     "start_time": "2023-12-21T17:16:00.374066256Z"
    }
   },
   "id": "6ccd749bcf3113c4"
  },
  {
   "cell_type": "code",
   "execution_count": 71,
   "outputs": [
    {
     "name": "stdout",
     "output_type": "stream",
     "text": [
      "['two', 'three']\n"
     ]
    }
   ],
   "source": [
    "print(new_list[1:3])"
   ],
   "metadata": {
    "collapsed": false,
    "ExecuteTime": {
     "end_time": "2023-12-21T17:16:00.769252316Z",
     "start_time": "2023-12-21T17:16:00.744688389Z"
    }
   },
   "id": "8c000193f34b1bf4"
  },
  {
   "cell_type": "code",
   "execution_count": 72,
   "outputs": [
    {
     "name": "stdout",
     "output_type": "stream",
     "text": [
      "five\n"
     ]
    }
   ],
   "source": [
    "print(new_list[-1])"
   ],
   "metadata": {
    "collapsed": false,
    "ExecuteTime": {
     "end_time": "2023-12-21T17:16:01.339473265Z",
     "start_time": "2023-12-21T17:16:01.280405601Z"
    }
   },
   "id": "8ed5ca883b89101a"
  },
  {
   "cell_type": "code",
   "execution_count": 73,
   "outputs": [
    {
     "name": "stdout",
     "output_type": "stream",
     "text": [
      "['five', 'four', 'three', 'two', 1]\n"
     ]
    }
   ],
   "source": [
    "print(new_list[::-1])"
   ],
   "metadata": {
    "collapsed": false,
    "ExecuteTime": {
     "end_time": "2023-12-21T17:16:02.050939104Z",
     "start_time": "2023-12-21T17:16:02.031175016Z"
    }
   },
   "id": "e3289d390fa5bfad"
  }
 ],
 "metadata": {
  "kernelspec": {
   "display_name": "Python 3",
   "language": "python",
   "name": "python3"
  },
  "language_info": {
   "codemirror_mode": {
    "name": "ipython",
    "version": 2
   },
   "file_extension": ".py",
   "mimetype": "text/x-python",
   "name": "python",
   "nbconvert_exporter": "python",
   "pygments_lexer": "ipython2",
   "version": "2.7.6"
  }
 },
 "nbformat": 4,
 "nbformat_minor": 5
}
