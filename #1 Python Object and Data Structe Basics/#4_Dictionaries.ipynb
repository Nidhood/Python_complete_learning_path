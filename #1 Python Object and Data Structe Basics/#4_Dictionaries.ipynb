{
 "cells": [
  {
   "cell_type": "markdown",
   "source": [
    "# Dictionaries\n",
    "\n",
    "Dictionaries are unordered mappings for storing objects. Previously we saw how lists store objects in an ordered sequence, dictionaries use a key-value pairing instead. This key-value pair allows users to quickly grab objects without needing to know an index location."
   ],
   "metadata": {
    "collapsed": false
   },
   "id": "6f5307101668106"
  },
  {
   "cell_type": "code",
   "execution_count": 1,
   "outputs": [
    {
     "data": {
      "text/plain": "{'key1': 'value1', 'key2': 'value2', 'key3': 'value3'}"
     },
     "execution_count": 1,
     "metadata": {},
     "output_type": "execute_result"
    }
   ],
   "source": [
    "my_dict = {'key1':'value1','key2':'value2', 'key3':'value3'}\n",
    "my_dict"
   ],
   "metadata": {
    "collapsed": false,
    "ExecuteTime": {
     "end_time": "2023-12-21T17:36:02.373757447Z",
     "start_time": "2023-12-21T17:36:02.371393343Z"
    }
   },
   "id": "457b757b551fa07d"
  },
  {
   "cell_type": "markdown",
   "source": [
    "Like we said, mappings are a collection of objects that are stored by a *key*, unlike a sequence that stored objects by their relative position. This is an important distinction, since mappings won't retain order since they have objects defined by a key."
   ],
   "metadata": {
    "collapsed": false
   },
   "id": "3a361f69290af687"
  },
  {
   "cell_type": "code",
   "execution_count": 2,
   "outputs": [
    {
     "data": {
      "text/plain": "'value1'"
     },
     "execution_count": 2,
     "metadata": {},
     "output_type": "execute_result"
    }
   ],
   "source": [
    "my_dict['key1']"
   ],
   "metadata": {
    "collapsed": false,
    "ExecuteTime": {
     "end_time": "2023-12-21T17:36:02.822559303Z",
     "start_time": "2023-12-21T17:36:02.801742675Z"
    }
   },
   "id": "154047f303b04929"
  },
  {
   "cell_type": "code",
   "execution_count": 3,
   "outputs": [
    {
     "data": {
      "text/plain": "2.99"
     },
     "execution_count": 3,
     "metadata": {},
     "output_type": "execute_result"
    }
   ],
   "source": [
    "prices_lookup = {'apple':2.99,'oranges':1.99,'milk':5.80}\n",
    "prices_lookup['apple']"
   ],
   "metadata": {
    "collapsed": false,
    "ExecuteTime": {
     "end_time": "2023-12-21T17:36:03.146177565Z",
     "start_time": "2023-12-21T17:36:03.123167899Z"
    }
   },
   "id": "4a70af5f87ba98b"
  },
  {
   "cell_type": "markdown",
   "source": [
    "Dictionaries can hold all sorts of information, like booleans, numbers, and strings. They can also hold lists or even other dictionaries!"
   ],
   "metadata": {
    "collapsed": false
   },
   "id": "f6d4fa9ff90772d9"
  },
  {
   "cell_type": "code",
   "execution_count": 4,
   "outputs": [
    {
     "data": {
      "text/plain": "[0, 1, 2]"
     },
     "execution_count": 4,
     "metadata": {},
     "output_type": "execute_result"
    }
   ],
   "source": [
    "d = {'k1':123,'k2':[0,1,2],'k3':{'insideKey':100}}\n",
    "d['k2']"
   ],
   "metadata": {
    "collapsed": false,
    "ExecuteTime": {
     "end_time": "2023-12-21T17:36:03.622491223Z",
     "start_time": "2023-12-21T17:36:03.603376140Z"
    }
   },
   "id": "5033825fa10b866c"
  },
  {
   "cell_type": "code",
   "execution_count": 5,
   "outputs": [
    {
     "data": {
      "text/plain": "100"
     },
     "execution_count": 5,
     "metadata": {},
     "output_type": "execute_result"
    }
   ],
   "source": [
    "d['k3']['insideKey']"
   ],
   "metadata": {
    "collapsed": false,
    "ExecuteTime": {
     "end_time": "2023-12-21T17:36:04.022297362Z",
     "start_time": "2023-12-21T17:36:03.960285429Z"
    }
   },
   "id": "2d4f242eb4b4a9fe"
  },
  {
   "cell_type": "markdown",
   "source": [
    "To add to dictionaries, we can do so by simply assigning a new key-value pair."
   ],
   "metadata": {
    "collapsed": false
   },
   "id": "c2962784e33994a9"
  },
  {
   "cell_type": "code",
   "execution_count": 6,
   "outputs": [
    {
     "name": "stdout",
     "output_type": "stream",
     "text": [
      "Dictionary before adding new key-value pair:  {'key1': 100, 'key2': 200}\n",
      "Dictionary after adding new key-value pair :  {'key1': 100, 'key2': 200, 'key3': 300}\n"
     ]
    }
   ],
   "source": [
    "d = {'key1':100,'key2':200}\n",
    "print('Dictionary before adding new key-value pair: ', d)\n",
    "d['key3'] = 300\n",
    "print('Dictionary after adding new key-value pair : ', d)"
   ],
   "metadata": {
    "collapsed": false,
    "ExecuteTime": {
     "end_time": "2023-12-21T17:36:04.492584409Z",
     "start_time": "2023-12-21T17:36:04.471642593Z"
    }
   },
   "id": "ff8d0aa7b3015b42"
  },
  {
   "cell_type": "markdown",
   "source": [
    "To overwrite existing values, we can do so by simply assigning a new value to an existing key."
   ],
   "metadata": {
    "collapsed": false
   },
   "id": "d1bffc9ce0bc0127"
  },
  {
   "cell_type": "code",
   "execution_count": 7,
   "outputs": [
    {
     "data": {
      "text/plain": "{'key1': 'NEW VALUE', 'key2': 200, 'key3': 300}"
     },
     "execution_count": 7,
     "metadata": {},
     "output_type": "execute_result"
    }
   ],
   "source": [
    "d['key1'] = 'NEW VALUE'\n",
    "d"
   ],
   "metadata": {
    "collapsed": false,
    "ExecuteTime": {
     "end_time": "2023-12-21T17:36:05.287518968Z",
     "start_time": "2023-12-21T17:36:05.260015622Z"
    }
   },
   "id": "8093f71cf85c7b64"
  },
  {
   "cell_type": "markdown",
   "source": [
    "_______\n",
    "### _keys()_\n",
    "\n",
    "The keys() method returns a view object. The view object contains the keys of the dictionary, as a list."
   ],
   "metadata": {
    "collapsed": false
   },
   "id": "c5fc7ad171e6c68b"
  },
  {
   "cell_type": "code",
   "execution_count": 8,
   "outputs": [
    {
     "data": {
      "text/plain": "dict_keys(['key1', 'key2', 'key3'])"
     },
     "execution_count": 8,
     "metadata": {},
     "output_type": "execute_result"
    }
   ],
   "source": [
    "d = {'key1':100,'key2':200,'key3':300}\n",
    "d.keys()"
   ],
   "metadata": {
    "collapsed": false,
    "ExecuteTime": {
     "end_time": "2023-12-21T17:36:07.194584212Z",
     "start_time": "2023-12-21T17:36:07.188520069Z"
    }
   },
   "id": "59fc958b4bd01513"
  },
  {
   "cell_type": "code",
   "execution_count": 9,
   "outputs": [
    {
     "data": {
      "text/plain": "['key1', 'key2', 'key3']"
     },
     "execution_count": 9,
     "metadata": {},
     "output_type": "execute_result"
    }
   ],
   "source": [
    "list(d.keys())"
   ],
   "metadata": {
    "collapsed": false,
    "ExecuteTime": {
     "end_time": "2023-12-21T17:36:07.676733427Z",
     "start_time": "2023-12-21T17:36:07.640452410Z"
    }
   },
   "id": "4e2bf1a59fa7632c"
  },
  {
   "cell_type": "markdown",
   "source": [
    "_________   \n",
    "### _values()_\n",
    "\n",
    "The values() method returns a view object. The view object contains the values of the dictionary, as a list."
   ],
   "metadata": {
    "collapsed": false
   },
   "id": "662aa0b9fb53beb"
  },
  {
   "cell_type": "code",
   "execution_count": 10,
   "outputs": [
    {
     "data": {
      "text/plain": "dict_values([100, 200, 300])"
     },
     "execution_count": 10,
     "metadata": {},
     "output_type": "execute_result"
    }
   ],
   "source": [
    "d.values()"
   ],
   "metadata": {
    "collapsed": false,
    "ExecuteTime": {
     "end_time": "2023-12-21T17:36:08.157426804Z",
     "start_time": "2023-12-21T17:36:08.100552690Z"
    }
   },
   "id": "e423997aa6683a74"
  },
  {
   "cell_type": "code",
   "execution_count": 11,
   "outputs": [
    {
     "data": {
      "text/plain": "[100, 200, 300]"
     },
     "execution_count": 11,
     "metadata": {},
     "output_type": "execute_result"
    }
   ],
   "source": [
    "list(d.values())"
   ],
   "metadata": {
    "collapsed": false,
    "ExecuteTime": {
     "end_time": "2023-12-21T17:36:08.618435092Z",
     "start_time": "2023-12-21T17:36:08.600794415Z"
    }
   },
   "id": "45f5c132d47f7489"
  },
  {
   "cell_type": "markdown",
   "source": [
    "_____   \n",
    "### _items()_\n",
    "\n",
    "The items() method returns a view object. The view object contains the key-value pairs of the dictionary, as tuples in a list."
   ],
   "metadata": {
    "collapsed": false
   },
   "id": "d0826241c144b26"
  },
  {
   "cell_type": "code",
   "execution_count": 12,
   "outputs": [
    {
     "data": {
      "text/plain": "dict_items([('key1', 100), ('key2', 200), ('key3', 300)])"
     },
     "execution_count": 12,
     "metadata": {},
     "output_type": "execute_result"
    }
   ],
   "source": [
    "d.items()"
   ],
   "metadata": {
    "collapsed": false,
    "ExecuteTime": {
     "end_time": "2023-12-21T17:36:09.507449324Z",
     "start_time": "2023-12-21T17:36:09.499399619Z"
    }
   },
   "id": "6271a8e1eaea91ac"
  },
  {
   "cell_type": "code",
   "execution_count": 13,
   "outputs": [
    {
     "data": {
      "text/plain": "[('key1', 100), ('key2', 200), ('key3', 300)]"
     },
     "execution_count": 13,
     "metadata": {},
     "output_type": "execute_result"
    }
   ],
   "source": [
    "list(d.items())"
   ],
   "metadata": {
    "collapsed": false,
    "ExecuteTime": {
     "end_time": "2023-12-21T17:36:10.794647479Z",
     "start_time": "2023-12-21T17:36:10.725037886Z"
    }
   },
   "id": "fe837114b25d2992"
  }
 ],
 "metadata": {
  "kernelspec": {
   "display_name": "Python 3",
   "language": "python",
   "name": "python3"
  },
  "language_info": {
   "codemirror_mode": {
    "name": "ipython",
    "version": 2
   },
   "file_extension": ".py",
   "mimetype": "text/x-python",
   "name": "python",
   "nbconvert_exporter": "python",
   "pygments_lexer": "ipython2",
   "version": "2.7.6"
  }
 },
 "nbformat": 4,
 "nbformat_minor": 5
}
