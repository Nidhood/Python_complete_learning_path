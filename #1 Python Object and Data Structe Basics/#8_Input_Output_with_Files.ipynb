{
 "cells": [
  {
   "cell_type": "markdown",
   "source": [
    "# I/O with Basics Files\n",
    "\n",
    "The workflow for reading and writing to a file is an important concept to understand in any programming language. Python has a built-in function for opening and reading files. The open function also has a built-in mode argument that allows you to specify if you want to read, write, or append to a file.\n",
    "________\n",
    "To keep in mind, for example, working with files, Jupyter Notebook has an easy and fast form to create a file:"
   ],
   "metadata": {
    "collapsed": false
   },
   "id": "b21eaca24d8aac47"
  },
  {
   "cell_type": "code",
   "execution_count": 15,
   "outputs": [
    {
     "name": "stdout",
     "output_type": "stream",
     "text": [
      "Overwriting my_file.txt\n"
     ]
    }
   ],
   "source": [
    "%%writefile my_file.txt\n",
    "Hello this is a text file\n",
    "this is the second line\n",
    "this is the third line"
   ],
   "metadata": {
    "collapsed": false,
    "ExecuteTime": {
     "end_time": "2023-12-21T18:48:10.355991612Z",
     "start_time": "2023-12-21T18:48:10.307379743Z"
    }
   },
   "id": "4bd4b0ef424a88c"
  },
  {
   "cell_type": "markdown",
   "source": [
    "_______ \n",
    "### _open()_\n",
    "\n",
    "The open() function opens a file, and returns it as a file object."
   ],
   "metadata": {
    "collapsed": false
   },
   "id": "c698efcecf1aa581"
  },
  {
   "cell_type": "code",
   "execution_count": 16,
   "outputs": [],
   "source": [
    "my_file = open('my_file.txt')"
   ],
   "metadata": {
    "collapsed": false,
    "ExecuteTime": {
     "end_time": "2023-12-21T18:48:10.939432932Z",
     "start_time": "2023-12-21T18:48:10.919114158Z"
    }
   },
   "id": "6ec3f3c45072d2f4"
  },
  {
   "cell_type": "markdown",
   "source": [
    "_______\n",
    "\n",
    "### _read()_\n",
    "\n",
    "The read() method returns the specified number of bytes from the file. Default is -1, which means the whole file."
   ],
   "metadata": {
    "collapsed": false
   },
   "id": "3cec3ba345e7b6fb"
  },
  {
   "cell_type": "code",
   "execution_count": 17,
   "outputs": [
    {
     "data": {
      "text/plain": "'Hello this is a text file\\nthis is the second line\\nthis is the third line\\n'"
     },
     "execution_count": 17,
     "metadata": {},
     "output_type": "execute_result"
    }
   ],
   "source": [
    "my_file.read()"
   ],
   "metadata": {
    "collapsed": false,
    "ExecuteTime": {
     "end_time": "2023-12-21T18:48:11.481808132Z",
     "start_time": "2023-12-21T18:48:11.466088909Z"
    }
   },
   "id": "21ad370bf9b283bc"
  },
  {
   "cell_type": "markdown",
   "source": [
    "And if you try to read again, you will get an empty string because the cursor is at the end of the file. So you need to reset the cursor to the beginning of the file."
   ],
   "metadata": {
    "collapsed": false
   },
   "id": "a4defae098c53c2d"
  },
  {
   "cell_type": "code",
   "execution_count": 18,
   "outputs": [
    {
     "data": {
      "text/plain": "''"
     },
     "execution_count": 18,
     "metadata": {},
     "output_type": "execute_result"
    }
   ],
   "source": [
    "my_file.read()"
   ],
   "metadata": {
    "collapsed": false,
    "ExecuteTime": {
     "end_time": "2023-12-21T18:48:12.032521343Z",
     "start_time": "2023-12-21T18:48:12.019659534Z"
    }
   },
   "id": "f06a929a19fa79e9"
  },
  {
   "cell_type": "markdown",
   "source": [
    "_______\n",
    "\n",
    "### _seek()_\n",
    "\n",
    "The seek() method sets the current file position in a file stream. The seek() method also returns the new position."
   ],
   "metadata": {
    "collapsed": false
   },
   "id": "d8ef572c0c4dc7a5"
  },
  {
   "cell_type": "code",
   "execution_count": 19,
   "outputs": [
    {
     "data": {
      "text/plain": "'Hello this is a text file\\nthis is the second line\\nthis is the third line\\n'"
     },
     "execution_count": 19,
     "metadata": {},
     "output_type": "execute_result"
    }
   ],
   "source": [
    "my_file.seek(0)\n",
    "my_file.read()"
   ],
   "metadata": {
    "collapsed": false,
    "ExecuteTime": {
     "end_time": "2023-12-21T18:48:12.667012392Z",
     "start_time": "2023-12-21T18:48:12.642846985Z"
    }
   },
   "id": "45092607ee7bf963"
  },
  {
   "cell_type": "markdown",
   "source": [
    "_______\n",
    "\n",
    "### _headlines()_\n",
    "\n",
    "The readlines() method returns a list containing each line in the file as a list item."
   ],
   "metadata": {
    "collapsed": false
   },
   "id": "41af0d71d8acf652"
  },
  {
   "cell_type": "code",
   "execution_count": 20,
   "outputs": [
    {
     "data": {
      "text/plain": "['Hello this is a text file\\n',\n 'this is the second line\\n',\n 'this is the third line\\n']"
     },
     "execution_count": 20,
     "metadata": {},
     "output_type": "execute_result"
    }
   ],
   "source": [
    "my_file.seek(0)\n",
    "my_file.readlines()"
   ],
   "metadata": {
    "collapsed": false,
    "ExecuteTime": {
     "end_time": "2023-12-21T18:48:14.011648879Z",
     "start_time": "2023-12-21T18:48:13.986575042Z"
    }
   },
   "id": "5bf0da589dd8b0b8"
  },
  {
   "cell_type": "markdown",
   "source": [
    "_______\n",
    "\n",
    "### _close()_\n",
    "\n",
    "It is a good practice to always close the file when you are done with it."
   ],
   "metadata": {
    "collapsed": false
   },
   "id": "3d2ab13f2ff2531b"
  },
  {
   "cell_type": "code",
   "execution_count": 21,
   "outputs": [],
   "source": [
    "my_file.close()"
   ],
   "metadata": {
    "collapsed": false,
    "ExecuteTime": {
     "end_time": "2023-12-21T18:48:15.011251914Z",
     "start_time": "2023-12-21T18:48:15.006939240Z"
    }
   },
   "id": "ba99d00ac5261e68"
  },
  {
   "cell_type": "code",
   "execution_count": 22,
   "outputs": [
    {
     "ename": "ValueError",
     "evalue": "I/O operation on closed file.",
     "output_type": "error",
     "traceback": [
      "\u001B[0;31m---------------------------------------------------------------------------\u001B[0m",
      "\u001B[0;31mValueError\u001B[0m                                Traceback (most recent call last)",
      "Cell \u001B[0;32mIn[22], line 1\u001B[0m\n\u001B[0;32m----> 1\u001B[0m \u001B[43mmy_file\u001B[49m\u001B[38;5;241;43m.\u001B[39;49m\u001B[43mread\u001B[49m\u001B[43m(\u001B[49m\u001B[43m)\u001B[49m\n",
      "\u001B[0;31mValueError\u001B[0m: I/O operation on closed file."
     ]
    }
   ],
   "source": [
    "my_file.read()"
   ],
   "metadata": {
    "collapsed": false,
    "ExecuteTime": {
     "end_time": "2023-12-21T18:48:15.611454440Z",
     "start_time": "2023-12-21T18:48:15.506296385Z"
    }
   },
   "id": "2e2262ed83a4ba35"
  },
  {
   "cell_type": "markdown",
   "source": [
    "_______\n",
    "\n",
    "# File Locations\n",
    "\n",
    "If you want to open files at another location on your computer, pass in the entire file path.\n",
    "\n",
    "For Windows, you need to use double \\ so python doesn't treat the second \\ as an escape character, a file path is in the form:\n",
    "\n",
    "\n",
    "- ***my_file = open(\"C:\\\\\\Users\\\\\\YourUserName\\\\\\Home\\\\\\Folder\\\\\\my_file.txt\")***\n",
    "\n",
    "For macOS and Linux, you use slashes in the opposite direction:\n",
    "\n",
    "- ***my_file = open(\"/Users/YourUserName/Folder/my_file.txt\")***"
   ],
   "metadata": {
    "collapsed": false
   },
   "id": "f448ccf61f065f73"
  },
  {
   "cell_type": "code",
   "execution_count": 23,
   "outputs": [
    {
     "data": {
      "text/plain": "'/home/nidhood/Desktop/Python/Python_complete_learning_path/#1 Python Object and Data Structe Basics'"
     },
     "execution_count": 23,
     "metadata": {},
     "output_type": "execute_result"
    }
   ],
   "source": [
    "pwd"
   ],
   "metadata": {
    "collapsed": false,
    "ExecuteTime": {
     "end_time": "2023-12-21T18:48:16.871543017Z",
     "start_time": "2023-12-21T18:48:16.862357847Z"
    }
   },
   "id": "e95841ff3a2c95f"
  },
  {
   "cell_type": "markdown",
   "source": [
    "_______\n",
    "\n",
    "### _with open() as_\n",
    "\n",
    "The with statement simplifies exception handling by encapsulating common preparation and cleanup tasks."
   ],
   "metadata": {
    "collapsed": false
   },
   "id": "d0eb62a36e5e7e57"
  },
  {
   "cell_type": "code",
   "execution_count": 24,
   "outputs": [
    {
     "data": {
      "text/plain": "'Hello this is a text file\\nthis is the second line\\nthis is the third line\\n'"
     },
     "execution_count": 24,
     "metadata": {},
     "output_type": "execute_result"
    }
   ],
   "source": [
    "with open('my_file.txt') as my_new_file:\n",
    "    contents = my_new_file.read()\n",
    "\n",
    "contents"
   ],
   "metadata": {
    "collapsed": false,
    "ExecuteTime": {
     "end_time": "2023-12-21T18:48:18.236720314Z",
     "start_time": "2023-12-21T18:48:18.218606525Z"
    }
   },
   "id": "26e9b4340e32a592"
  },
  {
   "cell_type": "markdown",
   "source": [
    "It Is a good practice to use the with open() as, because it will automatically close the file after the block of code."
   ],
   "metadata": {
    "collapsed": false
   },
   "id": "658b81a19ee359eb"
  },
  {
   "cell_type": "markdown",
   "source": [
    "_______\n",
    "\n",
    "### _mode_\n",
    "\n",
    "The open() function takes two parameters; filename, and mode. With the mode parameter, you can specify if you want to read, write, or append to a file. The mode parameter is optional; the default value is r. \n",
    "\n",
    "- ***\"r\" - Read - Default value. Opens a file for reading, error if the file does not exist***"
   ],
   "metadata": {
    "collapsed": false
   },
   "id": "92da94700599ebb0"
  },
  {
   "cell_type": "code",
   "execution_count": 25,
   "outputs": [
    {
     "name": "stdout",
     "output_type": "stream",
     "text": [
      "Overwriting my_new_file.txt\n"
     ]
    }
   ],
   "source": [
    "%%writefile my_new_file.txt\n",
    "ONE ON FIRST\n",
    "TWO ON SECOND\n",
    "THREE ON THIRD"
   ],
   "metadata": {
    "collapsed": false,
    "ExecuteTime": {
     "end_time": "2023-12-21T18:48:21.891870815Z",
     "start_time": "2023-12-21T18:48:21.839358640Z"
    }
   },
   "id": "69832f4fc815d4e9"
  },
  {
   "cell_type": "code",
   "execution_count": 26,
   "outputs": [
    {
     "name": "stdout",
     "output_type": "stream",
     "text": [
      "ONE ON FIRST\n",
      "TWO ON SECOND\n",
      "THREE ON THIRD\n"
     ]
    }
   ],
   "source": [
    "with open('my_new_file.txt',mode='r') as f:\n",
    "    print(f.read())"
   ],
   "metadata": {
    "collapsed": false,
    "ExecuteTime": {
     "end_time": "2023-12-21T18:48:22.612361478Z",
     "start_time": "2023-12-21T18:48:22.591881610Z"
    }
   },
   "id": "aeb9c3e9f4d67ceb"
  },
  {
   "cell_type": "markdown",
   "source": [
    "- ***\"w\" - Write - Opens a file for writing, create the file if it does not exist***"
   ],
   "metadata": {
    "collapsed": false
   },
   "id": "3214c4177bc7563c"
  },
  {
   "cell_type": "code",
   "execution_count": 27,
   "outputs": [
    {
     "name": "stdout",
     "output_type": "stream",
     "text": [
      "I CREATED THIS FILE!\n"
     ]
    }
   ],
   "source": [
    "with open('my_new_file_with_write_mode.txt',mode='w') as f:\n",
    "    f.write('I CREATED THIS FILE!')\n",
    "\n",
    "with open('my_new_file_with_write_mode.txt',mode='r') as f:\n",
    "    print(f.read())"
   ],
   "metadata": {
    "collapsed": false,
    "ExecuteTime": {
     "end_time": "2023-12-21T18:48:25.558330018Z",
     "start_time": "2023-12-21T18:48:25.532003461Z"
    }
   },
   "id": "85f01a57de9379a5"
  },
  {
   "cell_type": "markdown",
   "source": [
    "- ***\"a\" - Append - Opens a file for appending, creates the file if it does not exist***"
   ],
   "metadata": {
    "collapsed": false
   },
   "id": "92e8c400cd6913f4"
  },
  {
   "cell_type": "code",
   "execution_count": 28,
   "outputs": [
    {
     "name": "stdout",
     "output_type": "stream",
     "text": [
      "ONE ON FIRST\n",
      "TWO ON SECOND\n",
      "THREE ON THIRD\n",
      "FOUR ON FOURTH\n"
     ]
    }
   ],
   "source": [
    "with open('my_new_file.txt',mode='a') as f:\n",
    "    f.write('FOUR ON FOURTH')\n",
    "\n",
    "with open('my_new_file.txt',mode='r') as f:\n",
    "    print(f.read())"
   ],
   "metadata": {
    "collapsed": false,
    "ExecuteTime": {
     "end_time": "2023-12-21T18:48:29.888271642Z",
     "start_time": "2023-12-21T18:48:29.852862563Z"
    }
   },
   "id": "2ef66e794b659d"
  },
  {
   "cell_type": "markdown",
   "source": [
    "- ***\"r+\" - Read and Write - Opens a file for reading and writing, error if the file does not exist***"
   ],
   "metadata": {
    "collapsed": false
   },
   "id": "6079c17e5d8a1151"
  },
  {
   "cell_type": "code",
   "execution_count": 29,
   "outputs": [
    {
     "name": "stdout",
     "output_type": "stream",
     "text": [
      "ONE ON FIRST\n",
      "TWO ON SECOND\n",
      "THREE ON THIRD\n",
      "FOUR ON FOURTH\n"
     ]
    }
   ],
   "source": [
    "with open('my_new_file.txt',mode='r+') as f:\n",
    "    print(f.read())\n",
    "    f.write('\\nI OVERWRITE THIS FILE!')"
   ],
   "metadata": {
    "collapsed": false,
    "ExecuteTime": {
     "end_time": "2023-12-21T18:48:36.939520541Z",
     "start_time": "2023-12-21T18:48:36.898775929Z"
    }
   },
   "id": "3d6b5dfe4400ccbd"
  },
  {
   "cell_type": "markdown",
   "source": [
    "- ***\"w+\" - Write and Read—Opens a file for writing and reading, create the file if it does not exist***"
   ],
   "metadata": {
    "collapsed": false
   },
   "id": "2cc9303c6032f270"
  },
  {
   "cell_type": "code",
   "execution_count": 30,
   "outputs": [
    {
     "name": "stdout",
     "output_type": "stream",
     "text": []
    }
   ],
   "source": [
    "with open('my_new_file_with_write_and_read_mode.txt',mode='w+') as f:\n",
    "    f.write('I CREATED THIS FILE!')\n",
    "    print(f.read())"
   ],
   "metadata": {
    "collapsed": false,
    "ExecuteTime": {
     "end_time": "2023-12-21T18:48:39.032278317Z",
     "start_time": "2023-12-21T18:48:39.000780345Z"
    }
   },
   "id": "aca4c06298ff509a"
  }
 ],
 "metadata": {
  "kernelspec": {
   "display_name": "Python 3",
   "language": "python",
   "name": "python3"
  },
  "language_info": {
   "codemirror_mode": {
    "name": "ipython",
    "version": 2
   },
   "file_extension": ".py",
   "mimetype": "text/x-python",
   "name": "python",
   "nbconvert_exporter": "python",
   "pygments_lexer": "ipython2",
   "version": "2.7.6"
  }
 },
 "nbformat": 4,
 "nbformat_minor": 5
}
