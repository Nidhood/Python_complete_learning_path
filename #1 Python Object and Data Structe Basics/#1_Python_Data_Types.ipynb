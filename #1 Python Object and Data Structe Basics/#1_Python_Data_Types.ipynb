{
 "cells": [
  {
   "cell_type": "markdown",
   "metadata": {},
   "source": [
    "# **Data Types**\n",
    "\n",
    "|:------------------:|:------:|---------------------------------------------------------------------------|\n",
    "| Name             | Type | Description                                                               |\n",
    "| Integer          | int  | Whole numbers, such as: 1, 2, 3, 4, 5, 6, 7, 8, 9, 0                      |\n",
    "| Floating point   | float| Numbers with a decimal point or exponential notation, e.g., 1.0, 2.0, 3.0 |\n",
    "| Strings          | str  | Ordered sequence of characters, e.g., \"Hello\", \"World\"                    |\n",
    "| Lists            | list | Ordered sequences of objects, e.g., [1, 2, 3, 4, 5]                       |\n",
    "| Dictionaries     | dict | Unordered mappings for storing objects, e.g., {\"key\": \"value\"}            |\n",
    "| Tuples           | tup  | Ordered immutable sequences of objects, e.g., (1, 2, 3)                   |\n",
    "| Sets             | set  | Unordered collections of unique objects, e.g., {1, 2, 3}                  |\n",
    "| Booleans         | bool | Logical values indicating True or False, e.g., True, False                |\n"
   ]
  },
  {
   "cell_type": "markdown",
   "metadata": {},
   "source": [
    "## __Examples:__\n",
    "\n",
    "### (*Integers*)"
   ]
  },
  {
   "cell_type": "code",
   "execution_count": 1,
   "metadata": {
    "ExecuteTime": {
     "end_time": "2023-12-20T19:54:30.294279801Z",
     "start_time": "2023-12-20T19:54:30.279321803Z"
    }
   },
   "outputs": [
    {
     "name": "stdout",
     "output_type": "stream",
     "text": [
      "The data type of 'integer' is int and the value is 115.\n"
     ]
    }
   ],
   "source": [
    "integer = 115\n",
    "data_type = type(integer).__name__\n",
    "print(\"The data type of 'integer' is \" + data_type + \" and the value is \" + str(integer) + \".\")"
   ]
  },
  {
   "cell_type": "markdown",
   "metadata": {},
   "source": [
    "### (*Floating point*)"
   ]
  },
  {
   "cell_type": "code",
   "execution_count": 2,
   "metadata": {
    "ExecuteTime": {
     "end_time": "2023-12-20T19:54:30.362420428Z",
     "start_time": "2023-12-20T19:54:30.287308702Z"
    }
   },
   "outputs": [
    {
     "name": "stdout",
     "output_type": "stream",
     "text": [
      "The data type of 'decimal' is float and the value is 5.551115123125783e-17.\n"
     ]
    }
   ],
   "source": [
    "decimal = .1 + .2 - .3\n",
    "data_type = type(decimal).__name__\n",
    "print(\"The data type of 'decimal' is \" + data_type + \" and the value is \" + str(decimal) + \".\")"
   ]
  },
  {
   "cell_type": "markdown",
   "metadata": {},
   "source": [
    "### (*Strings*)"
   ]
  },
  {
   "cell_type": "code",
   "execution_count": 3,
   "metadata": {
    "ExecuteTime": {
     "end_time": "2023-12-20T19:54:30.451236338Z",
     "start_time": "2023-12-20T19:54:30.354695308Z"
    }
   },
   "outputs": [
    {
     "name": "stdout",
     "output_type": "stream",
     "text": [
      "The data type of 'string' is str and the value is 'Hi! My name is Inigo Montoya. You killed my father. Prepare to die.' .\n"
     ]
    }
   ],
   "source": [
    "string = \"Hi! My name is Inigo Montoya. You killed my father. Prepare to die.\"\n",
    "data_type = type(string).__name__\n",
    "print(\"The data type of 'string' is \" + data_type + \" and the value is '\" + str(string) + \"' .\")"
   ]
  },
  {
   "cell_type": "markdown",
   "metadata": {},
   "source": [
    "### (*Lists*)\n"
   ]
  },
  {
   "cell_type": "code",
   "execution_count": 4,
   "metadata": {
    "ExecuteTime": {
     "end_time": "2023-12-20T19:54:30.714895988Z",
     "start_time": "2023-12-20T19:54:30.708182146Z"
    }
   },
   "outputs": [
    {
     "name": "stdout",
     "output_type": "stream",
     "text": [
      "The data type of 'list_1' is list and the value is '[1, 'Happy', 3, 4, 5.7]' .\n"
     ]
    }
   ],
   "source": [
    "list_1 = [1, \"Happy\", 3, 4, 5.7]    \n",
    "data_type = type(list_1).__name__\n",
    "print(\"The data type of 'list_1' is \" + data_type + \" and the value is '\" + str(list_1) + \"' .\")"
   ]
  },
  {
   "cell_type": "markdown",
   "metadata": {},
   "source": [
    "### (*Dictionaries*)\n"
   ]
  },
  {
   "cell_type": "code",
   "execution_count": 5,
   "metadata": {
    "ExecuteTime": {
     "end_time": "2023-12-20T19:31:52.790607933Z",
     "start_time": "2023-12-20T19:31:52.761681918Z"
    }
   },
   "outputs": [
    {
     "name": "stdout",
     "output_type": "stream",
     "text": [
      "The data type of 'dictionary' is dict and the value is '{'name': 'Inigo Montoya', 'age': 21, 'country of birth': 'Colombia', 'favorite language': 'Python'}' .\n"
     ]
    }
   ],
   "source": [
    "dictionary = {\"name\": \"Inigo Montoya\", \"age\": 21, \"country of birth\": \"Colombia\", \"favorite language\": \"Python\"}    \n",
    "data_type = type(dictionary).__name__\n",
    "print(\"The data type of 'dictionary' is \" + data_type + \" and the value is '\" + str(dictionary) + \"' .\")"
   ]
  },
  {
   "cell_type": "markdown",
   "metadata": {},
   "source": [
    "### (*Tuples*)\n"
   ]
  },
  {
   "cell_type": "code",
   "execution_count": 6,
   "metadata": {
    "ExecuteTime": {
     "end_time": "2023-12-20T19:31:54.467445235Z",
     "start_time": "2023-12-20T19:31:54.443012945Z"
    }
   },
   "outputs": [
    {
     "name": "stdout",
     "output_type": "stream",
     "text": [
      "The data type of 'tuple_1' is tuple and the value is '(1, 'Happy', 3, 4, 5.7)' .\n"
     ]
    }
   ],
   "source": [
    "tuple_1 = (1, \"Happy\", 3, 4, 5.7)   \n",
    "data_type = type(tuple_1).__name__\n",
    "print(\"The data type of 'tuple_1' is \" + data_type + \" and the value is '\" + str(tuple_1) + \"' .\")"
   ]
  },
  {
   "cell_type": "markdown",
   "metadata": {},
   "source": [
    "### (*Sets*)\n"
   ]
  },
  {
   "cell_type": "code",
   "execution_count": 7,
   "metadata": {
    "ExecuteTime": {
     "end_time": "2023-12-20T19:31:56.021339966Z",
     "start_time": "2023-12-20T19:31:55.961891214Z"
    }
   },
   "outputs": [
    {
     "name": "stdout",
     "output_type": "stream",
     "text": [
      "The data type of 'set_1' is list and the value is '['a', 'b', 'c', 'd', 'e', 'f', 'g', 'h', 'i', 'j']' .\n"
     ]
    }
   ],
   "source": [
    "set_1 = [\"a\", \"b\", \"c\", \"d\", \"e\", \"f\", \"g\", \"h\", \"i\", \"j\"]   \n",
    "data_type = type(set_1).__name__\n",
    "print(\"The data type of 'set_1' is \" + data_type + \" and the value is '\" + str(set_1) + \"' .\")"
   ]
  },
  {
   "cell_type": "markdown",
   "metadata": {},
   "source": [
    "### (*Booleans*)\n"
   ]
  },
  {
   "cell_type": "code",
   "execution_count": 9,
   "outputs": [
    {
     "name": "stdout",
     "output_type": "stream",
     "text": [
      "The data type of 'bool_1' is bool and the value is 'True' .\n"
     ]
    }
   ],
   "source": [
    "bool_1 = True\n",
    "data_type = type(bool_1).__name__\n",
    "print(\"The data type of 'bool_1' is \" + data_type + \" and the value is '\" + str(bool_1) + \"' .\")"
   ],
   "metadata": {
    "collapsed": false,
    "ExecuteTime": {
     "end_time": "2023-12-20T19:34:38.815669708Z",
     "start_time": "2023-12-20T19:34:38.728128262Z"
    }
   }
  }
 ],
 "metadata": {
  "kernelspec": {
   "display_name": "Python 3 (ipykernel)",
   "language": "python",
   "name": "python3"
  },
  "language_info": {
   "codemirror_mode": {
    "name": "ipython",
    "version": 3
   },
   "file_extension": ".py",
   "mimetype": "text/x-python",
   "name": "python",
   "nbconvert_exporter": "python",
   "pygments_lexer": "ipython3",
   "version": "3.11.5"
  }
 },
 "nbformat": 4,
 "nbformat_minor": 4
}
