{
 "cells": [
  {
   "cell_type": "markdown",
   "source": [
    "# Tuples\n",
    "\n",
    "Tuples are immutable lists, that means that once you create a tuple you cannot change it. Tuples are created using parentheses ().\n"
   ],
   "metadata": {
    "collapsed": false
   },
   "id": "a59240f754c57396"
  },
  {
   "cell_type": "code",
   "execution_count": 1,
   "outputs": [
    {
     "data": {
      "text/plain": "(1, 2, 3)"
     },
     "execution_count": 1,
     "metadata": {},
     "output_type": "execute_result"
    }
   ],
   "source": [
    "my_tuple = (1, 2, 3)\n",
    "my_tuple"
   ],
   "metadata": {
    "collapsed": false,
    "ExecuteTime": {
     "end_time": "2023-12-21T17:52:32.104014852Z",
     "start_time": "2023-12-21T17:52:32.103261126Z"
    }
   },
   "id": "db3bfc5f0ef4e74f"
  },
  {
   "cell_type": "markdown",
   "source": [
    "Like we do with lists, we can access elements in a tuple using the index operator [] and slicing."
   ],
   "metadata": {
    "collapsed": false
   },
   "id": "2af0bab1599c43ba"
  },
  {
   "cell_type": "code",
   "execution_count": 2,
   "outputs": [
    {
     "data": {
      "text/plain": "1"
     },
     "execution_count": 2,
     "metadata": {},
     "output_type": "execute_result"
    }
   ],
   "source": [
    "my_tuple[0]"
   ],
   "metadata": {
    "collapsed": false,
    "ExecuteTime": {
     "end_time": "2023-12-21T17:52:32.709799502Z",
     "start_time": "2023-12-21T17:52:32.695129331Z"
    }
   },
   "id": "f5685ae78c7a1a93"
  },
  {
   "cell_type": "code",
   "execution_count": 3,
   "outputs": [
    {
     "data": {
      "text/plain": "(2, 3)"
     },
     "execution_count": 3,
     "metadata": {},
     "output_type": "execute_result"
    }
   ],
   "source": [
    "my_tuple[1:3]"
   ],
   "metadata": {
    "collapsed": false,
    "ExecuteTime": {
     "end_time": "2023-12-21T17:52:32.983137404Z",
     "start_time": "2023-12-21T17:52:32.974825880Z"
    }
   },
   "id": "15eb643351016cd7"
  },
  {
   "cell_type": "code",
   "execution_count": 4,
   "outputs": [
    {
     "data": {
      "text/plain": "(3, 2, 1)"
     },
     "execution_count": 4,
     "metadata": {},
     "output_type": "execute_result"
    }
   ],
   "source": [
    "my_tuple[::-1]"
   ],
   "metadata": {
    "collapsed": false,
    "ExecuteTime": {
     "end_time": "2023-12-21T17:52:33.309714005Z",
     "start_time": "2023-12-21T17:52:33.304282300Z"
    }
   },
   "id": "af8da708672e3283"
  },
  {
   "cell_type": "markdown",
   "source": [
    "There are two important methods that we can use with tuples:\n",
    "_______ \n",
    "### _count()_\n",
    "\n",
    "The count() method returns the number of times a specified value appears in the tuple."
   ],
   "metadata": {
    "collapsed": false
   },
   "id": "949cb464b80556c8"
  },
  {
   "cell_type": "code",
   "execution_count": 5,
   "outputs": [
    {
     "data": {
      "text/plain": "3"
     },
     "execution_count": 5,
     "metadata": {},
     "output_type": "execute_result"
    }
   ],
   "source": [
    "t = (1, 2, 3, 4, 5, 6, 7, 8, 9, 0, 1, 1)\n",
    "t.count(1)"
   ],
   "metadata": {
    "collapsed": false,
    "ExecuteTime": {
     "end_time": "2023-12-21T17:52:33.926594781Z",
     "start_time": "2023-12-21T17:52:33.917903206Z"
    }
   },
   "id": "f0e45b8253d91f70"
  },
  {
   "cell_type": "markdown",
   "source": [
    "_______ \n",
    "### _index()_\n",
    "\n",
    "The index() method finds the first occurrence of the specified value. It returns the index of the first occurrence of the value."
   ],
   "metadata": {
    "collapsed": false
   },
   "id": "35f82c53b98808f1"
  },
  {
   "cell_type": "code",
   "execution_count": 6,
   "outputs": [
    {
     "data": {
      "text/plain": "0"
     },
     "execution_count": 6,
     "metadata": {},
     "output_type": "execute_result"
    }
   ],
   "source": [
    "t.index(1)"
   ],
   "metadata": {
    "collapsed": false,
    "ExecuteTime": {
     "end_time": "2023-12-21T17:52:34.732320913Z",
     "start_time": "2023-12-21T17:52:34.725128493Z"
    }
   },
   "id": "f206e2a025868b72"
  },
  {
   "cell_type": "code",
   "execution_count": 7,
   "outputs": [
    {
     "data": {
      "text/plain": "9"
     },
     "execution_count": 7,
     "metadata": {},
     "output_type": "execute_result"
    }
   ],
   "source": [
    "t.index(0) #"
   ],
   "metadata": {
    "collapsed": false,
    "ExecuteTime": {
     "end_time": "2023-12-21T17:52:35.121556045Z",
     "start_time": "2023-12-21T17:52:35.104056703Z"
    }
   },
   "id": "8c23679cf54a6c54"
  },
  {
   "cell_type": "markdown",
   "source": [
    "### _So, why do we need tuples if we have lists?_ \n",
    "Well, tuples are faster than lists. If you are defining a constant set of values and all you are going to do with it is iterate through it, use a tuple instead of a list. It makes your code safer if you “write-protect” data that does not need to be changed."
   ],
   "metadata": {
    "collapsed": false
   },
   "id": "76285317daa5ffe1"
  }
 ],
 "metadata": {
  "kernelspec": {
   "display_name": "Python 3",
   "language": "python",
   "name": "python3"
  },
  "language_info": {
   "codemirror_mode": {
    "name": "ipython",
    "version": 2
   },
   "file_extension": ".py",
   "mimetype": "text/x-python",
   "name": "python",
   "nbconvert_exporter": "python",
   "pygments_lexer": "ipython2",
   "version": "2.7.6"
  }
 },
 "nbformat": 4,
 "nbformat_minor": 5
}
