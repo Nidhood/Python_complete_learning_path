{
 "cells": [
  {
   "cell_type": "markdown",
   "source": [
    "# *args and **kwargs\n",
    "\n",
    "The *args and **kwargs is a common idiom to allow arbitrary number of arguments to functions as described in the section more on defining functions in the Python documentation.\n"
   ],
   "metadata": {
    "collapsed": false
   },
   "id": "24b060742c952283"
  },
  {
   "cell_type": "markdown",
   "source": [
    "________\n",
    "\n",
    "### _*args_\n",
    "\n",
    "The special syntax *args in function definitions in python is used to pass a variable number of arguments to a function. It is used to pass a non-keyworded, variable-length argument list."
   ],
   "metadata": {
    "collapsed": false
   },
   "id": "29edf3d8e5838ef5"
  },
  {
   "cell_type": "code",
   "execution_count": 1,
   "outputs": [
    {
     "name": "stdout",
     "output_type": "stream",
     "text": [
      "(1, 2, 3)\n"
     ]
    }
   ],
   "source": [
    "def my_function(*args): # *args allows you to pass multiple arguments to a function directly, without having to pre-define a tuple or list to hold them. And it allows any type of argument to be passed.\n",
    "    print(args)\n",
    "        \n",
    "my_function(1, 2, 3)"
   ],
   "metadata": {
    "collapsed": false,
    "ExecuteTime": {
     "end_time": "2023-12-24T05:15:12.684574440Z",
     "start_time": "2023-12-24T05:15:12.683485278Z"
    }
   },
   "id": "2541543246414669"
  },
  {
   "cell_type": "markdown",
   "source": [
    "_______\n",
    "\n",
    "### _**kwargs_\n",
    "\n",
    "The **kwargs argument allows you to pass keyworded variable length of arguments to a function. You should use **kwargs if you want to handle named arguments in a function. This basically returns a dictionary."
   ],
   "metadata": {
    "collapsed": false
   },
   "id": "4c93acafb35a454c"
  },
  {
   "cell_type": "code",
   "execution_count": 2,
   "outputs": [
    {
     "name": "stdout",
     "output_type": "stream",
     "text": [
      "{'a': 1, 'b': 2, 'c': 3}\n"
     ]
    }
   ],
   "source": [
    "def my_function(**kwargs): # **kwargs allows you to pass keyworded variable length of arguments to a function. You should use **kwargs if you want to handle named arguments in a function.\n",
    "    print(kwargs)\n",
    "    \n",
    "my_function(a=1, b=2, c=3)"
   ],
   "metadata": {
    "collapsed": false,
    "ExecuteTime": {
     "end_time": "2023-12-24T05:15:13.550951473Z",
     "start_time": "2023-12-24T05:15:13.534371304Z"
    }
   },
   "id": "8a18379e27e7c082"
  },
  {
   "cell_type": "code",
   "execution_count": 3,
   "outputs": [
    {
     "name": "stdout",
     "output_type": "stream",
     "text": [
      "{'fruit': 'apple', 'veggie': 'lettuce'}\n",
      "My fruit of choice is apple\n"
     ]
    }
   ],
   "source": [
    "def my_function(**kwargs):\n",
    "    print(kwargs)\n",
    "    if 'fruit' in kwargs:\n",
    "        print('My fruit of choice is {}'.format(kwargs['fruit']))\n",
    "    else:\n",
    "        print('I did not find any fruit here')\n",
    "        \n",
    "my_function(fruit='apple', veggie='lettuce')"
   ],
   "metadata": {
    "collapsed": false,
    "ExecuteTime": {
     "end_time": "2023-12-24T05:15:14.071889569Z",
     "start_time": "2023-12-24T05:15:14.026129930Z"
    }
   },
   "id": "8d429eb0cf43d247"
  },
  {
   "cell_type": "markdown",
   "source": [
    "An important thing is that arg and kwargs are just a convention, you are not bound to use these names, but these are generally used by most coders, so it's a good practice to follow."
   ],
   "metadata": {
    "collapsed": false
   },
   "id": "c47d21cb41cfbfa1"
  },
  {
   "cell_type": "code",
   "execution_count": 4,
   "outputs": [
    {
     "name": "stdout",
     "output_type": "stream",
     "text": [
      "(1, 2, 3)\n",
      "{'fruit': 'apple', 'veggie': 'lettuce'}\n"
     ]
    }
   ],
   "source": [
    "def my_function(*other_args, **other_kwargs):\n",
    "    print(other_args)\n",
    "    print(other_kwargs)\n",
    "\n",
    "my_function(1, 2, 3, fruit='apple', veggie='lettuce')"
   ],
   "metadata": {
    "collapsed": false,
    "ExecuteTime": {
     "end_time": "2023-12-24T05:15:15.094658510Z",
     "start_time": "2023-12-24T05:15:15.072653730Z"
    }
   },
   "id": "747798c2ff3dc304"
  },
  {
   "cell_type": "markdown",
   "source": [
    "Finally the most important function of the *args and **kwargs syntax is that it allows you to use them with any other functions together, so you can use these syntax to make other functions take *args or **kwargs as arguments to make them more flexible, like we do before with tuple and dictionary unpacking."
   ],
   "metadata": {
    "collapsed": false
   },
   "id": "83103cd6908c8294"
  },
  {
   "cell_type": "code",
   "execution_count": 5,
   "outputs": [
    {
     "name": "stdout",
     "output_type": "stream",
     "text": [
      "I would like 10 eggs\n"
     ]
    }
   ],
   "source": [
    "def my_function(*args, **kwargs):\n",
    "    print('I would like {} {}'.format(args[0], kwargs['food']))\n",
    "\n",
    "my_function(10, 20, 30, fruit='orange', food='eggs', animal='dog')"
   ],
   "metadata": {
    "collapsed": false,
    "ExecuteTime": {
     "end_time": "2023-12-24T05:15:16.010412421Z",
     "start_time": "2023-12-24T05:15:16.002896907Z"
    }
   },
   "id": "a0da4564bcda2fbe"
  },
  {
   "cell_type": "code",
   "execution_count": null,
   "outputs": [],
   "source": [],
   "metadata": {
    "collapsed": false
   },
   "id": "fe0c7241e9c4921c"
  }
 ],
 "metadata": {
  "kernelspec": {
   "display_name": "Python 3",
   "language": "python",
   "name": "python3"
  },
  "language_info": {
   "codemirror_mode": {
    "name": "ipython",
    "version": 2
   },
   "file_extension": ".py",
   "mimetype": "text/x-python",
   "name": "python",
   "nbconvert_exporter": "python",
   "pygments_lexer": "ipython2",
   "version": "2.7.6"
  }
 },
 "nbformat": 4,
 "nbformat_minor": 5
}
