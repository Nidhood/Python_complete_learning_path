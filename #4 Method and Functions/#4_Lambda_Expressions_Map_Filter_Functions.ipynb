{
 "cells": [
  {
   "cell_type": "markdown",
   "source": [
    "# Lambda Expressions Map and Filter\n",
    "\n",
    "The lambda expression lets us create \"anonymous\" functions. This basically means we can quickly make ad-hoc functions without needing to properly define a function using def. Also, map and filter functions are built in functions that work with lambda expressions."
   ],
   "metadata": {
    "collapsed": false
   },
   "id": "afd3a865d654f204"
  },
  {
   "cell_type": "markdown",
   "source": [
    "______________\n",
    "### _map_   \n",
    "\n",
    "The map function allows you to \"map\" a function to an iterable object. That is to say; you can quickly call the same function to every item in an iterable, such as a list."
   ],
   "metadata": {
    "collapsed": false
   },
   "id": "38ec42c5a786b121"
  },
  {
   "cell_type": "code",
   "execution_count": 1,
   "outputs": [],
   "source": [
    "def square(num):\n",
    "    return num**2\n",
    "\n",
    "my_nums = [1,2,3,4,5]"
   ],
   "metadata": {
    "collapsed": false,
    "ExecuteTime": {
     "end_time": "2023-12-24T16:04:05.935293847Z",
     "start_time": "2023-12-24T16:04:05.933922091Z"
    }
   },
   "id": "999645666ebc554"
  },
  {
   "cell_type": "markdown",
   "source": [
    "Here we want to square every item in the list, an option is doing a for loop and append the results to a new list, but also we can use the map function."
   ],
   "metadata": {
    "collapsed": false
   },
   "id": "5ff5b0d622b75a5a"
  },
  {
   "cell_type": "code",
   "execution_count": 2,
   "outputs": [
    {
     "name": "stdout",
     "output_type": "stream",
     "text": [
      "1\n",
      "4\n",
      "9\n",
      "16\n",
      "25\n"
     ]
    }
   ],
   "source": [
    "for item in map(square,my_nums):\n",
    "    print(item)"
   ],
   "metadata": {
    "collapsed": false,
    "ExecuteTime": {
     "end_time": "2023-12-24T16:04:07.252498376Z",
     "start_time": "2023-12-24T16:04:07.188925581Z"
    }
   },
   "id": "9cbf2b51940297c9"
  },
  {
   "cell_type": "code",
   "execution_count": 3,
   "outputs": [
    {
     "data": {
      "text/plain": "[1, 4, 9, 16, 25]"
     },
     "execution_count": 3,
     "metadata": {},
     "output_type": "execute_result"
    }
   ],
   "source": [
    "list(map(square,my_nums))"
   ],
   "metadata": {
    "collapsed": false,
    "ExecuteTime": {
     "end_time": "2023-12-24T16:04:07.846764088Z",
     "start_time": "2023-12-24T16:04:07.834648879Z"
    }
   },
   "id": "abbddf0f088f16e0"
  },
  {
   "cell_type": "code",
   "execution_count": 4,
   "outputs": [
    {
     "data": {
      "text/plain": "['EVEN', 'E', 'S']"
     },
     "execution_count": 4,
     "metadata": {},
     "output_type": "execute_result"
    }
   ],
   "source": [
    "def splicer(mystring):\n",
    "    if len(mystring)%2 == 0:\n",
    "        return 'EVEN'\n",
    "    else:\n",
    "        return mystring[0]\n",
    "    \n",
    "names = ['Andy','Eve','Sally']\n",
    "\n",
    "list(map(splicer,names))"
   ],
   "metadata": {
    "collapsed": false,
    "ExecuteTime": {
     "end_time": "2023-12-24T16:04:08.337299247Z",
     "start_time": "2023-12-24T16:04:08.303494419Z"
    }
   },
   "id": "ed8a5f79c552850b"
  },
  {
   "cell_type": "markdown",
   "source": [
    "Notice that we don't have parentheses after function names when we pass them into a map. This is because we are not calling the function, instead we are passing it into the map. We only need to call the function when we use a for loop."
   ],
   "metadata": {
    "collapsed": false
   },
   "id": "7510aa59cb7989b5"
  },
  {
   "cell_type": "markdown",
   "source": [
    "______________\n",
    "### _filter_\n",
    "\n",
    "The filter function returns an iterator yielding those items of iterable for which function(item) it is true. Meaning you need to filter by a function that returns either True or False. Then passing that into filter returns only the results that would return True."
   ],
   "metadata": {
    "collapsed": false
   },
   "id": "d20ca1c6cb797964"
  },
  {
   "cell_type": "code",
   "execution_count": 5,
   "outputs": [
    {
     "data": {
      "text/plain": "[2, 4, 6]"
     },
     "execution_count": 5,
     "metadata": {},
     "output_type": "execute_result"
    }
   ],
   "source": [
    "def check_even(num):\n",
    "    return num%2 == 0\n",
    "\n",
    "my_nums = [1,2,3,4,5,6]\n",
    "\n",
    "list(filter(check_even,my_nums))"
   ],
   "metadata": {
    "collapsed": false,
    "ExecuteTime": {
     "end_time": "2023-12-24T16:04:10.018346457Z",
     "start_time": "2023-12-24T16:04:09.960623741Z"
    }
   },
   "id": "a45c4e1c2ad7551"
  },
  {
   "cell_type": "markdown",
   "source": [
    "Basically, the difference between ***filter()*** function is that it returns an iterator where the items are filtered through a function to test if the item is accepted or not, and the ***map()*** function returns a list of the results after applying the given function to each item of a given iterable (list, tuple etc.)."
   ],
   "metadata": {
    "collapsed": false
   },
   "id": "13c5cb65d88473a7"
  },
  {
   "cell_type": "code",
   "execution_count": 6,
   "outputs": [
    {
     "name": "stdout",
     "output_type": "stream",
     "text": [
      "2\n",
      "4\n",
      "6\n"
     ]
    }
   ],
   "source": [
    "for n in filter(check_even,my_nums):\n",
    "    print(n)"
   ],
   "metadata": {
    "collapsed": false,
    "ExecuteTime": {
     "end_time": "2023-12-24T16:04:11.034228322Z",
     "start_time": "2023-12-24T16:04:11.028293598Z"
    }
   },
   "id": "f42fab0514ba2263"
  },
  {
   "cell_type": "markdown",
   "source": [
    "______________\n",
    "### _lambda_\n",
    "\n",
    "One of Python's most useful (and for beginners, confusing) tools is the lambda expression. Lambda expressions allow us to create \"anonymous\" functions. This basically means we can quickly make ad-hoc functions without needing to properly define a function using def."
   ],
   "metadata": {
    "collapsed": false
   },
   "id": "612705aaf5f22c3"
  },
  {
   "cell_type": "code",
   "execution_count": 7,
   "outputs": [
    {
     "data": {
      "text/plain": "4"
     },
     "execution_count": 7,
     "metadata": {},
     "output_type": "execute_result"
    }
   ],
   "source": [
    "def square(num): #We want to turn this into a lambda expression, but first we need to understand how to formulate a function, so we want to simplify this function in a lambda expression.\n",
    "    result = num**2\n",
    "    return result\n",
    "\n",
    "square(2)"
   ],
   "metadata": {
    "collapsed": false,
    "ExecuteTime": {
     "end_time": "2023-12-24T16:04:11.939284122Z",
     "start_time": "2023-12-24T16:04:11.917692872Z"
    }
   },
   "id": "10c66f8a90a71f61"
  },
  {
   "cell_type": "code",
   "execution_count": 8,
   "outputs": [
    {
     "data": {
      "text/plain": "4"
     },
     "execution_count": 8,
     "metadata": {},
     "output_type": "execute_result"
    }
   ],
   "source": [
    "square = lambda num: num**2 #This is the lambda expression, it takes the input and returns the output, but we need to assign it to a variable.\n",
    "\n",
    "square(2)"
   ],
   "metadata": {
    "collapsed": false,
    "ExecuteTime": {
     "end_time": "2023-12-24T16:04:12.393371141Z",
     "start_time": "2023-12-24T16:04:12.367077142Z"
    }
   },
   "id": "4f68a9194e25b8e3"
  },
  {
   "cell_type": "markdown",
   "source": [
    "So, we can see that the lambda expression is a function that takes an input and returns an output, but we need to assign it to a variable. Also, we can use the lambda expression with map and filter functions."
   ],
   "metadata": {
    "collapsed": false
   },
   "id": "f09f6b525949cc3c"
  },
  {
   "cell_type": "code",
   "execution_count": 9,
   "outputs": [
    {
     "data": {
      "text/plain": "[1, 4, 9, 16, 25, 36]"
     },
     "execution_count": 9,
     "metadata": {},
     "output_type": "execute_result"
    }
   ],
   "source": [
    "list(map(lambda num: num**2,my_nums))"
   ],
   "metadata": {
    "collapsed": false,
    "ExecuteTime": {
     "end_time": "2023-12-24T16:04:13.166977777Z",
     "start_time": "2023-12-24T16:04:13.162086468Z"
    }
   },
   "id": "e34de4fa3d75419"
  },
  {
   "cell_type": "code",
   "execution_count": 10,
   "outputs": [
    {
     "data": {
      "text/plain": "[2, 4, 6]"
     },
     "execution_count": 10,
     "metadata": {},
     "output_type": "execute_result"
    }
   ],
   "source": [
    "list(filter(lambda num: num%2 == 0,my_nums))"
   ],
   "metadata": {
    "collapsed": false,
    "ExecuteTime": {
     "end_time": "2023-12-24T16:04:13.588055745Z",
     "start_time": "2023-12-24T16:04:13.576967523Z"
    }
   },
   "id": "b41835bea720bd7e"
  },
  {
   "cell_type": "code",
   "execution_count": 11,
   "outputs": [
    {
     "data": {
      "text/plain": "['A', 'E', 'S']"
     },
     "execution_count": 11,
     "metadata": {},
     "output_type": "execute_result"
    }
   ],
   "source": [
    "my_list = ['Andy','Eve','Sally']\n",
    "\n",
    "list(map(lambda name: name[0], my_list))"
   ],
   "metadata": {
    "collapsed": false,
    "ExecuteTime": {
     "end_time": "2023-12-24T16:04:14.147937134Z",
     "start_time": "2023-12-24T16:04:14.137543634Z"
    }
   },
   "id": "c03e968dc67dbb4d"
  },
  {
   "cell_type": "code",
   "execution_count": 12,
   "outputs": [
    {
     "data": {
      "text/plain": "['ydnA', 'evE', 'yllaS']"
     },
     "execution_count": 12,
     "metadata": {},
     "output_type": "execute_result"
    }
   ],
   "source": [
    "list(map(lambda name: name[::-1], my_list))"
   ],
   "metadata": {
    "collapsed": false,
    "ExecuteTime": {
     "end_time": "2023-12-24T16:04:15.125590204Z",
     "start_time": "2023-12-24T16:04:15.117455163Z"
    }
   },
   "id": "fe39a98f88d2b664"
  }
 ],
 "metadata": {
  "kernelspec": {
   "display_name": "Python 3",
   "language": "python",
   "name": "python3"
  },
  "language_info": {
   "codemirror_mode": {
    "name": "ipython",
    "version": 2
   },
   "file_extension": ".py",
   "mimetype": "text/x-python",
   "name": "python",
   "nbconvert_exporter": "python",
   "pygments_lexer": "ipython2",
   "version": "2.7.6"
  }
 },
 "nbformat": 4,
 "nbformat_minor": 5
}
