{
 "cells": [
  {
   "cell_type": "markdown",
   "source": [
    "# Comparison Operators\n",
    "\n",
    "The comparison operators allow us to compare variables and output a Boolean value (True or False)."
   ],
   "metadata": {
    "collapsed": false
   },
   "id": "f5f5f254cc5b6599"
  },
  {
   "cell_type": "markdown",
   "source": [
    "_____\n",
    "# Table of Comparison Operators\n",
    "\n",
    "In the table below, a=3 and b=4.\n",
    "\n",
    "<table>\n",
    "  <tr>\n",
    "    <th>Operator</th>\n",
    "    <th>Description</th>\n",
    "    <th>Example</th>\n",
    "  </tr>\n",
    "  <tr>\n",
    "    <td>==</td>\n",
    "    <td>If the values of two operands are equal, then the condition becomes true.</td>\n",
    "    <td>(a == b) is not true.</td>\n",
    "  </tr>\n",
    "  <tr>\n",
    "    <td>!=</td>\n",
    "    <td>If the values of two operands are not equal, then the condition becomes true.</td>\n",
    "    <td>(a != b) is true.</td>\n",
    "  </tr>\n",
    "  <tr>\n",
    "    <td>&gt;</td>\n",
    "    <td>If the value of the left operand is greater than the value of the right operand, then the condition becomes true.</td>\n",
    "    <td>(a &gt; b) is not true.</td>\n",
    "  </tr>\n",
    "  <tr>\n",
    "    <td>&lt;</td>\n",
    "    <td>If the value of the left operand is less than the value of the right operand, then the condition becomes true.</td>\n",
    "    <td>(a &lt; b) is true.</td>\n",
    "  </tr>\n",
    "  <tr>\n",
    "    <td>&gt;=</td>\n",
    "    <td>If the value of the left operand is greater than or equal to the value of the right operand, then the condition becomes true.</td>\n",
    "    <td>(a &gt;= b) is not true.</td>\n",
    "  </tr>\n",
    "  <tr>\n",
    "    <td>&lt;=</td>\n",
    "    <td>If the value of the left operand is less than or equal to the value of the right operand, then the condition becomes true.</td>\n",
    "    <td>(a &lt;= b) is true.</td>\n",
    "  </tr>\n",
    "</table>\n"
   ],
   "metadata": {
    "collapsed": false
   },
   "id": "ebca8ab3c11d712a"
  },
  {
   "cell_type": "code",
   "execution_count": 1,
   "outputs": [
    {
     "data": {
      "text/plain": "True"
     },
     "execution_count": 1,
     "metadata": {},
     "output_type": "execute_result"
    }
   ],
   "source": [
    "1 < 2"
   ],
   "metadata": {
    "collapsed": false,
    "ExecuteTime": {
     "end_time": "2023-12-21T18:57:53.996932429Z",
     "start_time": "2023-12-21T18:57:53.989578347Z"
    }
   },
   "id": "e2b7851893d9ceb4"
  },
  {
   "cell_type": "code",
   "execution_count": 2,
   "outputs": [
    {
     "data": {
      "text/plain": "False"
     },
     "execution_count": 2,
     "metadata": {},
     "output_type": "execute_result"
    }
   ],
   "source": [
    "1 > 2"
   ],
   "metadata": {
    "collapsed": false,
    "ExecuteTime": {
     "end_time": "2023-12-21T18:57:56.830289025Z",
     "start_time": "2023-12-21T18:57:56.735202420Z"
    }
   },
   "id": "63ec78db639a7806"
  },
  {
   "cell_type": "code",
   "execution_count": null,
   "outputs": [],
   "source": [],
   "metadata": {
    "collapsed": false
   },
   "id": "1c44e36e09165097"
  }
 ],
 "metadata": {
  "kernelspec": {
   "display_name": "Python 3",
   "language": "python",
   "name": "python3"
  },
  "language_info": {
   "codemirror_mode": {
    "name": "ipython",
    "version": 2
   },
   "file_extension": ".py",
   "mimetype": "text/x-python",
   "name": "python",
   "nbconvert_exporter": "python",
   "pygments_lexer": "ipython2",
   "version": "2.7.6"
  }
 },
 "nbformat": 4,
 "nbformat_minor": 5
}
